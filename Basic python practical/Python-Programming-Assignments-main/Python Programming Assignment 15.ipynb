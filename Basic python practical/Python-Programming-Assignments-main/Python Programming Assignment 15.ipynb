{
 "cells": [
  {
   "cell_type": "markdown",
   "id": "7fee7eeb",
   "metadata": {},
   "source": [
    "<b>Question 1:\n",
    "Please write a program using generator to print the numbers which can be divisible by 5 and\n",
    "7 between 0 and n in comma separated form while n is input by console.<b>"
   ]
  },
  {
   "cell_type": "code",
   "execution_count": 11,
   "id": "b9a19c93",
   "metadata": {},
   "outputs": [
    {
     "name": "stdout",
     "output_type": "stream",
     "text": [
      "Enter a number: 100\n",
      "0,35,70,"
     ]
    }
   ],
   "source": [
    "def gen_num():\n",
    "    n = int(input('Enter a number: '))\n",
    "    for i in range(n):\n",
    "        if i% 5==0 and i%7==0:\n",
    "            yield i\n",
    "\n",
    "for i in gen_num():\n",
    "    print(i,end=',')"
   ]
  },
  {
   "cell_type": "markdown",
   "id": "ba5b91e6",
   "metadata": {},
   "source": [
    "<b>Question 2:\n",
    "Please write a program using generator to print the even numbers between 0 and n in comma\n",
    "separated form while n is input by console.<b>"
   ]
  },
  {
   "cell_type": "code",
   "execution_count": 13,
   "id": "f453305f",
   "metadata": {},
   "outputs": [
    {
     "name": "stdout",
     "output_type": "stream",
     "text": [
      "enter a number: 10\n",
      "0,2,4,6,8,10,"
     ]
    }
   ],
   "source": [
    "def gen_even_num():\n",
    "    n = int(input(\"enter a number: \"))\n",
    "    for i in range(n+1):\n",
    "        if i % 2 == 0:\n",
    "            yield i\n",
    "            \n",
    "for i in gen_even_num():\n",
    "    print(i,end=',')"
   ]
  },
  {
   "cell_type": "markdown",
   "id": "d5b7a783",
   "metadata": {},
   "source": [
    "<b>Question 3:\n",
    "The Fibonacci Sequence is computed based on the following formula:\n",
    "    \n",
    "f(n)=0 if n=0\n",
    "f(n)=1 if n=1\n",
    "f(n)=f(n-1)+f(n-2) if n>1\n",
    "    \n",
    "Please write a program using list comprehension to print the Fibonacci Sequence in comma\n",
    "separated form with a given n input by console.<b>"
   ]
  },
  {
   "cell_type": "code",
   "execution_count": 27,
   "id": "b93daab6",
   "metadata": {},
   "outputs": [
    {
     "name": "stdout",
     "output_type": "stream",
     "text": [
      "Enter: 7\n",
      "[0, 1, 1, 2, 3, 5, 8, 13]\n"
     ]
    }
   ],
   "source": [
    "n = int(input(\"Enter: \"))\n",
    "a = 0\n",
    "b = 1\n",
    "if n == 0 :\n",
    "    print(0)\n",
    "elif n == 1:\n",
    "    print(1)\n",
    "else:\n",
    "    l = [a,b]\n",
    "    [l.append(l[i-1]+l[i-2]) for i in range(2,n+1)]\n",
    "    print(l)\n",
    "        "
   ]
  },
  {
   "cell_type": "markdown",
   "id": "96845d02",
   "metadata": {},
   "source": [
    "<b>Question 4:\n",
    "Assuming that we have some email addresses in the &quot;username@companyname.com&quot; format,\n",
    "please write program to print the user name of a given email address. Both user names and\n",
    "company names are composed of letters only.<b>"
   ]
  },
  {
   "cell_type": "code",
   "execution_count": 3,
   "id": "76b4496f",
   "metadata": {},
   "outputs": [
    {
     "data": {
      "text/plain": [
       "'bhavnesh'"
      ]
     },
     "execution_count": 3,
     "metadata": {},
     "output_type": "execute_result"
    }
   ],
   "source": [
    "def username_find(string=str):\n",
    "    index = string.find('@')\n",
    "    username = string[:index]\n",
    "    return username\n",
    "\n",
    "string = \"bhavnesh@companyname.com\"\n",
    "username_find(string)\n",
    "\n",
    "\n",
    "            \n",
    "            \n",
    "    "
   ]
  },
  {
   "cell_type": "markdown",
   "id": "f261bb53",
   "metadata": {},
   "source": [
    "<b>Question 5:\n",
    "Define a class named Shape and its subclass Square. The Square class has an init function\n",
    "which takes a length as argument. Both classes have a area function which can print the area\n",
    "of the shape where Shape&#39;s area is 0 by default.<b>"
   ]
  },
  {
   "cell_type": "code",
   "execution_count": 5,
   "id": "28e9e481",
   "metadata": {},
   "outputs": [
    {
     "data": {
      "text/plain": [
       "9"
      ]
     },
     "execution_count": 5,
     "metadata": {},
     "output_type": "execute_result"
    }
   ],
   "source": [
    "class Shape:\n",
    "    area = 0\n",
    "\n",
    "class Square(Shape):\n",
    "    def __init__(self,length):\n",
    "        self.length = length\n",
    "        \n",
    "    def area(self):\n",
    "        result = self.length**2\n",
    "        return result\n",
    "        \n",
    "Shapes = Square(3)\n",
    "Shapes.area()"
   ]
  },
  {
   "cell_type": "code",
   "execution_count": null,
   "id": "498234f7",
   "metadata": {},
   "outputs": [],
   "source": []
  }
 ],
 "metadata": {
  "kernelspec": {
   "display_name": "Python 3 (ipykernel)",
   "language": "python",
   "name": "python3"
  },
  "language_info": {
   "codemirror_mode": {
    "name": "ipython",
    "version": 3
   },
   "file_extension": ".py",
   "mimetype": "text/x-python",
   "name": "python",
   "nbconvert_exporter": "python",
   "pygments_lexer": "ipython3",
   "version": "3.9.7"
  }
 },
 "nbformat": 4,
 "nbformat_minor": 5
}
