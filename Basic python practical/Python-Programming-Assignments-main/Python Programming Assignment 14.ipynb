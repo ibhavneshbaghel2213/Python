{
 "cells": [
  {
   "cell_type": "markdown",
   "id": "33102a10",
   "metadata": {},
   "source": [
    "<b>Question 1:\n",
    "Define a class with a generator which can iterate the numbers, which are divisible by\n",
    "7, between a given range 0 and n.<b>"
   ]
  },
  {
   "cell_type": "code",
   "execution_count": 5,
   "id": "767d073a",
   "metadata": {},
   "outputs": [
    {
     "name": "stdout",
     "output_type": "stream",
     "text": [
      "0 7 14 21 28 35 42 49 "
     ]
    }
   ],
   "source": [
    "class test1:\n",
    "    def __init__(self,n):\n",
    "        self.n = n\n",
    "        \n",
    "    def generator_func(self):\n",
    "        for i in range(0,self.n):\n",
    "            if i % 7 == 0:\n",
    "                yield i\n",
    "                \n",
    "ob1 = test1(50)\n",
    "for i in ob1.generator_func():\n",
    "    print(i,end=' ')\n",
    "            "
   ]
  },
  {
   "cell_type": "markdown",
   "id": "6a53255d",
   "metadata": {},
   "source": [
    "<b>Question 2:\n",
    "Write a program to compute the frequency of the words from the input. The output\n",
    "should output after sorting the key alphanumerically.\n",
    "Suppose the following input is supplied to the program:\n",
    "New to Python or choosing between Python 2 and Python 3? Read Python 2 or\n",
    "Python 3.\n",
    "Then, the output should be:\n",
    "2:2\n",
    "3.:1\n",
    "3?:1\n",
    "New:1\n",
    "Python:5\n",
    "Read:1\n",
    "and:1\n",
    "between:1\n",
    "choosing:1\n",
    "or:2\n",
    "to:1<b>"
   ]
  },
  {
   "cell_type": "code",
   "execution_count": 14,
   "id": "e4cda616",
   "metadata": {},
   "outputs": [],
   "source": [
    "def test2(string):\n",
    "    words = sorted(set(string.split()))\n",
    "    for i in words:\n",
    "        print(f\"{i}:{words.count(i)}\")\n",
    "    "
   ]
  },
  {
   "cell_type": "code",
   "execution_count": 15,
   "id": "08aa1d25",
   "metadata": {},
   "outputs": [
    {
     "name": "stdout",
     "output_type": "stream",
     "text": [
      "2:1\n",
      "3:1\n",
      "3?:1\n",
      "New:1\n",
      "Python:1\n",
      "Read:1\n",
      "and:1\n",
      "between:1\n",
      "choosing:1\n",
      "or:1\n",
      "to:1\n"
     ]
    }
   ],
   "source": [
    "x = \"New to Python or choosing between Python 2 and Python 3? Read Python 2 or Python 3\"\n",
    "test2(x)"
   ]
  },
  {
   "cell_type": "markdown",
   "id": "9b7a38b5",
   "metadata": {},
   "source": [
    "<b>Question 3:\n",
    "Define a class Person and its two child classes: Male and Female. All classes have a\n",
    "method &quot;getGender&quot; which can print &quot;Male&quot; for Male class and &quot;Female&quot; for Female\n",
    "class.<b>"
   ]
  },
  {
   "cell_type": "code",
   "execution_count": 27,
   "id": "87c513f6",
   "metadata": {},
   "outputs": [
    {
     "name": "stdout",
     "output_type": "stream",
     "text": [
      "Male\n",
      "Female\n"
     ]
    }
   ],
   "source": [
    "class Person(object):\n",
    "    def __init__(self):\n",
    "        self.gender = \"gender\"\n",
    "        \n",
    "    def getGender(self):\n",
    "        print(self.gender)\n",
    "        \n",
    "\n",
    "class Male(Person):\n",
    "    def __init__(self):\n",
    "        self.gender = \"Male\"\n",
    "\n",
    "class Female(Person):\n",
    "    def __init__(self):\n",
    "        self.gender = \"Female\"\n",
    "\n",
    "Bhavnesh = Male()\n",
    "Katherine = Female()\n",
    "Bhavnesh.getGender()\n",
    "Katherine.getGender()\n"
   ]
  },
  {
   "cell_type": "markdown",
   "id": "613fbb91",
   "metadata": {},
   "source": [
    "<b>Question 4:\n",
    "Please write a program to generate all sentences where subject is in [&quot;I&quot;, &quot;You&quot;] and\n",
    "verb is in [&quot;Play&quot;, &quot;Love&quot;] and the object is in [&quot;Hockey&quot;,&quot;Football&quot;].<b>"
   ]
  },
  {
   "cell_type": "code",
   "execution_count": 29,
   "id": "b5038672",
   "metadata": {},
   "outputs": [
    {
     "name": "stdout",
     "output_type": "stream",
     "text": [
      "I Play Hockey\n",
      "I Play Football\n",
      "I Love Hockey\n",
      "I Love Football\n",
      "You Play Hockey\n",
      "You Play Football\n",
      "You Love Hockey\n",
      "You Love Football\n"
     ]
    }
   ],
   "source": [
    "def sentence_maker(subject, verb, objects):\n",
    "    for i in subject:\n",
    "        for j in verb:\n",
    "            for k in objects:\n",
    "                print(i+\" \"+j+\" \"+k)\n",
    "                \n",
    "                \n",
    "x = [\"I\", \"You\"]\n",
    "y = [\"Play\", \"Love\"] \n",
    "z = [\"Hockey\",\"Football\"]\n",
    "\n",
    "sentence_maker(x,y,z)"
   ]
  },
  {
   "cell_type": "markdown",
   "id": "ca96a13d",
   "metadata": {},
   "source": [
    "<b>Question 5:\n",
    "Please write a program to compress and decompress the string &quot;hello world!hello\n",
    "world!hello world!hello world!&quot;.<b>"
   ]
  },
  {
   "cell_type": "code",
   "execution_count": 9,
   "id": "ccf372ad",
   "metadata": {},
   "outputs": [
    {
     "name": "stdout",
     "output_type": "stream",
     "text": [
      "compressed_string:  b'x\\x9c\\xcbH\\xcd\\xc9\\xc9W(\\xcf/\\xcaIQ\\xcc \\x82\\r\\x00\\xbd[\\x11\\xf5'\n",
      "decompressed_string:  b'hello world!hello world!hello world!hello world!'\n"
     ]
    }
   ],
   "source": [
    "import zlib\n",
    "\n",
    "def Compress(string):\n",
    "    z = bytes(string,'utf-8')\n",
    "    x = zlib.compress(z)\n",
    "    return x\n",
    "\n",
    "def decompress(string):\n",
    "    a = zlib.decompress(string)\n",
    "    return a\n",
    "\n",
    "    \n",
    "string = \"hello world!hello world!hello world!hello world!\"\n",
    "print(\"compressed_string: \",Compress(string))\n",
    "compress_string = Compress(string)\n",
    "print(\"decompressed_string: \", decompress(compress_string))"
   ]
  },
  {
   "cell_type": "markdown",
   "id": "a37970ba",
   "metadata": {},
   "source": [
    "<b>Question 6:\n",
    "Please write a binary search function which searches an item in a sorted list. The\n",
    "function should return the index of element to be searched in the list.<b>"
   ]
  },
  {
   "cell_type": "code",
   "execution_count": 19,
   "id": "770ce8a7",
   "metadata": {},
   "outputs": [],
   "source": [
    "def binary_search(lis, x):\n",
    "    mid = len(lis)//2\n",
    "    for i in range(len(lis)):\n",
    "        if x < lis[mid]:\n",
    "            mid = mid - 1\n",
    "            \n",
    "        if x > lis[mid]:\n",
    "            mid = mid + 1\n",
    "        \n",
    "        if x == lis[mid]:\n",
    "            return mid\n",
    "        \n",
    "        if x not in lis:\n",
    "            return \"not found\""
   ]
  },
  {
   "cell_type": "code",
   "execution_count": 20,
   "id": "883b8161",
   "metadata": {},
   "outputs": [
    {
     "data": {
      "text/plain": [
       "1"
      ]
     },
     "execution_count": 20,
     "metadata": {},
     "output_type": "execute_result"
    }
   ],
   "source": [
    "l = [10, 20, 30, 50, 60, 80, 110, 130, 140, 170]\n",
    "x = 20\n",
    "binary_search(l,x)"
   ]
  },
  {
   "cell_type": "code",
   "execution_count": null,
   "id": "dc02a60b",
   "metadata": {},
   "outputs": [],
   "source": []
  }
 ],
 "metadata": {
  "kernelspec": {
   "display_name": "Python 3 (ipykernel)",
   "language": "python",
   "name": "python3"
  },
  "language_info": {
   "codemirror_mode": {
    "name": "ipython",
    "version": 3
   },
   "file_extension": ".py",
   "mimetype": "text/x-python",
   "name": "python",
   "nbconvert_exporter": "python",
   "pygments_lexer": "ipython3",
   "version": "3.9.7"
  }
 },
 "nbformat": 4,
 "nbformat_minor": 5
}
