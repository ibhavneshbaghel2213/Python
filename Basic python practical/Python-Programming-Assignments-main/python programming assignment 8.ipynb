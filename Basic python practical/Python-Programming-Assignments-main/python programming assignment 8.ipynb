{
 "cells": [
  {
   "cell_type": "markdown",
   "id": "46fd6a01",
   "metadata": {},
   "source": [
    "<b>1. Write a Python Program to Add Two Matrices?</b>"
   ]
  },
  {
   "cell_type": "code",
   "execution_count": 3,
   "id": "60ae59b0",
   "metadata": {},
   "outputs": [
    {
     "name": "stdout",
     "output_type": "stream",
     "text": [
      "[2, 4, 6]\n",
      "[8, 10, 12]\n",
      "[13, 15, 17]\n"
     ]
    }
   ],
   "source": [
    "matrice_1 = [[1,2,3],\n",
    "            [4,5,6],\n",
    "            [7,8,9]]\n",
    "matrice_2 = [[1,2,3],\n",
    "            [4,5,6],\n",
    "            [6,7,8]]\n",
    "res_matrice = [[0,0,0],\n",
    "              [0,0,0],\n",
    "              [0,0,0]]\n",
    "for i in range(len(matrice_1)):\n",
    "    for j in range(len(matrice_2)):\n",
    "        res_matrice[i][j] = matrice_1[i][j] + matrice_2[i][j]\n",
    "        \n",
    "for i in res_matrice:\n",
    "    print(i)"
   ]
  },
  {
   "cell_type": "markdown",
   "id": "ce09fbcc",
   "metadata": {},
   "source": [
    "<b>2. Write a Python Program to Multiply Two Matrices?</b>"
   ]
  },
  {
   "cell_type": "code",
   "execution_count": 4,
   "id": "3a0b39f5",
   "metadata": {},
   "outputs": [
    {
     "name": "stdout",
     "output_type": "stream",
     "text": [
      "[[1, 4, 9], [16, 25, 36], [42, 56, 72]]\n"
     ]
    }
   ],
   "source": [
    "matrice_1 = [[1,2,3],\n",
    "            [4,5,6],\n",
    "            [7,8,9]]\n",
    "matrice_2 = [[1,2,3],\n",
    "            [4,5,6],\n",
    "            [6,7,8]]\n",
    "res_matrice = [[0,0,0],\n",
    "              [0,0,0],\n",
    "              [0,0,0]]\n",
    "for i in range(len(matrice_1)):\n",
    "    for j in range(len(matrice_2)):\n",
    "        res_matrice[i][j] = matrice_1[i][j] * matrice_2[i][j]\n",
    "print(res_matrice)"
   ]
  },
  {
   "cell_type": "markdown",
   "id": "36410ffe",
   "metadata": {},
   "source": [
    "<b>3. Write a Python Program to Transpose a Matrix?</b>"
   ]
  },
  {
   "cell_type": "code",
   "execution_count": 11,
   "id": "fb87b4f4",
   "metadata": {},
   "outputs": [
    {
     "name": "stdout",
     "output_type": "stream",
     "text": [
      "[1, 4, 7]\n",
      "[2, 5, 8]\n",
      "[3, 6, 9]\n"
     ]
    }
   ],
   "source": [
    "matrice_1 = [[1,2,3],\n",
    "            [4,5,6],\n",
    "            [7,8,9]]\n",
    "for i in range(len(matrice_1)):\n",
    "    for j in range(i+1,len(matrice_1)):\n",
    "        matrice_1[i][j], matrice_1[j][i] = matrice_1[j][i], matrice_1[i][j]\n",
    "for i in matrice_1:\n",
    "    print(i)"
   ]
  },
  {
   "cell_type": "markdown",
   "id": "97113546",
   "metadata": {},
   "source": [
    "<b>4. Write a Python Program to Sort Words in Alphabetic Order?</b>"
   ]
  },
  {
   "cell_type": "code",
   "execution_count": 28,
   "id": "811bcac2",
   "metadata": {},
   "outputs": [
    {
     "name": "stdout",
     "output_type": "stream",
     "text": [
      "enter: My Name Is Bhavnesh Baghel\n",
      "result:  Baghel Bhavnesh Is My Name\n"
     ]
    }
   ],
   "source": [
    "a = input(\"enter: \")\n",
    "word = a.split()\n",
    "word.sort()\n",
    "result = ' '.join(map(str,word))\n",
    "print(\"result: \",result)"
   ]
  },
  {
   "cell_type": "markdown",
   "id": "6ba78115",
   "metadata": {},
   "source": [
    "<b>5. Write a Python Program to Remove Punctuation From a String?</b>"
   ]
  },
  {
   "cell_type": "code",
   "execution_count": 29,
   "id": "4615d470",
   "metadata": {},
   "outputs": [
    {
     "name": "stdout",
     "output_type": "stream",
     "text": [
      "Hello my name  and okay\n"
     ]
    }
   ],
   "source": [
    "\n",
    "punctuations = '''!()-[]{};:'\"\\,<>./?@#$%^&*_~'''\n",
    "\n",
    "my_str = \"Hello!!!, my name  ---and okay.\"\n",
    "no_punctuation = \"\"\n",
    "for i in my_str:\n",
    "   if i not in punctuations:\n",
    "       no_punctuation = no_punctuation + i\n",
    "print(no_punctuation)"
   ]
  },
  {
   "cell_type": "code",
   "execution_count": null,
   "id": "5a69c086",
   "metadata": {},
   "outputs": [],
   "source": []
  }
 ],
 "metadata": {
  "kernelspec": {
   "display_name": "Python 3 (ipykernel)",
   "language": "python",
   "name": "python3"
  },
  "language_info": {
   "codemirror_mode": {
    "name": "ipython",
    "version": 3
   },
   "file_extension": ".py",
   "mimetype": "text/x-python",
   "name": "python",
   "nbconvert_exporter": "python",
   "pygments_lexer": "ipython3",
   "version": "3.9.7"
  }
 },
 "nbformat": 4,
 "nbformat_minor": 5
}
