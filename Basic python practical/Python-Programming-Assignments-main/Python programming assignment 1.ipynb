{
 "cells": [
  {
   "cell_type": "markdown",
   "id": "22877305",
   "metadata": {},
   "source": [
    "<h3>1. Write a Python program to print &quot;Hello Python&quot;?</h3>"
   ]
  },
  {
   "cell_type": "code",
   "execution_count": 1,
   "id": "524ac86a",
   "metadata": {},
   "outputs": [
    {
     "name": "stdout",
     "output_type": "stream",
     "text": [
      "hello Python\n"
     ]
    }
   ],
   "source": [
    "print(\"hello Python\")"
   ]
  },
  {
   "cell_type": "markdown",
   "id": "ecccd39f",
   "metadata": {},
   "source": [
    "<h3>2. Write a Python program to do arithmetical operations addition and division.?</h3>"
   ]
  },
  {
   "cell_type": "code",
   "execution_count": 8,
   "id": "c75a3a5f",
   "metadata": {},
   "outputs": [
    {
     "name": "stdout",
     "output_type": "stream",
     "text": [
      "Enter the value of x: 15\n",
      "Enter the value of y: 30\n",
      "Addition of x and y is 45\n",
      "division of x and y is 0.5\n"
     ]
    }
   ],
   "source": [
    "x = int(input(\"Enter the value of x: \"))\n",
    "y = int(input(\"Enter the value of y: \")) \n",
    "print(\"Addition of x and y is\", x+y)\n",
    "print(\"division of x and y is\", x/y)"
   ]
  },
  {
   "cell_type": "markdown",
   "id": "f599abfc",
   "metadata": {},
   "source": [
    "<h3>3. Write a Python program to find the area of a triangle?</h3>"
   ]
  },
  {
   "cell_type": "code",
   "execution_count": 9,
   "id": "d84ad7b4",
   "metadata": {},
   "outputs": [
    {
     "name": "stdout",
     "output_type": "stream",
     "text": [
      "Enter the base value of triangle: 30\n",
      "Enter the height value of triangle: 30\n",
      "The Area of Triangle is:  450.0\n"
     ]
    }
   ],
   "source": [
    "base =  int(input(\"Enter the base value of triangle: \"))\n",
    "height = int(input(\"Enter the height value of triangle: \"))\n",
    "Area = 0.5*base*height\n",
    "print(\"The Area of Triangle is: \", Area)"
   ]
  },
  {
   "cell_type": "markdown",
   "id": "3ddf5912",
   "metadata": {},
   "source": [
    "<h3>4. Write a Python program to swap two variables?</h3>"
   ]
  },
  {
   "cell_type": "code",
   "execution_count": 10,
   "id": "f17cbe9a",
   "metadata": {},
   "outputs": [],
   "source": [
    "x = 5\n",
    "y = 10\n",
    "x, y = y, x"
   ]
  },
  {
   "cell_type": "code",
   "execution_count": 11,
   "id": "b6a6975c",
   "metadata": {},
   "outputs": [
    {
     "data": {
      "text/plain": [
       "5"
      ]
     },
     "execution_count": 11,
     "metadata": {},
     "output_type": "execute_result"
    }
   ],
   "source": [
    "y"
   ]
  },
  {
   "cell_type": "code",
   "execution_count": 12,
   "id": "bac1c260",
   "metadata": {},
   "outputs": [
    {
     "data": {
      "text/plain": [
       "10"
      ]
     },
     "execution_count": 12,
     "metadata": {},
     "output_type": "execute_result"
    }
   ],
   "source": [
    "x"
   ]
  },
  {
   "cell_type": "markdown",
   "id": "9c60f52c",
   "metadata": {},
   "source": [
    "<h3>5. Write a Python program to generate a random number?</h3>"
   ]
  },
  {
   "cell_type": "code",
   "execution_count": 11,
   "id": "16a10c9a",
   "metadata": {},
   "outputs": [
    {
     "name": "stdout",
     "output_type": "stream",
     "text": [
      "0.2642312065133381\n"
     ]
    }
   ],
   "source": [
    "import random\n",
    "x = random.random()\n",
    "print(x)"
   ]
  }
 ],
 "metadata": {
  "kernelspec": {
   "display_name": "Python 3 (ipykernel)",
   "language": "python",
   "name": "python3"
  },
  "language_info": {
   "codemirror_mode": {
    "name": "ipython",
    "version": 3
   },
   "file_extension": ".py",
   "mimetype": "text/x-python",
   "name": "python",
   "nbconvert_exporter": "python",
   "pygments_lexer": "ipython3",
   "version": "3.9.7"
  }
 },
 "nbformat": 4,
 "nbformat_minor": 5
}
