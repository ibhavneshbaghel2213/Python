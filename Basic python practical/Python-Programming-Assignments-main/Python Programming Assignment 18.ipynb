{
 "cells": [
  {
   "cell_type": "markdown",
   "id": "52072cad",
   "metadata": {},
   "source": [
    "<b>Question 1\n",
    "Create a function that takes a list of non-negative integers and strings and return a new list\n",
    "without the strings.<b>\n",
    "Examples\n",
    "    \n",
    "    filter_list([1, 2, &quot;a&quot;, &quot;b&quot;]) ➞ [1, 2]\n",
    "    \n",
    "    filter_list([1, &quot;a&quot;, &quot;b&quot;, 0, 15]) ➞ [1, 0, 15]\n",
    "    \n",
    "    filter_list([1, 2, &quot;aasf&quot;, &quot;1&quot;, &quot;123&quot;, 123]) ➞ [1, 2, 123]"
   ]
  },
  {
   "cell_type": "code",
   "execution_count": 13,
   "id": "552b0b35",
   "metadata": {},
   "outputs": [],
   "source": [
    "def filter_list(lis):\n",
    "    result = []\n",
    "    for i in lis:\n",
    "        if type(i) == int:\n",
    "            result.append(i)\n",
    "    return result"
   ]
  },
  {
   "cell_type": "code",
   "execution_count": 14,
   "id": "02aa965d",
   "metadata": {},
   "outputs": [
    {
     "data": {
      "text/plain": [
       "[1, 3]"
      ]
     },
     "execution_count": 14,
     "metadata": {},
     "output_type": "execute_result"
    }
   ],
   "source": [
    "lis = [1,3,\"a\",\"b\"]\n",
    "filter_list(lis)"
   ]
  },
  {
   "cell_type": "markdown",
   "id": "cbeb82e2",
   "metadata": {},
   "source": [
    "<b>Question 2\n",
    "The &quot;Reverser&quot; takes a string as input and returns that string in reverse order, with the\n",
    "opposite case.<b>\n",
    "Examples\n",
    "    \n",
    "        reverse(&quot;Hello World&quot;) ➞ &quot;DLROw OLLEh&quot;\n",
    "        reverse(&quot;ReVeRsE&quot;) ➞ &quot;eSrEvEr&quot;\n",
    "        reverse(&quot;Radar&quot;) ➞ &quot;RADAr&quot;"
   ]
  },
  {
   "cell_type": "code",
   "execution_count": 19,
   "id": "88f6f10a",
   "metadata": {},
   "outputs": [],
   "source": [
    "def reverse(string=str):\n",
    "    result = \"\"\n",
    "    for i in string[::-1]:\n",
    "        if i.islower():\n",
    "            result += i.upper()\n",
    "        else:\n",
    "            result+= i.lower()\n",
    "    \n",
    "    return result\n"
   ]
  },
  {
   "cell_type": "code",
   "execution_count": 20,
   "id": "04dabd3a",
   "metadata": {},
   "outputs": [
    {
     "data": {
      "text/plain": [
       "'DLROw OLLEh'"
      ]
     },
     "execution_count": 20,
     "metadata": {},
     "output_type": "execute_result"
    }
   ],
   "source": [
    "reverse(\"Hello World\")"
   ]
  },
  {
   "cell_type": "markdown",
   "id": "289a468e",
   "metadata": {},
   "source": [
    "<b>Question 4\n",
    "Write a function that calculates the factorial of a number recursively.\n",
    "Examples<b>\n",
    "    \n",
    "    factorial(5) ➞ 120\n",
    "    factorial(3) ➞ 6\n",
    "    factorial(1) ➞ 1\n",
    "    factorial(0) ➞ 1"
   ]
  },
  {
   "cell_type": "code",
   "execution_count": 1,
   "id": "b0337eeb",
   "metadata": {},
   "outputs": [],
   "source": [
    "def factorial(number):\n",
    "    if number == 1 or number == 0:\n",
    "        return 1\n",
    "    else:\n",
    "        return number*factorial(number-1)"
   ]
  },
  {
   "cell_type": "code",
   "execution_count": 2,
   "id": "2900e7d3",
   "metadata": {},
   "outputs": [
    {
     "data": {
      "text/plain": [
       "120"
      ]
     },
     "execution_count": 2,
     "metadata": {},
     "output_type": "execute_result"
    }
   ],
   "source": [
    "factorial(5)"
   ]
  },
  {
   "cell_type": "markdown",
   "id": "eed99e47",
   "metadata": {},
   "source": [
    "<b>Question 5\n",
    "Write a function that moves all elements of one type to the end of the list.\n",
    "Examples<b>\n",
    "    \n",
    "    move_to_end([1, 3, 2, 4, 4, 1], 1) ➞ [3, 2, 4, 4, 1, 1]\n",
    "    Move all the 1s to the end of the array.\n",
    "    move_to_end([7, 8, 9, 1, 2, 3, 4], 9) ➞ [7, 8, 1, 2, 3, 4, 9]\n",
    "    move_to_end([&quot;a&quot;, &quot;a&quot;, &quot;a&quot;, &quot;b&quot;], &quot;a&quot;) ➞ [&quot;b&quot;, &quot;a&quot;, &quot;a&quot;, &quot;a&quot;]"
   ]
  },
  {
   "cell_type": "code",
   "execution_count": 26,
   "id": "b74a3586",
   "metadata": {},
   "outputs": [],
   "source": [
    "def move_to_end(lis,number):\n",
    "    frist = []\n",
    "    last = []\n",
    "    for i in lis:\n",
    "        if i != number:\n",
    "            frist.append(i)\n",
    "        else:\n",
    "            last.append(i)\n",
    "    \n",
    "    frist.extend(last)\n",
    "    return frist               \n",
    "            "
   ]
  },
  {
   "cell_type": "code",
   "execution_count": 29,
   "id": "02b703b5",
   "metadata": {},
   "outputs": [
    {
     "data": {
      "text/plain": [
       "[7, 8, 1, 2, 3, 4, 9]"
      ]
     },
     "execution_count": 29,
     "metadata": {},
     "output_type": "execute_result"
    }
   ],
   "source": [
    "move_to_end([7, 8, 9, 1, 2, 3, 4], 9)"
   ]
  }
 ],
 "metadata": {
  "kernelspec": {
   "display_name": "Python 3 (ipykernel)",
   "language": "python",
   "name": "python3"
  },
  "language_info": {
   "codemirror_mode": {
    "name": "ipython",
    "version": 3
   },
   "file_extension": ".py",
   "mimetype": "text/x-python",
   "name": "python",
   "nbconvert_exporter": "python",
   "pygments_lexer": "ipython3",
   "version": "3.9.7"
  }
 },
 "nbformat": 4,
 "nbformat_minor": 5
}
