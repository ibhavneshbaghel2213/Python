{
 "cells": [
  {
   "cell_type": "markdown",
   "id": "279a4ad9",
   "metadata": {},
   "source": [
    "<b>1. Write a Python program to check if the given number is a Disarium Number?</b>"
   ]
  },
  {
   "cell_type": "code",
   "execution_count": 1,
   "id": "48b9cb71",
   "metadata": {},
   "outputs": [],
   "source": [
    "def disarium(n):\n",
    "    length = len(str(n))\n",
    "    sum = 0\n",
    "    temp = n\n",
    "    while temp > 0:\n",
    "        temp1 = temp%10\n",
    "        sum+=temp1**length\n",
    "        temp = temp//10\n",
    "        length-=1\n",
    "    if sum == n:\n",
    "        print(sum ,\"is a disarium number\")\n",
    "    else:\n",
    "        print(sum,\"is not an disarium number\")\n",
    "\n",
    "    "
   ]
  },
  {
   "cell_type": "code",
   "execution_count": 2,
   "id": "176672eb",
   "metadata": {},
   "outputs": [
    {
     "name": "stdout",
     "output_type": "stream",
     "text": [
      "135 is a disarium number\n"
     ]
    }
   ],
   "source": [
    "disarium(135)"
   ]
  },
  {
   "cell_type": "markdown",
   "id": "7cd839ba",
   "metadata": {},
   "source": [
    "<b>2. Write a Python program to print all disarium numbers between 1 to 100?</b>"
   ]
  },
  {
   "cell_type": "code",
   "execution_count": 9,
   "id": "2c08b8e0",
   "metadata": {},
   "outputs": [
    {
     "name": "stdout",
     "output_type": "stream",
     "text": [
      "1 2 3 4 5 6 7 8 9 89 "
     ]
    }
   ],
   "source": [
    "def disariumLImit(n):\n",
    "    length = len(str(n))\n",
    "    sum = 0\n",
    "    temp = n\n",
    "    while temp > 0:\n",
    "        temp1 = temp%10\n",
    "        sum+=temp1**length\n",
    "        temp = temp//10\n",
    "        length-=1\n",
    "    if sum == n:\n",
    "        return sum\n",
    "    \n",
    "for i in range(1,100):\n",
    "    if i == disariumLImit(i):\n",
    "        print(i, end=' ')\n",
    "        "
   ]
  },
  {
   "cell_type": "markdown",
   "id": "9b2f5b4a",
   "metadata": {},
   "source": [
    "<b>3. Write a Python program to check if the given number is Happy Number?</b>"
   ]
  },
  {
   "cell_type": "code",
   "execution_count": 18,
   "id": "24c0f1de",
   "metadata": {},
   "outputs": [
    {
     "name": "stdout",
     "output_type": "stream",
     "text": [
      "13\n",
      "13 is a Happy number\n"
     ]
    }
   ],
   "source": [
    "def Happynumber(n):\n",
    "    if n == 1 or n == 7:\n",
    "        return True\n",
    "          \n",
    "    Sum, x = n, n\n",
    "\n",
    "    while Sum > 9:\n",
    "        Sum = 0\n",
    "          \n",
    "        while x > 0:\n",
    "            d = x % 10\n",
    "            Sum += d * d\n",
    "            x = int(x / 10)\n",
    "         \n",
    "        if Sum == 1:\n",
    "            return True\n",
    "              \n",
    "        x = Sum\n",
    "     \n",
    "    if Sum == 7:\n",
    "        return True\n",
    "          \n",
    "    return False\n",
    " \n",
    "n = int(input())\n",
    "      \n",
    "if Happynumber(n):\n",
    "    print(n, \"is a Happy number\")\n",
    "else:\n",
    "    print(n, \"is not a Happy number\")\n",
    "        "
   ]
  },
  {
   "cell_type": "markdown",
   "id": "40d16c8e",
   "metadata": {},
   "source": [
    "<b>4. Write a Python program to print all happy numbers between 1 and 100?</b>"
   ]
  },
  {
   "cell_type": "code",
   "execution_count": 20,
   "id": "140806d4",
   "metadata": {},
   "outputs": [
    {
     "name": "stdout",
     "output_type": "stream",
     "text": [
      "1 7 10 13 19 23 28 31 32 44 49 68 70 79 82 86 91 94 97 "
     ]
    }
   ],
   "source": [
    "for i in range(1,100):\n",
    "    if Happynumber(i):\n",
    "        print(i,end=' ')"
   ]
  },
  {
   "cell_type": "markdown",
   "id": "75f084d8",
   "metadata": {},
   "source": [
    "<b>5. Write a Python program to determine whether the given number is a Harshad Number?</b>\n"
   ]
  },
  {
   "cell_type": "code",
   "execution_count": 37,
   "id": "941639a1",
   "metadata": {},
   "outputs": [],
   "source": [
    "def harshadNum(n):\n",
    "    temp = n\n",
    "    sum = 0\n",
    "    while temp != 0:\n",
    "        temp = n%10\n",
    "        sum += temp \n",
    "        temp = temp//10\n",
    "    if n%sum == 0 :\n",
    "        print(n,\"is a harshad number\" )\n",
    "    else:\n",
    "        print(n, \"is not a harshad number\")"
   ]
  },
  {
   "cell_type": "code",
   "execution_count": 39,
   "id": "ae3d435a",
   "metadata": {},
   "outputs": [
    {
     "name": "stdout",
     "output_type": "stream",
     "text": [
      "156 is a harshad number\n"
     ]
    }
   ],
   "source": [
    "harshadNum(156)"
   ]
  },
  {
   "cell_type": "markdown",
   "id": "636dcc86",
   "metadata": {},
   "source": [
    "<b>6. Write a Python program to print all pronic numbers between 1 and 100?</b>"
   ]
  },
  {
   "cell_type": "code",
   "execution_count": 48,
   "id": "71ed4de8",
   "metadata": {},
   "outputs": [
    {
     "name": "stdout",
     "output_type": "stream",
     "text": [
      "0 2 6 12 20 30 42 56 72 90 "
     ]
    }
   ],
   "source": [
    "import math\n",
    "def pronicNum(n):\n",
    "    i = 0\n",
    "    while  i <= (math.sqrt(n)) :\n",
    "        if ( n == i * (i + 1)) :\n",
    "            return True\n",
    "        i = i + 1\n",
    " \n",
    "    return False\n",
    "\n",
    "for i in range(100):\n",
    "    if pronicNum(i):\n",
    "        print(i,end = ' ')\n",
    " "
   ]
  }
 ],
 "metadata": {
  "kernelspec": {
   "display_name": "Python 3 (ipykernel)",
   "language": "python",
   "name": "python3"
  },
  "language_info": {
   "codemirror_mode": {
    "name": "ipython",
    "version": 3
   },
   "file_extension": ".py",
   "mimetype": "text/x-python",
   "name": "python",
   "nbconvert_exporter": "python",
   "pygments_lexer": "ipython3",
   "version": "3.9.7"
  }
 },
 "nbformat": 4,
 "nbformat_minor": 5
}
