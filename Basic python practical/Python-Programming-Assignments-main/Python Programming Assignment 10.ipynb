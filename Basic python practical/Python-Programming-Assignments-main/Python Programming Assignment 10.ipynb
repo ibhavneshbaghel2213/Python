{
 "cells": [
  {
   "cell_type": "markdown",
   "id": "a5a0a170",
   "metadata": {},
   "source": [
    "<b>1. Write a Python program to find sum of elements in list?</b>"
   ]
  },
  {
   "cell_type": "code",
   "execution_count": 4,
   "id": "d14f8b42",
   "metadata": {},
   "outputs": [
    {
     "data": {
      "text/plain": [
       "3864"
      ]
     },
     "execution_count": 4,
     "metadata": {},
     "output_type": "execute_result"
    }
   ],
   "source": [
    "def sumList(l=list):\n",
    "    count = 0\n",
    "    for i in l:\n",
    "        count+=i\n",
    "    return count\n",
    "\n",
    "x = [1,3324,5,78,0,456]\n",
    "sumList(x)\n",
    "    "
   ]
  },
  {
   "cell_type": "markdown",
   "id": "ba1dd31e",
   "metadata": {},
   "source": [
    "<b>2. Write a Python program to Multiply all numbers in the list?</b>"
   ]
  },
  {
   "cell_type": "code",
   "execution_count": 16,
   "id": "667c4374",
   "metadata": {},
   "outputs": [
    {
     "data": {
      "text/plain": [
       "96"
      ]
     },
     "execution_count": 16,
     "metadata": {},
     "output_type": "execute_result"
    }
   ],
   "source": [
    "def mulList(l=list):\n",
    "    count = 1\n",
    "    for i in l :\n",
    "        count*=i\n",
    "    return count\n",
    "\n",
    "a = [2,2,3,4,2]\n",
    "mulList(a)"
   ]
  },
  {
   "cell_type": "markdown",
   "id": "6541c3ba",
   "metadata": {},
   "source": [
    "<b>3. Write a Python program to find smallest number in a list?</b>"
   ]
  },
  {
   "cell_type": "code",
   "execution_count": 22,
   "id": "b591a782",
   "metadata": {},
   "outputs": [
    {
     "data": {
      "text/plain": [
       "2"
      ]
     },
     "execution_count": 22,
     "metadata": {},
     "output_type": "execute_result"
    }
   ],
   "source": [
    "def small_ele_in_list(l=list):\n",
    "    try:\n",
    "        small_ele = l[0]\n",
    "        for i in range(len(l)) :\n",
    "            if small_ele > l[i] :\n",
    "                small_ele = l[i]\n",
    "        return small_ele\n",
    "    except Exception as E :\n",
    "        print(E)\n",
    "    \n",
    "\n",
    "a = [2,2,3,4,2,45,67,7,20]\n",
    "small_ele_in_list(a)\n",
    "        \n",
    "        "
   ]
  },
  {
   "cell_type": "markdown",
   "id": "da913224",
   "metadata": {},
   "source": [
    "<b>4. Write a Python program to find largest number in a list?</b>"
   ]
  },
  {
   "cell_type": "code",
   "execution_count": 25,
   "id": "ee2de2df",
   "metadata": {},
   "outputs": [
    {
     "data": {
      "text/plain": [
       "67"
      ]
     },
     "execution_count": 25,
     "metadata": {},
     "output_type": "execute_result"
    }
   ],
   "source": [
    "def largest_ele(l) :\n",
    "    try:\n",
    "        max_ele = l[0]\n",
    "        for i in range(len(l)) :\n",
    "            if max_ele < l[i] :\n",
    "                max_ele = l[i]\n",
    "        return max_ele\n",
    "    except Exception as E :\n",
    "        print(E)\n",
    " \n",
    "a = [2,2,3,4,2,45,67,7,20]\n",
    "largest_ele(a)"
   ]
  },
  {
   "cell_type": "markdown",
   "id": "c1364c7e",
   "metadata": {},
   "source": [
    "<b>5. Write a Python program to find second largest number in a list?</b>"
   ]
  },
  {
   "cell_type": "code",
   "execution_count": 28,
   "id": "41e0a151",
   "metadata": {},
   "outputs": [
    {
     "data": {
      "text/plain": [
       "45"
      ]
     },
     "execution_count": 28,
     "metadata": {},
     "output_type": "execute_result"
    }
   ],
   "source": [
    "def second_largest(l):\n",
    "    try:\n",
    "        sor_l = sorted(l)\n",
    "        set(sor_l)\n",
    "        lst = list(sor_l)\n",
    "        return lst[-2]\n",
    "    except Exception as E:\n",
    "        print(E)\n",
    "    \n",
    "\n",
    "a = [2,2,3,4,2,45,67,7,20]\n",
    "second_largest(a)\n",
    "\n",
    "        \n",
    "    "
   ]
  },
  {
   "cell_type": "markdown",
   "id": "cbaf2f2f",
   "metadata": {},
   "source": [
    "<b>6. Write a Python program to find N largest elements from a list?</b>"
   ]
  },
  {
   "cell_type": "code",
   "execution_count": 36,
   "id": "05915be4",
   "metadata": {},
   "outputs": [
    {
     "name": "stdout",
     "output_type": "stream",
     "text": [
      "How many numbers you need: 3\n"
     ]
    },
    {
     "data": {
      "text/plain": [
       "[20, 45, 67]"
      ]
     },
     "execution_count": 36,
     "metadata": {},
     "output_type": "execute_result"
    }
   ],
   "source": [
    "def N_large_finder(l=list):\n",
    "    N = int(input(\"How many numbers you need: \"))\n",
    "    s = set(l)\n",
    "    sorT_list = sorted(list(s))\n",
    "    return (sorT_list[-N:]) \n",
    "        \n",
    "        \n",
    "a = [2,2,3,4,2,45,67,7,20]\n",
    "N_large_finder(a)\n",
    "            "
   ]
  },
  {
   "cell_type": "markdown",
   "id": "6f889842",
   "metadata": {},
   "source": [
    "<b>7. Write a Python program to print even numbers in a list?</b>"
   ]
  },
  {
   "cell_type": "code",
   "execution_count": 39,
   "id": "8b014b78",
   "metadata": {},
   "outputs": [
    {
     "data": {
      "text/plain": [
       "[2, 2, 4, 2, 20]"
      ]
     },
     "execution_count": 39,
     "metadata": {},
     "output_type": "execute_result"
    }
   ],
   "source": [
    "def even_ele(l):\n",
    "    result = []\n",
    "    for i in l:\n",
    "        if i % 2 == 0:\n",
    "            result.append(i)\n",
    "    return result\n",
    "\n",
    "a = [2,2,3,4,2,45,67,7,20]\n",
    "even_ele(a)"
   ]
  },
  {
   "cell_type": "markdown",
   "id": "75f91c96",
   "metadata": {},
   "source": [
    " <b>8. Write a Python program to print odd numbers in a List?</b>"
   ]
  },
  {
   "cell_type": "code",
   "execution_count": 40,
   "id": "87f69c4b",
   "metadata": {},
   "outputs": [
    {
     "data": {
      "text/plain": [
       "[3, 45, 67, 7]"
      ]
     },
     "execution_count": 40,
     "metadata": {},
     "output_type": "execute_result"
    }
   ],
   "source": [
    "def odd_ele(l):\n",
    "    result = []\n",
    "    for i in l:\n",
    "        if i % 2 == 1:\n",
    "            result.append(i)\n",
    "    return result\n",
    "a = [2,2,3,4,2,45,67,7,20]\n",
    "odd_ele(a)"
   ]
  },
  {
   "cell_type": "markdown",
   "id": "bad7a6fa",
   "metadata": {},
   "source": [
    "<b>9. Write a Python program to Remove empty List from List?</b>"
   ]
  },
  {
   "cell_type": "code",
   "execution_count": 42,
   "id": "8c04b81a",
   "metadata": {},
   "outputs": [
    {
     "data": {
      "text/plain": [
       "[1, 2, 3, 5, 8, 0, 23]"
      ]
     },
     "execution_count": 42,
     "metadata": {},
     "output_type": "execute_result"
    }
   ],
   "source": [
    "def empty_remover(l):\n",
    "    for i in l:\n",
    "        if i == []:\n",
    "            l.remove(i)\n",
    "    return l\n",
    "\n",
    "a = [1,2,3,5,8,[],0,[],23,[]]\n",
    "empty_remover(a)"
   ]
  },
  {
   "cell_type": "markdown",
   "id": "48e832e6",
   "metadata": {},
   "source": [
    "<b>10. Write a Python program to Cloning or Copying a list?</b>\n"
   ]
  },
  {
   "cell_type": "code",
   "execution_count": 45,
   "id": "c4277f6f",
   "metadata": {},
   "outputs": [
    {
     "name": "stdout",
     "output_type": "stream",
     "text": [
      "original:  [2, 2, 3, 4, 2, 45, 67, 7, 20]\n",
      "clone:  [2, 2, 3, 4, 2, 45, 67, 7, 20]\n"
     ]
    }
   ],
   "source": [
    "def lis_cloner(l):\n",
    "    duplicate = l.copy()\n",
    "    print(\"original: \",l)\n",
    "    print(\"clone: \",duplicate)\n",
    "a = [2,2,3,4,2,45,67,7,20]\n",
    "lis_cloner(a)"
   ]
  },
  {
   "cell_type": "markdown",
   "id": "7056de17",
   "metadata": {},
   "source": [
    "<b>11. Write a Python program to Count occurrences of an element in a list?</b>"
   ]
  },
  {
   "cell_type": "code",
   "execution_count": 48,
   "id": "0f82c822",
   "metadata": {},
   "outputs": [
    {
     "name": "stdout",
     "output_type": "stream",
     "text": [
      "Enter no.45\n",
      "45  element occured  5  times\n"
     ]
    }
   ],
   "source": [
    "def count_ele(l):\n",
    "    count = 0\n",
    "    occur_ele = int(input(\"Enter no.\"))\n",
    "    for i in l:\n",
    "        if i == occur_ele:\n",
    "            count += 1\n",
    "    print(occur_ele,\" element occured \", count ,\" times\")\n",
    "\n",
    "a =  [2, 2, 3,3,4,45,45,45,67,67,45, 4, 2, 45, 67, 7, 20]\n",
    "count_ele(a)"
   ]
  }
 ],
 "metadata": {
  "kernelspec": {
   "display_name": "Python 3 (ipykernel)",
   "language": "python",
   "name": "python3"
  },
  "language_info": {
   "codemirror_mode": {
    "name": "ipython",
    "version": 3
   },
   "file_extension": ".py",
   "mimetype": "text/x-python",
   "name": "python",
   "nbconvert_exporter": "python",
   "pygments_lexer": "ipython3",
   "version": "3.9.7"
  }
 },
 "nbformat": 4,
 "nbformat_minor": 5
}
