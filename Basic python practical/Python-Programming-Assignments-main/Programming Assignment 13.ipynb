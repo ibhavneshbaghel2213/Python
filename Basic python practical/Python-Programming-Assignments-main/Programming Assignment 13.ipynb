{
 "cells": [
  {
   "cell_type": "markdown",
   "id": "8b64138b",
   "metadata": {},
   "source": [
    "Question 1:\n",
    "Write a program that calculates and prints the value according to the given formula:\n",
    "Q = Square root of [(2 * C * D)/H]\n",
    "\n",
    "Following are the fixed values of C and H:\n",
    " \n",
    " C is 50. H is 30."
   ]
  },
  {
   "cell_type": "code",
   "execution_count": 12,
   "id": "6183dcf4",
   "metadata": {},
   "outputs": [
    {
     "name": "stdout",
     "output_type": "stream",
     "text": [
      "100,150,180\n",
      "18,22,24,"
     ]
    }
   ],
   "source": [
    "import math\n",
    "D = list(map(int,input().split(',')))\n",
    "result = []\n",
    "for i in range(len(D)):\n",
    "    res = (2*50*D[i])//30\n",
    "    result.append(math.sqrt(res))\n",
    "for j in result:\n",
    "    print(int(j),end=',')"
   ]
  },
  {
   "cell_type": "markdown",
   "id": "e6c14f30",
   "metadata": {},
   "source": [
    "Question 2:\n",
    "Write a program which takes 2 digits, X,Y as input and generates a 2-dimensional array.The\n",
    "element value in the i-th row and j-th column of the array should be i*j.\n",
    "\n",
    "Note: i=0,1.., X-1; j=0,1,¡Y-1.\n",
    "\n",
    "Example\n",
    "Suppose the following inputs are given to the program:\n",
    "3,5\n",
    "Then, the output of the program should be:\n",
    "[[0, 0, 0, 0, 0],\n",
    "[0, 1, 2, 3, 4],\n",
    "[0, 2, 4, 6, 8]]"
   ]
  },
  {
   "cell_type": "code",
   "execution_count": 20,
   "id": "0a5e2465",
   "metadata": {},
   "outputs": [
    {
     "name": "stdout",
     "output_type": "stream",
     "text": [
      "3,5\n",
      "[[0, 0, 0, 0, 0], [0, 1, 2, 3, 4], [0, 2, 4, 6, 8]]\n"
     ]
    }
   ],
   "source": [
    "cordinates = list(map(int,input().split(',')))\n",
    "result= [[0 for i in range(cordinates[1])] for j in range(cordinates[0])]\n",
    "for i in range(cordinates[0]):\n",
    "    for j in range(cordinates[1]):\n",
    "        result[i][j]= i*j\n",
    "        \n",
    "print(result)"
   ]
  },
  {
   "cell_type": "markdown",
   "id": "67e0c4e3",
   "metadata": {},
   "source": [
    "Question 3:\n",
    "Write a program that accepts a comma separated sequence of words as input and prints the\n",
    "words in a comma-separated sequence after sorting them alphabetically.\n",
    "Suppose the following input is supplied to the program:\n",
    "without,hello,bag,world\n",
    "\n",
    "Then, the output should be:\n",
    "bag,hello,without,world\n"
   ]
  },
  {
   "cell_type": "code",
   "execution_count": 24,
   "id": "a1c9fbfa",
   "metadata": {},
   "outputs": [
    {
     "name": "stdout",
     "output_type": "stream",
     "text": [
      "without,hello,bag,world\n",
      "bag,hello,without,world,"
     ]
    }
   ],
   "source": [
    "inp = list(map(str,input().split(',')))\n",
    "result = sorted(inp)\n",
    "for i in result:\n",
    "    print(i,end=',')"
   ]
  },
  {
   "cell_type": "markdown",
   "id": "97554ac1",
   "metadata": {},
   "source": [
    "Question 4:\n",
    "Write a program that accepts a sequence of whitespace separated words as input and prints\n",
    "the words after removing all duplicate words and sorting them alphanumerically.\n",
    "Suppose the following input is supplied to the program:\n",
    "hello world and practice makes perfect and hello world again\n",
    "Then, the output should be:\n",
    "again and hello makes perfect practice world"
   ]
  },
  {
   "cell_type": "code",
   "execution_count": 28,
   "id": "dd3d6a02",
   "metadata": {},
   "outputs": [
    {
     "name": "stdout",
     "output_type": "stream",
     "text": [
      "hello world and practice makes perfect and hello world again\n",
      "again and hello makes perfect practice world\n"
     ]
    }
   ],
   "source": [
    "inp = list(map(str,input().split(' ')))\n",
    "result = set(inp)\n",
    "print(*sorted(result))"
   ]
  },
  {
   "cell_type": "markdown",
   "id": "1e8fc668",
   "metadata": {},
   "source": [
    "Question 5:\n",
    "Write a program that accepts a sentence and calculate the number of letters and digits.\n",
    "\n",
    "Suppose the following input is supplied to the program:\n",
    "hello world! 123\n",
    "\n",
    "Then, the output should be:\n",
    "LETTERS 10\n",
    "DIGITS 3\n"
   ]
  },
  {
   "cell_type": "code",
   "execution_count": 29,
   "id": "1add4e5a",
   "metadata": {},
   "outputs": [
    {
     "name": "stdout",
     "output_type": "stream",
     "text": [
      "hello world! 123\n",
      "LETTER:  10 DIGITS:  3\n"
     ]
    }
   ],
   "source": [
    "input_val = input()\n",
    "letter = 0\n",
    "digit = 0\n",
    "for i in input_val:\n",
    "    if i.isalpha():\n",
    "        letter+=1\n",
    "    elif i.isdigit():\n",
    "        digit+=1\n",
    "    else:\n",
    "        pass\n",
    "print(\"LETTER: \",letter, \"DIGITS: \",digit)\n",
    "    "
   ]
  },
  {
   "cell_type": "markdown",
   "id": "a2b1c818",
   "metadata": {},
   "source": [
    "Question 6:\n",
    "A website requires the users to input username and password to register. Write a program to\n",
    "check the validity of password input by users.\n",
    "Following are the criteria for checking the password:\n",
    "1. At least 1 letter between [a-z]\n",
    "2. At least 1 number between [0-9]\n",
    "1. At least 1 letter between [A-Z]\n",
    "3. At least 1 character from [$#@]\n",
    "4. Minimum length of transaction password: 6\n",
    "5. Maximum length of transaction password: 12\n",
    "Your program should accept a sequence of comma separated passwords and will check them\n",
    "according to the above criteria. Passwords that match the criteria are to be printed, each\n",
    "separated by a comma.\n",
    "Example\n",
    "If the following passwords are given as input to the program:\n",
    "ABd1234@1,a F1#,2w3E*,2We3345\n",
    "Then, the output of the program should be:\n",
    "ABd1234@1"
   ]
  },
  {
   "cell_type": "code",
   "execution_count": 5,
   "id": "eef9a6b6",
   "metadata": {},
   "outputs": [
    {
     "name": "stdout",
     "output_type": "stream",
     "text": [
      "ABd1234@1,a F1#,2w3E*,2We3345\n",
      "ABd1234@1\n"
     ]
    }
   ],
   "source": [
    "import re\n",
    "\n",
    "def pass_checker(l):\n",
    "    while True:\n",
    "\n",
    "        user_input = l\n",
    "        is_valid = False\n",
    "\n",
    "        if (len(user_input)<6 or len(user_input)>12):\n",
    "            continue\n",
    "        elif not re.search(\"[A-Z]\",user_input):    \n",
    "            continue\n",
    "        elif not re.search(\"[a-z]\",user_input):\n",
    "            continue\n",
    "        elif not re.search(\"[1-9]\",user_input):\n",
    "            continue\n",
    "        elif not re.search(\"[@#$]\",user_input):\n",
    "            continue\n",
    "        else:\n",
    "            is_valid = True\n",
    "            break\n",
    "            \n",
    "    if(is_valid):\n",
    "        print(l)\n",
    "    \n",
    "inpu = list(map(str,input().split(',')))\n",
    "for i in inpu:\n",
    "    pass_checker(i)\n",
    "    break\n",
    "    \n",
    "                "
   ]
  },
  {
   "cell_type": "code",
   "execution_count": null,
   "id": "b0aef573",
   "metadata": {},
   "outputs": [],
   "source": []
  }
 ],
 "metadata": {
  "kernelspec": {
   "display_name": "Python 3 (ipykernel)",
   "language": "python",
   "name": "python3"
  },
  "language_info": {
   "codemirror_mode": {
    "name": "ipython",
    "version": 3
   },
   "file_extension": ".py",
   "mimetype": "text/x-python",
   "name": "python",
   "nbconvert_exporter": "python",
   "pygments_lexer": "ipython3",
   "version": "3.9.7"
  }
 },
 "nbformat": 4,
 "nbformat_minor": 5
}
