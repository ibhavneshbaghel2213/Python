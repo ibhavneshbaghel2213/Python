{
 "cells": [
  {
   "cell_type": "markdown",
   "id": "5b06dc2d",
   "metadata": {},
   "source": [
    "<b>Question1\n",
    "Create a function that takes a list of strings and integers, and filters out the list so that it\n",
    "returns a list of integers only.<b>\n",
    "Examples\n",
    "    \n",
    "    filter_list([1, 2, 3, &quot;a&quot;, &quot;b&quot;, 4]) ➞ [1, 2, 3, 4]\n",
    "    filter_list([&quot;A&quot;, 0, &quot;Edabit&quot;, 1729, &quot;Python&quot;, &quot;1729&quot;]) ➞ [0, 1729]\n",
    "    filter_list([&quot;Nothing&quot;, &quot;here&quot;]) ➞ []"
   ]
  },
  {
   "cell_type": "code",
   "execution_count": 1,
   "id": "d4fe75b8",
   "metadata": {},
   "outputs": [],
   "source": [
    "def filter_list(lis):\n",
    "    return [i for i in lis if type(i) == int]"
   ]
  },
  {
   "cell_type": "code",
   "execution_count": 2,
   "id": "f9795d04",
   "metadata": {},
   "outputs": [
    {
     "data": {
      "text/plain": [
       "[1, 2, 3, 4]"
      ]
     },
     "execution_count": 2,
     "metadata": {},
     "output_type": "execute_result"
    }
   ],
   "source": [
    "lst = [1,2,3,\"a\",\"b\",4]\n",
    "filter_list(lst)"
   ]
  },
  {
   "cell_type": "markdown",
   "id": "7c31fb51",
   "metadata": {},
   "source": [
    "<b>Question2\n",
    "Given a list of numbers, create a function which returns the list but with each element&#39;s\n",
    "index in the list added to itself. This means you add 0 to the number at index 0, add 1 to the\n",
    "number at index 1, etc...<b>\n",
    "Examples\n",
    "    \n",
    "    add_indexes([0, 0, 0, 0, 0]) ➞ [0, 1, 2, 3, 4]\n",
    "    add_indexes([1, 2, 3, 4, 5]) ➞ [1, 3, 5, 7, 9]\n",
    "    add_indexes([5, 4, 3, 2, 1]) ➞ [5, 5, 5, 5, 5]"
   ]
  },
  {
   "cell_type": "code",
   "execution_count": 7,
   "id": "d6713337",
   "metadata": {},
   "outputs": [],
   "source": [
    "def add_indexes(lis):\n",
    "    return [lis[i]+i for i in range(len(lis))]"
   ]
  },
  {
   "cell_type": "code",
   "execution_count": 8,
   "id": "9c482453",
   "metadata": {},
   "outputs": [
    {
     "data": {
      "text/plain": [
       "[0, 1, 2, 3, 4]"
      ]
     },
     "execution_count": 8,
     "metadata": {},
     "output_type": "execute_result"
    }
   ],
   "source": [
    "add_indexes([0,0,0,0,0])"
   ]
  },
  {
   "cell_type": "markdown",
   "id": "ec8ee12c",
   "metadata": {},
   "source": [
    "<b>Question3\n",
    "Create a function that takes the height and radius of a cone as arguments and returns the\n",
    "volume of the cone rounded to the nearest hundredth. See the resources tab for the formula.<b>\n",
    "\n",
    "Examples\n",
    "    \n",
    "    cone_volume(3, 2) ➞ 12.57\n",
    "    cone_volume(15, 6) ➞ 565.49\n",
    "    cone_volume(18, 0) ➞ 0"
   ]
  },
  {
   "cell_type": "code",
   "execution_count": 13,
   "id": "9cca336f",
   "metadata": {},
   "outputs": [],
   "source": [
    "import math\n",
    "def cone_volume(height,radius):\n",
    "    volume = (1/3)*math.pi*radius**2*height \n",
    "    return round(volume,2)"
   ]
  },
  {
   "cell_type": "code",
   "execution_count": 15,
   "id": "bc6b69f5",
   "metadata": {},
   "outputs": [
    {
     "data": {
      "text/plain": [
       "565.49"
      ]
     },
     "execution_count": 15,
     "metadata": {},
     "output_type": "execute_result"
    }
   ],
   "source": [
    "cone_volume(15,6)"
   ]
  },
  {
   "cell_type": "markdown",
   "id": "1353837b",
   "metadata": {},
   "source": [
    "<b>Question4\n",
    "This Triangular Number Sequence is generated from a pattern of dots that form a triangle.\n",
    "The first 5 numbers of the sequence, or dots, are:\n",
    "1, 3, 6, 10, 15\n",
    "This means that the first triangle has just one dot, the second one has three dots, the third one\n",
    "has 6 dots and so on.\n",
    "Write a function that gives the number of dots with its corresponding triangle number of the\n",
    "sequence.<b>\n",
    "Examples\n",
    "    \n",
    "    triangle(1) ➞ 1\n",
    "    triangle(6) ➞ 21\n",
    "    triangle(215) ➞ 23220"
   ]
  },
  {
   "cell_type": "code",
   "execution_count": 12,
   "id": "794ab952",
   "metadata": {},
   "outputs": [],
   "source": [
    "def triangle(number):\n",
    "    count = 1\n",
    "    result = [count]\n",
    "    for i in range(2,number+1):\n",
    "        count+=i\n",
    "        result.append(count)\n",
    "    return result[number-1]\n",
    "        "
   ]
  },
  {
   "cell_type": "code",
   "execution_count": 15,
   "id": "4e341ebe",
   "metadata": {},
   "outputs": [
    {
     "data": {
      "text/plain": [
       "21"
      ]
     },
     "execution_count": 15,
     "metadata": {},
     "output_type": "execute_result"
    }
   ],
   "source": [
    "triangle(6)"
   ]
  },
  {
   "cell_type": "markdown",
   "id": "14d44777",
   "metadata": {},
   "source": [
    "<b>Question5\n",
    "Create a function that takes a list of numbers between 1 and 10 (excluding one number) and\n",
    "returns the missing number.<b>\n",
    "Examples\n",
    "    \n",
    "    missing_num([1, 2, 3, 4, 6, 7, 8, 9, 10]) ➞ 5\n",
    "    missing_num([7, 2, 3, 6, 5, 9, 1, 4, 8]) ➞ 10\n",
    "    missing_num([10, 5, 1, 2, 4, 6, 8, 3, 9]) ➞ 7"
   ]
  },
  {
   "cell_type": "code",
   "execution_count": 18,
   "id": "d4dab0a3",
   "metadata": {},
   "outputs": [],
   "source": [
    "def missing_num(lst):\n",
    "    for i in range(1,len(lst)+1):\n",
    "        if i not in lst:\n",
    "            return i\n",
    "        "
   ]
  },
  {
   "cell_type": "code",
   "execution_count": 20,
   "id": "d88e9ff1",
   "metadata": {},
   "outputs": [
    {
     "data": {
      "text/plain": [
       "7"
      ]
     },
     "execution_count": 20,
     "metadata": {},
     "output_type": "execute_result"
    }
   ],
   "source": [
    "missing_num([10, 5, 1, 2, 4, 6, 8, 3, 9])"
   ]
  }
 ],
 "metadata": {
  "kernelspec": {
   "display_name": "Python 3 (ipykernel)",
   "language": "python",
   "name": "python3"
  },
  "language_info": {
   "codemirror_mode": {
    "name": "ipython",
    "version": 3
   },
   "file_extension": ".py",
   "mimetype": "text/x-python",
   "name": "python",
   "nbconvert_exporter": "python",
   "pygments_lexer": "ipython3",
   "version": "3.9.7"
  }
 },
 "nbformat": 4,
 "nbformat_minor": 5
}
