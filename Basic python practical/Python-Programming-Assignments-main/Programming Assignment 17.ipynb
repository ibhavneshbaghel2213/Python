{
 "cells": [
  {
   "cell_type": "markdown",
   "id": "35d0aa7d",
   "metadata": {},
   "source": [
    "<b>Question1. Create a function that takes three arguments a, b, c and returns the sum of the\n",
    "numbers that are evenly divided by c from the range a, b inclusive.<b>\n",
    "Examples\n",
    "    \n",
    "    evenly_divisible(1, 10, 20) ➞ 0\n",
    "    \n",
    "    No number between 1 and 10 can be evenly divided by 20.\n",
    "\n",
    "    evenly_divisible(1, 10, 2) ➞ 30\n",
    "\n",
    "    2 + 4 + 6 + 8 + 10 = 30\n",
    "\n",
    "    evenly_divisible(1, 10, 3) ➞ 18\n",
    "\n",
    "    3 + 6 + 9 = 18"
   ]
  },
  {
   "cell_type": "code",
   "execution_count": 17,
   "id": "83fd0741",
   "metadata": {},
   "outputs": [],
   "source": [
    "def evenly_disible(a,b,c):\n",
    "    sum = 0\n",
    "    if b >= c:\n",
    "        for i in range(a,b+1):\n",
    "            if i%c == 0 :\n",
    "                sum+=i\n",
    "        return sum\n",
    "    else:\n",
    "        print(\"No number between \",a, \" and \" ,b,\" can be divided by \",c)\n",
    "            \n",
    "            "
   ]
  },
  {
   "cell_type": "code",
   "execution_count": 20,
   "id": "52ee82ae",
   "metadata": {},
   "outputs": [
    {
     "name": "stdout",
     "output_type": "stream",
     "text": [
      "No number between  1  and  10  can be divided by  20\n"
     ]
    }
   ],
   "source": [
    "evenly_disible(1,10,20)"
   ]
  },
  {
   "cell_type": "markdown",
   "id": "5a7ab439",
   "metadata": {},
   "source": [
    "<b>Question2. Create a function that returns True if a given inequality expression is correct and\n",
    "False otherwise.<b>\n",
    "Examples\n",
    "    \n",
    "correct_signs(&quot;3 &lt; 7 &lt; 11&quot;) ➞ True\n",
    "    \n",
    "correct_signs(&quot;13 &gt; 44 &gt; 33 &gt; 1&quot;) ➞ False\n",
    "    \n",
    "correct_signs(&quot;1 &lt; 2 &lt; 6 &lt; 9 &gt; 3&quot;) ➞ True"
   ]
  },
  {
   "cell_type": "code",
   "execution_count": 7,
   "id": "f152e22f",
   "metadata": {},
   "outputs": [],
   "source": [
    "def correct_signs(expression = str):\n",
    "    if eval(expression):\n",
    "        return True\n",
    "    return False"
   ]
  },
  {
   "cell_type": "code",
   "execution_count": 9,
   "id": "f4d3ffd4",
   "metadata": {},
   "outputs": [
    {
     "data": {
      "text/plain": [
       "True"
      ]
     },
     "execution_count": 9,
     "metadata": {},
     "output_type": "execute_result"
    }
   ],
   "source": [
    "correct_signs(\"1 < 2 < 6 < 9 > 3\")"
   ]
  },
  {
   "cell_type": "markdown",
   "id": "6c2915ad",
   "metadata": {},
   "source": [
    "<b>Question3. Create a function that replaces all the vowels in a string with a specified character.<b>\n",
    "    \n",
    "Examples\n",
    "\n",
    "    replace_vowels(&quot;the aardvark&quot;, &quot;#&quot;) ➞ &quot;th# ##rdv#rk&quot;\n",
    "\n",
    "    replace_vowels(&quot;minnie mouse&quot;, &quot;?&quot;) ➞ &quot;m?nn?? m??s?&quot;\n",
    "\n",
    "    replace_vowels(&quot;shakespeare&quot;, &quot;*&quot;) ➞ &quot;sh*k*sp**r*&quot;"
   ]
  },
  {
   "cell_type": "code",
   "execution_count": 6,
   "id": "80c0085f",
   "metadata": {},
   "outputs": [],
   "source": [
    "def replace_vowels(a=str,b=str):\n",
    "    lis = ['a','e','i','o','u']\n",
    "    for i in lis:\n",
    "        a = a.replace(i,b)\n",
    "    return a"
   ]
  },
  {
   "cell_type": "code",
   "execution_count": 7,
   "id": "69057384",
   "metadata": {},
   "outputs": [
    {
     "data": {
      "text/plain": [
       "'th# ##rdv#rk'"
      ]
     },
     "execution_count": 7,
     "metadata": {},
     "output_type": "execute_result"
    }
   ],
   "source": [
    "replace_vowels(\"the aardvark\",\"#\")"
   ]
  },
  {
   "cell_type": "markdown",
   "id": "dcd6b019",
   "metadata": {},
   "source": [
    "<b>Question4. Write a function that calculates the factorial of a number recursively.<b>\n",
    "    \n",
    "Examples\n",
    "factorial(5) ➞ 120\n",
    "    \n",
    "factorial(3) ➞ 6\n",
    "    \n",
    "factorial(1) ➞ 1\n",
    "\n",
    "factorial(0) ➞ 1"
   ]
  },
  {
   "cell_type": "code",
   "execution_count": 1,
   "id": "5cce85ea",
   "metadata": {},
   "outputs": [],
   "source": [
    "def factorial(number):\n",
    "    if number == 1 or number == 0:\n",
    "        return 1\n",
    "    else:\n",
    "        return number*factorial(number-1)\n",
    "    "
   ]
  },
  {
   "cell_type": "code",
   "execution_count": 5,
   "id": "38769ffd",
   "metadata": {},
   "outputs": [
    {
     "data": {
      "text/plain": [
       "6"
      ]
     },
     "execution_count": 5,
     "metadata": {},
     "output_type": "execute_result"
    }
   ],
   "source": [
    "factorial(3)"
   ]
  },
  {
   "cell_type": "markdown",
   "id": "44523676",
   "metadata": {},
   "source": [
    "<b>Question 5\n",
    "Hamming distance is the number of characters that differ between two strings.<b>\n",
    "To illustrate:\n",
    "    \n",
    "String1: &quot;abcbba&quot;\n",
    "    \n",
    "String2: &quot;abcbda&quot;\n",
    "\n",
    "Hamming Distance: 1 - &quot;b&quot; vs. &quot;d&quot; is the only difference.\n",
    "\n",
    "<b>Create a function that computes the hamming distance between two strings.<b>\n",
    "Examples\n",
    "    \n",
    "hamming_distance(&quot;abcde&quot;, &quot;bcdef&quot;) ➞ 5\n",
    "    \n",
    "hamming_distance(&quot;abcde&quot;, &quot;abcde&quot;) ➞ 0\n",
    "    \n",
    "hamming_distance(&quot;strong&quot;, &quot;strung&quot;) ➞ 1"
   ]
  },
  {
   "cell_type": "code",
   "execution_count": 10,
   "id": "1a47c332",
   "metadata": {},
   "outputs": [],
   "source": [
    "def hamming_distance(string1=str,string2=str):\n",
    "    count = 0\n",
    "    for i in range(len(string1)):\n",
    "        if string1[i] != string2[i]:\n",
    "            count+=1\n",
    "    return count\n",
    "    "
   ]
  },
  {
   "cell_type": "code",
   "execution_count": 12,
   "id": "8abc9d4e",
   "metadata": {},
   "outputs": [
    {
     "data": {
      "text/plain": [
       "1"
      ]
     },
     "execution_count": 12,
     "metadata": {},
     "output_type": "execute_result"
    }
   ],
   "source": [
    "hamming_distance(\"strong\", \"strung\") "
   ]
  }
 ],
 "metadata": {
  "kernelspec": {
   "display_name": "Python 3 (ipykernel)",
   "language": "python",
   "name": "python3"
  },
  "language_info": {
   "codemirror_mode": {
    "name": "ipython",
    "version": 3
   },
   "file_extension": ".py",
   "mimetype": "text/x-python",
   "name": "python",
   "nbconvert_exporter": "python",
   "pygments_lexer": "ipython3",
   "version": "3.9.7"
  }
 },
 "nbformat": 4,
 "nbformat_minor": 5
}
