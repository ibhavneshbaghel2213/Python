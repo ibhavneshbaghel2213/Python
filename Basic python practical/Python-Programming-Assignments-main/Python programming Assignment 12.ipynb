{
 "cells": [
  {
   "cell_type": "markdown",
   "id": "b2445f54",
   "metadata": {},
   "source": [
    "<b>1. Write a Python program to Extract Unique values dictionary values?</b>"
   ]
  },
  {
   "cell_type": "code",
   "execution_count": 1,
   "id": "d433df1c",
   "metadata": {},
   "outputs": [
    {
     "data": {
      "text/plain": [
       "[1, 2, 3, 4, 5, 7, 8, 9, 6]"
      ]
     },
     "execution_count": 1,
     "metadata": {},
     "output_type": "execute_result"
    }
   ],
   "source": [
    "def Unique_val(D=dict):\n",
    "    try:\n",
    "        result = []\n",
    "        for i in D.values():\n",
    "            for j in i:\n",
    "                if j not in result:\n",
    "                    result.append(j)\n",
    "        return result\n",
    "    except Exception as E:\n",
    "        print(\"try to pass a dictionary.\")\n",
    "\n",
    "dict  = {\n",
    "    \"1\":[1,2,3,4,5],\n",
    "    \"2\":[1,4,7,8,9],\n",
    "    \"3\":[5,7,8,9,4,5,6]\n",
    "}\n",
    "\n",
    "\n",
    "Unique_val(dict)\n",
    "    "
   ]
  },
  {
   "cell_type": "markdown",
   "id": "011d840e",
   "metadata": {},
   "source": [
    "<b>2. Write a Python program to find the sum of all items in a dictionary?</b>"
   ]
  },
  {
   "cell_type": "code",
   "execution_count": 15,
   "id": "6f9a8ffa",
   "metadata": {},
   "outputs": [
    {
     "data": {
      "text/plain": [
       "146"
      ]
     },
     "execution_count": 15,
     "metadata": {},
     "output_type": "execute_result"
    }
   ],
   "source": [
    "def sum_of_all(D=dict):\n",
    "    try:\n",
    "        return sum(D.values())\n",
    "    except Exception as E:\n",
    "        print(\"try to pass a dictionary.\")\n",
    "        \n",
    "dict  = {\n",
    "    \"1\":34,\n",
    "    \"2\":45,\n",
    "    \"3\":67\n",
    "}\n",
    "sum_of_all(dict)"
   ]
  },
  {
   "cell_type": "markdown",
   "id": "f4708e26",
   "metadata": {},
   "source": [
    "\n",
    "<b>3. Write a Python program to Merging two Dictionaries?</b>"
   ]
  },
  {
   "cell_type": "code",
   "execution_count": 2,
   "id": "7a731d80",
   "metadata": {},
   "outputs": [
    {
     "data": {
      "text/plain": [
       "{'1': 23, '2': 45, '3': 67, '5': 89, '7': 89, '8': 89}"
      ]
     },
     "execution_count": 2,
     "metadata": {},
     "output_type": "execute_result"
    }
   ],
   "source": [
    "def dict_merger(D1,D2):\n",
    "    result = D1\n",
    "    for i in D2.keys():\n",
    "        for j in D2.values():\n",
    "            result.update({i:j})\n",
    "    return result\n",
    " \n",
    "d1 = {\n",
    "    \"1\":23,\n",
    "    \"2\":45,\n",
    "    \"3\":67\n",
    "}\n",
    "d2 = {\n",
    "    \"5\":67,\n",
    "    \"7\":56,\n",
    "    \"8\":89\n",
    "}\n",
    "\n",
    "dict_merger(d1,d2)"
   ]
  },
  {
   "cell_type": "markdown",
   "id": "0abe88f4",
   "metadata": {},
   "source": [
    "<b>5. Write a Python program to insertion at the beginning in OrderedDict?</b>"
   ]
  },
  {
   "cell_type": "code",
   "execution_count": 14,
   "id": "fbeba606",
   "metadata": {},
   "outputs": [
    {
     "name": "stdout",
     "output_type": "stream",
     "text": [
      "OrderedDict([('c', 3), ('a', 1), ('b', 2)])\n"
     ]
    }
   ],
   "source": [
    "from collections import OrderedDict\n",
    "\n",
    "Mydict = OrderedDict([('a',1),('b',2)])\n",
    "Mydict.update({\"c\":3})\n",
    "Mydict.move_to_end(\"c\",last=False)\n",
    "print(Mydict)"
   ]
  },
  {
   "cell_type": "markdown",
   "id": "3f15b5b4",
   "metadata": {},
   "source": [
    "<b>6. Write a Python program to check order of character in string using OrderedDict()?</b>"
   ]
  },
  {
   "cell_type": "code",
   "execution_count": 12,
   "id": "c1b7a114",
   "metadata": {},
   "outputs": [
    {
     "data": {
      "text/plain": [
       "True"
      ]
     },
     "execution_count": 12,
     "metadata": {},
     "output_type": "execute_result"
    }
   ],
   "source": [
    "from collections import OrderedDict\n",
    "\n",
    "def check_order_char(string, pattern):\n",
    "   dict = OrderedDict.fromkeys(string)\n",
    "   p_len = 0\n",
    "   for key,value in dict.items():\n",
    "      if (key == pattern[p_len]):\n",
    "         p_len = p_len + 1\n",
    "\n",
    "      if (p_len == (len(pattern))):\n",
    "         return True\n",
    "\n",
    "   return False\n",
    "\n",
    "a = \"Hello ineuron\"\n",
    "b = \"in\"\n",
    "check_order_char(a,b)"
   ]
  },
  {
   "cell_type": "code",
   "execution_count": 6,
   "id": "52b6cea4",
   "metadata": {},
   "outputs": [
    {
     "data": {
      "text/plain": [
       "'The order of pattern is correct'"
      ]
     },
     "execution_count": 6,
     "metadata": {},
     "output_type": "execute_result"
    }
   ],
   "source": []
  },
  {
   "cell_type": "markdown",
   "id": "7a27ffac",
   "metadata": {},
   "source": [
    "<b>7. Write a Python program to sort Python Dictionaries by Key or Value?</b>"
   ]
  },
  {
   "cell_type": "code",
   "execution_count": 20,
   "id": "7b97170d",
   "metadata": {},
   "outputs": [
    {
     "name": "stdout",
     "output_type": "stream",
     "text": [
      "1 2 3 4 5 "
     ]
    }
   ],
   "source": [
    "def sort_dict(D):\n",
    "    new_D = sorted(D)\n",
    "    for i in new_D:\n",
    "        print((i), end=' ')\n",
    "        \n",
    "Dict = {\n",
    "    1:11,\n",
    "    3:33,\n",
    "    4:44, \n",
    "    2:22,\n",
    "    5:55\n",
    "}\n",
    "sort_dict(Dict)"
   ]
  },
  {
   "cell_type": "code",
   "execution_count": null,
   "id": "b8143877",
   "metadata": {},
   "outputs": [],
   "source": []
  }
 ],
 "metadata": {
  "kernelspec": {
   "display_name": "Python 3 (ipykernel)",
   "language": "python",
   "name": "python3"
  },
  "language_info": {
   "codemirror_mode": {
    "name": "ipython",
    "version": 3
   },
   "file_extension": ".py",
   "mimetype": "text/x-python",
   "name": "python",
   "nbconvert_exporter": "python",
   "pygments_lexer": "ipython3",
   "version": "3.9.7"
  }
 },
 "nbformat": 4,
 "nbformat_minor": 5
}
