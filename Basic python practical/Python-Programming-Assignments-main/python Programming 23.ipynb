{
 "cells": [
  {
   "cell_type": "markdown",
   "id": "4ba569d9",
   "metadata": {},
   "source": [
    "<b>Question 1\n",
    "Create a function that takes a number as an argument and returns True or False depending\n",
    "on whether the number is symmetrical or not. A number is symmetrical when it is the same as\n",
    "its reverse.<b>\n",
    "\n",
    "    Examples\n",
    "    is_symmetrical(7227) ➞ True\n",
    "    is_symmetrical(12567) ➞ False\n",
    "    is_symmetrical(44444444) ➞ True\n",
    "    is_symmetrical(9939) ➞ False\n",
    "    is_symmetrical(1112111) ➞ True"
   ]
  },
  {
   "cell_type": "code",
   "execution_count": 1,
   "id": "0a4b980a",
   "metadata": {},
   "outputs": [],
   "source": [
    "def is_symmetrical(number):\n",
    "    if str(number) == (str(number))[::-1]:\n",
    "        return True\n",
    "    return False"
   ]
  },
  {
   "cell_type": "code",
   "execution_count": 2,
   "id": "02eee56c",
   "metadata": {},
   "outputs": [
    {
     "data": {
      "text/plain": [
       "True"
      ]
     },
     "execution_count": 2,
     "metadata": {},
     "output_type": "execute_result"
    }
   ],
   "source": [
    "num = 1112111\n",
    "is_symmetrical(num)"
   ]
  },
  {
   "cell_type": "markdown",
   "id": "213ef80d",
   "metadata": {},
   "source": [
    "<b>Question 2\n",
    "Given a string of numbers separated by a comma and space, return the product of the\n",
    "numbers.<b>\n",
    "    \n",
    "    Examples\n",
    "    multiply_nums(&quot;2, 3&quot;) ➞ 6\n",
    "    multiply_nums(&quot;1, 2, 3, 4&quot;) ➞ 24\n",
    "    multiply_nums(&quot;54, 75, 453, 0&quot;) ➞ 0\n",
    "    multiply_nums(&quot;10, -2&quot;) ➞ -20"
   ]
  },
  {
   "cell_type": "code",
   "execution_count": 3,
   "id": "9aff295f",
   "metadata": {},
   "outputs": [],
   "source": [
    "\n",
    "def multiply_num(string=str):\n",
    "    result = 1\n",
    "    split = string.split(\",\")\n",
    "    for i in split:\n",
    "        result*=int(i)\n",
    "    return result"
   ]
  },
  {
   "cell_type": "code",
   "execution_count": 4,
   "id": "9699e2e0",
   "metadata": {},
   "outputs": [
    {
     "data": {
      "text/plain": [
       "24"
      ]
     },
     "execution_count": 4,
     "metadata": {},
     "output_type": "execute_result"
    }
   ],
   "source": [
    "string = \"1,2,3,4\"\n",
    "multiply_num(string)"
   ]
  },
  {
   "cell_type": "markdown",
   "id": "fa1e05c3",
   "metadata": {},
   "source": [
    "<b>Question 3\n",
    "Create a function that squares every digit of a number.<b>\n",
    "Examples\n",
    "    \n",
    "    square_digits(9119) ➞ 811181\n",
    "    square_digits(2483) ➞ 416649\n",
    "    square_digits(3212) ➞ 9414"
   ]
  },
  {
   "cell_type": "code",
   "execution_count": 5,
   "id": "1c15ec92",
   "metadata": {},
   "outputs": [],
   "source": [
    "def square_digits(number):\n",
    "    result = \"\"\n",
    "    for i in str(number):\n",
    "        result+=str(int(i)**2)\n",
    "    return int(result)\n",
    "        "
   ]
  },
  {
   "cell_type": "code",
   "execution_count": 6,
   "id": "283a8394",
   "metadata": {},
   "outputs": [
    {
     "data": {
      "text/plain": [
       "9414"
      ]
     },
     "execution_count": 6,
     "metadata": {},
     "output_type": "execute_result"
    }
   ],
   "source": [
    "square_digits(3212)"
   ]
  },
  {
   "cell_type": "markdown",
   "id": "f736aef8",
   "metadata": {},
   "source": [
    "<b>Question 4\n",
    "Create a function that sorts a list and removes all duplicate items from it.<b>\n",
    "\n",
    "        Examples\n",
    "    setify([1, 3, 3, 5, 5]) ➞ [1, 3, 5]\n",
    "    setify([4, 4, 4, 4]) ➞ [4]\n",
    "    setify([5, 7, 8, 9, 10, 15]) ➞ [5, 7, 8, 9, 10, 15]\n",
    "    setify([3, 3, 3, 2, 1]) ➞ [1, 2, 3]"
   ]
  },
  {
   "cell_type": "code",
   "execution_count": 7,
   "id": "abbd4747",
   "metadata": {},
   "outputs": [],
   "source": [
    "def setify(lis):\n",
    "    return list(set(sorted(lis)))"
   ]
  },
  {
   "cell_type": "code",
   "execution_count": 8,
   "id": "83f7c2aa",
   "metadata": {},
   "outputs": [
    {
     "data": {
      "text/plain": [
       "[1, 2, 3]"
      ]
     },
     "execution_count": 8,
     "metadata": {},
     "output_type": "execute_result"
    }
   ],
   "source": [
    "setify([3, 3, 3, 2, 1])"
   ]
  },
  {
   "cell_type": "markdown",
   "id": "3f65570c",
   "metadata": {},
   "source": [
    "<b>Question 5\n",
    "Create a function that returns the mean of all digits.<b>\n",
    "  \n",
    "    Examples\n",
    "    mean(42) ➞ 3\n",
    "    mean(12345) ➞ 3\n",
    "    mean(666) ➞ 6"
   ]
  },
  {
   "cell_type": "code",
   "execution_count": 9,
   "id": "b693a33b",
   "metadata": {},
   "outputs": [],
   "source": [
    "def mean(num):\n",
    "    res = 0\n",
    "    for i in str(num):\n",
    "        res+=int(i)\n",
    "    return res//len(str(num))"
   ]
  },
  {
   "cell_type": "code",
   "execution_count": 10,
   "id": "0bf4cf12",
   "metadata": {},
   "outputs": [
    {
     "data": {
      "text/plain": [
       "6"
      ]
     },
     "execution_count": 10,
     "metadata": {},
     "output_type": "execute_result"
    }
   ],
   "source": [
    "mean(666)"
   ]
  },
  {
   "cell_type": "code",
   "execution_count": null,
   "id": "1ef19669",
   "metadata": {},
   "outputs": [],
   "source": []
  }
 ],
 "metadata": {
  "kernelspec": {
   "display_name": "Python 3 (ipykernel)",
   "language": "python",
   "name": "python3"
  },
  "language_info": {
   "codemirror_mode": {
    "name": "ipython",
    "version": 3
   },
   "file_extension": ".py",
   "mimetype": "text/x-python",
   "name": "python",
   "nbconvert_exporter": "python",
   "pygments_lexer": "ipython3",
   "version": "3.9.7"
  }
 },
 "nbformat": 4,
 "nbformat_minor": 5
}
