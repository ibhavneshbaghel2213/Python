{
 "cells": [
  {
   "cell_type": "markdown",
   "id": "8d1aea46",
   "metadata": {},
   "source": [
    "<b>1. Write a Python Program to Find the Factorial of a Number?</b>"
   ]
  },
  {
   "cell_type": "code",
   "execution_count": 7,
   "id": "6c981fd9",
   "metadata": {},
   "outputs": [
    {
     "name": "stdout",
     "output_type": "stream",
     "text": [
      "Enter a number: 5\n"
     ]
    },
    {
     "data": {
      "text/plain": [
       "120"
      ]
     },
     "execution_count": 7,
     "metadata": {},
     "output_type": "execute_result"
    }
   ],
   "source": [
    "def fact(a):\n",
    "    if a == 1:\n",
    "        return 1\n",
    "    else:\n",
    "        result = 1\n",
    "        for i in range(a,0,-1):\n",
    "            result=result*i\n",
    "        return result\n",
    "    \n",
    "n = int(input(\"Enter a number: \"))\n",
    "fact(n)\n",
    "            \n",
    "    "
   ]
  },
  {
   "cell_type": "markdown",
   "id": "a4f9c81c",
   "metadata": {},
   "source": [
    "<b>2. Write a Python Program to Display the multiplication Table?</b>"
   ]
  },
  {
   "cell_type": "code",
   "execution_count": 20,
   "id": "8db8f8cc",
   "metadata": {},
   "outputs": [
    {
     "name": "stdout",
     "output_type": "stream",
     "text": [
      "Enter a number: 5\n",
      "5  x  1  =  5\n",
      "5  x  2  =  10\n",
      "5  x  3  =  15\n",
      "5  x  4  =  20\n",
      "5  x  5  =  25\n",
      "5  x  6  =  30\n",
      "5  x  7  =  35\n",
      "5  x  8  =  40\n",
      "5  x  9  =  45\n",
      "5  x  10  =  50\n"
     ]
    }
   ],
   "source": [
    "def mulTable(a):\n",
    "    for i in range(1,11):\n",
    "        print(a,\" x \",i,\" = \",a*i)\n",
    "\n",
    "n = int(input(\"Enter a number: \"))\n",
    "mulTable(n)"
   ]
  },
  {
   "cell_type": "markdown",
   "id": "4f01c946",
   "metadata": {},
   "source": [
    "<b>3. Write a Python Program to Print the Fibonacci sequence?</b>"
   ]
  },
  {
   "cell_type": "code",
   "execution_count": 32,
   "id": "f239ae21",
   "metadata": {},
   "outputs": [],
   "source": [
    "def fibo(a):\n",
    "    num1 = 0\n",
    "    num2 = 1\n",
    "    lis = [num1]\n",
    "    \n",
    "    for i in range(a):\n",
    "        lis.append(num2)\n",
    "        num1, num2 = num2, num1+num2\n",
    "    return lis\n",
    "        \n",
    "    \n",
    "    "
   ]
  },
  {
   "cell_type": "code",
   "execution_count": 33,
   "id": "667822b3",
   "metadata": {},
   "outputs": [
    {
     "data": {
      "text/plain": [
       "[0, 1, 1, 2, 3, 5, 8, 13, 21, 34, 55]"
      ]
     },
     "execution_count": 33,
     "metadata": {},
     "output_type": "execute_result"
    }
   ],
   "source": [
    "fibo(10)"
   ]
  },
  {
   "cell_type": "markdown",
   "id": "429815de",
   "metadata": {},
   "source": [
    "<b>4. Write a Python Program to Check Armstrong Number?</b>"
   ]
  },
  {
   "cell_type": "code",
   "execution_count": 40,
   "id": "43693d37",
   "metadata": {},
   "outputs": [
    {
     "name": "stdout",
     "output_type": "stream",
     "text": [
      "153\n",
      "153  is armstrong number\n"
     ]
    }
   ],
   "source": [
    "def armStrong(a):\n",
    "    a1,a2,a3 = a%10, (a//10)%10, a//100\n",
    "    sum = a1**3 + a2**3 + a3**3\n",
    "    if sum == a:\n",
    "        print(a,\" is armstrong number\")\n",
    "    else:\n",
    "        print(a, \" is not armstrong number\")\n",
    "n = int(input())\n",
    "armStrong(n)\n",
    "    "
   ]
  },
  {
   "cell_type": "markdown",
   "id": "a004bec1",
   "metadata": {},
   "source": [
    "<b>5. Write a Python Program to Find Armstrong Number in an Interval?</b>"
   ]
  },
  {
   "cell_type": "code",
   "execution_count": 53,
   "id": "1c7b43f4",
   "metadata": {},
   "outputs": [
    {
     "name": "stdout",
     "output_type": "stream",
     "text": [
      "Enter a upper bound: 100\n",
      "Enter a lower bound: 1000\n",
      "153\n",
      "370\n",
      "371\n",
      "407\n"
     ]
    }
   ],
   "source": [
    "def armstronginterval(x,y):\n",
    "    for num in range(x,y + 1):\n",
    "       order = len(str(num))\n",
    "       count = 0\n",
    "       a = num\n",
    "       while a > 0:\n",
    "           digit = a % 10\n",
    "           count += digit ** order\n",
    "           a //= 10\n",
    "\n",
    "       if num == count:\n",
    "           print(num)\n",
    "            \n",
    "x = int(input(\"Enter a upper bound: \"))\n",
    "y = int(input(\"Enter a lower bound: \"))\n",
    "armstronginterval(x,y)"
   ]
  }
 ],
 "metadata": {
  "kernelspec": {
   "display_name": "Python 3 (ipykernel)",
   "language": "python",
   "name": "python3"
  },
  "language_info": {
   "codemirror_mode": {
    "name": "ipython",
    "version": 3
   },
   "file_extension": ".py",
   "mimetype": "text/x-python",
   "name": "python",
   "nbconvert_exporter": "python",
   "pygments_lexer": "ipython3",
   "version": "3.9.7"
  }
 },
 "nbformat": 4,
 "nbformat_minor": 5
}
