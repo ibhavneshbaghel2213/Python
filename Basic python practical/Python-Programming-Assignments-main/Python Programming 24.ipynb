{
 "cells": [
  {
   "cell_type": "markdown",
   "id": "962030d6",
   "metadata": {},
   "source": [
    "<b>Question1\n",
    "Create a function that takes an integer and returns a list from 1 to the given number, where:<b>\n",
    "1. If the number can be divided evenly by 4, amplify it by 10 (i.e. return 10 times the\n",
    "number).\n",
    "2. If the number cannot be divided evenly by 4, simply return the number.\n",
    "\n",
    "    Examples\n",
    "    \n",
    "    amplify(4) ➞ [1, 2, 3, 40]\n",
    "    \n",
    "    amplify(3) ➞ [1, 2, 3]\n",
    "    \n",
    "    amplify(25) ➞ [1, 2, 3, 40, 5, 6, 7, 80, 9, 10, 11, 120, 13, 14, 15, 160,\n",
    "    17, 18, 19, 200, 21, 22, 23, 240, 25]"
   ]
  },
  {
   "cell_type": "code",
   "execution_count": 42,
   "id": "5571b068",
   "metadata": {},
   "outputs": [],
   "source": [
    "def amplify(num):\n",
    "    print([i*10 if i%4==0 else i for i in range(1,num+1)])\n",
    "    return "
   ]
  },
  {
   "cell_type": "code",
   "execution_count": 43,
   "id": "b6c079dd",
   "metadata": {},
   "outputs": [
    {
     "name": "stdout",
     "output_type": "stream",
     "text": [
      "[1, 2, 3, 40, 5, 6, 7, 80, 9, 10, 11, 120, 13, 14, 15, 160, 17, 18, 19, 200, 21, 22, 23, 240, 25]\n"
     ]
    }
   ],
   "source": [
    "amplify(25)"
   ]
  },
  {
   "cell_type": "markdown",
   "id": "b452e44e",
   "metadata": {},
   "source": [
    "<b>Question2\n",
    "Create a function that takes a list of numbers and return the number that&#39;s unique.<b>\n",
    "Examples\n",
    "    \n",
    "    unique([3, 3, 3, 7, 3, 3]) ➞ 7\n",
    "    unique([0, 0, 0.77, 0, 0]) ➞ 0.77\n",
    "    unique([0, 1, 1, 1, 1, 1, 1, 1]) ➞ 0"
   ]
  },
  {
   "cell_type": "code",
   "execution_count": 44,
   "id": "70cc8404",
   "metadata": {},
   "outputs": [],
   "source": [
    "def unique(lis):\n",
    "    for i in lis:\n",
    "        if lis.count(i) == 1:\n",
    "            return i"
   ]
  },
  {
   "cell_type": "code",
   "execution_count": 46,
   "id": "ccc07907",
   "metadata": {},
   "outputs": [
    {
     "data": {
      "text/plain": [
       "0"
      ]
     },
     "execution_count": 46,
     "metadata": {},
     "output_type": "execute_result"
    }
   ],
   "source": [
    "unique([0, 1, 1, 1, 1, 1, 1, 1])"
   ]
  },
  {
   "cell_type": "markdown",
   "id": "b78f85b7",
   "metadata": {},
   "source": [
    "<b>Question3\n",
    "Your task is to create a Circle constructor that creates a circle with a radius provided by an\n",
    "argument. The circles constructed must have two getters getArea() (PIr^2) and\n",
    "getPerimeter() (2PI*r) which give both respective areas and perimeter (circumference).<b>\n",
    "\n",
    "    For help with this class, I have provided you with a Rectangle constructor which you can use\n",
    "    as a base example.\n",
    "    Examples\n",
    "    circy = Circle(11)\n",
    "    circy.getArea()\n",
    "    Should return 380.132711084365\n",
    "    circy = Circle(4.44)\n",
    "    circy.getPerimeter()\n",
    "    Should return 27.897342763877365"
   ]
  },
  {
   "cell_type": "code",
   "execution_count": 51,
   "id": "48f3a8ce",
   "metadata": {},
   "outputs": [],
   "source": [
    "import math as m\n",
    "\n",
    "class Circle:\n",
    "    def __init__(self,radius):\n",
    "        self.radius = radius\n",
    "        \n",
    "    def getArea(self):\n",
    "        return m.pi*m.pow(self.radius,2)\n",
    "    \n",
    "    def getPerimeter(self):\n",
    "        return 2*m.pi*self.radius\n"
   ]
  },
  {
   "cell_type": "code",
   "execution_count": 52,
   "id": "d915b1a5",
   "metadata": {},
   "outputs": [
    {
     "data": {
      "text/plain": [
       "380.132711084365"
      ]
     },
     "execution_count": 52,
     "metadata": {},
     "output_type": "execute_result"
    }
   ],
   "source": [
    "circy = Circle(11)\n",
    "circy.getArea()"
   ]
  },
  {
   "cell_type": "code",
   "execution_count": 53,
   "id": "7e048ed5",
   "metadata": {},
   "outputs": [
    {
     "data": {
      "text/plain": [
       "27.897342763877365"
      ]
     },
     "execution_count": 53,
     "metadata": {},
     "output_type": "execute_result"
    }
   ],
   "source": [
    "circy = Circle(4.44)\n",
    "circy.getPerimeter()"
   ]
  },
  {
   "cell_type": "markdown",
   "id": "083e5ffd",
   "metadata": {},
   "source": [
    "<b>Question4\n",
    "Create a function that takes a list of strings and return a list, sorted from shortest to longest.<b>\n",
    "    Examples\n",
    "    sort_by_length([&quot;Google&quot;, &quot;Apple&quot;, &quot;Microsoft&quot;])\n",
    "    ➞ [&quot;Apple&quot;, &quot;Google&quot;, &quot;Microsoft&quot;]\n",
    "    sort_by_length([&quot;Leonardo&quot;, &quot;Michelangelo&quot;, &quot;Raphael&quot;, &quot;Donatello&quot;])\n",
    "    ➞ [&quot;Raphael&quot;, &quot;Leonardo&quot;, &quot;Donatello&quot;, &quot;Michelangelo&quot;]\n",
    "    sort_by_length([&quot;Turing&quot;, &quot;Einstein&quot;, &quot;Jung&quot;])\n",
    "    ➞ [&quot;Jung&quot;, &quot;Turing&quot;, &quot;Einstein&quot;]"
   ]
  },
  {
   "cell_type": "code",
   "execution_count": 90,
   "id": "ec9256cd",
   "metadata": {},
   "outputs": [],
   "source": [
    "def sort_by_length(lis):\n",
    "    return sorted(lis,key=len)"
   ]
  },
  {
   "cell_type": "code",
   "execution_count": 91,
   "id": "412f80a2",
   "metadata": {},
   "outputs": [
    {
     "data": {
      "text/plain": [
       "['Jung', 'Turing', 'Einstein']"
      ]
     },
     "execution_count": 91,
     "metadata": {},
     "output_type": "execute_result"
    }
   ],
   "source": [
    "sort_by_length([\"Turing\", \"Einstein\", \"Jung\"])"
   ]
  },
  {
   "cell_type": "markdown",
   "id": "66b6b2b1",
   "metadata": {},
   "source": [
    "<b>Question5\n",
    "Create a function that validates whether three given integers form a Pythagorean triplet. The\n",
    "sum of the squares of the two smallest integers must equal the square of the largest number to\n",
    "be validated.<b>\n",
    "\n",
    "    Examples\n",
    "    is_triplet(3, 4, 5) ➞ True\n",
    "    3² + 4² = 25\n",
    "    5² = 25\n",
    "    is_triplet(13, 5, 12) ➞ True\n",
    "    5² + 12² = 169\n",
    "    13² = 169\n",
    "    is_triplet(1, 2, 3) ➞ False\n",
    "     1² + 2² = 5\n",
    "     3² = 9"
   ]
  },
  {
   "cell_type": "code",
   "execution_count": 97,
   "id": "fadc74ad",
   "metadata": {},
   "outputs": [],
   "source": [
    "def is_triplet(num1,num2,num3):\n",
    "    lis = sorted([num1, num2, num3])\n",
    "    if lis[0]**2 + lis[1]**2 == lis[2]**2:\n",
    "        return True\n",
    "    return False"
   ]
  },
  {
   "cell_type": "code",
   "execution_count": 99,
   "id": "1f6fe3e7",
   "metadata": {},
   "outputs": [
    {
     "data": {
      "text/plain": [
       "True"
      ]
     },
     "execution_count": 99,
     "metadata": {},
     "output_type": "execute_result"
    }
   ],
   "source": [
    "is_triplet(3,4,5)"
   ]
  },
  {
   "cell_type": "code",
   "execution_count": null,
   "id": "b5263a97",
   "metadata": {},
   "outputs": [],
   "source": []
  }
 ],
 "metadata": {
  "kernelspec": {
   "display_name": "Python 3 (ipykernel)",
   "language": "python",
   "name": "python3"
  },
  "language_info": {
   "codemirror_mode": {
    "name": "ipython",
    "version": 3
   },
   "file_extension": ".py",
   "mimetype": "text/x-python",
   "name": "python",
   "nbconvert_exporter": "python",
   "pygments_lexer": "ipython3",
   "version": "3.9.7"
  }
 },
 "nbformat": 4,
 "nbformat_minor": 5
}
