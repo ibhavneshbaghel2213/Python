{
 "cells": [
  {
   "cell_type": "markdown",
   "id": "8d0c9051",
   "metadata": {},
   "source": [
    "<b>Question1\n",
    "Write a function that takes a list and a number as arguments. Add the number to the end of\n",
    "the list, then remove the first element of the list. The function should then return the updated\n",
    "list.<b>\n",
    "    Examples\n",
    "    \n",
    "    next_in_line([5, 6, 7, 8, 9], 1) ➞ [6, 7, 8, 9, 1]\n",
    "    next_in_line([7, 6, 3, 23, 17], 10) ➞ [6, 3, 23, 17, 10]\n",
    "    next_in_line([1, 10, 20, 42 ], 6) ➞ [10, 20, 42, 6]\n",
    "    next_in_line([], 6) ➞ &quot;No list has been selected&quot;"
   ]
  },
  {
   "cell_type": "code",
   "execution_count": 1,
   "id": "cecd0bba",
   "metadata": {},
   "outputs": [],
   "source": [
    "def next_in_line(lst=list,number=int):\n",
    "    if len(lst) != 0:\n",
    "        result = lst\n",
    "        result.append(number)\n",
    "        return result[1::]\n",
    "    else:\n",
    "        return \"No list has been selected\""
   ]
  },
  {
   "cell_type": "code",
   "execution_count": 2,
   "id": "25acd87a",
   "metadata": {},
   "outputs": [
    {
     "data": {
      "text/plain": [
       "[6, 7, 8, 9, 1]"
      ]
     },
     "execution_count": 2,
     "metadata": {},
     "output_type": "execute_result"
    }
   ],
   "source": [
    "next_in_line([5,6,7,8,9],1)"
   ]
  },
  {
   "cell_type": "markdown",
   "id": "6b045103",
   "metadata": {},
   "source": [
    "<b>Question2\n",
    "Create the function that takes a list of dictionaries and returns the sum of people&#39;s budgets.<b>\n",
    "    \n",
    "Examples\n",
    "    \n",
    "     get_budgets([\n",
    "    { &quot;name&quot;: &quot;John&quot;, &quot;age&quot;: 21, &quot;budget&quot;: 23000 },\n",
    "    { &quot;name&quot;: &quot;Steve&quot;, &quot;age&quot;: 32, &quot;budget&quot;: 40000 },\n",
    "    { &quot;name&quot;: &quot;Martin&quot;, &quot;age&quot;: 16, &quot;budget&quot;: 2700 }\n",
    "    ]) ➞ 65700\n",
    "    get_budgets([\n",
    "    { &quot;name&quot;: &quot;John&quot;, &quot;age&quot;: 21, &quot;budget&quot;: 29000 },\n",
    "    { &quot;name&quot;: &quot;Steve&quot;, &quot;age&quot;: 32, &quot;budget&quot;: 32000 },\n",
    "    { &quot;name&quot;: &quot;Martin&quot;, &quot;age&quot;: 16, &quot;budget&quot;: 1600 }"
   ]
  },
  {
   "cell_type": "code",
   "execution_count": 3,
   "id": "5c09ed4f",
   "metadata": {},
   "outputs": [],
   "source": [
    "def get_budget(lst) :\n",
    "    count = 0\n",
    "    for i in lst:\n",
    "        count+=i[\"budget\"]\n",
    "    return count"
   ]
  },
  {
   "cell_type": "code",
   "execution_count": 4,
   "id": "61fbf116",
   "metadata": {},
   "outputs": [
    {
     "data": {
      "text/plain": [
       "65700"
      ]
     },
     "execution_count": 4,
     "metadata": {},
     "output_type": "execute_result"
    }
   ],
   "source": [
    "get_budget([{\"name\": \"john\", \"age\": 21, \"budget\": 23000},\n",
    "           {\"name\": \"Steve\", \"age\": 32, \"budget\": 40000},\n",
    "           {\"name\": \"Martin\", \"age\":16, \"budget\": 2700}])"
   ]
  },
  {
   "cell_type": "markdown",
   "id": "3b9e95a6",
   "metadata": {},
   "source": [
    "<b>Question3\n",
    "Create a function that takes a string and returns a string with its letters in alphabetical order.<b>\n",
    "        Examples\n",
    "    \n",
    "    alphabet_soup(&quot;hello&quot;) ➞ &quot;ehllo&quot;\n",
    "    alphabet_soup(&quot;edabit&quot;) ➞ &quot;abdeit&quot;\n",
    "    alphabet_soup(&quot;hacker&quot;) ➞ &quot;acehkr&quot;\n",
    "    alphabet_soup(&quot;geek&quot;) ➞ &quot;eegk&quot;\n",
    "    alphabet_soup(&quot;javascript&quot;) ➞ &quot;aacijprstv&quot;"
   ]
  },
  {
   "cell_type": "code",
   "execution_count": 5,
   "id": "3c072a7f",
   "metadata": {},
   "outputs": [],
   "source": [
    "def alphabet_soup(string):\n",
    "    sorted_string = sorted(string)\n",
    "    return \"\".join(sorted_string)"
   ]
  },
  {
   "cell_type": "code",
   "execution_count": 6,
   "id": "c4ce4497",
   "metadata": {},
   "outputs": [
    {
     "data": {
      "text/plain": [
       "'ehllo'"
      ]
     },
     "execution_count": 6,
     "metadata": {},
     "output_type": "execute_result"
    }
   ],
   "source": [
    "alphabet_soup(\"hello\")"
   ]
  },
  {
   "cell_type": "markdown",
   "id": "f94f093f",
   "metadata": {},
   "source": [
    "<b>Question4\n",
    "Suppose that you invest $10,000 for 10 years at an interest rate of 6% compounded monthly.\n",
    "What will be the value of your investment at the end of the 10 year period?\n",
    "Create a function that accepts the principal p, the term in years t, the interest rate r, and the\n",
    "number of compounding periods per year n. The function returns the value at the end of term\n",
    "rounded to the nearest cent.<b>\n",
    "For the example above:\n",
    "\n",
    "    compound_interest(10000, 10, 0.06, 12) ➞ 18193.97\n",
    "    Note that the interest rate is given as a decimal and n=12 because with monthly compounding\n",
    "    there are 12 periods per year. Compounding can also be done annually, quarterly, weekly, or\n",
    "    daily."
   ]
  },
  {
   "cell_type": "code",
   "execution_count": 7,
   "id": "7dc41f1d",
   "metadata": {},
   "outputs": [],
   "source": [
    "def compound_interest(principal,time,rate,n):\n",
    "    amount = principal*(1 + (rate/n))**(time*n)\n",
    "    return round(amount,2)"
   ]
  },
  {
   "cell_type": "code",
   "execution_count": 8,
   "id": "2cb371ba",
   "metadata": {},
   "outputs": [
    {
     "data": {
      "text/plain": [
       "18193.97"
      ]
     },
     "execution_count": 8,
     "metadata": {},
     "output_type": "execute_result"
    }
   ],
   "source": [
    "compound_interest(10000,10,0.06,12)"
   ]
  },
  {
   "cell_type": "markdown",
   "id": "cad82ab6",
   "metadata": {},
   "source": [
    "<b>Question5\n",
    "Write a function that takes a list of elements and returns only the integers.<b>\n",
    "    Examples\n",
    "\n",
    "    return_only_integer([9, 2, &quot;space&quot;, &quot;car&quot;, &quot;lion&quot;, 16]) ➞ [9, 2, 16]\n",
    "    return_only_integer([&quot;hello&quot;, 81, &quot;basketball&quot;, 123, &quot;fox&quot;]) ➞ [81, 123]\n",
    "    return_only_integer([10, &quot;121&quot;, 56, 20, &quot;car&quot;, 3, &quot;lion&quot;]) ➞ [10, 56, 20,\n",
    "    3]\n",
    "    return_only_integer([&quot;String&quot;, True, 3.3, 1]) ➞ [1]"
   ]
  },
  {
   "cell_type": "code",
   "execution_count": 9,
   "id": "afefa397",
   "metadata": {},
   "outputs": [],
   "source": [
    "def return_only_integer(lst=list):\n",
    "    return [i for i in lst if type(i) == int]"
   ]
  },
  {
   "cell_type": "code",
   "execution_count": 10,
   "id": "8fc5f430",
   "metadata": {},
   "outputs": [
    {
     "data": {
      "text/plain": [
       "[9, 2, 16]"
      ]
     },
     "execution_count": 10,
     "metadata": {},
     "output_type": "execute_result"
    }
   ],
   "source": [
    "return_only_integer([9, 2, \"space\", \"car\", \"lion\", 16])"
   ]
  },
  {
   "cell_type": "code",
   "execution_count": null,
   "id": "5a0bf25e",
   "metadata": {},
   "outputs": [],
   "source": []
  }
 ],
 "metadata": {
  "kernelspec": {
   "display_name": "Python 3 (ipykernel)",
   "language": "python",
   "name": "python3"
  },
  "language_info": {
   "codemirror_mode": {
    "name": "ipython",
    "version": 3
   },
   "file_extension": ".py",
   "mimetype": "text/x-python",
   "name": "python",
   "nbconvert_exporter": "python",
   "pygments_lexer": "ipython3",
   "version": "3.9.7"
  }
 },
 "nbformat": 4,
 "nbformat_minor": 5
}
