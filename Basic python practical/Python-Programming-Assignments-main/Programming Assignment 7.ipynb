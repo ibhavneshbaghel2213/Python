{
 "cells": [
  {
   "cell_type": "markdown",
   "id": "74979efa",
   "metadata": {},
   "source": [
    "<b>1. Write a Python Program to find sum of array?</b>"
   ]
  },
  {
   "cell_type": "code",
   "execution_count": 1,
   "id": "101cfd8d",
   "metadata": {},
   "outputs": [
    {
     "name": "stdout",
     "output_type": "stream",
     "text": [
      "Enter elements: 10 34 56 78 57 \n",
      "sum of all element is:  235\n"
     ]
    }
   ],
   "source": [
    "array = list(map(int,input('Enter elements: ').strip().split()))\n",
    "sum = 0\n",
    "for i in array:\n",
    "    sum+=i\n",
    "print(\"sum of all element is: \",sum)"
   ]
  },
  {
   "cell_type": "markdown",
   "id": "95d38cb9",
   "metadata": {},
   "source": [
    "<b>2. Write a Python Program to find largest element in an array?</b>"
   ]
  },
  {
   "cell_type": "code",
   "execution_count": 2,
   "id": "5302535c",
   "metadata": {},
   "outputs": [
    {
     "name": "stdout",
     "output_type": "stream",
     "text": [
      "Enter elements: 12 34 56 78 45 36 57\n",
      "largest element in array is:  78\n"
     ]
    }
   ],
   "source": [
    "array1 = list(map(int,input('Enter elements: ').strip().split()))\n",
    "ele = array1[0]\n",
    "for i in range(0,len(array1)):\n",
    "    if array1[i]>ele :\n",
    "        ele = array1[i]\n",
    "print(\"largest element in array is: \",ele)"
   ]
  },
  {
   "cell_type": "markdown",
   "id": "486291b1",
   "metadata": {},
   "source": [
    "<b>3. Write a Python Program for array rotation?</b>"
   ]
  },
  {
   "cell_type": "code",
   "execution_count": 6,
   "id": "97125eb6",
   "metadata": {},
   "outputs": [
    {
     "name": "stdout",
     "output_type": "stream",
     "text": [
      "Enter elements: 1 2 3 4 5 6 7 8 9\n",
      "How many element you want to shift: 4\n",
      "rotated list:  [5, 6, 7, 8, 9, 1, 2, 3, 4]\n"
     ]
    }
   ],
   "source": [
    "array2 = list(map(int,input('Enter elements: ').strip().split()))\n",
    "rot_n = int(input(\"How many element you want to shift: \"))\n",
    "for i in range(rot_n):\n",
    "    for j in range(1,len(array2)):\n",
    "        temp = array2[j]\n",
    "        array2[j] = array2[j-1]\n",
    "        array2[j-1] = temp\n",
    "        \n",
    "print(\"rotated list: \",array2)\n"
   ]
  },
  {
   "cell_type": "markdown",
   "id": "b9b5b9c4",
   "metadata": {},
   "source": [
    "<b>4. Write a Python Program to Split the array and add the first part to the end?</b>"
   ]
  },
  {
   "cell_type": "code",
   "execution_count": 10,
   "id": "bc924361",
   "metadata": {},
   "outputs": [
    {
     "name": "stdout",
     "output_type": "stream",
     "text": [
      "Enter elements: 1 2 3 4 5 6 7 8 9\n",
      "Enter a position you want to split: 5\n",
      "resultant array:  [6, 7, 8, 9, 1, 2, 3, 4, 5]\n"
     ]
    }
   ],
   "source": [
    "array3 = list(map(int,input('Enter elements: ').strip().split()))\n",
    "n = len(array3)\n",
    "position = int(input(\"Enter a position you want to split: \"))\n",
    "arr = array3[:position]\n",
    "print(\"resultant array: \",array3[position::]+arr)\n",
    " "
   ]
  },
  {
   "cell_type": "markdown",
   "id": "21135e08",
   "metadata": {},
   "source": [
    "<b>5. Write a Python Program to check if given array is Monotonic?</b>"
   ]
  },
  {
   "cell_type": "code",
   "execution_count": 13,
   "id": "47338e01",
   "metadata": {},
   "outputs": [
    {
     "name": "stdout",
     "output_type": "stream",
     "text": [
      "Enter elements: 1 2 3 4 32 1\n",
      "False\n"
     ]
    }
   ],
   "source": [
    "array4 = list(map(int,input('Enter elements: ').strip().split()))\n",
    "a,b=0,0 \n",
    "for i in range(len(array4)-1): \n",
    "    if array4[i+1]>array4[i]: \n",
    "         a+=1 \n",
    "    elif array4[i+1]<array4[i]: \n",
    "        b+=1 \n",
    "if 0 in [a,b]: \n",
    "     print(True) \n",
    "else: \n",
    "    print(False) "
   ]
  }
 ],
 "metadata": {
  "kernelspec": {
   "display_name": "Python 3 (ipykernel)",
   "language": "python",
   "name": "python3"
  },
  "language_info": {
   "codemirror_mode": {
    "name": "ipython",
    "version": 3
   },
   "file_extension": ".py",
   "mimetype": "text/x-python",
   "name": "python",
   "nbconvert_exporter": "python",
   "pygments_lexer": "ipython3",
   "version": "3.9.7"
  }
 },
 "nbformat": 4,
 "nbformat_minor": 5
}
