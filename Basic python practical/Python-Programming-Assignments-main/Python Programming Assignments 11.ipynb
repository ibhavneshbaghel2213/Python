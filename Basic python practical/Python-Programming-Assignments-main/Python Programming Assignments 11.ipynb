{
 "cells": [
  {
   "cell_type": "markdown",
   "id": "37a7fdc0",
   "metadata": {},
   "source": [
    "<b>1. Write a Python program to find words which are greater than given length k?</b>"
   ]
  },
  {
   "cell_type": "code",
   "execution_count": 8,
   "id": "56cf60b7",
   "metadata": {},
   "outputs": [
    {
     "name": "stdout",
     "output_type": "stream",
     "text": [
      "Hello, Bhavnesh Baghel "
     ]
    }
   ],
   "source": [
    "def word_finder(string,k):\n",
    "    arr = string.split(\" \")\n",
    "    for i in arr:\n",
    "        if len(i) > k:\n",
    "            print(i,end=\" \")\n",
    "            \n",
    "string = \"Hello, I am Bhavnesh Baghel\"\n",
    "word_finder(string,5)\n",
    "\n",
    "            "
   ]
  },
  {
   "cell_type": "markdown",
   "id": "0266050c",
   "metadata": {},
   "source": [
    "<b>2. Write a Python program for removing i-th character from a string?</b>"
   ]
  },
  {
   "cell_type": "code",
   "execution_count": 19,
   "id": "79debf43",
   "metadata": {},
   "outputs": [
    {
     "data": {
      "text/plain": [
       "'Heloo'"
      ]
     },
     "execution_count": 19,
     "metadata": {},
     "output_type": "execute_result"
    }
   ],
   "source": [
    "def i_remover(string,i):\n",
    "    a = string[:i]\n",
    "    b = string[i+1:]\n",
    "    result = a+b\n",
    "    return result\n",
    "word = \"Helloo\"\n",
    "i_remover(word,2)"
   ]
  },
  {
   "cell_type": "markdown",
   "id": "84c84f37",
   "metadata": {},
   "source": [
    "<b>3. Write a Python program to split and join a string?</b>\n"
   ]
  },
  {
   "cell_type": "code",
   "execution_count": 25,
   "id": "b5a8736a",
   "metadata": {},
   "outputs": [
    {
     "name": "stdout",
     "output_type": "stream",
     "text": [
      "splitted string:  ['Hello,', 'Ineuron']\n",
      "joined string:  Hello, Ineuron\n"
     ]
    }
   ],
   "source": [
    "def split_and_join(string):\n",
    "    arr = string.split(\" \")\n",
    "    print(\"splitted string: \", arr)\n",
    "    print(\"joined string: \",' '.join(arr))\n",
    "    \n",
    "words = \"Hello, Ineuron\"\n",
    "split_and_join(words)"
   ]
  },
  {
   "cell_type": "markdown",
   "id": "71461802",
   "metadata": {},
   "source": [
    "<b>4. Write a Python to check if a given string is binary string or not?</b>"
   ]
  },
  {
   "cell_type": "code",
   "execution_count": 28,
   "id": "4aec91a8",
   "metadata": {},
   "outputs": [
    {
     "name": "stdout",
     "output_type": "stream",
     "text": [
      "yes..\n"
     ]
    }
   ],
   "source": [
    "def check_binary(word):\n",
    "    a = set(word)\n",
    "    b = {'0','1'}\n",
    "    if a == b or a == {'1'} or a == {'0'}:\n",
    "        print(\"yes..\")\n",
    "    else: \n",
    "        print(\"No..\")\n",
    "word = \"011110\"\n",
    "check_binary(word)"
   ]
  },
  {
   "cell_type": "markdown",
   "id": "6b60718a",
   "metadata": {},
   "source": [
    "<b>5. Write a Python program to find uncommon words from two Strings?</b>"
   ]
  },
  {
   "cell_type": "code",
   "execution_count": 2,
   "id": "b2425469",
   "metadata": {},
   "outputs": [
    {
     "data": {
      "text/plain": [
       "['Ineuron', 'Brother']"
      ]
     },
     "execution_count": 2,
     "metadata": {},
     "output_type": "execute_result"
    }
   ],
   "source": [
    "def uncommon_words(x,y):\n",
    "    arr1 = x.split(\" \")\n",
    "    arr2 = y.split(\" \")\n",
    "    return list(set(arr1).symmetric_difference(set(arr2)))\n",
    "                \n",
    "word1 = \"Hello, Brother\"\n",
    "word2 = \"Hello, Ineuron\"\n",
    "uncommon_words(word1,word2)"
   ]
  },
  {
   "cell_type": "markdown",
   "id": "452c7fe9",
   "metadata": {},
   "source": [
    "<b>6. Write a Python to find all duplicate characters in string?</b>"
   ]
  },
  {
   "cell_type": "code",
   "execution_count": 17,
   "id": "d944c7ed",
   "metadata": {},
   "outputs": [
    {
     "data": {
      "text/plain": [
       "['r']"
      ]
     },
     "execution_count": 17,
     "metadata": {},
     "output_type": "execute_result"
    }
   ],
   "source": [
    "def dupli_char(string):\n",
    "    result = []\n",
    "    for i in string:\n",
    "        if string.count(i) > 1:\n",
    "            if i not in result:\n",
    "                result.append(i)\n",
    "    return result\n",
    "word=\"Temporary\"\n",
    "dupli_char(word)\n",
    "    "
   ]
  },
  {
   "cell_type": "markdown",
   "id": "235bd48a",
   "metadata": {},
   "source": [
    "<b>7. Write a Python Program to check if a string contains any special character?</b>"
   ]
  },
  {
   "cell_type": "code",
   "execution_count": 27,
   "id": "082e8ed7",
   "metadata": {},
   "outputs": [
    {
     "data": {
      "text/plain": [
       "True"
      ]
     },
     "execution_count": 27,
     "metadata": {},
     "output_type": "execute_result"
    }
   ],
   "source": [
    "def speacial_char(string):\n",
    "    char = \"!@#$%^&*:;?/\\|\"\n",
    "    for i in string:\n",
    "        for j in char:\n",
    "            if i == j:\n",
    "                return True\n",
    "            \n",
    "        \n",
    "        \n",
    "word = \"Hello@#\"\n",
    "speacial_char(word)"
   ]
  },
  {
   "cell_type": "code",
   "execution_count": null,
   "id": "23d93fe4",
   "metadata": {},
   "outputs": [],
   "source": []
  }
 ],
 "metadata": {
  "kernelspec": {
   "display_name": "Python 3 (ipykernel)",
   "language": "python",
   "name": "python3"
  },
  "language_info": {
   "codemirror_mode": {
    "name": "ipython",
    "version": 3
   },
   "file_extension": ".py",
   "mimetype": "text/x-python",
   "name": "python",
   "nbconvert_exporter": "python",
   "pygments_lexer": "ipython3",
   "version": "3.9.7"
  }
 },
 "nbformat": 4,
 "nbformat_minor": 5
}
