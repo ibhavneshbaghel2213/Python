{
 "cells": [
  {
   "cell_type": "markdown",
   "id": "08dcd18f",
   "metadata": {},
   "source": [
    "<b>Question1\n",
    "Create a function that takes a string and returns a string in which each character is repeated\n",
    "once.<b>\n",
    "Examples\n",
    "    \n",
    "    double_char(&quot;String&quot;) ➞ &quot;SSttrriinngg&quot;\n",
    "    double_char(&quot;Hello World!&quot;) ➞ &quot;HHeelllloo WWoorrlldd!!&quot;\n",
    "    double_char(&quot;1234!_ &quot;) ➞ &quot;11223344!!__ &quot;"
   ]
  },
  {
   "cell_type": "code",
   "execution_count": 4,
   "id": "7669f854",
   "metadata": {},
   "outputs": [],
   "source": [
    "def double_char(string):\n",
    "    result = \"\"\n",
    "    for i in range(len(string)):\n",
    "        result += string[i]*2\n",
    "    return result"
   ]
  },
  {
   "cell_type": "code",
   "execution_count": 6,
   "id": "7f88c16a",
   "metadata": {},
   "outputs": [
    {
     "data": {
      "text/plain": [
       "'SSttrriinngg'"
      ]
     },
     "execution_count": 6,
     "metadata": {},
     "output_type": "execute_result"
    }
   ],
   "source": [
    "double_char(\"String\")"
   ]
  },
  {
   "cell_type": "markdown",
   "id": "360e8442",
   "metadata": {},
   "source": [
    "<b>Question2\n",
    "Create a function that reverses a boolean value and returns the string &quot;boolean expected&quot;\n",
    "if another variable type is given.<b>\n",
    "Examples\n",
    "    \n",
    "    reverse(True) ➞ False\n",
    "    reverse(False) ➞ True\n",
    "    reverse(0) ➞ &quot;boolean expected&quot;\n",
    "    reverse(None) ➞ &quot;boolean expected&quot;"
   ]
  },
  {
   "cell_type": "code",
   "execution_count": 7,
   "id": "28ae6418",
   "metadata": {},
   "outputs": [],
   "source": [
    "def reverse(x):\n",
    "    if x is True:\n",
    "        return False\n",
    "    elif x is False:\n",
    "        return True\n",
    "    else:\n",
    "        return \"boolean expected\""
   ]
  },
  {
   "cell_type": "code",
   "execution_count": 10,
   "id": "13655360",
   "metadata": {},
   "outputs": [
    {
     "data": {
      "text/plain": [
       "'boolean expected'"
      ]
     },
     "execution_count": 10,
     "metadata": {},
     "output_type": "execute_result"
    }
   ],
   "source": [
    "reverse(None)"
   ]
  },
  {
   "cell_type": "markdown",
   "id": "19a378d6",
   "metadata": {},
   "source": [
    "<b>Question3\n",
    "Create a function that returns the thickness (in meters) of a piece of paper after folding it n\n",
    "number of times. The paper starts off with a thickness of 0.5mm.<b>\n",
    "    \n",
    "Examples\n",
    "\n",
    "    num_layers(1) ➞ &quot;0.001m&quot;\n",
    "    Paper folded once is 1mm (equal to 0.001m)\n",
    "    num_layers(4) ➞ &quot;0.008m&quot;\n",
    "    Paper folded 4 times is 8mm (equal to 0.008m)\n",
    "    num_layers(21) ➞ &quot;1048.576m&quot;\n",
    "    Paper folded 21 times is 1048576mm (equal to 1048.576m)"
   ]
  },
  {
   "cell_type": "code",
   "execution_count": 19,
   "id": "ddba2518",
   "metadata": {},
   "outputs": [],
   "source": [
    "def num_layer(num):\n",
    "    thick = 0.5\n",
    "    for _ in range(num):\n",
    "        thick*=2\n",
    "        \n",
    "    result = thick/1000\n",
    "    return str(result)+\"m\""
   ]
  },
  {
   "cell_type": "code",
   "execution_count": 20,
   "id": "7e4f6821",
   "metadata": {},
   "outputs": [
    {
     "data": {
      "text/plain": [
       "'1048.576m'"
      ]
     },
     "execution_count": 20,
     "metadata": {},
     "output_type": "execute_result"
    }
   ],
   "source": [
    "num_layer(21)"
   ]
  },
  {
   "cell_type": "markdown",
   "id": "bd00396c",
   "metadata": {},
   "source": [
    "<b>Question4\n",
    "Create a function that takes a single string as argument and returns an ordered list containing\n",
    "the indices of all capital letters in the string.<b>\n",
    "Examples\n",
    "    \n",
    "    index_of_caps(&quot;eDaBiT&quot;) ➞ [1, 3, 5]\n",
    "    index_of_caps(&quot;eQuINoX&quot;) ➞ [1, 3, 4, 6]\n",
    "    index_of_caps(&quot;determine&quot;) ➞ []\n",
    "    index_of_caps(&quot;STRIKE&quot;) ➞ [0, 1, 2, 3, 4, 5]"
   ]
  },
  {
   "cell_type": "code",
   "execution_count": 23,
   "id": "ddefb356",
   "metadata": {},
   "outputs": [],
   "source": [
    "def index_of_caps(string=str):\n",
    "    result = []\n",
    "    for i in range(len(string)):\n",
    "        if string[i].isupper():\n",
    "            result.append(i)\n",
    "    return result\n",
    "            "
   ]
  },
  {
   "cell_type": "code",
   "execution_count": 25,
   "id": "6fb36ce8",
   "metadata": {},
   "outputs": [
    {
     "data": {
      "text/plain": [
       "[1, 3, 5]"
      ]
     },
     "execution_count": 25,
     "metadata": {},
     "output_type": "execute_result"
    }
   ],
   "source": [
    "index_of_caps(\"eDaBiT\")"
   ]
  },
  {
   "cell_type": "markdown",
   "id": "43b028b4",
   "metadata": {},
   "source": [
    "<b>Question5\n",
    "Using list comprehensions, create a function that finds all even numbers from 1 to the given\n",
    "number.<b>\n",
    "Examples\n",
    "    \n",
    "    find_even_nums(8) ➞ [2, 4, 6, 8]\n",
    "    find_even_nums(4) ➞ [2, 4]\n",
    "    find_even_nums(2) ➞ [2]"
   ]
  },
  {
   "cell_type": "code",
   "execution_count": 28,
   "id": "41ae0ecf",
   "metadata": {},
   "outputs": [],
   "source": [
    "def find_even_nums(number):\n",
    "    return [i for i in range(1,number+1) if i%2 ==0]"
   ]
  },
  {
   "cell_type": "code",
   "execution_count": 31,
   "id": "416583fb",
   "metadata": {},
   "outputs": [
    {
     "data": {
      "text/plain": [
       "[2, 4, 6, 8]"
      ]
     },
     "execution_count": 31,
     "metadata": {},
     "output_type": "execute_result"
    }
   ],
   "source": [
    "find_even_nums(8)"
   ]
  },
  {
   "cell_type": "code",
   "execution_count": null,
   "id": "f8121a78",
   "metadata": {},
   "outputs": [],
   "source": []
  }
 ],
 "metadata": {
  "kernelspec": {
   "display_name": "Python 3 (ipykernel)",
   "language": "python",
   "name": "python3"
  },
  "language_info": {
   "codemirror_mode": {
    "name": "ipython",
    "version": 3
   },
   "file_extension": ".py",
   "mimetype": "text/x-python",
   "name": "python",
   "nbconvert_exporter": "python",
   "pygments_lexer": "ipython3",
   "version": "3.9.7"
  }
 },
 "nbformat": 4,
 "nbformat_minor": 5
}
