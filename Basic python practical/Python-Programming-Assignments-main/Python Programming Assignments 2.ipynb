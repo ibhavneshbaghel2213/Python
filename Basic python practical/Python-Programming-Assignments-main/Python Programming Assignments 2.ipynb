{
 "cells": [
  {
   "cell_type": "markdown",
   "id": "8757aba3",
   "metadata": {},
   "source": [
    "<h3>1. Write a Python program to convert kilometers to miles?</h3>"
   ]
  },
  {
   "cell_type": "code",
   "execution_count": 2,
   "id": "7bae170f",
   "metadata": {},
   "outputs": [
    {
     "name": "stdout",
     "output_type": "stream",
     "text": [
      "Enter the kilometer: 30\n",
      "30  kilometer is equal to 18.64113576712002  miles\n"
     ]
    }
   ],
   "source": [
    "km = int(input(\"Enter the kilometer: \"))\n",
    "mile = km / 1.609344\n",
    "print(km, \" kilometer is equal to\", mile, \" miles\")"
   ]
  },
  {
   "cell_type": "markdown",
   "id": "8d00dcdd",
   "metadata": {},
   "source": [
    "<h3>2. Write a Python program to convert Celsius to Fahrenheit?</h3>"
   ]
  },
  {
   "cell_type": "code",
   "execution_count": 5,
   "id": "55b1ceea",
   "metadata": {},
   "outputs": [
    {
     "name": "stdout",
     "output_type": "stream",
     "text": [
      "Enter the celsius: 10\n",
      "10  degree Celsius is equal to 50.0  degree Fahrenheit\n"
     ]
    }
   ],
   "source": [
    "celsius = int(input(\"Enter the celsius: \"))\n",
    "fahrenheit = (celsius * 9/5) + 32\n",
    "print(celsius, \" degree Celsius is equal to\", fahrenheit,\" degree Fahrenheit\")"
   ]
  },
  {
   "cell_type": "markdown",
   "id": "e5a3174c",
   "metadata": {},
   "source": [
    "<h3>3. Write a Python program to display calendar?</h3>"
   ]
  },
  {
   "cell_type": "code",
   "execution_count": 6,
   "id": "0b748a19",
   "metadata": {},
   "outputs": [
    {
     "name": "stdout",
     "output_type": "stream",
     "text": [
      "Enter the year: 2022\n",
      "Enter the month: 1\n",
      "    January 2022\n",
      "Mo Tu We Th Fr Sa Su\n",
      "                1  2\n",
      " 3  4  5  6  7  8  9\n",
      "10 11 12 13 14 15 16\n",
      "17 18 19 20 21 22 23\n",
      "24 25 26 27 28 29 30\n",
      "31\n",
      "\n"
     ]
    }
   ],
   "source": [
    "import calendar\n",
    "year = int(input(\"Enter the year: \"))\n",
    "month = int(input(\"Enter the month: \"))\n",
    "print(calendar.month(year, month))"
   ]
  },
  {
   "cell_type": "markdown",
   "id": "fbb90d36",
   "metadata": {},
   "source": [
    "<h3> 4.Write a Python program to solve quadratic equation?</h3>"
   ]
  },
  {
   "cell_type": "code",
   "execution_count": 18,
   "id": "82a1262f",
   "metadata": {},
   "outputs": [
    {
     "name": "stdout",
     "output_type": "stream",
     "text": [
      "Enter the value of a: 1\n",
      "Enter the value of b: -3\n",
      "Enter the value of c: -10\n",
      "The roots are:  5.0 and -2.0\n"
     ]
    }
   ],
   "source": [
    "#The quadratic equation is termed as ax**2 + bx + c = 0\n",
    "import math\n",
    "a = int(input(\"Enter the value of a: \"))\n",
    "b = int(input(\"Enter the value of b: \"))\n",
    "c = int(input(\"Enter the value of c: \"))\n",
    "D = b**2 - 4*a*c\n",
    "if D > 0:\n",
    "    x1 = (-b + math.sqrt(b**2 - 4*a*c)) // 2*a\n",
    "    x2 = (-b - math.sqrt(b**2 - 4*a*c)) // 2*a\n",
    "    print(\"The roots are: \", x1, \"and\", x2)\n",
    "elif D == 0:\n",
    "    x = - b / 2*a\n",
    "    print(\"The roots are: \", x)\n",
    "else:\n",
    "    print(\"The roots are: \")\n",
    "    print(- b / (2 * a), \" + i\", math.sqrt(abs(D))) \n",
    "    print(- b / (2 * a), \" - i\", math.sqrt(abs(D)))\n"
   ]
  },
  {
   "cell_type": "markdown",
   "id": "7d7c3afb",
   "metadata": {},
   "source": [
    "<h3>5. Write a Python program to swap two variables without temp variable?</h3>"
   ]
  },
  {
   "cell_type": "code",
   "execution_count": 19,
   "id": "278a226c",
   "metadata": {},
   "outputs": [],
   "source": [
    "x = 5\n",
    "y = 10\n",
    "x, y = y, x\n"
   ]
  },
  {
   "cell_type": "code",
   "execution_count": 20,
   "id": "7139955d",
   "metadata": {},
   "outputs": [
    {
     "data": {
      "text/plain": [
       "10"
      ]
     },
     "execution_count": 20,
     "metadata": {},
     "output_type": "execute_result"
    }
   ],
   "source": [
    "x"
   ]
  },
  {
   "cell_type": "code",
   "execution_count": 21,
   "id": "ca603a98",
   "metadata": {},
   "outputs": [
    {
     "data": {
      "text/plain": [
       "5"
      ]
     },
     "execution_count": 21,
     "metadata": {},
     "output_type": "execute_result"
    }
   ],
   "source": [
    "y"
   ]
  },
  {
   "cell_type": "code",
   "execution_count": null,
   "id": "ddd0bb2e",
   "metadata": {},
   "outputs": [],
   "source": []
  }
 ],
 "metadata": {
  "kernelspec": {
   "display_name": "Python 3 (ipykernel)",
   "language": "python",
   "name": "python3"
  },
  "language_info": {
   "codemirror_mode": {
    "name": "ipython",
    "version": 3
   },
   "file_extension": ".py",
   "mimetype": "text/x-python",
   "name": "python",
   "nbconvert_exporter": "python",
   "pygments_lexer": "ipython3",
   "version": "3.9.7"
  }
 },
 "nbformat": 4,
 "nbformat_minor": 5
}
