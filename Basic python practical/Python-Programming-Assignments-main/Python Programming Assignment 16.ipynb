{
 "cells": [
  {
   "cell_type": "markdown",
   "id": "37691612",
   "metadata": {},
   "source": [
    "<b>Question1. Write a function that stutters a word as if someone is struggling to read it. The\n",
    "first two letters are repeated twice with an ellipsis ... and space after each, and then the\n",
    "word is pronounced with a question mark ?.\n",
    "Examples<b>\n",
    "    \n",
    "\n",
    "    stutter(&quot;incredible&quot;) ➞ &quot;in... in... incredible?&quot;\n",
    "\n",
    "    stutter(&quot;enthusiastic&quot;) ➞ &quot;en... en... enthusiastic?&quot;\n",
    "\n",
    "    stutter(&quot;outstanding&quot;) ➞ &quot;ou... ou... outstanding?&quot;\n",
    "    "
   ]
  },
  {
   "cell_type": "code",
   "execution_count": 3,
   "id": "403ebf02",
   "metadata": {},
   "outputs": [],
   "source": [
    "def shutter(string = str):\n",
    "    a = string[:2] + \"... \"\n",
    "    return a + a + string + \"?\""
   ]
  },
  {
   "cell_type": "code",
   "execution_count": 4,
   "id": "571994f4",
   "metadata": {},
   "outputs": [
    {
     "data": {
      "text/plain": [
       "'ou... ou... outstanding?'"
      ]
     },
     "execution_count": 4,
     "metadata": {},
     "output_type": "execute_result"
    }
   ],
   "source": [
    "shutter(\"outstanding\")"
   ]
  },
  {
   "cell_type": "markdown",
   "id": "b087144b",
   "metadata": {},
   "source": [
    "<b>Question 2.Create a function that takes an angle in radians and returns the corresponding\n",
    "angle in degrees rounded to one decimal place.\n",
    "Examples<b>\n",
    "    \n",
    "    radians_to_degrees(1) ➞ 57.3\n",
    "\n",
    "    radians_to_degrees(20) ➞ 1145.9\n",
    "\n",
    "    radians_to_degrees(50) ➞ 2864.8"
   ]
  },
  {
   "cell_type": "code",
   "execution_count": 6,
   "id": "1de17fdf",
   "metadata": {},
   "outputs": [],
   "source": [
    "import math\n",
    "def radians_to_degrees(angle=int):\n",
    "    return round(angle*180/math.pi,1)"
   ]
  },
  {
   "cell_type": "code",
   "execution_count": 8,
   "id": "fecbbd90",
   "metadata": {},
   "outputs": [
    {
     "data": {
      "text/plain": [
       "2864.8"
      ]
     },
     "execution_count": 8,
     "metadata": {},
     "output_type": "execute_result"
    }
   ],
   "source": [
    "radians_to_degrees(50)"
   ]
  },
  {
   "cell_type": "markdown",
   "id": "5b9f8321",
   "metadata": {},
   "source": [
    "<b>Question 3. In this challenge, establish if a given integer num is a Curzon number. If 1 plus\n",
    "2 elevated to num is exactly divisible by 1 plus 2 multiplied by num, then num is a Curzon\n",
    "number.\n",
    "Given a non-negative integer num, implement a function that returns True if num is a Curzon\n",
    "number, or False otherwise.\n",
    "Examples<b>\n",
    "\n",
    "    is_curzon(5) ➞ True\n",
    "\n",
    "    2 ** 5 + 1 = 33\n",
    "\n",
    "    2 * 5 + 1 = 11\n",
    "\n",
    "    33 is a multiple of 11\n",
    "\n",
    "    is_curzon(10) ➞ False\n",
    "\n",
    "    2 ** 10 + 1 = 1025\n",
    "\n",
    "    2 * 10 + 1 = 21\n",
    "\n",
    "    1025 is not a multiple of 21\n",
    "\n",
    "    is_curzon(14) ➞ True\n",
    "\n",
    "    2 ** 14 + 1 = 16385\n",
    "\n",
    "    2 * 14 + 1 = 29\n",
    "\n",
    "    16385 is a multiple of 29"
   ]
  },
  {
   "cell_type": "code",
   "execution_count": 1,
   "id": "9dd44703",
   "metadata": {},
   "outputs": [],
   "source": [
    "def is_curzon(num):\n",
    "    a = 2**num + 1\n",
    "    b = 2*num + 1\n",
    "    if a%b == 0:\n",
    "        return True\n",
    "    return False"
   ]
  },
  {
   "cell_type": "code",
   "execution_count": 9,
   "id": "b1bb0a76",
   "metadata": {},
   "outputs": [
    {
     "data": {
      "text/plain": [
       "False"
      ]
     },
     "execution_count": 9,
     "metadata": {},
     "output_type": "execute_result"
    }
   ],
   "source": [
    "is_curzon(10)"
   ]
  },
  {
   "cell_type": "markdown",
   "id": "859bd02b",
   "metadata": {},
   "source": [
    "<b>Question 4.Given the side length x find the area of a hexagon.<b>"
   ]
  },
  {
   "cell_type": "code",
   "execution_count": 12,
   "id": "06568f51",
   "metadata": {},
   "outputs": [],
   "source": [
    "import math as m\n",
    "def area_of_hexagon(num):\n",
    "    result = 3*m.sqrt(3)*num**2\n",
    "    return round(result/2,1)"
   ]
  },
  {
   "cell_type": "code",
   "execution_count": 14,
   "id": "0413f3eb",
   "metadata": {},
   "outputs": [
    {
     "data": {
      "text/plain": [
       "10.4"
      ]
     },
     "execution_count": 14,
     "metadata": {},
     "output_type": "execute_result"
    }
   ],
   "source": [
    "area_of_hexagon(2)"
   ]
  },
  {
   "cell_type": "markdown",
   "id": "50f06318",
   "metadata": {},
   "source": [
    "<b>Question 5. Create a function that returns a base-2 (binary) representation of a base-10\n",
    "(decimal) string number. To convert is simple: ((2) means base-2 and (10) means base-10)\n",
    "010101001(2) = 1 + 8 + 32 + 128.\n",
    "    \n",
    "Going from right to left, the value of the most right bit is 1, now from that every bit to the left\n",
    "will be x2 the value, value of an 8 bit binary numbers are (256, 128, 64, 32, 16, 8, 4, 2, 1).<b>\n",
    "\n",
    "    Examples\n",
    "\n",
    "    binary(1) ➞ &quot;1&quot;\n",
    "\n",
    "    # 1*1 = 1\n",
    "\n",
    "    binary(5) ➞ &quot;101&quot;\n",
    "\n",
    "    # 1*1 + 1*4 = 5\n",
    "\n",
    "    binary(10) ➞ &quot;1010&quot;\n",
    "\n",
    "    \n",
    "    # 1*2 + 1*8 = 10"
   ]
  },
  {
   "cell_type": "code",
   "execution_count": 20,
   "id": "3a7d9553",
   "metadata": {},
   "outputs": [],
   "source": [
    "def binary(num):\n",
    "    return bin(num)[2:]"
   ]
  },
  {
   "cell_type": "code",
   "execution_count": 21,
   "id": "e184178d",
   "metadata": {},
   "outputs": [
    {
     "data": {
      "text/plain": [
       "'1010'"
      ]
     },
     "execution_count": 21,
     "metadata": {},
     "output_type": "execute_result"
    }
   ],
   "source": [
    "binary(10)"
   ]
  },
  {
   "cell_type": "code",
   "execution_count": null,
   "id": "b189760d",
   "metadata": {},
   "outputs": [],
   "source": []
  }
 ],
 "metadata": {
  "kernelspec": {
   "display_name": "Python 3 (ipykernel)",
   "language": "python",
   "name": "python3"
  },
  "language_info": {
   "codemirror_mode": {
    "name": "ipython",
    "version": 3
   },
   "file_extension": ".py",
   "mimetype": "text/x-python",
   "name": "python",
   "nbconvert_exporter": "python",
   "pygments_lexer": "ipython3",
   "version": "3.9.7"
  }
 },
 "nbformat": 4,
 "nbformat_minor": 5
}
