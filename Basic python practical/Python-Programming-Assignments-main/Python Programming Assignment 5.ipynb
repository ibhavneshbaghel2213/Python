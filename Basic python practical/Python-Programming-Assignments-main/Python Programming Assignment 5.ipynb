{
 "cells": [
  {
   "cell_type": "markdown",
   "id": "e0cd31a8",
   "metadata": {},
   "source": [
    "<b>1. Write a Python Program to Find LCM?</b>"
   ]
  },
  {
   "cell_type": "code",
   "execution_count": 1,
   "id": "d3398da4",
   "metadata": {},
   "outputs": [],
   "source": [
    "def LCM(a,b):\n",
    "    res_a = []\n",
    "    for i in range(1,a*10):\n",
    "        x = a*i\n",
    "        res_a.append(x)\n",
    "    res_b = []\n",
    "    for i in range(1,b*10):\n",
    "        y = b*i\n",
    "        res_b.append(y)\n",
    "    for i in res_a:\n",
    "        for j in res_b:\n",
    "            if i == j:\n",
    "                return i      "
   ]
  },
  {
   "cell_type": "code",
   "execution_count": 2,
   "id": "0f8ce2c6",
   "metadata": {},
   "outputs": [
    {
     "data": {
      "text/plain": [
       "30"
      ]
     },
     "execution_count": 2,
     "metadata": {},
     "output_type": "execute_result"
    }
   ],
   "source": [
    "LCM(6,10)"
   ]
  },
  {
   "cell_type": "markdown",
   "id": "11dc82ff",
   "metadata": {},
   "source": [
    "<b>2. Write a Python Program to Find HCF?</b>"
   ]
  },
  {
   "cell_type": "code",
   "execution_count": 3,
   "id": "66c8dd27",
   "metadata": {},
   "outputs": [],
   "source": [
    "def HCF(x,y):\n",
    "    res_x = []\n",
    "    for i in range(1,x+1):\n",
    "        if x%i == 0:\n",
    "            res_x.append(i)\n",
    "    res_y = []\n",
    "    for i in range(1,y+1):\n",
    "        if y%i == 0:\n",
    "            res_y.append(i)\n",
    "    res_x = set(res_x)\n",
    "    res_y = set(res_y)\n",
    "    \n",
    "    return max(res_x&res_y)\n",
    "    "
   ]
  },
  {
   "cell_type": "code",
   "execution_count": 4,
   "id": "80bd526c",
   "metadata": {},
   "outputs": [
    {
     "data": {
      "text/plain": [
       "12"
      ]
     },
     "execution_count": 4,
     "metadata": {},
     "output_type": "execute_result"
    }
   ],
   "source": [
    "HCF(36,60)"
   ]
  },
  {
   "cell_type": "markdown",
   "id": "7c93f092",
   "metadata": {},
   "source": [
    "<b>3. Write a Python Program to Convert Decimal to Binary, Octal and Hexadecimal?</b>"
   ]
  },
  {
   "cell_type": "code",
   "execution_count": 5,
   "id": "1c5a3bf7",
   "metadata": {},
   "outputs": [
    {
     "name": "stdout",
     "output_type": "stream",
     "text": [
      "enter decimal number: 30\n",
      "binary:  11110\n",
      "octal:  36\n",
      "hexa 1e\n"
     ]
    }
   ],
   "source": [
    "num = int(input(\"enter decimal number: \"))\n",
    "binary = bin(num)\n",
    "octal = oct(num)\n",
    "hexa = hex(num)\n",
    "print(\"binary: \",binary[2:])\n",
    "print(\"octal: \",octal[2:])\n",
    "print(\"hexa\",hexa[2:])\n"
   ]
  },
  {
   "cell_type": "markdown",
   "id": "64144c94",
   "metadata": {},
   "source": [
    "<b>4. Write a Python Program To Find ASCII value of a character?</b>"
   ]
  },
  {
   "cell_type": "code",
   "execution_count": 6,
   "id": "7c226e0a",
   "metadata": {},
   "outputs": [
    {
     "name": "stdout",
     "output_type": "stream",
     "text": [
      "enter a value: Z\n",
      "ASCII value of Z is 90 \n"
     ]
    }
   ],
   "source": [
    "val = input(\"enter a value: \")\n",
    "print(f\"ASCII value of { val } is { ord(val)} \")"
   ]
  },
  {
   "cell_type": "markdown",
   "id": "c987fa3d",
   "metadata": {},
   "source": [
    "<b>5. Write a Python Program to Make a Simple Calculator with 4 basic mathematical operations?</b>"
   ]
  },
  {
   "cell_type": "code",
   "execution_count": 29,
   "id": "2a5c1887",
   "metadata": {},
   "outputs": [
    {
     "name": "stdout",
     "output_type": "stream",
     "text": [
      "press 1 for addition\n",
      "press 2 for subtraction\n",
      "press 3 for multiplication\n",
      "press 4 for division\n",
      "press: 1\n",
      "How many values you want to add: 3\n",
      "Enter your values: 10\n",
      "Enter your values: 20\n",
      "Enter your values: 30\n",
      "result:  60\n"
     ]
    }
   ],
   "source": [
    "print(\"press 1 for addition\\npress 2 for subtraction\\npress 3 for multiplication\\npress 4 for division\")\n",
    "try:\n",
    "    x = int(input(\"press: \"))\n",
    "    if x == 1:\n",
    "        sum = 0\n",
    "        a = int(input(\"How many values you want to add: \"))\n",
    "        for _ in range(a):\n",
    "            num = int(input('Enter your values: '))\n",
    "            sum+=num\n",
    "        print(\"result: \", sum)\n",
    "    elif x == 2:\n",
    "        sum = 0\n",
    "        a = int(input(\"How many values you want to subtract: \"))\n",
    "        for _ in range(a):\n",
    "            num = int(input('Enter your values: '))\n",
    "            sum-=num\n",
    "        print(\"result: \", sum)\n",
    "    elif x == 3:\n",
    "        sum = 1\n",
    "        a = int(input(\"How many values you want to multiply: \"))\n",
    "        for _ in range(a):\n",
    "            num = int(input(\"Enter your values: \"))\n",
    "            sum*=num\n",
    "        print(\"result: \", sum)\n",
    "    elif x == 4:\n",
    "        num1 = int(input('Enter your first value: '))\n",
    "        num2 = int(input('Enter your second value: '))\n",
    "        print(\"result: \", num1/num2)\n",
    "    else:\n",
    "        print(\"You pressed wrong key\")\n",
    "except Exception as e:\n",
    "    print(e)\n",
    "            \n",
    "            "
   ]
  }
 ],
 "metadata": {
  "kernelspec": {
   "display_name": "Python 3 (ipykernel)",
   "language": "python",
   "name": "python3"
  },
  "language_info": {
   "codemirror_mode": {
    "name": "ipython",
    "version": 3
   },
   "file_extension": ".py",
   "mimetype": "text/x-python",
   "name": "python",
   "nbconvert_exporter": "python",
   "pygments_lexer": "ipython3",
   "version": "3.9.7"
  }
 },
 "nbformat": 4,
 "nbformat_minor": 5
}
