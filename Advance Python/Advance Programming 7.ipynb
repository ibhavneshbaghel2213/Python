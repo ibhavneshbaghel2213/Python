{
 "cells": [
  {
   "cell_type": "markdown",
   "id": "8ec31924",
   "metadata": {},
   "source": [
    "<b>1. Write a function that counts how many concentric layers a rug.<b>\n",
    "\n",
    "    Examples\n",
    "count_layers([\n",
    "&quot;AAAA&quot;,\n",
    "&quot;ABBA&quot;,\n",
    "&quot;AAAA&quot;\n",
    "]) ➞ 2\n",
    "    \n",
    "count_layers([\n",
    "&quot;AAAAAAAAA&quot;,\n",
    "&quot;ABBBBBBBA&quot;,\n",
    "&quot;ABBAAABBA&quot;,\n",
    "&quot;ABBBBBBBA&quot;,\n",
    "&quot;AAAAAAAAA&quot;\n",
    "]) ➞ 3\n",
    "    \n",
    "count_layers([\n",
    "&quot;AAAAAAAAAAA&quot;,\n",
    "&quot;AABBBBBBBAA&quot;,\n",
    "&quot;AABCCCCCBAA&quot;,\n",
    "&quot;AABCAAACBAA&quot;,\n",
    "&quot;AABCADACBAA&quot;,\n",
    "&quot;AABCAAACBAA&quot;,\n",
    "&quot;AABCCCCCBAA&quot;,\n",
    "&quot;AABBBBBBBAA&quot;,\n",
    "&quot;AAAAAAAAAAA&quot;\n",
    "]) ➞ 5"
   ]
  },
  {
   "cell_type": "code",
   "execution_count": 1,
   "id": "7dbdc4b8",
   "metadata": {},
   "outputs": [],
   "source": [
    "def count_layers(lst):\n",
    "    length = len(lst)\n",
    "    mid = length//2\n",
    "    i = 0\n",
    "    res = 0\n",
    "    while i <= mid :\n",
    "        if lst[i] == lst[length-1]:\n",
    "            res+=1\n",
    "            length-=1\n",
    "            i+=1\n",
    "        else:\n",
    "            return False\n",
    "    return res"
   ]
  },
  {
   "cell_type": "code",
   "execution_count": 2,
   "id": "8405a386",
   "metadata": {},
   "outputs": [
    {
     "data": {
      "text/plain": [
       "2"
      ]
     },
     "execution_count": 2,
     "metadata": {},
     "output_type": "execute_result"
    }
   ],
   "source": [
    "count_layers([ \"AAAA\", \"ABBA\", \"AAAA\" ])"
   ]
  },
  {
   "cell_type": "code",
   "execution_count": 3,
   "id": "93165e04",
   "metadata": {},
   "outputs": [
    {
     "data": {
      "text/plain": [
       "3"
      ]
     },
     "execution_count": 3,
     "metadata": {},
     "output_type": "execute_result"
    }
   ],
   "source": [
    "count_layers([ \"AAAAAAAAA\", \"ABBBBBBBA\", \"ABBAAABBA\", \"ABBBBBBBA\", \"AAAAAAAAA\" ])"
   ]
  },
  {
   "cell_type": "code",
   "execution_count": 4,
   "id": "0b79f4c1",
   "metadata": {},
   "outputs": [
    {
     "data": {
      "text/plain": [
       "5"
      ]
     },
     "execution_count": 4,
     "metadata": {},
     "output_type": "execute_result"
    }
   ],
   "source": [
    "count_layers([ \"AAAAAAAAAAA\", \"AABBBBBBBAA\", \"AABCCCCCBAA\", \"AABCAAACBAA\", \"AABCADACBAA\", \"AABCAAACBAA\", \"AABCCCCCBAA\", \"AABBBBBBBAA\", \"AAAAAAAAAAA\" ])"
   ]
  },
  {
   "cell_type": "markdown",
   "id": "66a86a6b",
   "metadata": {},
   "source": [
    "<b>2. There are many different styles of music and many albums exhibit multiple\n",
    "styles. Create a function that takes a list of musical styles from albums and\n",
    "returns how many styles are unique.<b>\n",
    "    \n",
    "\n",
    "Examples\n",
    "    \n",
    "unique_styles([\n",
    "&quot;Dub,Dancehall&quot;,\n",
    "&quot;Industrial,Heavy Metal&quot;,\n",
    "&quot;Techno,Dubstep&quot;,\n",
    "&quot;Synth-pop,Euro-Disco&quot;,\n",
    "&quot;Industrial,Techno,Minimal&quot;\n",
    "]) ➞ 9\n",
    "\n",
    "unique_styles([\n",
    "&quot;Soul&quot;,\n",
    "&quot;House,Folk&quot;,\n",
    "&quot;Trance,Downtempo,Big Beat,House&quot;,\n",
    "&quot;Deep House&quot;,\n",
    "&quot;Soul&quot;\n",
    "]) ➞ 7"
   ]
  },
  {
   "cell_type": "code",
   "execution_count": 5,
   "id": "a84b3f0e",
   "metadata": {},
   "outputs": [],
   "source": [
    "def unique_styles(lst=list):\n",
    "    result = []\n",
    "    for i in lst:\n",
    "        x = i.split(\",\")\n",
    "        result.extend(x)\n",
    "    return len(set(result))"
   ]
  },
  {
   "cell_type": "code",
   "execution_count": 6,
   "id": "65c9a483",
   "metadata": {},
   "outputs": [
    {
     "data": {
      "text/plain": [
       "9"
      ]
     },
     "execution_count": 6,
     "metadata": {},
     "output_type": "execute_result"
    }
   ],
   "source": [
    "unique_styles([ \"Dub,Dancehall\", \"Industrial,Heavy Metal\", \"Techno,Dubstep\", \"Synth-pop,Euro-Disco\", \"Industrial,Techno,Minimal\" ])"
   ]
  },
  {
   "cell_type": "code",
   "execution_count": 7,
   "id": "09b6accd",
   "metadata": {},
   "outputs": [
    {
     "data": {
      "text/plain": [
       "7"
      ]
     },
     "execution_count": 7,
     "metadata": {},
     "output_type": "execute_result"
    }
   ],
   "source": [
    "unique_styles([ \"Soul\", \"House,Folk\", \"Trance,Downtempo,Big Beat,House\", \"Deep House\", \"Soul\" ]) "
   ]
  },
  {
   "cell_type": "markdown",
   "id": "c026cd8e",
   "metadata": {},
   "source": [
    "<b>3. Create a function that finds a target number in a list of prime numbers.\n",
    "Implement a binary search algorithm in your function. The target number will\n",
    "be from 2 through 97. If the target is prime then return &quot;yes&quot; else return &quot;no&quot;.<b>\n",
    "\n",
    "    Examples\n",
    "\n",
    "    primes = [2, 3, 5, 7, 11, 13, 17, 19, 23, 29, 31, 37, 41, 43, 47, 53, 59, 61, 67,71, 73, 79, 83, 89, 97]\n",
    "\n",
    "is_prime(primes, 3) ➞ &quot;yes&quot;\n",
    "    \n",
    "is_prime(primes, 4) ➞ &quot;no&quot;\n",
    "    \n",
    "is_prime(primes, 67) ➞ &quot;yes&quot;"
   ]
  },
  {
   "cell_type": "code",
   "execution_count": 8,
   "id": "053c7ce6",
   "metadata": {},
   "outputs": [],
   "source": [
    "\n",
    "def is_prime(primes,number):\n",
    "    l = 0\n",
    "    h = len(primes)-1 \n",
    "    flag = False\n",
    "    result = \"no\"\n",
    "    while (l<= h and not flag) :\n",
    "        m = (l+h)//2\n",
    "        if primes[m] == number:\n",
    "            flag = True\n",
    "            result = \"Yes\"\n",
    "        else:\n",
    "            if primes[m] > number:\n",
    "                h = m - 1\n",
    "            else:\n",
    "                l = m + 1\n",
    "    return result\n",
    "    "
   ]
  },
  {
   "cell_type": "code",
   "execution_count": 9,
   "id": "227a2f20",
   "metadata": {},
   "outputs": [
    {
     "data": {
      "text/plain": [
       "'Yes'"
      ]
     },
     "execution_count": 9,
     "metadata": {},
     "output_type": "execute_result"
    }
   ],
   "source": [
    "primes = [2, 3, 5, 7, 11, 13, 17, 19, 23, 29, 31, 37, 41, 43, 47, 53, 59, 61, 67,71, 73, 79, 83, 89, 97]\n",
    "number = 3\n",
    "is_prime(primes, number)"
   ]
  },
  {
   "cell_type": "code",
   "execution_count": 10,
   "id": "bca78fb6",
   "metadata": {},
   "outputs": [
    {
     "data": {
      "text/plain": [
       "'no'"
      ]
     },
     "execution_count": 10,
     "metadata": {},
     "output_type": "execute_result"
    }
   ],
   "source": [
    "is_prime(primes, 4)"
   ]
  },
  {
   "cell_type": "code",
   "execution_count": 11,
   "id": "9c56b9f6",
   "metadata": {},
   "outputs": [
    {
     "data": {
      "text/plain": [
       "'Yes'"
      ]
     },
     "execution_count": 11,
     "metadata": {},
     "output_type": "execute_result"
    }
   ],
   "source": [
    "is_prime(primes, 67)"
   ]
  },
  {
   "cell_type": "markdown",
   "id": "a584bec1",
   "metadata": {},
   "source": [
    "<b>4. Create a function that takes in n, a, b and returns the number of positive\n",
    "values raised to the nth power that lie in the range [a, b], inclusive.<b>\n",
    "Examples\n",
    "    \n",
    "power_ranger(2, 49, 65) ➞ 2\n",
    " ----->2 squares (n^2) lie between 49 and 65, 49 (7^2) and 64 (8^2)\n",
    "    \n",
    "power_ranger(5, 31, 33) ➞ 1\n",
    "    \n",
    "power_ranger(10, 1, 5) ➞ 1\n",
    " ----->1 value raised to the 10th power lies between 1 and 5, 1 (1^10)\n",
    "    \n",
    "power_ranger(4, 250, 1300) ➞ 3"
   ]
  },
  {
   "cell_type": "code",
   "execution_count": 12,
   "id": "3d00140c",
   "metadata": {},
   "outputs": [],
   "source": [
    "def power_ranger(n, a, b):\n",
    "    result = 0\n",
    "    for i in range(b):\n",
    "        if i**n in range(a,b):\n",
    "            result+=1\n",
    "    return result\n",
    "             "
   ]
  },
  {
   "cell_type": "code",
   "execution_count": 13,
   "id": "c0996081",
   "metadata": {},
   "outputs": [
    {
     "data": {
      "text/plain": [
       "2"
      ]
     },
     "execution_count": 13,
     "metadata": {},
     "output_type": "execute_result"
    }
   ],
   "source": [
    "power_ranger(2, 49, 65)"
   ]
  },
  {
   "cell_type": "code",
   "execution_count": 14,
   "id": "cf26431d",
   "metadata": {},
   "outputs": [
    {
     "data": {
      "text/plain": [
       "1"
      ]
     },
     "execution_count": 14,
     "metadata": {},
     "output_type": "execute_result"
    }
   ],
   "source": [
    "power_ranger(10, 1, 5)"
   ]
  },
  {
   "cell_type": "code",
   "execution_count": 15,
   "id": "58fd668b",
   "metadata": {},
   "outputs": [
    {
     "data": {
      "text/plain": [
       "3"
      ]
     },
     "execution_count": 15,
     "metadata": {},
     "output_type": "execute_result"
    }
   ],
   "source": [
    "power_ranger(4, 250, 1300)"
   ]
  },
  {
   "cell_type": "markdown",
   "id": "83d6f4d4",
   "metadata": {},
   "source": [
    "<b>5. Given a number, return the difference between the maximum and minimum\n",
    "numbers that can be formed when the digits are rearranged.<b>\n",
    "\n",
    "    Examples\n",
    "rearranged_difference(972882) ➞ 760833\n",
    " ----------988722 - 227889 = 760833\n",
    "    \n",
    "rearranged_difference(3320707) ➞ 7709823\n",
    " ---------7733200 - 23377 = 7709823\n",
    "    \n",
    "rearranged_difference(90010) ➞ 90981\n",
    "-------91000 - 19 = 90981"
   ]
  },
  {
   "cell_type": "code",
   "execution_count": 16,
   "id": "a89fb68a",
   "metadata": {},
   "outputs": [],
   "source": [
    "def rearranged_difference(number):\n",
    "    digit = [int(i) for i in str(number)[::-1]]\n",
    "    max_ele = \"\".join([str(i) for i in sorted(digit,reverse=True)])\n",
    "    min_ele = \"\".join([str(i) for i in sorted(digit,reverse=False)]) \n",
    "    return int(max_ele) - int(min_ele)"
   ]
  },
  {
   "cell_type": "code",
   "execution_count": 17,
   "id": "15591f49",
   "metadata": {},
   "outputs": [
    {
     "data": {
      "text/plain": [
       "760833"
      ]
     },
     "execution_count": 17,
     "metadata": {},
     "output_type": "execute_result"
    }
   ],
   "source": [
    " rearranged_difference(972882)"
   ]
  },
  {
   "cell_type": "code",
   "execution_count": 18,
   "id": "c60718fc",
   "metadata": {},
   "outputs": [
    {
     "data": {
      "text/plain": [
       "7709823"
      ]
     },
     "execution_count": 18,
     "metadata": {},
     "output_type": "execute_result"
    }
   ],
   "source": [
    "rearranged_difference(3320707)"
   ]
  },
  {
   "cell_type": "code",
   "execution_count": 19,
   "id": "a6db7805",
   "metadata": {},
   "outputs": [
    {
     "data": {
      "text/plain": [
       "90981"
      ]
     },
     "execution_count": 19,
     "metadata": {},
     "output_type": "execute_result"
    }
   ],
   "source": [
    "rearranged_difference(90010)"
   ]
  }
 ],
 "metadata": {
  "kernelspec": {
   "display_name": "Python 3 (ipykernel)",
   "language": "python",
   "name": "python3"
  },
  "language_info": {
   "codemirror_mode": {
    "name": "ipython",
    "version": 3
   },
   "file_extension": ".py",
   "mimetype": "text/x-python",
   "name": "python",
   "nbconvert_exporter": "python",
   "pygments_lexer": "ipython3",
   "version": "3.9.7"
  }
 },
 "nbformat": 4,
 "nbformat_minor": 5
}
