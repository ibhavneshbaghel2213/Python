{
 "cells": [
  {
   "cell_type": "markdown",
   "id": "0d57510a",
   "metadata": {},
   "source": [
    "<b>1. In mathematics, the Fibonacci numbers, commonly denoted Fn, form a\n",
    "sequence, called the Fibonacci sequence, such that each number is the sum\n",
    "of the two preceding ones, starting from 0 and 1:<b>\n",
    "\n",
    "The beginning of the sequence is this:\n",
    "0, 1, 1, 2, 3, 5, 8, 13, 21, 34, 55, 89, 144, ...\n",
    "The function fastFib(num) returns the fibonacci number Fn, of the given num\n",
    "as an argument.\n",
    "Examples\n",
    "\n",
    "    fib_fast(5) ➞ 5\n",
    "    fib_fast(10) ➞ 55\n",
    "    fib_fast(20) ➞ 6765"
   ]
  },
  {
   "cell_type": "code",
   "execution_count": 1,
   "id": "649f4f56",
   "metadata": {},
   "outputs": [],
   "source": [
    "def fib_fast(number):\n",
    "    lis = [0,1]\n",
    "    for i in range(2,number+1):\n",
    "        lis.append(lis[i-1]+lis[i-2])\n",
    "    return lis[number]\n"
   ]
  },
  {
   "cell_type": "code",
   "execution_count": 2,
   "id": "a1eb92d8",
   "metadata": {},
   "outputs": [
    {
     "data": {
      "text/plain": [
       "6765"
      ]
     },
     "execution_count": 2,
     "metadata": {},
     "output_type": "execute_result"
    }
   ],
   "source": [
    "fib_fast(20)"
   ]
  },
  {
   "cell_type": "markdown",
   "id": "0777cfef",
   "metadata": {},
   "source": [
    "<b>2. Create a function that takes a strings characters as ASCII and returns each\n",
    "characters hexadecimal value as a string.<b>\n",
    "\n",
    "    Examples\n",
    "    convert_to_hex(&quot;hello world&quot;) ➞ &quot;68 65 6c 6c 6f 20 77 6f 72 6c 64&quot;\n",
    "    convert_to_hex(&quot;Big Boi&quot;) ➞ &quot;42 69 67 20 42 6f 69&quot;\n",
    "    convert_to_hex(&quot;Marty Poppinson&quot;) ➞ &quot;4d 61 72 74 79 20 50 6f 70 70 69 6e\n",
    "    73 6f 6e&quot;"
   ]
  },
  {
   "cell_type": "code",
   "execution_count": 3,
   "id": "84234961",
   "metadata": {},
   "outputs": [],
   "source": [
    "def convert_to_hex(string):\n",
    "    result = \"\"\n",
    "    for i in string:\n",
    "        hexa = str(hex(ord(i)))[2:] + \" \"\n",
    "        result+=hexa\n",
    "    return result"
   ]
  },
  {
   "cell_type": "code",
   "execution_count": 4,
   "id": "2f87fb64",
   "metadata": {},
   "outputs": [
    {
     "data": {
      "text/plain": [
       "'42 69 67 20 42 6f 69 '"
      ]
     },
     "execution_count": 4,
     "metadata": {},
     "output_type": "execute_result"
    }
   ],
   "source": [
    "convert_to_hex(\"Big Boi\")"
   ]
  },
  {
   "cell_type": "markdown",
   "id": "4c632cd3",
   "metadata": {},
   "source": [
    "<b>3. Someone has attempted to censor my strings by replacing every vowel\n",
    "with a *, l*k* th*s. Luckily, I&#39;ve been able to find the vowels that were\n",
    "removed.<b>\n",
    "    \n",
    "Given a censored string and a string of the censored vowels, return the\n",
    "original uncensored string.\n",
    "Example\n",
    "    \n",
    "uncensor(&quot;Wh * r* d *d my v * w * ls g *?&quot;, &quot;eeioeo&quot;) ➞ &quot;Where did my vowels go?&quot;\n",
    "    \n",
    "uncensor(&quot;abcd&quot;, &quot;&quot;) ➞ &quot;abcd&quot;\n",
    "    \n",
    "uncensor(&quot;* PP * RC * S *&quot;, &quot;UEAE&quot;) ➞ &quot;UPPERCASE&quot;"
   ]
  },
  {
   "cell_type": "code",
   "execution_count": 5,
   "id": "f05613fe",
   "metadata": {},
   "outputs": [],
   "source": [
    "def uncensor(string=str,vowel=str):\n",
    "    result = \"\"\n",
    "    count = 0\n",
    "    for i in range(len(string)):\n",
    "        if string[i] == \"*\":\n",
    "            result+=vowel[count]\n",
    "            count+=1\n",
    "        else:\n",
    "             result+=string[i]\n",
    "    return result\n",
    "        "
   ]
  },
  {
   "cell_type": "code",
   "execution_count": 6,
   "id": "42649498",
   "metadata": {},
   "outputs": [
    {
     "data": {
      "text/plain": [
       "'Where did my vowels go?'"
      ]
     },
     "execution_count": 6,
     "metadata": {},
     "output_type": "execute_result"
    }
   ],
   "source": [
    "uncensor(\"Wh*r* d*d my v*w*ls g*?\", \"eeioeo\")"
   ]
  },
  {
   "cell_type": "code",
   "execution_count": 7,
   "id": "12a03905",
   "metadata": {},
   "outputs": [
    {
     "data": {
      "text/plain": [
       "'abcd'"
      ]
     },
     "execution_count": 7,
     "metadata": {},
     "output_type": "execute_result"
    }
   ],
   "source": [
    "uncensor(\"abcd\", \"\")"
   ]
  },
  {
   "cell_type": "markdown",
   "id": "c83b6763",
   "metadata": {},
   "source": [
    "<b>4. Write a function that takes an IP address and returns the domain name\n",
    "using PTR DNS records.<b>\n",
    "    \n",
    "Example\n",
    "get_domain(&quot;8.8.8.8&quot;) ➞ &quot;dns.google&quot;\n",
    "    \n",
    "get_domain(&quot;8.8.4.4&quot;) ➞ &quot;dns.google&quot;"
   ]
  },
  {
   "cell_type": "code",
   "execution_count": 8,
   "id": "5f9fee4e",
   "metadata": {},
   "outputs": [],
   "source": [
    "import socket\n",
    "def get_domain(address):\n",
    "    return socket.gethostbyaddr(address)[0]"
   ]
  },
  {
   "cell_type": "code",
   "execution_count": 9,
   "id": "c61eea43",
   "metadata": {},
   "outputs": [
    {
     "data": {
      "text/plain": [
       "'dns.google'"
      ]
     },
     "execution_count": 9,
     "metadata": {},
     "output_type": "execute_result"
    }
   ],
   "source": [
    "get_domain(\"8.8.4.4\")"
   ]
  },
  {
   "cell_type": "markdown",
   "id": "ffb094e1",
   "metadata": {},
   "source": [
    "\n",
    "<b>5. Create a function that takes an integer n and returns the factorial of\n",
    "factorials. See below examples for a better understanding:<b>\n",
    "Examples\n",
    "    \n",
    "fact_of_fact(4) ➞ 288\n",
    "    \n",
    "4! * 3! * 2! * 1! = 288\n",
    "    \n",
    "fact_of_fact(5) ➞ 34560\n",
    "    \n",
    "fact_of_fact(6) ➞ 24883200"
   ]
  },
  {
   "cell_type": "code",
   "execution_count": 45,
   "id": "8b192579",
   "metadata": {},
   "outputs": [],
   "source": [
    "import math\n",
    "def fact_of_fact(number):\n",
    "    res = 1\n",
    "    for i in range(1,number+1):\n",
    "        res*= math.factorial(i)\n",
    "    return res"
   ]
  },
  {
   "cell_type": "code",
   "execution_count": 48,
   "id": "c43bce46",
   "metadata": {},
   "outputs": [
    {
     "data": {
      "text/plain": [
       "24883200"
      ]
     },
     "execution_count": 48,
     "metadata": {},
     "output_type": "execute_result"
    }
   ],
   "source": [
    "fact_of_fact(6)"
   ]
  }
 ],
 "metadata": {
  "kernelspec": {
   "display_name": "Python 3 (ipykernel)",
   "language": "python",
   "name": "python3"
  },
  "language_info": {
   "codemirror_mode": {
    "name": "ipython",
    "version": 3
   },
   "file_extension": ".py",
   "mimetype": "text/x-python",
   "name": "python",
   "nbconvert_exporter": "python",
   "pygments_lexer": "ipython3",
   "version": "3.9.7"
  }
 },
 "nbformat": 4,
 "nbformat_minor": 5
}
