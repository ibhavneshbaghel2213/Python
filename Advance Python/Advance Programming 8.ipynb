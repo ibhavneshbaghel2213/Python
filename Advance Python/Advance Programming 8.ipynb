{
 "cells": [
  {
   "cell_type": "markdown",
   "id": "8cab983b",
   "metadata": {},
   "source": [
    "<b>1. Given a sentence as txt, return True if any two adjacent words have this\n",
    "property: One word ends with a vowel, while the word immediately after\n",
    "begins with a vowel (a e i o u).<b>\n",
    "Examples\n",
    "    vowel_links(&quot;a very large appliance&quot;) ➞ True\n",
    "    vowel_links(&quot;go to edabit&quot;) ➞ True\n",
    "    vowel_links(&quot;an open fire&quot;) ➞ False\n",
    "    vowel_links(&quot;a sudden applause&quot;) ➞ False"
   ]
  },
  {
   "cell_type": "code",
   "execution_count": 1,
   "id": "388cf835",
   "metadata": {},
   "outputs": [],
   "source": [
    "def vowel_links(words=str):\n",
    "    split_str = words.split()\n",
    "    vowel = ['a','e','i','o','u']\n",
    "    for i in range(len(split_str)-1):\n",
    "        if split_str[i][-1] in vowel and split_str[i+1][0] in vowel:\n",
    "            return True\n",
    "    return False"
   ]
  },
  {
   "cell_type": "code",
   "execution_count": 2,
   "id": "e0669a10",
   "metadata": {},
   "outputs": [
    {
     "data": {
      "text/plain": [
       "False"
      ]
     },
     "execution_count": 2,
     "metadata": {},
     "output_type": "execute_result"
    }
   ],
   "source": [
    "vowel_links(\"a sudden applause\")"
   ]
  },
  {
   "cell_type": "code",
   "execution_count": 3,
   "id": "e2679980",
   "metadata": {},
   "outputs": [
    {
     "data": {
      "text/plain": [
       "True"
      ]
     },
     "execution_count": 3,
     "metadata": {},
     "output_type": "execute_result"
    }
   ],
   "source": [
    "vowel_links(\"a very large appliance\")"
   ]
  },
  {
   "cell_type": "markdown",
   "id": "262871ad",
   "metadata": {},
   "source": [
    "<b>2. You are given three inputs: a string, one letter, and a second letter.\n",
    "Write a function that returns True if every instance of the first letter occurs\n",
    "before every instance of the second letter.<b>\n",
    "   \n",
    "    Examples\n",
    "first_before_second(&quot;a rabbit jumps joyfully&quot;, &quot;a&quot;, &quot;j&quot;) ➞ True\n",
    "--Every instance of &quot;a&quot; occurs before every instance of &quot;j&quot;.\n",
    "\n",
    "first_before_second(&quot;knaves knew about waterfalls&quot;, &quot;k&quot;, &quot;w&quot;) ➞ True\n",
    "\n",
    "first_before_second(&quot;happy birthday&quot;, &quot;a&quot;, &quot;y&quot;) ➞ False\n",
    " --The &quot;a&quot; in &quot;birthday&quot; occurs after the &quot;y&quot; in &quot;happy&quot;.\n",
    "\n",
    "first_before_second(&quot;precarious kangaroos&quot;, &quot;k&quot;, &quot;a&quot;) ➞ False"
   ]
  },
  {
   "cell_type": "code",
   "execution_count": 4,
   "id": "ef91c456",
   "metadata": {},
   "outputs": [],
   "source": [
    "def  first_before_second(words,char1,char2):\n",
    "    splitted_str = words.split()\n",
    "    for i in range(len(splitted_str)-1):\n",
    "        if char1 in splitted_str[i]  and char2 in splitted_str[i+1]:\n",
    "            return True\n",
    "    return False"
   ]
  },
  {
   "cell_type": "code",
   "execution_count": 5,
   "id": "a5801cf5",
   "metadata": {},
   "outputs": [
    {
     "data": {
      "text/plain": [
       "False"
      ]
     },
     "execution_count": 5,
     "metadata": {},
     "output_type": "execute_result"
    }
   ],
   "source": [
    "first_before_second(\"precarious kangaroos\", \"k\", \"a\")"
   ]
  },
  {
   "cell_type": "code",
   "execution_count": 6,
   "id": "5e2b4149",
   "metadata": {},
   "outputs": [
    {
     "data": {
      "text/plain": [
       "True"
      ]
     },
     "execution_count": 6,
     "metadata": {},
     "output_type": "execute_result"
    }
   ],
   "source": [
    "first_before_second(\"a rabbit jumps joyfully\", \"a\", \"j\")"
   ]
  },
  {
   "cell_type": "markdown",
   "id": "dc50f68a",
   "metadata": {},
   "source": [
    "<b>3. Create a function that returns the characters from a list or string r on odd or\n",
    "even positions, depending on the specifier s. The specifier will be &quot;odd&quot; for\n",
    "items on odd positions (1, 3, 5, ...) and &quot;even&quot; for items on even positions (2,\n",
    "4, 6, ...).<b>\n",
    "    \n",
    "Examples\n",
    "char_at_pos([2, 4, 6, 8, 10], &quot;even&quot;) ➞ [4, 8]\n",
    "    4 &amp; 8 occupy the 2nd &amp; 4th positions\n",
    "\n",
    "char_at_pos(&quot;EDABIT&quot;, &quot;odd&quot;) ➞ &quot;EAI&quot;\n",
    "    &quot;E&quot;, &quot;A&quot; and &quot;I&quot; occupy the 1st, 3rd and 5th positions\n",
    "\n",
    "char_at_pos([&quot;A&quot;, &quot;R&quot;, &quot;B&quot;, &quot;I&quot;, &quot;T&quot;, &quot;R&quot;, &quot;A&quot;, &quot;R&quot;, &quot;I&quot;, &quot;L&quot;, &quot;Y&quot;], &quot;odd&quot;) ➞ [&quot;A&quot;,\n",
    "&quot;B&quot;, &quot;T&quot;, &quot;A&quot;, &quot;I&quot;, &quot;Y&quot;]\n"
   ]
  },
  {
   "cell_type": "code",
   "execution_count": 7,
   "id": "b6d1b0dc",
   "metadata": {},
   "outputs": [],
   "source": [
    "def char_at_pos(r, s) :\n",
    "    res_lis = []\n",
    "    for i in range(len(r)):\n",
    "        if s == \"even\":\n",
    "            if i%2 == 1:\n",
    "                res_lis.append(r[i])\n",
    "        else:\n",
    "            if i%2 == 0:\n",
    "                res_lis.append(r[i])\n",
    "    \n",
    "    if type(r) == list:\n",
    "        return res_lis\n",
    "    else:\n",
    "        return \"\".join(res_lis)\n"
   ]
  },
  {
   "cell_type": "code",
   "execution_count": 8,
   "id": "79378369",
   "metadata": {},
   "outputs": [
    {
     "data": {
      "text/plain": [
       "[4, 8]"
      ]
     },
     "execution_count": 8,
     "metadata": {},
     "output_type": "execute_result"
    }
   ],
   "source": [
    "char_at_pos([2, 4, 6, 8, 10], \"even\")"
   ]
  },
  {
   "cell_type": "code",
   "execution_count": 9,
   "id": "f8c3c886",
   "metadata": {},
   "outputs": [
    {
     "data": {
      "text/plain": [
       "'EAI'"
      ]
     },
     "execution_count": 9,
     "metadata": {},
     "output_type": "execute_result"
    }
   ],
   "source": [
    "char_at_pos(\"EDABIT\", \"odd\")"
   ]
  },
  {
   "cell_type": "code",
   "execution_count": 10,
   "id": "43d5d4ea",
   "metadata": {},
   "outputs": [
    {
     "data": {
      "text/plain": [
       "['A', 'B', 'T', 'A', 'I', 'Y']"
      ]
     },
     "execution_count": 10,
     "metadata": {},
     "output_type": "execute_result"
    }
   ],
   "source": [
    "char_at_pos([\"A\", \"R\", \"B\", \"I\", \"T\", \"R\", \"A\", \"R\", \"I\", \"L\", \"Y\"], \"odd\") "
   ]
  },
  {
   "cell_type": "markdown",
   "id": "b045d4d5",
   "metadata": {},
   "source": [
    "<b>4. Write a function that returns the greatest common divisor of all list\n",
    "elements. If the greatest common divisor is 1, return 1.<b>\n",
    "Examples\n",
    "    \n",
    "GCD([10, 20, 40]) ➞ 10\n",
    "    \n",
    "GCD([1, 2, 3, 100]) ➞ 1\n",
    "    \n",
    "GCD([1024, 192, 2048, 512]) ➞ 64"
   ]
  },
  {
   "cell_type": "code",
   "execution_count": 11,
   "id": "e8fa3698",
   "metadata": {},
   "outputs": [],
   "source": [
    "import math\n",
    "def GCD(lis):\n",
    "    return math.gcd(*lis)"
   ]
  },
  {
   "cell_type": "code",
   "execution_count": 12,
   "id": "4c047c87",
   "metadata": {},
   "outputs": [
    {
     "data": {
      "text/plain": [
       "64"
      ]
     },
     "execution_count": 12,
     "metadata": {},
     "output_type": "execute_result"
    }
   ],
   "source": [
    "GCD([1024, 192, 2048, 512])"
   ]
  },
  {
   "cell_type": "markdown",
   "id": "0530b7cf",
   "metadata": {},
   "source": [
    "<b>5. A number/string is a palindrome if the digits/characters are the same when\n",
    "read both forward and backward. Examples include &quot;racecar&quot; and 12321.\n",
    "Given a positive number n, check if n or the binary representation of n is\n",
    "palindromic. Return the following:<b>\n",
    "- &quot;Decimal only.&quot; if only n is a palindrome.\n",
    "- &quot;Binary only.&quot; if only the binary representation of n is a palindrome.\n",
    "- &quot;Decimal and binary.&quot; if both are palindromes.\n",
    "- &quot;Neither!&quot; if neither are palindromes.\n",
    "Examples\n",
    "    \n",
    "palindrome_type(1306031) ➞ &quot;Decimal only.&quot;\n",
    " decimal = 1306031\n",
    " binary = &quot;100111110110110101111&quot;\n",
    "    \n",
    "palindrome_type(427787) ➞ &quot;Binary only.&quot;\n",
    " decimal = 427787\n",
    " binary = &quot;1101000011100001011&quot;\n",
    "    \n",
    "palindrome_type(313) ➞ &quot;Decimal and binary.&quot;\n",
    " decimal = 313\n",
    " binary = 100111001\n",
    "    \n",
    "palindrome_type(934) ➞ &quot;Neither!&quot;\n",
    " decimal = 934\n",
    " binary = &quot;1110100110&quot;"
   ]
  },
  {
   "cell_type": "code",
   "execution_count": 13,
   "id": "755fdc75",
   "metadata": {},
   "outputs": [],
   "source": [
    "def palindrome(x):\n",
    "        word = \"\"\n",
    "        for i in str(x)[::-1]:\n",
    "            word+=i\n",
    "        return word\n",
    "    \n",
    "def palindrome_type(n):\n",
    "    res_dec = bin(n)[2:]\n",
    "    \n",
    "    if palindrome(n) == str(n) and palindrome(res_dec) == bin(n)[2:]:\n",
    "        return \"Decimal and binary\"\n",
    "    elif palindrome(n) == str(n) :\n",
    "        return \"Decimal only\"\n",
    "    elif palindrome(res_dec) == bin(n)[2:]:\n",
    "        return \"Binary only\"\n",
    "    else:\n",
    "        return \"Neither!\"\n",
    "        "
   ]
  },
  {
   "cell_type": "code",
   "execution_count": 14,
   "id": "7f1482b5",
   "metadata": {},
   "outputs": [
    {
     "data": {
      "text/plain": [
       "'Decimal only'"
      ]
     },
     "execution_count": 14,
     "metadata": {},
     "output_type": "execute_result"
    }
   ],
   "source": [
    "palindrome_type(1306031)"
   ]
  },
  {
   "cell_type": "code",
   "execution_count": 15,
   "id": "ff120bcc",
   "metadata": {},
   "outputs": [
    {
     "data": {
      "text/plain": [
       "'Binary only'"
      ]
     },
     "execution_count": 15,
     "metadata": {},
     "output_type": "execute_result"
    }
   ],
   "source": [
    "palindrome_type(427787)"
   ]
  },
  {
   "cell_type": "code",
   "execution_count": 16,
   "id": "c0bef512",
   "metadata": {},
   "outputs": [
    {
     "data": {
      "text/plain": [
       "'Decimal and binary'"
      ]
     },
     "execution_count": 16,
     "metadata": {},
     "output_type": "execute_result"
    }
   ],
   "source": [
    "palindrome_type(313)"
   ]
  },
  {
   "cell_type": "code",
   "execution_count": 17,
   "id": "627e3e77",
   "metadata": {},
   "outputs": [
    {
     "data": {
      "text/plain": [
       "'Neither!'"
      ]
     },
     "execution_count": 17,
     "metadata": {},
     "output_type": "execute_result"
    }
   ],
   "source": [
    "palindrome_type(934)"
   ]
  }
 ],
 "metadata": {
  "kernelspec": {
   "display_name": "Python 3 (ipykernel)",
   "language": "python",
   "name": "python3"
  },
  "language_info": {
   "codemirror_mode": {
    "name": "ipython",
    "version": 3
   },
   "file_extension": ".py",
   "mimetype": "text/x-python",
   "name": "python",
   "nbconvert_exporter": "python",
   "pygments_lexer": "ipython3",
   "version": "3.9.7"
  }
 },
 "nbformat": 4,
 "nbformat_minor": 5
}
