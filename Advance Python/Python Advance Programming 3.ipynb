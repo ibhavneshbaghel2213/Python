{
 "cells": [
  {
   "cell_type": "markdown",
   "id": "741552ce",
   "metadata": {},
   "source": [
    "<b>1. Create a function to perform basic arithmetic operations that includes\n",
    "addition, subtraction, multiplication and division on a string number (e.g. &quot;12 +\n",
    "24&quot; or &quot;23 - 21&quot; or &quot;12 // 12&quot; or &quot;12 * 21&quot;).\n",
    "Here, we have 1 followed by a space, operator followed by another space\n",
    "and 2. For the challenge, we are going to have only two numbers between 1\n",
    "valid operator. The return value should be a number.<b>\n",
    "    \n",
    "eval() is not allowed. In case of division, whenever the second number equals\n",
    "&quot;0&quot; return -1.\n",
    "    \n",
    "For example:\n",
    "&quot;15 // 0&quot; ➞ -1\n",
    "Examples\n",
    "    \n",
    "    arithmetic_operation(&quot;12 + 12&quot;) ➞ 24 // 12 + 12 = 24\n",
    "    arithmetic_operation(&quot;12 - 12&quot;) ➞ 24 // 12 - 12 = 0\n",
    "    arithmetic_operation(&quot;12 * 12&quot;) ➞ 144 // 12 * 12 = 144\n",
    "    arithmetic_operation(&quot;12 // 0&quot;) ➞ -1 // 12 / 0 = -1"
   ]
  },
  {
   "cell_type": "code",
   "execution_count": 1,
   "id": "bd2fd18f",
   "metadata": {},
   "outputs": [],
   "source": [
    "def arithmetic_operation(string):\n",
    "    values = string.split()\n",
    "    if values[1] == \"+\" :\n",
    "        return int(values[0]) + int(values[2])\n",
    "    elif values[1] == \"-\":\n",
    "        return int(values[0]) - int(values[2])\n",
    "    elif values[1] == \"*\":\n",
    "        return int(values[0] * int(values[2]))\n",
    "    elif values[2] == \"0\":\n",
    "        return -1\n",
    "    else:\n",
    "        return int(values[0]) // int(values[2])\n",
    "    "
   ]
  },
  {
   "cell_type": "code",
   "execution_count": 12,
   "id": "8fbfe581",
   "metadata": {},
   "outputs": [
    {
     "data": {
      "text/plain": [
       "0"
      ]
     },
     "execution_count": 12,
     "metadata": {},
     "output_type": "execute_result"
    }
   ],
   "source": [
    "arithmetic_operation(\"12 - 12\")"
   ]
  },
  {
   "cell_type": "code",
   "execution_count": 2,
   "id": "091c8d21",
   "metadata": {},
   "outputs": [
    {
     "data": {
      "text/plain": [
       "-1"
      ]
     },
     "execution_count": 2,
     "metadata": {},
     "output_type": "execute_result"
    }
   ],
   "source": [
    "arithmetic_operation(\"12 // 0\")"
   ]
  },
  {
   "cell_type": "markdown",
   "id": "9e6bfb4d",
   "metadata": {},
   "source": [
    "<b>2. Write a function that takes the coordinates of three points in the form of a\n",
    "2d array and returns the perimeter of the triangle. The given points are the\n",
    "vertices of a triangle on a two-dimensional plane.<b>\n",
    "    \n",
    "    Examples\n",
    "    perimeter( [ [15, 7], [5, 22], [11, 1] ] ) ➞ 47.08\n",
    "    perimeter( [ [0, 0], [0, 1], [1, 0] ] ) ➞ 3.42\n",
    "    perimeter( [ [-10, -10], [10, 10 ], [-10, 10] ] ) ➞ 68.28"
   ]
  },
  {
   "cell_type": "code",
   "execution_count": 3,
   "id": "febf420b",
   "metadata": {},
   "outputs": [],
   "source": [
    "\n",
    "import math\n",
    "def perimeter(array = list):\n",
    "    distance = []\n",
    "    distance.append(math.dist(array[0],array[1]))\n",
    "    distance.append(math.dist(array[1],array[2]))\n",
    "    distance.append(math.dist(array[2],array[0]))\n",
    "    return round(sum(distance),2)   \n",
    "        "
   ]
  },
  {
   "cell_type": "code",
   "execution_count": 4,
   "id": "1fec0531",
   "metadata": {},
   "outputs": [
    {
     "data": {
      "text/plain": [
       "68.28"
      ]
     },
     "execution_count": 4,
     "metadata": {},
     "output_type": "execute_result"
    }
   ],
   "source": [
    "\n",
    "array = [[-10, -10], [10, 10 ], [-10, 10] ]\n",
    "perimeter(array)"
   ]
  },
  {
   "cell_type": "markdown",
   "id": "3a47b362",
   "metadata": {},
   "source": [
    "<b>3. A city skyline can be represented as a 2-D list with 1s representing\n",
    "buildings. In the example below, the height of the tallest building is 4 (second-\n",
    "most right column).<b>\n",
    "    \n",
    "[[0, 0, 0, 0, 0, 0],\n",
    "[0, 0, 0, 0, 1, 0],\n",
    "[0, 0, 1, 0, 1, 0],\n",
    "[0, 1, 1, 1, 1, 0],\n",
    "\n",
    "[1, 1, 1, 1, 1, 1]]\n",
    "\n",
    "Create a function that takes a skyline (2-D list of 0&#39;s and 1&#39;s) and returns the\n",
    "height of the tallest skyscraper.\n",
    "Examples\n",
    "\n",
    "    tallest_skyscraper([\n",
    "    [0, 0, 0, 0],\n",
    "    [0, 1, 0, 0],\n",
    "    [0, 1, 1, 0],\n",
    "    [1, 1, 1, 1]\n",
    "    ]) ➞ 3\n",
    "    tallest_skyscraper([\n",
    "    [0, 1, 0, 0],\n",
    "    [0, 1, 0, 0],\n",
    "    [0, 1, 1, 0],\n",
    "    [1, 1, 1, 1]\n",
    "    ]) ➞ 4\n",
    "    tallest_skyscraper([\n",
    "    [0, 0, 0, 0],\n",
    "    [0, 0, 0, 0],\n",
    "    [1, 1, 1, 0],\n",
    "    [1, 1, 1, 1]\n",
    "    ]) ➞ 2"
   ]
  },
  {
   "cell_type": "code",
   "execution_count": 5,
   "id": "92b84e46",
   "metadata": {},
   "outputs": [],
   "source": [
    "def tallest_skyscrapper(lis=list) :\n",
    "    result = []\n",
    "    for i in range(len(lis)):\n",
    "        count = 0\n",
    "        for j in range(len(lis[i])):\n",
    "            count+=lis[j][i]\n",
    "        result.append(count)\n",
    "    return max(result)\n",
    "    "
   ]
  },
  {
   "cell_type": "code",
   "execution_count": 6,
   "id": "491c9237",
   "metadata": {},
   "outputs": [
    {
     "data": {
      "text/plain": [
       "2"
      ]
     },
     "execution_count": 6,
     "metadata": {},
     "output_type": "execute_result"
    }
   ],
   "source": [
    "tallest_skyscrapper([\n",
    "[0, 0, 0, 0],\n",
    "[0, 0, 0, 0],\n",
    "[1, 1, 1, 0],\n",
    "[1, 1, 1, 1]\n",
    "])"
   ]
  },
  {
   "cell_type": "markdown",
   "id": "0a55b10c",
   "metadata": {},
   "source": [
    "<b>4. A financial institution provides professional services to banks and claims\n",
    "charges from the customers based on the number of man-days provided.\n",
    "    \n",
    "Internally, it has set a scheme to motivate and reward staff to meet and\n",
    "exceed targeted billable utilization and revenues by paying a bonus for each\n",
    "day claimed from customers in excess of a threshold target.\n",
    "    \n",
    "This quarterly scheme is calculated with a threshold target of 32 days per\n",
    "quarter, and the incentive payment for each billable day in excess of such\n",
    "threshold target is shown as follows:\n",
    "Days Bonus\n",
    "\n",
    "    0 to 32 days Zero\n",
    "    33 to 40 days SGD$325 per billable day\n",
    "    41 to 48 days SGD$550 per billable day\n",
    "    Greater than 48 days SGD$600 per billable day\n",
    "\n",
    "Please note that incentive payment is calculated progressively. As an\n",
    "example, if an employee reached total billable days of 45 in a quarter, his/her\n",
    "incentive payment is computed as follows:\n",
    "32*0 + 8*325 + 5*550 = 5350\n",
    "\n",
    "Write a function to read the billable days of an employee and return the bonus\n",
    "he/she has obtained in that quarter.\n",
    "Examples\n",
    "\n",
    "    bonus(15) ➞ 0\n",
    "    bonus(37) ➞ 1625\n",
    "    bonus(50) ➞ 8200"
   ]
  },
  {
   "cell_type": "code",
   "execution_count": 7,
   "id": "e6a9f596",
   "metadata": {},
   "outputs": [],
   "source": [
    "def bonus(days):\n",
    "    if days <=32 :\n",
    "        return 0\n",
    "    elif days > 32 and days <=40:\n",
    "        res =  40 - days - 8\n",
    "        return abs(res*325)\n",
    "    elif days >= 41 and days< 48:\n",
    "        resu= abs(48 -days - 8)\n",
    "        return 8*325 + resu*550\n",
    "    else:\n",
    "        return 8*325 + 8*550 + (days - 48)*600"
   ]
  },
  {
   "cell_type": "code",
   "execution_count": 8,
   "id": "baf4131c",
   "metadata": {},
   "outputs": [
    {
     "data": {
      "text/plain": [
       "1625"
      ]
     },
     "execution_count": 8,
     "metadata": {},
     "output_type": "execute_result"
    }
   ],
   "source": [
    "bonus(37)"
   ]
  },
  {
   "cell_type": "code",
   "execution_count": 9,
   "id": "54056a06",
   "metadata": {},
   "outputs": [
    {
     "data": {
      "text/plain": [
       "8200"
      ]
     },
     "execution_count": 9,
     "metadata": {},
     "output_type": "execute_result"
    }
   ],
   "source": [
    "bonus(50)"
   ]
  },
  {
   "cell_type": "markdown",
   "id": "bc0bc828",
   "metadata": {},
   "source": [
    "<b>5. A number is said to be Disarium if the sum of its digits raised to their\n",
    "respective positions is the number itself.<b>\n",
    "    \n",
    "Create a function that determines whether a number is a Disarium or not.\n",
    "Examples\n",
    "\n",
    "    is_disarium(75) ➞ False\n",
    "    # 7^1 + 5^2 = 7 + 25 = 32\n",
    "    is_disarium(135) ➞ True\n",
    "    # 1^1 + 3^2 + 5^3 = 1 + 9 + 125 = 135\n",
    "    is_disarium(544) ➞ False\n",
    "    is_disarium(518) ➞ True"
   ]
  },
  {
   "cell_type": "code",
   "execution_count": 10,
   "id": "058cf0f8",
   "metadata": {},
   "outputs": [],
   "source": [
    "def is_disarium(number):\n",
    "    num = str(number)\n",
    "    res = 0\n",
    "    for i in range(len(num)):\n",
    "        res += int(num[i])**(i+1)\n",
    "    if res == number:\n",
    "        return True\n",
    "    return False\n",
    "         "
   ]
  },
  {
   "cell_type": "code",
   "execution_count": 11,
   "id": "f8101f71",
   "metadata": {},
   "outputs": [
    {
     "data": {
      "text/plain": [
       "True"
      ]
     },
     "execution_count": 11,
     "metadata": {},
     "output_type": "execute_result"
    }
   ],
   "source": [
    "is_disarium(135)"
   ]
  },
  {
   "cell_type": "code",
   "execution_count": null,
   "id": "b28cd422",
   "metadata": {},
   "outputs": [],
   "source": []
  }
 ],
 "metadata": {
  "kernelspec": {
   "display_name": "Python 3 (ipykernel)",
   "language": "python",
   "name": "python3"
  },
  "language_info": {
   "codemirror_mode": {
    "name": "ipython",
    "version": 3
   },
   "file_extension": ".py",
   "mimetype": "text/x-python",
   "name": "python",
   "nbconvert_exporter": "python",
   "pygments_lexer": "ipython3",
   "version": "3.9.7"
  }
 },
 "nbformat": 4,
 "nbformat_minor": 5
}
