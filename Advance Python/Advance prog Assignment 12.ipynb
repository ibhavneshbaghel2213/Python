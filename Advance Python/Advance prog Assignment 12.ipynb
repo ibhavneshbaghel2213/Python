{
 "cells": [
  {
   "cell_type": "markdown",
   "id": "88125676",
   "metadata": {},
   "source": [
    "1. For this challenge, forget how to add two numbers together. The best\n",
    "explanation on what to do for this function is this meme:\n",
    "\n",
    "Examples\n",
    "meme_sum(26, 39) ➞ 515\n",
    " ---2+3 = 5, 6+9 = 15\n",
    " ---26 + 39 = 515\n",
    "\n",
    "meme_sum(122, 81) ➞ 1103\n",
    " ---1+0 = 1, 2+8 = 10, 2+1 = 3\n",
    " ---122 + 81 = 1103\n",
    "\n",
    "meme_sum(1222, 30277) ➞ 31499"
   ]
  },
  {
   "cell_type": "code",
   "execution_count": 118,
   "id": "5b70174b",
   "metadata": {},
   "outputs": [],
   "source": [
    "def meme_sum(num1,num2):\n",
    "    num1, num2 = str(num1), str(num2)\n",
    "    while len(num1) != len(num2):\n",
    "        if len(num1) > len(num2):\n",
    "            num2 = '0' + num2\n",
    "        else :\n",
    "            num1 += '0' + num1\n",
    "    result = ''\n",
    "    for i in range(len(num1)):\n",
    "        result+= str(int(num1[i]) + int(num2[i]))\n",
    "    return int(result)\n",
    "            \n",
    "        "
   ]
  },
  {
   "cell_type": "code",
   "execution_count": 119,
   "id": "fcc8aee9",
   "metadata": {},
   "outputs": [
    {
     "data": {
      "text/plain": [
       "515"
      ]
     },
     "execution_count": 119,
     "metadata": {},
     "output_type": "execute_result"
    }
   ],
   "source": [
    "meme_sum(26,39)"
   ]
  },
  {
   "cell_type": "code",
   "execution_count": 120,
   "id": "49357ae3",
   "metadata": {},
   "outputs": [
    {
     "data": {
      "text/plain": [
       "1103"
      ]
     },
     "execution_count": 120,
     "metadata": {},
     "output_type": "execute_result"
    }
   ],
   "source": [
    "meme_sum(122,81)"
   ]
  },
  {
   "cell_type": "markdown",
   "id": "208246fb",
   "metadata": {},
   "source": [
    "2. Given an integer, create a function that returns the next prime. If the\n",
    "number is prime, return the number itself.\n",
    "Examples\n",
    "\n",
    "next_prime(12) ➞ 13\n",
    "\n",
    "\n",
    "next_prime(11) ➞ 11\n",
    "----- 11 is a prime, so we return the number itself."
   ]
  },
  {
   "cell_type": "code",
   "execution_count": 61,
   "id": "baa4dcd0",
   "metadata": {},
   "outputs": [],
   "source": [
    "\n",
    "def prime(num):\n",
    "    for i in range(2, int(num**0.5)+2):\n",
    "        if num%i == 0:\n",
    "            return False\n",
    "        else:\n",
    "            return True\n",
    "    \n",
    "def next_prime(number):\n",
    "    if prime(number):\n",
    "        return number\n",
    "    else:\n",
    "        output = 0 \n",
    "        number+=1\n",
    "        for i in range(2, int(number**0.5)+2):\n",
    "            if number%i == 0:\n",
    "                output = 0\n",
    "                break\n",
    "            else:\n",
    "                output = 1\n",
    "        if output == 1:\n",
    "            return number\n",
    "        else:\n",
    "            return next_prime(number)"
   ]
  },
  {
   "cell_type": "code",
   "execution_count": 62,
   "id": "20b40f65",
   "metadata": {},
   "outputs": [
    {
     "data": {
      "text/plain": [
       "13"
      ]
     },
     "execution_count": 62,
     "metadata": {},
     "output_type": "execute_result"
    }
   ],
   "source": [
    "next_prime(12)"
   ]
  },
  {
   "cell_type": "code",
   "execution_count": 63,
   "id": "c09f7032",
   "metadata": {},
   "outputs": [
    {
     "data": {
      "text/plain": [
       "11"
      ]
     },
     "execution_count": 63,
     "metadata": {},
     "output_type": "execute_result"
    }
   ],
   "source": [
    "next_prime(11)"
   ]
  },
  {
   "cell_type": "markdown",
   "id": "88f11d33",
   "metadata": {},
   "source": [
    "3. If a person traveled up a hill for 18mins at 20mph and then traveled back\n",
    "down the same path at 60mph then their average speed traveled was 30mph.\n",
    "Write a function that returns the average speed traveled given an uphill time,\n",
    "uphill rate and a downhill rate. Uphill time is given in minutes. Return the rate\n",
    "as an integer (mph). No rounding is necessary.\n",
    "Examples\n",
    "\n",
    "ave_spd(18, 20, 60) ➞ 30\n",
    "\n",
    "ave_spd(30, 10, 30) ➞ 15\n",
    "\n",
    "ave_spd(30, 8, 24) ➞ 12"
   ]
  },
  {
   "cell_type": "code",
   "execution_count": 83,
   "id": "ec3b2aef",
   "metadata": {},
   "outputs": [],
   "source": [
    "def ave_spd(up_time, up_speed, down_speed):\n",
    "    dist = up_speed*(up_time/60)\n",
    "    down_time = dist/down_speed\n",
    "    avg_speed = (2*dist)/((up_time/60)+down_time)\n",
    "    return int(avg_speed)"
   ]
  },
  {
   "cell_type": "code",
   "execution_count": 84,
   "id": "d91d001f",
   "metadata": {},
   "outputs": [
    {
     "data": {
      "text/plain": [
       "30"
      ]
     },
     "execution_count": 84,
     "metadata": {},
     "output_type": "execute_result"
    }
   ],
   "source": [
    "ave_spd(18,20,60)"
   ]
  },
  {
   "cell_type": "code",
   "execution_count": 85,
   "id": "1f91d6bf",
   "metadata": {},
   "outputs": [
    {
     "data": {
      "text/plain": [
       "15"
      ]
     },
     "execution_count": 85,
     "metadata": {},
     "output_type": "execute_result"
    }
   ],
   "source": [
    "ave_spd(30, 10, 30)"
   ]
  },
  {
   "cell_type": "code",
   "execution_count": 86,
   "id": "6c6432fe",
   "metadata": {},
   "outputs": [
    {
     "data": {
      "text/plain": [
       "12"
      ]
     },
     "execution_count": 86,
     "metadata": {},
     "output_type": "execute_result"
    }
   ],
   "source": [
    "ave_spd(30, 8, 24)"
   ]
  },
  {
   "cell_type": "markdown",
   "id": "5de89dad",
   "metadata": {},
   "source": [
    "4. The Kempner Function, applied to a composite number, permits to find the\n",
    "smallest integer greater than zero whose factorial is exactly divided by the\n",
    "number.\n",
    "\n",
    "kempner(6) ➞ 3\n",
    "1! = 1 % 6 &gt; 0\n",
    "2! = 2 % 6 &gt; 0\n",
    "3! = 6 % 6 === 0\n",
    "\n",
    "kempner(10) ➞ 5\n",
    "1! = 1 % 10 &gt; 0\n",
    "2! = 2 % 10 &gt; 0\n",
    "3! = 6 % 10 &gt; 0\n",
    "4! = 24 % 10 &gt; 0\n",
    "5! = 120 % 10 === 0\n",
    "A Kempner Function applied to a prime will always return the prime itself.\n",
    "\n",
    "kempner(2) ➞ 2\n",
    "\n",
    "kempner(5) ➞ 5"
   ]
  },
  {
   "cell_type": "code",
   "execution_count": 98,
   "id": "79d961ec",
   "metadata": {},
   "outputs": [],
   "source": [
    "def kempner(num):\n",
    "    def fact(num):\n",
    "        if num == 1:\n",
    "            return 1\n",
    "        else:\n",
    "            return num * fact(num-1)\n",
    "    for i in range(1,num+1):\n",
    "        if fact(i)%num == 0:\n",
    "            output = i\n",
    "            break\n",
    "    return output"
   ]
  },
  {
   "cell_type": "code",
   "execution_count": 99,
   "id": "dc904c29",
   "metadata": {},
   "outputs": [
    {
     "data": {
      "text/plain": [
       "3"
      ]
     },
     "execution_count": 99,
     "metadata": {},
     "output_type": "execute_result"
    }
   ],
   "source": [
    "kempner(6)"
   ]
  },
  {
   "cell_type": "code",
   "execution_count": 100,
   "id": "ec1d4625",
   "metadata": {},
   "outputs": [
    {
     "data": {
      "text/plain": [
       "5"
      ]
     },
     "execution_count": 100,
     "metadata": {},
     "output_type": "execute_result"
    }
   ],
   "source": [
    "kempner(10)"
   ]
  },
  {
   "cell_type": "code",
   "execution_count": 102,
   "id": "5c3e1bbc",
   "metadata": {},
   "outputs": [
    {
     "data": {
      "text/plain": [
       "2"
      ]
     },
     "execution_count": 102,
     "metadata": {},
     "output_type": "execute_result"
    }
   ],
   "source": [
    "kempner(2)"
   ]
  },
  {
   "cell_type": "code",
   "execution_count": 103,
   "id": "2d66bdae",
   "metadata": {},
   "outputs": [
    {
     "data": {
      "text/plain": [
       "5"
      ]
     },
     "execution_count": 103,
     "metadata": {},
     "output_type": "execute_result"
    }
   ],
   "source": [
    "kempner(5) "
   ]
  },
  {
   "cell_type": "code",
   "execution_count": null,
   "id": "20333237",
   "metadata": {},
   "outputs": [],
   "source": []
  }
 ],
 "metadata": {
  "kernelspec": {
   "display_name": "Python 3 (ipykernel)",
   "language": "python",
   "name": "python3"
  },
  "language_info": {
   "codemirror_mode": {
    "name": "ipython",
    "version": 3
   },
   "file_extension": ".py",
   "mimetype": "text/x-python",
   "name": "python",
   "nbconvert_exporter": "python",
   "pygments_lexer": "ipython3",
   "version": "3.9.7"
  }
 },
 "nbformat": 4,
 "nbformat_minor": 5
}
