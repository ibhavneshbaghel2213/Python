{
 "cells": [
  {
   "cell_type": "markdown",
   "id": "7efbdb39",
   "metadata": {},
   "source": [
    "<b>1. Create a function that takes a number n (integer greater than zero) as an\n",
    "argument, and returns 2 if n is odd and 8 if n is even.<b>\n",
    "    \n",
    "You can only use the following arithmetic operators: addition of numbers +,\n",
    "subtraction of numbers -, multiplication of number *, division of number /, and\n",
    "exponentiation **.\n",
    "    \n",
    "You are not allowed to use any other methods in this challenge (i.e. no if\n",
    "statements, comparison operators, etc).\n",
    "Examples\n",
    "    \n",
    "    f(1) ➞ 2\n",
    "    f(2) ➞ 8\n",
    "    f(3) ➞ 2"
   ]
  },
  {
   "cell_type": "code",
   "execution_count": 1,
   "id": "b62815e7",
   "metadata": {},
   "outputs": [],
   "source": [
    "def f(number):\n",
    "    lst = [8,2]\n",
    "    return lst[number&1]"
   ]
  },
  {
   "cell_type": "code",
   "execution_count": 2,
   "id": "4dedd3e3",
   "metadata": {},
   "outputs": [
    {
     "data": {
      "text/plain": [
       "8"
      ]
     },
     "execution_count": 2,
     "metadata": {},
     "output_type": "execute_result"
    }
   ],
   "source": [
    "f(2)"
   ]
  },
  {
   "cell_type": "markdown",
   "id": "b82bdc7e",
   "metadata": {},
   "source": [
    "<b>2. Create a function that returns the majority vote in a list. A majority vote is\n",
    "an element that occurs &gt; N/2 times in a list (where N is the length of the list).<b.\n",
    "                                                                                        \n",
    "Examples\n",
    "majority_vote([&quot;A&quot;, &quot;A&quot;, &quot;B&quot;]) ➞ &quot;A&quot;\n",
    "                                                                                        \n",
    "majority_vote([&quot;A&quot;, &quot;A&quot;, &quot;A&quot;, &quot;B&quot;, &quot;C&quot;, &quot;A&quot;]) ➞ &quot;A&quot;\n",
    "                                                                                        \n",
    "majority_vote([&quot;A&quot;, &quot;B&quot;, &quot;B&quot;, &quot;A&quot;, &quot;C&quot;, &quot;C&quot;]) ➞ None"
   ]
  },
  {
   "cell_type": "code",
   "execution_count": 7,
   "id": "165d02c3",
   "metadata": {},
   "outputs": [],
   "source": [
    "def majority_vote(lst):\n",
    "    result = None\n",
    "    for i in set(lst):\n",
    "        if lst.count(i) > len(lst)/2 :\n",
    "            result = i\n",
    "    return result\n",
    "    "
   ]
  },
  {
   "cell_type": "code",
   "execution_count": 8,
   "id": "7149e100",
   "metadata": {},
   "outputs": [
    {
     "data": {
      "text/plain": [
       "'A'"
      ]
     },
     "execution_count": 8,
     "metadata": {},
     "output_type": "execute_result"
    }
   ],
   "source": [
    "majority_vote([\"A\", \"A\", \"A\", \"B\", \"C\", \"A\"]) "
   ]
  },
  {
   "cell_type": "markdown",
   "id": "a8fb4262",
   "metadata": {},
   "source": [
    "<b>3. Create a function that takes a string txt and censors any word from a given\n",
    "list lst. The text removed must be replaced by the given character char.<b>\n",
    "Examples\n",
    "    \n",
    "censor_string(&quot;Today is a Wednesday!&quot;, [&quot;Today&quot;, &quot;a&quot;], &quot;-&quot;) ➞ &quot;----- is -\n",
    "Wednesday!&quot;\n",
    "    \n",
    "censor_string(&quot;The cow jumped over the moon.&quot;, [&quot;cow&quot;, &quot;over&quot;], &quot;*&quot;), &quot;The ***\n",
    "jumped **** the moon.&quot;)\n",
    "    \n",
    "censor_string(&quot;Why did the chicken cross the road?&quot;, [&quot;Did&quot;, &quot;chicken&quot;,\n",
    "&quot;road&quot;], &quot;*&quot;) ➞ &quot;Why *** the ******* cross the ****?&quot;"
   ]
  },
  {
   "cell_type": "code",
   "execution_count": 23,
   "id": "16731ad8",
   "metadata": {},
   "outputs": [],
   "source": [
    "def censor_string(string=str,lis=list,char=str):\n",
    "    result = \"\"\n",
    "    lst = string.split()\n",
    "    for i in lst:\n",
    "        if i in lis:\n",
    "            x = len(i)*char +\" \"\n",
    "            result+=x\n",
    "        else:\n",
    "            result+=i+\" \"\n",
    "    return result\n",
    "    "
   ]
  },
  {
   "cell_type": "code",
   "execution_count": 24,
   "id": "7d34b463",
   "metadata": {},
   "outputs": [
    {
     "data": {
      "text/plain": [
       "'----- is - Wednesday! '"
      ]
     },
     "execution_count": 24,
     "metadata": {},
     "output_type": "execute_result"
    }
   ],
   "source": [
    "censor_string(\"Today is a Wednesday!\", [\"Today\", \"a\"], \"-\")"
   ]
  },
  {
   "cell_type": "code",
   "execution_count": 26,
   "id": "190b8a1f",
   "metadata": {},
   "outputs": [
    {
     "data": {
      "text/plain": [
       "'Why *** the ******* cross the road? '"
      ]
     },
     "execution_count": 26,
     "metadata": {},
     "output_type": "execute_result"
    }
   ],
   "source": [
    "censor_string(\"Why Did the chicken cross the road?\", [\"Did\", \"chicken\", \"road\"], \"*\")"
   ]
  },
  {
   "cell_type": "markdown",
   "id": "b1e2336d",
   "metadata": {},
   "source": [
    "<b>4. In mathematics a Polydivisible Number (or magic number) is a number in a\n",
    "given number base with digits abcde... that has the following properties:<b>\n",
    "    \n",
    "- Its first digit a is not 0.\n",
    "    \n",
    "- The number formed by its first two digits ab is a multiple of 2.\n",
    "    \n",
    "- The number formed by its first three digits abc is a multiple of 3.\n",
    "    \n",
    "- The number formed by its first four digits abcd is a multiple of 4.\n",
    "    \n",
    "Create a function which takes an integer n and returns True if the given\n",
    "number is a Polydivisible Number and False otherwise.\n",
    "Examples\n",
    "\n",
    "    is_polydivisible(1232) ➞ True\n",
    "    # 1 / 1 = 1\n",
    "    # 12 / 2 = 6\n",
    "    # 123 / 3 = 41\n",
    "    # 1232 / 4 = 308\n",
    "    is_polydivisible(123220 ) ➞ False"
   ]
  },
  {
   "cell_type": "code",
   "execution_count": 83,
   "id": "037326b4",
   "metadata": {},
   "outputs": [],
   "source": [
    "def is_polydivisible(number) :\n",
    "    s = str(number)\n",
    "    for i in range(1,len(s)):\n",
    "        if int(s[:i]) % i == 0 :\n",
    "            result = True\n",
    "        else:\n",
    "            result = False\n",
    "            break\n",
    "    return result"
   ]
  },
  {
   "cell_type": "code",
   "execution_count": 85,
   "id": "fe878618",
   "metadata": {},
   "outputs": [
    {
     "data": {
      "text/plain": [
       "False"
      ]
     },
     "execution_count": 85,
     "metadata": {},
     "output_type": "execute_result"
    }
   ],
   "source": [
    "is_polydivisible(123220)"
   ]
  },
  {
   "cell_type": "markdown",
   "id": "a5ff1456",
   "metadata": {},
   "source": [
    "<b>5. Create a function that takes a list of numbers and returns the sum of all\n",
    "prime numbers in the list.<b>\n",
    "    \n",
    "    Examples\n",
    "    sum_primes([1, 2, 3, 4, 5, 6, 7, 8, 9, 10]) ➞ 17\n",
    "    sum_primes([2, 3, 4, 11, 20, 50, 71]) ➞ 87\n",
    "    sum_primes([]) ➞ None"
   ]
  },
  {
   "cell_type": "code",
   "execution_count": 102,
   "id": "bcc56e97",
   "metadata": {},
   "outputs": [],
   "source": [
    "def sum_primes(lis=list):\n",
    "    prime = []\n",
    "    for i in lis:\n",
    "        if i > 1:\n",
    "            for j in range(2,i):\n",
    "                if i%j == 0:\n",
    "                    break\n",
    "            else:\n",
    "                 prime.append(i)\n",
    "    return sum(prime)"
   ]
  },
  {
   "cell_type": "code",
   "execution_count": 103,
   "id": "02557449",
   "metadata": {},
   "outputs": [
    {
     "data": {
      "text/plain": [
       "87"
      ]
     },
     "execution_count": 103,
     "metadata": {},
     "output_type": "execute_result"
    }
   ],
   "source": [
    "sum_primes([2, 3, 4, 11, 20, 50, 71])"
   ]
  }
 ],
 "metadata": {
  "kernelspec": {
   "display_name": "Python 3 (ipykernel)",
   "language": "python",
   "name": "python3"
  },
  "language_info": {
   "codemirror_mode": {
    "name": "ipython",
    "version": 3
   },
   "file_extension": ".py",
   "mimetype": "text/x-python",
   "name": "python",
   "nbconvert_exporter": "python",
   "pygments_lexer": "ipython3",
   "version": "3.9.7"
  }
 },
 "nbformat": 4,
 "nbformat_minor": 5
}
