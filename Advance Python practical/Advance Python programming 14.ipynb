{
 "cells": [
  {
   "cell_type": "markdown",
   "id": "2919251e",
   "metadata": {},
   "source": [
    "1. Given a list of numbers, create a function that removes 25% from every\n",
    "number in the list except the smallest number, and adds the total amount\n",
    "removed to the smallest number.\n",
    "Examples\n",
    "\n",
    "show_the_love([4, 1, 4]) ➞ [3, 3, 3]\n",
    "\n",
    "show_the_love([16, 10, 8]) ➞ [12, 7.5, 14.5]\n",
    "\n",
    "show_the_love([2, 100]) ➞ [27, 75]"
   ]
  },
  {
   "cell_type": "code",
   "execution_count": 24,
   "id": "ba9c443c",
   "metadata": {},
   "outputs": [],
   "source": [
    "def show_the_love(lis=list):\n",
    "    container = 0\n",
    "    smallest_num_index = lis.index(min(lis))\n",
    "    for num in range(len(lis)):\n",
    "        if num != smallest_num_index:\n",
    "            temp = 0\n",
    "            temp += (lis[num]*25)/100\n",
    "            container += temp\n",
    "            lis[num] = lis[num] - temp\n",
    "    lis[smallest_num_index] = lis[smallest_num_index] + container\n",
    "    return lis"
   ]
  },
  {
   "cell_type": "code",
   "execution_count": 25,
   "id": "b393da68",
   "metadata": {
    "scrolled": true
   },
   "outputs": [
    {
     "data": {
      "text/plain": [
       "[3.0, 3.0, 3.0]"
      ]
     },
     "execution_count": 25,
     "metadata": {},
     "output_type": "execute_result"
    }
   ],
   "source": [
    "show_the_love([4,1,4])"
   ]
  },
  {
   "cell_type": "code",
   "execution_count": 26,
   "id": "8a8fec18",
   "metadata": {},
   "outputs": [
    {
     "data": {
      "text/plain": [
       "[12.0, 7.5, 14.5]"
      ]
     },
     "execution_count": 26,
     "metadata": {},
     "output_type": "execute_result"
    }
   ],
   "source": [
    "show_the_love([16, 10, 8])"
   ]
  },
  {
   "cell_type": "code",
   "execution_count": 27,
   "id": "4b4fc4a9",
   "metadata": {},
   "outputs": [
    {
     "data": {
      "text/plain": [
       "[27.0, 75.0]"
      ]
     },
     "execution_count": 27,
     "metadata": {},
     "output_type": "execute_result"
    }
   ],
   "source": [
    "show_the_love([2, 100])"
   ]
  },
  {
   "cell_type": "markdown",
   "id": "d9637bbd",
   "metadata": {},
   "source": [
    "2. Create a function that takes in two words as input and returns a list of three\n",
    "elements, in the following order:\n",
    "\n",
    "   1.Shared letters between two words.\n",
    "  \n",
    "  2.Letters unique to word 1\n",
    "  \n",
    "  3.Letters unique to word 2.\n",
    "\n",
    "Each element should have unique letters, and have each letter be\n",
    "alphabetically sorted.\n",
    "\n",
    "Examples\n",
    "letters(&quot;sharp&quot;, &quot;soap&quot;) ➞ [&quot;aps&quot;, &quot;hr&quot;, &quot;o&quot;]\n",
    "\n",
    "letters(&quot;board&quot;, &quot;bored&quot;) ➞ [&quot;bdor&quot;, &quot;a&quot;, &quot;e&quot;]\n",
    "\n",
    "letters(&quot;happiness&quot;, &quot;envelope&quot;) ➞ [&quot;enp&quot;, &quot;ahis&quot;, &quot;lov&quot;]\n",
    "\n",
    "letters(&quot;kerfuffle&quot;, &quot;fluffy&quot;) ➞ [&quot;flu&quot;, &quot;ekr&quot;, &quot;y&quot;]\n",
    "---------- Even with multiple matching letters (e.g. 3 f&#39;s), there should  only exist a single &quot;f&quot; in your first element.\n",
    "\n",
    "letters(&quot;match&quot;, &quot;ham&quot;) ➞ [&quot;ahm&quot;, &quot;ct&quot;, &quot;&quot;]\n",
    "---------- &quot;ham&quot; does not contain any letters that are not found already in &quot;match&quot;."
   ]
  },
  {
   "cell_type": "code",
   "execution_count": 45,
   "id": "fc9d703b",
   "metadata": {},
   "outputs": [],
   "source": [
    "def letters(string1=str,string2=str):\n",
    "    shared_letters = \"\"\n",
    "    unique_word_1 = \"\"\n",
    "    unique_word_2 = \"\"\n",
    "    \n",
    "    for i in range(len(string1)):\n",
    "        \n",
    "        if string1[i] in string2:\n",
    "            shared_letters+=string1[i]\n",
    "            \n",
    "        if string1[i] not in string2:\n",
    "            unique_word_1 += string1[i]\n",
    "            \n",
    "    for j in range(len(string2)):\n",
    "        \n",
    "        if string2[j] not in string1:\n",
    "            unique_word_2+=string2[j]\n",
    "            \n",
    "    return [\"\".join(sorted(set(shared_letters))),\"\".join(sorted(set(unique_word_1))),\"\".join(sorted(set(unique_word_2)))]"
   ]
  },
  {
   "cell_type": "code",
   "execution_count": 46,
   "id": "c3aa28b7",
   "metadata": {},
   "outputs": [
    {
     "data": {
      "text/plain": [
       "['aps', 'hr', 'o']"
      ]
     },
     "execution_count": 46,
     "metadata": {},
     "output_type": "execute_result"
    }
   ],
   "source": [
    "letters(\"sharp\", \"soap\")"
   ]
  },
  {
   "cell_type": "code",
   "execution_count": 47,
   "id": "290c2abb",
   "metadata": {},
   "outputs": [
    {
     "data": {
      "text/plain": [
       "['bdor', 'a', 'e']"
      ]
     },
     "execution_count": 47,
     "metadata": {},
     "output_type": "execute_result"
    }
   ],
   "source": [
    "letters(\"board\", \"bored\")"
   ]
  },
  {
   "cell_type": "code",
   "execution_count": 48,
   "id": "18c3f743",
   "metadata": {},
   "outputs": [
    {
     "data": {
      "text/plain": [
       "['enp', 'ahis', 'lov']"
      ]
     },
     "execution_count": 48,
     "metadata": {},
     "output_type": "execute_result"
    }
   ],
   "source": [
    "letters(\"happiness\", \"envelope\")"
   ]
  },
  {
   "cell_type": "code",
   "execution_count": 49,
   "id": "ad323b35",
   "metadata": {},
   "outputs": [
    {
     "data": {
      "text/plain": [
       "['flu', 'ekr', 'y']"
      ]
     },
     "execution_count": 49,
     "metadata": {},
     "output_type": "execute_result"
    }
   ],
   "source": [
    "letters(\"kerfuffle\", \"fluffy\")"
   ]
  },
  {
   "cell_type": "code",
   "execution_count": 50,
   "id": "36d7af4d",
   "metadata": {},
   "outputs": [
    {
     "data": {
      "text/plain": [
       "['ahm', 'ct', '']"
      ]
     },
     "execution_count": 50,
     "metadata": {},
     "output_type": "execute_result"
    }
   ],
   "source": [
    "letters(\"match\", \"ham\")"
   ]
  },
  {
   "cell_type": "markdown",
   "id": "ef4f7840",
   "metadata": {},
   "source": [
    "3. Write a function that pairs the first number in an array with the last, the\n",
    "second number with the second to last, etc.\n",
    "Examples\n",
    "\n",
    "pairs([1, 2, 3, 4, 5, 6, 7]) ➞ [[1, 7], [2, 6], [3, 5], [4, 4]]\n",
    "\n",
    "pairs([1, 2, 3, 4, 5, 6]) ➞ [[1, 6], [2, 5], [3, 4]]\n",
    "\n",
    "pairs([5, 9, 8, 1, 2]) ➞ [[5, 2], [9, 1], [8, 8]]\n",
    "\n",
    "pairs([]) ➞ []"
   ]
  },
  {
   "cell_type": "code",
   "execution_count": 64,
   "id": "bb13ca3d",
   "metadata": {},
   "outputs": [],
   "source": [
    "def pairs(lis=list):\n",
    "    result = []\n",
    "    if len(lis)%2==1:\n",
    "        for ele in range(1,(len(lis)//2)+2):\n",
    "            result.append([lis[ele-1],lis[len(lis)-ele]])\n",
    "    else:\n",
    "        for ele in range(1,(len(lis)//2)+1):\n",
    "            result.append([lis[ele-1],lis[len(lis)-ele]])\n",
    "    return result"
   ]
  },
  {
   "cell_type": "code",
   "execution_count": 65,
   "id": "41531d9f",
   "metadata": {},
   "outputs": [
    {
     "data": {
      "text/plain": [
       "[[1, 7], [2, 6], [3, 5], [4, 4]]"
      ]
     },
     "execution_count": 65,
     "metadata": {},
     "output_type": "execute_result"
    }
   ],
   "source": [
    "pairs([1, 2, 3, 4, 5, 6, 7]) "
   ]
  },
  {
   "cell_type": "code",
   "execution_count": 66,
   "id": "8a317796",
   "metadata": {},
   "outputs": [
    {
     "data": {
      "text/plain": [
       "[[1, 6], [2, 5], [3, 4]]"
      ]
     },
     "execution_count": 66,
     "metadata": {},
     "output_type": "execute_result"
    }
   ],
   "source": [
    "pairs([1, 2, 3, 4, 5, 6])"
   ]
  },
  {
   "cell_type": "code",
   "execution_count": 67,
   "id": "2bec775a",
   "metadata": {},
   "outputs": [
    {
     "data": {
      "text/plain": [
       "[[5, 2], [9, 1], [8, 8]]"
      ]
     },
     "execution_count": 67,
     "metadata": {},
     "output_type": "execute_result"
    }
   ],
   "source": [
    "pairs([5, 9, 8, 1, 2])"
   ]
  },
  {
   "cell_type": "code",
   "execution_count": 68,
   "id": "f4fb1328",
   "metadata": {},
   "outputs": [
    {
     "data": {
      "text/plain": [
       "[]"
      ]
     },
     "execution_count": 68,
     "metadata": {},
     "output_type": "execute_result"
    }
   ],
   "source": [
    "pairs([])"
   ]
  },
  {
   "cell_type": "markdown",
   "id": "2776f448",
   "metadata": {},
   "source": [
    "4. Write a function that adds two numbers. The catch, however, is that the\n",
    "numbers will be strings.\n",
    "Examples\n",
    "\n",
    "add_str_nums(&quot;4&quot;, &quot;5&quot;) ➞ &quot;9&quot;\n",
    "\n",
    "add_str_nums(&quot;abcdefg&quot;, &quot;3&quot;) ➞ &quot;-1&quot;\n",
    "\n",
    "add_str_nums(&quot;1&quot;, &quot;&quot;) ➞ &quot;1&quot;\n",
    "\n",
    "add_str_nums(&quot;1874682736267235927359283579235789257&quot;,\n",
    "&quot;32652983572985729&quot;) ➞ &quot;1874682736267235927391936562808774986&quot;"
   ]
  },
  {
   "cell_type": "code",
   "execution_count": 74,
   "id": "511b8a13",
   "metadata": {},
   "outputs": [],
   "source": [
    "def add_str_nums(num1,num2):\n",
    "    try:\n",
    "        return str(int(num1) + int(num2))\n",
    "    except:\n",
    "        if len(num1) > 1 or len(num2) > 1 :\n",
    "            return \"-1\"\n",
    "        else:\n",
    "            return \"1\""
   ]
  },
  {
   "cell_type": "code",
   "execution_count": 75,
   "id": "a8621ae0",
   "metadata": {},
   "outputs": [
    {
     "data": {
      "text/plain": [
       "'9'"
      ]
     },
     "execution_count": 75,
     "metadata": {},
     "output_type": "execute_result"
    }
   ],
   "source": [
    "add_str_nums(\"4\", \"5\")"
   ]
  },
  {
   "cell_type": "code",
   "execution_count": 76,
   "id": "3f94e508",
   "metadata": {},
   "outputs": [
    {
     "data": {
      "text/plain": [
       "'-1'"
      ]
     },
     "execution_count": 76,
     "metadata": {},
     "output_type": "execute_result"
    }
   ],
   "source": [
    "add_str_nums(\"abcdefg\", \"3\")"
   ]
  },
  {
   "cell_type": "code",
   "execution_count": 77,
   "id": "e23fbde0",
   "metadata": {},
   "outputs": [
    {
     "data": {
      "text/plain": [
       "'1'"
      ]
     },
     "execution_count": 77,
     "metadata": {},
     "output_type": "execute_result"
    }
   ],
   "source": [
    "add_str_nums(\"1\", \"\")"
   ]
  },
  {
   "cell_type": "code",
   "execution_count": 78,
   "id": "488c54c2",
   "metadata": {},
   "outputs": [
    {
     "data": {
      "text/plain": [
       "'1874682736267235927391936562808774986'"
      ]
     },
     "execution_count": 78,
     "metadata": {},
     "output_type": "execute_result"
    }
   ],
   "source": [
    "add_str_nums(\"1874682736267235927359283579235789257\", \"32652983572985729\")"
   ]
  },
  {
   "cell_type": "markdown",
   "id": "3eea3bfb",
   "metadata": {},
   "source": [
    "5. lPaeesh le pemu mnxit ehess rtnisg! Oh, sorry, that was supposed to say:\n",
    "Please help me unmix these strings!\n",
    "\n",
    "Somehow my strings have all become mixed up; every pair of characters has\n",
    "been swapped. Help me undo this so I can understand my strings again.\n",
    "Examples\n",
    "\n",
    "unmix(&quot;123456&quot;) ➞ &quot;214365&quot;\n",
    "\n",
    "unmix(&quot;badce&quot;) ➞ &quot;abcde&quot;"
   ]
  },
  {
   "cell_type": "code",
   "execution_count": 118,
   "id": "d72a6662",
   "metadata": {},
   "outputs": [],
   "source": [
    "def unmix(string):\n",
    "    result = \"\"\n",
    "    string = string\n",
    "    for i in range(0,len(string)-1,2):\n",
    "        result += string[i+1] + string[i]\n",
    "        if len(string)%2 != 0 and i == len(string)//2 :\n",
    "            result += string[-1] \n",
    "    return result"
   ]
  },
  {
   "cell_type": "code",
   "execution_count": 119,
   "id": "5ab2bcac",
   "metadata": {},
   "outputs": [
    {
     "data": {
      "text/plain": [
       "'214365'"
      ]
     },
     "execution_count": 119,
     "metadata": {},
     "output_type": "execute_result"
    }
   ],
   "source": [
    "unmix(\"123456\")"
   ]
  },
  {
   "cell_type": "code",
   "execution_count": 120,
   "id": "cbcc2c8a",
   "metadata": {},
   "outputs": [
    {
     "data": {
      "text/plain": [
       "'abcde'"
      ]
     },
     "execution_count": 120,
     "metadata": {},
     "output_type": "execute_result"
    }
   ],
   "source": [
    "unmix(\"badce\")"
   ]
  }
 ],
 "metadata": {
  "kernelspec": {
   "display_name": "Python 3 (ipykernel)",
   "language": "python",
   "name": "python3"
  },
  "language_info": {
   "codemirror_mode": {
    "name": "ipython",
    "version": 3
   },
   "file_extension": ".py",
   "mimetype": "text/x-python",
   "name": "python",
   "nbconvert_exporter": "python",
   "pygments_lexer": "ipython3",
   "version": "3.9.7"
  }
 },
 "nbformat": 4,
 "nbformat_minor": 5
}
