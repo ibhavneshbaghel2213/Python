{
 "cells": [
  {
   "cell_type": "markdown",
   "id": "93d9502e",
   "metadata": {},
   "source": [
    "1. Given a sentence, return the number of words which have the same first\n",
    "and last letter.\n",
    "\n",
    "Examples\n",
    "- count_same_ends(&quot;Pop! goes the balloon&quot;) ➞ 1\n",
    "- count_same_ends(&quot;And the crowd goes wild!&quot;) ➞ 0\n",
    "- count_same_ends(&quot;No I am not in a gang.&quot;) ➞ 1"
   ]
  },
  {
   "cell_type": "code",
   "execution_count": 19,
   "id": "0f1710f1",
   "metadata": {},
   "outputs": [],
   "source": [
    "def count_same_ends(string=str):\n",
    "    string = string.replace(\".\",\"\")\n",
    "    string = string.replace(\"!\",\"\")\n",
    "    splitted_str = string.split(\" \")\n",
    "   \n",
    "    count = 0\n",
    "    for i in splitted_str:\n",
    "        if i[0].lower() == i[-1].lower() and len(i) > 1:\n",
    "            count += 1\n",
    "\n",
    "    return count"
   ]
  },
  {
   "cell_type": "code",
   "execution_count": 20,
   "id": "fd104c26",
   "metadata": {},
   "outputs": [
    {
     "data": {
      "text/plain": [
       "0"
      ]
     },
     "execution_count": 20,
     "metadata": {},
     "output_type": "execute_result"
    }
   ],
   "source": [
    "count_same_ends(\"And the crowd goes wild!\")"
   ]
  },
  {
   "cell_type": "code",
   "execution_count": 21,
   "id": "3dacf7a6",
   "metadata": {},
   "outputs": [
    {
     "data": {
      "text/plain": [
       "1"
      ]
     },
     "execution_count": 21,
     "metadata": {},
     "output_type": "execute_result"
    }
   ],
   "source": [
    "count_same_ends(\"Pop! goes the balloon\")"
   ]
  },
  {
   "cell_type": "code",
   "execution_count": 22,
   "id": "e5496166",
   "metadata": {},
   "outputs": [
    {
     "data": {
      "text/plain": [
       "1"
      ]
     },
     "execution_count": 22,
     "metadata": {},
     "output_type": "execute_result"
    }
   ],
   "source": [
    "count_same_ends(\"No I am not in a gang.\")"
   ]
  },
  {
   "cell_type": "markdown",
   "id": "d9cc363f",
   "metadata": {},
   "source": [
    "2. The Atbash cipher is an encryption method in which each letter of a word is\n",
    "replaced with its &quot;mirror&quot; letter in the alphabet: A &lt;=&gt; Z; B &lt;=&gt; Y; C &lt;=&gt; X;\n",
    "etc.\n",
    "\n",
    "Create a function that takes a string and applies the Atbash cipher to it.\n",
    "Examples\n",
    "\n",
    "- atbash(&quot;apple&quot;) ➞ &quot;zkkov&quot;\n",
    "- atbash(&quot;Hello world!&quot;) ➞ &quot;Svool dliow!&quot;\n",
    "- atbash(&quot;Christmas is the 25th of December&quot;) ➞ &quot;Xsirhgnzh rh gsv 25gs lu\n",
    "Wvxvnyvi&quot;"
   ]
  },
  {
   "cell_type": "code",
   "execution_count": 45,
   "id": "09a7444f",
   "metadata": {},
   "outputs": [],
   "source": [
    "def atbash(string):\n",
    "    lookup_table = {'A' : 'Z', 'B' : 'Y', 'C' : 'X', 'D' : 'W', 'E' : 'V',\n",
    "        'F' : 'U', 'G' : 'T', 'H' : 'S', 'I' : 'R', 'J' : 'Q',\n",
    "        'K' : 'P', 'L' : 'O', 'M' : 'N', 'N' : 'M', 'O' : 'L',\n",
    "        'P' : 'K', 'Q' : 'J', 'R' : 'I', 'S' : 'H', 'T' : 'G',\n",
    "        'U' : 'F', 'V' : 'E', 'W' : 'D', 'X' : 'C', 'Y' : 'B', 'Z' : 'A', '1':'1', '2':'2', '3':'3','4':'4','5':'5','6':'6','7':'7'}\n",
    "    \n",
    "    result = \"\"\n",
    "    \n",
    "    for i in string:\n",
    "        if i == \" \":\n",
    "            result += \" \"\n",
    "        elif i == \"!\":\n",
    "            result += \"!\"\n",
    "        else:\n",
    "            result+= lookup_table[i.upper()].lower()\n",
    "    return result"
   ]
  },
  {
   "cell_type": "code",
   "execution_count": 46,
   "id": "8ac6004d",
   "metadata": {},
   "outputs": [
    {
     "data": {
      "text/plain": [
       "'zkkov'"
      ]
     },
     "execution_count": 46,
     "metadata": {},
     "output_type": "execute_result"
    }
   ],
   "source": [
    "atbash(\"apple\")"
   ]
  },
  {
   "cell_type": "code",
   "execution_count": 47,
   "id": "7da4ec4e",
   "metadata": {},
   "outputs": [
    {
     "data": {
      "text/plain": [
       "'svool dliow!'"
      ]
     },
     "execution_count": 47,
     "metadata": {},
     "output_type": "execute_result"
    }
   ],
   "source": [
    "atbash(\"Hello world!\")"
   ]
  },
  {
   "cell_type": "code",
   "execution_count": 48,
   "id": "9004ccbf",
   "metadata": {},
   "outputs": [
    {
     "data": {
      "text/plain": [
       "'xsirhgnzh rh gsv 25gs lu wvxvnyvi'"
      ]
     },
     "execution_count": 48,
     "metadata": {},
     "output_type": "execute_result"
    }
   ],
   "source": [
    "atbash(\"Christmas is the 25th of December\")"
   ]
  },
  {
   "cell_type": "markdown",
   "id": "71202c7b",
   "metadata": {},
   "source": [
    " 3. Create a class Employee that will take a full name as argument, as well as\n",
    "a set of none, one or more keywords. Each instance should have a name and\n",
    "a lastname attributes plus one more attribute for each of the keywords, if any.\n",
    "Examples\n",
    "\n",
    "- john = Employee(&quot;John Doe&quot;)\n",
    "-  mary = Employee(&quot;Mary Major&quot;, salary=120000)\n",
    "-  richard = Employee(&quot;Richard Roe&quot;, salary=110000, height=178)\n",
    "-  giancarlo = Employee(&quot;Giancarlo Rossi&quot;, salary=115000, height=182,nationality=&quot;Italian&quot;)\n",
    "\n",
    "1) john.name ➞ &quot;John&quot;\n",
    "\n",
    "2) mary.lastname ➞ &quot;Major&quot;\n",
    "\n",
    "3) richard.height ➞ 178\n",
    "\n",
    "4) giancarlo.nationality ➞ &quot;Italian&quot;"
   ]
  },
  {
   "cell_type": "code",
   "execution_count": 49,
   "id": "4af9f64b",
   "metadata": {},
   "outputs": [],
   "source": [
    "class Employee:\n",
    "    \n",
    "    def __init__(self,name,salary=None,height=None,nationality=None):\n",
    "        self.name = name.split(' ')[0]\n",
    "        self.lastname = name.split(' ')[1]\n",
    "        self.salary = salary\n",
    "        self.height = height\n",
    "        self.nationality = nationality\n",
    "        \n",
    "john = Employee(\"John Doe\")\n",
    "mary = Employee(\"Mary Major\", salary=120000)\n",
    "richard = Employee(\"Richard Roe\", salary=110000, height=178)\n",
    "giancarlo = Employee(\"Giancarlo Rossi\", salary=115000, height=182,nationality=\"Italian\")"
   ]
  },
  {
   "cell_type": "code",
   "execution_count": 50,
   "id": "34c26dba",
   "metadata": {},
   "outputs": [
    {
     "data": {
      "text/plain": [
       "'John'"
      ]
     },
     "execution_count": 50,
     "metadata": {},
     "output_type": "execute_result"
    }
   ],
   "source": [
    "john.name"
   ]
  },
  {
   "cell_type": "code",
   "execution_count": 51,
   "id": "689edef1",
   "metadata": {},
   "outputs": [
    {
     "data": {
      "text/plain": [
       "'Major'"
      ]
     },
     "execution_count": 51,
     "metadata": {},
     "output_type": "execute_result"
    }
   ],
   "source": [
    "mary.lastname"
   ]
  },
  {
   "cell_type": "code",
   "execution_count": 52,
   "id": "e10ecc4a",
   "metadata": {},
   "outputs": [
    {
     "data": {
      "text/plain": [
       "178"
      ]
     },
     "execution_count": 52,
     "metadata": {},
     "output_type": "execute_result"
    }
   ],
   "source": [
    "richard.height"
   ]
  },
  {
   "cell_type": "code",
   "execution_count": 53,
   "id": "7f57d38e",
   "metadata": {},
   "outputs": [
    {
     "data": {
      "text/plain": [
       "'Italian'"
      ]
     },
     "execution_count": 53,
     "metadata": {},
     "output_type": "execute_result"
    }
   ],
   "source": [
    "giancarlo.nationality"
   ]
  },
  {
   "cell_type": "markdown",
   "id": "5f71af06",
   "metadata": {},
   "source": [
    "4. Create a function that determines whether each seat can &quot;see&quot; the front-\n",
    "stage. A number can &quot;see&quot; the front-stage if it is strictly greater than the\n",
    "number before it.\n",
    "\n",
    "Everyone can see the front-stage in the example below:\n",
    "- FRONT STAGE\n",
    "\n",
    "[[1, 2, 3, 2, 1, 1],\n",
    "[2, 4, 4, 3, 2, 2],\n",
    "[5, 5, 5, 5, 4, 4],\n",
    "[6, 6, 7, 6, 5, 5]]\n",
    "\n",
    "- Starting from the left, the 6 &gt; 5 &gt; 2 &gt; 1, so all numbers can see.\n",
    "- 6 &gt; 5 &gt; 4 &gt; 2 - so all numbers can see, etc.\n",
    "- Not everyone can see the front-stage in the example below:\n",
    "-  FRONT STAGE\n",
    "\n",
    "[[1, 2, 3, 2, 1, 1],\n",
    "[2, 4, 4, 3, 2, 2],\n",
    "[5, 5, 5, 10, 4, 4],\n",
    "[6, 6, 7, 6, 5, 5]]\n",
    "\n",
    "- The 10 is directly in front of the 6 and blocking its view.\n",
    "\n",
    "The function should return True if every number can see the front-stage, and\n",
    "False if even a single number cannot.\n",
    "\n",
    "Examples\n",
    "1) can_see_stage([\n",
    "[1, 2, 3],\n",
    "[4, 5, 6],\n",
    "[7, 8, 9]\n",
    "]) ➞ True\n",
    "\n",
    "2) can_see_stage([\n",
    "[0, 0, 0],\n",
    "[1, 1, 1],\n",
    "[2, 2, 2]\n",
    "]) ➞ True\n",
    "\n",
    "3) can_see_stage([\n",
    "[2, 0, 0],\n",
    "[1, 1, 1],\n",
    "\n",
    "[2, 2, 2]\n",
    "]) ➞ False\n",
    "\n",
    "4) can_see_stage([\n",
    "[1, 0, 0],\n",
    "[1, 1, 1],\n",
    "[2, 2, 2]\n",
    "]) ➞ False\n",
    "\n",
    "- Number must be strictly smaller than\n",
    "-  the number directly behind it."
   ]
  },
  {
   "cell_type": "code",
   "execution_count": 60,
   "id": "4617da98",
   "metadata": {},
   "outputs": [],
   "source": [
    "def can_see_stage(lis=list):\n",
    "    flag = True\n",
    "    for i in range(len(lis)-1):\n",
    "        for j in range(len(lis[i])):\n",
    "            if lis[i][j] >= lis[i+1][j]:\n",
    "                flag = False\n",
    "                break\n",
    "    return flag"
   ]
  },
  {
   "cell_type": "code",
   "execution_count": 61,
   "id": "9bc9eb5f",
   "metadata": {},
   "outputs": [
    {
     "data": {
      "text/plain": [
       "True"
      ]
     },
     "execution_count": 61,
     "metadata": {},
     "output_type": "execute_result"
    }
   ],
   "source": [
    "can_see_stage([ [1, 2, 3], [4, 5, 6], [7, 8, 9] ]) "
   ]
  },
  {
   "cell_type": "code",
   "execution_count": 62,
   "id": "3835a2dd",
   "metadata": {},
   "outputs": [
    {
     "data": {
      "text/plain": [
       "True"
      ]
     },
     "execution_count": 62,
     "metadata": {},
     "output_type": "execute_result"
    }
   ],
   "source": [
    "can_see_stage([ [0, 0, 0], [1, 1, 1], [2, 2, 2] ]) "
   ]
  },
  {
   "cell_type": "code",
   "execution_count": 63,
   "id": "32b93f7e",
   "metadata": {},
   "outputs": [
    {
     "data": {
      "text/plain": [
       "False"
      ]
     },
     "execution_count": 63,
     "metadata": {},
     "output_type": "execute_result"
    }
   ],
   "source": [
    "can_see_stage([ [2, 0, 0], [1, 1, 1], [2, 2, 2] ])"
   ]
  },
  {
   "cell_type": "code",
   "execution_count": 64,
   "id": "4fc73596",
   "metadata": {},
   "outputs": [
    {
     "data": {
      "text/plain": [
       "False"
      ]
     },
     "execution_count": 64,
     "metadata": {},
     "output_type": "execute_result"
    }
   ],
   "source": [
    "can_see_stage([ [1, 0, 0], [1, 1, 1], [2, 2, 2] ])"
   ]
  },
  {
   "cell_type": "markdown",
   "id": "6ced705a",
   "metadata": {},
   "source": [
    "5. Create a Pizza class with the attributes order_number and ingredients\n",
    "(which is given as a list). Only the ingredients will be given as input.\n",
    "You should also make it so that its possible to choose a ready made pizza\n",
    "flavour rather than typing out the ingredients manually! As well as creating\n",
    "this Pizza class, hard-code the following pizza flavours.\n",
    "\n",
    "- Name Ingredients\n",
    "- hawaiian ham, pineapple\n",
    "- meat_festival beef, meatball, bacon\n",
    "- garden_feast spinach, olives, mushroom\n",
    "\n",
    "Examples\n",
    "1) p1 = Pizza([&quot;bacon&quot;, &quot;parmesan&quot;, &quot;ham&quot;]) # order 1\n",
    "\n",
    "2) p2 = Pizza.garden_feast() # order 2\n",
    "\n",
    "- p1.ingredients ➞ [&quot;bacon&quot;, &quot;parmesan&quot;, &quot;ham&quot;]\n",
    "- p2.ingredients ➞ [&quot;spinach&quot;, &quot;olives&quot;, &quot;mushroom&quot;]\n",
    "- p1.order_number ➞ 1\n",
    "- p2.order_number ➞ 2"
   ]
  },
  {
   "cell_type": "code",
   "execution_count": 65,
   "id": "837fdce1",
   "metadata": {},
   "outputs": [
    {
     "name": "stdout",
     "output_type": "stream",
     "text": [
      "['bacon', 'parmesan', 'ham']\n",
      "['spinach', 'olives', 'mushroom']\n",
      "1\n",
      "2\n"
     ]
    }
   ],
   "source": [
    "class Pizza:\n",
    "    order  = 0\n",
    "    def __init__(self, ingredients=None):\n",
    "        self.ingredients = ingredients\n",
    "        self.order_number = Pizza.order+1\n",
    "        Pizza.order = self.order_number\n",
    "        \n",
    "    def hawaiian(self):\n",
    "        self.ingredients = ['ham', 'pineapple']\n",
    "        \n",
    "    def meat_festival(self):\n",
    "        self.ingredients = ['beef', 'meatball', 'bacon']\n",
    "        \n",
    "    def garden_feast(self):\n",
    "        self.ingredients = ['spinach', 'olives', 'mushroom']\n",
    "        \n",
    "        \n",
    "p1 = Pizza([\"bacon\", \"parmesan\", \"ham\"]) # order 1\n",
    "p2 = Pizza() #order 2\n",
    "p2.garden_feast()\n",
    "\n",
    "\n",
    "print(p1.ingredients)\n",
    "print(p2.ingredients)\n",
    "print(p1.order_number)\n",
    "print(p2.order_number)"
   ]
  }
 ],
 "metadata": {
  "kernelspec": {
   "display_name": "Python 3 (ipykernel)",
   "language": "python",
   "name": "python3"
  },
  "language_info": {
   "codemirror_mode": {
    "name": "ipython",
    "version": 3
   },
   "file_extension": ".py",
   "mimetype": "text/x-python",
   "name": "python",
   "nbconvert_exporter": "python",
   "pygments_lexer": "ipython3",
   "version": "3.9.7"
  }
 },
 "nbformat": 4,
 "nbformat_minor": 5
}
