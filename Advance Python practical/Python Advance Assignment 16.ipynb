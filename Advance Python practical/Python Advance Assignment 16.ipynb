{
 "cells": [
  {
   "cell_type": "markdown",
   "id": "51c2ba03",
   "metadata": {},
   "source": [
    "1. Rondo Form is a type of musical structure, in which there is a recurring\n",
    "theme/refrain, notated as A. Here are the rules for valid rondo forms:\n",
    "- Rondo forms always start and end with an A section.\n",
    "- In between the A sections, there should be contrasting sections notated as\n",
    "B, then C, then D, etc... No letter should be skipped.\n",
    "- There shouldn&#39;t be any repeats in the sequence (such as ABBACCA).\n",
    "\n",
    "Create a function which validates whether a given string is a valid Rondo\n",
    "Form.\n",
    "Examples\n",
    "\n",
    "- valid_rondo(&quot;ABACADAEAFAGAHAIAJA&quot;) ➞ True\n",
    "- valid_rondo(&quot;ABA&quot;) ➞ True\n",
    "- valid_rondo(&quot;ABBACCA&quot;) ➞ False\n",
    "- valid_rondo(&quot;ACAC&quot;) ➞ False\n",
    "- valid_rondo(&quot;A&quot;) ➞ False"
   ]
  },
  {
   "cell_type": "code",
   "execution_count": 23,
   "id": "766fb405",
   "metadata": {},
   "outputs": [],
   "source": [
    "def valid_rondo(string):\n",
    "    alphabet = \"ABCDEFGHIJKLMNOPQRSTUVWXYZ\"\n",
    "    extracted_alpha = \"\"\n",
    "    i=0\n",
    "    while i < len(string):\n",
    "        if i%2 == 0 :\n",
    "            if string[i] != \"A\" :\n",
    "                return False\n",
    "        else:\n",
    "            extracted_alpha += string[i]\n",
    "        i+=1\n",
    "    if alphabet[1:len(extracted_alpha)+1] == extracted_alpha:\n",
    "        return True\n",
    "    else:\n",
    "        return False"
   ]
  },
  {
   "cell_type": "code",
   "execution_count": 24,
   "id": "d95504d6",
   "metadata": {},
   "outputs": [
    {
     "data": {
      "text/plain": [
       "True"
      ]
     },
     "execution_count": 24,
     "metadata": {},
     "output_type": "execute_result"
    }
   ],
   "source": [
    "valid_rondo(\"ABACADAEAFAGAHAIAJA\")"
   ]
  },
  {
   "cell_type": "code",
   "execution_count": 25,
   "id": "b9c73479",
   "metadata": {},
   "outputs": [
    {
     "data": {
      "text/plain": [
       "True"
      ]
     },
     "execution_count": 25,
     "metadata": {},
     "output_type": "execute_result"
    }
   ],
   "source": [
    "valid_rondo(\"ABA\")"
   ]
  },
  {
   "cell_type": "code",
   "execution_count": 26,
   "id": "f140c169",
   "metadata": {},
   "outputs": [
    {
     "data": {
      "text/plain": [
       "False"
      ]
     },
     "execution_count": 26,
     "metadata": {},
     "output_type": "execute_result"
    }
   ],
   "source": [
    "valid_rondo(\"ABBACCA\")"
   ]
  },
  {
   "cell_type": "code",
   "execution_count": 27,
   "id": "ebb20cbf",
   "metadata": {},
   "outputs": [
    {
     "data": {
      "text/plain": [
       "False"
      ]
     },
     "execution_count": 27,
     "metadata": {},
     "output_type": "execute_result"
    }
   ],
   "source": [
    "valid_rondo(\"ACAC\")"
   ]
  },
  {
   "cell_type": "code",
   "execution_count": 28,
   "id": "039d5b65",
   "metadata": {},
   "outputs": [
    {
     "data": {
      "text/plain": [
       "False"
      ]
     },
     "execution_count": 28,
     "metadata": {},
     "output_type": "execute_result"
    }
   ],
   "source": [
    "valid_rondo(\"ACAC\")"
   ]
  },
  {
   "cell_type": "markdown",
   "id": "04d4dd1b",
   "metadata": {},
   "source": [
    "2. Create a function that returns the whole of the first sentence which\n",
    "contains a specific word. Include the full stop at the end of the sentence.\n",
    "Examples\n",
    "\n",
    "txt = &quot;I have a cat. I have a mat. Things are going swell.&quot;\n",
    "- sentence_searcher(txt, &quot;have&quot;) ➞ &quot;I have a cat.&quot;\n",
    "- sentence_searcher(txt, &quot;MAT&quot;) ➞ &quot;I have a mat.&quot;\n",
    "- sentence_searcher(txt, &quot;things&quot;) ➞ &quot;Things are going swell.&quot;\n",
    "- sentence_searcher(txt, &quot;flat&quot;) ➞ &quot;&quot;"
   ]
  },
  {
   "cell_type": "code",
   "execution_count": 36,
   "id": "da2a1dd0",
   "metadata": {},
   "outputs": [],
   "source": [
    "def sentence_searcher(txt, search_str):\n",
    "    sentences = txt.split(\". \")\n",
    "    for i in sentences:\n",
    "        if search_str.lower() in [j.lower() for j in i.split(\" \")]:\n",
    "            return i + \".\"\n",
    "    return \"\""
   ]
  },
  {
   "cell_type": "code",
   "execution_count": 37,
   "id": "4a8c3b19",
   "metadata": {},
   "outputs": [],
   "source": [
    "txt = \"I have a cat. I have a mat. Things are going swell. \" "
   ]
  },
  {
   "cell_type": "code",
   "execution_count": 38,
   "id": "7df17423",
   "metadata": {},
   "outputs": [
    {
     "data": {
      "text/plain": [
       "'I have a cat.'"
      ]
     },
     "execution_count": 38,
     "metadata": {},
     "output_type": "execute_result"
    }
   ],
   "source": [
    "sentence_searcher(txt, \"have\") "
   ]
  },
  {
   "cell_type": "code",
   "execution_count": 39,
   "id": "aa23ec4e",
   "metadata": {},
   "outputs": [
    {
     "data": {
      "text/plain": [
       "'I have a mat.'"
      ]
     },
     "execution_count": 39,
     "metadata": {},
     "output_type": "execute_result"
    }
   ],
   "source": [
    "sentence_searcher(txt, \"MAT\")"
   ]
  },
  {
   "cell_type": "code",
   "execution_count": 40,
   "id": "e17016e6",
   "metadata": {},
   "outputs": [
    {
     "data": {
      "text/plain": [
       "'Things are going swell.'"
      ]
     },
     "execution_count": 40,
     "metadata": {},
     "output_type": "execute_result"
    }
   ],
   "source": [
    "sentence_searcher(txt, \"things\")"
   ]
  },
  {
   "cell_type": "code",
   "execution_count": 41,
   "id": "2caacf75",
   "metadata": {},
   "outputs": [
    {
     "data": {
      "text/plain": [
       "''"
      ]
     },
     "execution_count": 41,
     "metadata": {},
     "output_type": "execute_result"
    }
   ],
   "source": [
    "sentence_searcher(txt, \"flat\")"
   ]
  },
  {
   "cell_type": "markdown",
   "id": "cf9b168c",
   "metadata": {},
   "source": [
    "3. Given a number, find the &quot;round &quot;of each digit of the number. An integer is\n",
    "called &quot;round&quot; if all its digits except the leftmost (most significant) are equal to\n",
    "zero.\n",
    "- Round numbers: 4000, 1, 9, 800, 90\n",
    "- Not round numbers: 110, 707, 222, 1001\n",
    "\n",
    "Create a function that takes a number and returns the &quot;round&quot; of each digit\n",
    "(except if the digit is zero) as a string. Check out the following examples for\n",
    "more clarification.\n",
    "Examples\n",
    "- sum_round(101) ➞ &quot;1 100&quot;\n",
    "- sum_round(1234) ➞ &quot;4 30 200 1000&quot;\n",
    "- sum_round(54210) ➞ &quot;10 200 4000 50000&quot;"
   ]
  },
  {
   "cell_type": "code",
   "execution_count": 76,
   "id": "5cbe9152",
   "metadata": {},
   "outputs": [],
   "source": [
    "def sum_round(num):\n",
    "    result = []\n",
    "    str_num = str(num)\n",
    "    for i in range(len(str_num)):\n",
    "        if str_num[i] != \"0\":\n",
    "            result.append(str_num[i]+len(str_num[i+1:])*\"0\")\n",
    "    return \" \".join(result[::-1])\n",
    "            "
   ]
  },
  {
   "cell_type": "code",
   "execution_count": 77,
   "id": "b7d58da9",
   "metadata": {},
   "outputs": [
    {
     "data": {
      "text/plain": [
       "'1 100'"
      ]
     },
     "execution_count": 77,
     "metadata": {},
     "output_type": "execute_result"
    }
   ],
   "source": [
    "sum_round(101)"
   ]
  },
  {
   "cell_type": "code",
   "execution_count": 78,
   "id": "caabe5fd",
   "metadata": {},
   "outputs": [
    {
     "data": {
      "text/plain": [
       "'4 30 200 1000'"
      ]
     },
     "execution_count": 78,
     "metadata": {},
     "output_type": "execute_result"
    }
   ],
   "source": [
    "sum_round(1234)"
   ]
  },
  {
   "cell_type": "code",
   "execution_count": 79,
   "id": "35660c20",
   "metadata": {},
   "outputs": [
    {
     "data": {
      "text/plain": [
       "'10 200 4000 50000'"
      ]
     },
     "execution_count": 79,
     "metadata": {},
     "output_type": "execute_result"
    }
   ],
   "source": [
    "sum_round(54210) "
   ]
  },
  {
   "cell_type": "markdown",
   "id": "6b893a58",
   "metadata": {},
   "source": [
    "4. Your task, is to create N x N multiplication table, of size n provided in\n",
    "parameter.\n",
    "For example, when n is 5, the multiplication table is:\n",
    "- 1, 2, 3, 4, 5\n",
    "- 2, 4, 6, 8, 10\n",
    "- 3, 6, 9, 12, 15\n",
    "- 4, 8, 12, 16, 20\n",
    "- 5, 10, 15, 20, 25\n",
    "\n",
    "This example will result in:\n",
    "[[1, 2, 3, 4, 5], [2, 4, 6, 8, 10], [3, 6, 9, 12, 15], [4, 8, 12, 16, 20], [5, 10, 15, 20,\n",
    "25]]\n",
    "Examples\n",
    "- multiplication_table(1) ➞ [[1]]\n",
    "- multiplication_table(3) ➞ [[1, 2, 3], [2, 4, 6], [3, 6, 9]]"
   ]
  },
  {
   "cell_type": "code",
   "execution_count": 58,
   "id": "51c2496a",
   "metadata": {},
   "outputs": [],
   "source": [
    "def multiplication_table(n):\n",
    "    result = []\n",
    "    for i in range(1,n+1):\n",
    "        lis = []\n",
    "        for j in range(1,n+1):\n",
    "            lis.append(i*j)\n",
    "        result.append(lis)\n",
    "    return result"
   ]
  },
  {
   "cell_type": "code",
   "execution_count": 59,
   "id": "a3d7520c",
   "metadata": {},
   "outputs": [
    {
     "data": {
      "text/plain": [
       "[[1, 2, 3, 4, 5],\n",
       " [2, 4, 6, 8, 10],\n",
       " [3, 6, 9, 12, 15],\n",
       " [4, 8, 12, 16, 20],\n",
       " [5, 10, 15, 20, 25]]"
      ]
     },
     "execution_count": 59,
     "metadata": {},
     "output_type": "execute_result"
    }
   ],
   "source": [
    "multiplication_table(5)"
   ]
  },
  {
   "cell_type": "code",
   "execution_count": 60,
   "id": "619e0071",
   "metadata": {},
   "outputs": [
    {
     "data": {
      "text/plain": [
       "[[1]]"
      ]
     },
     "execution_count": 60,
     "metadata": {},
     "output_type": "execute_result"
    }
   ],
   "source": [
    "multiplication_table(1)"
   ]
  },
  {
   "cell_type": "markdown",
   "id": "79e82944",
   "metadata": {},
   "source": [
    "5. Create a function that returns True if two lines rhyme and False otherwise.\n",
    "For the purposes of this exercise, two lines rhyme if the last word from each\n",
    "sentence contains the same vowels.\n",
    "Examples\n",
    "\n",
    "- does_rhyme(&quot;Sam I am!&quot;, &quot;Green eggs and ham.&quot;) ➞ True\n",
    "- does_rhyme(&quot;Sam I am!&quot;, &quot;Green eggs and HAM.&quot;) ➞ True--- Capitalization and punctuation should not matter.\n",
    "\n",
    "- does_rhyme(&quot;You are off to the races&quot;, &quot;a splendid day.&quot;) ➞ False\n",
    "- does_rhyme(&quot;and frequently do?&quot;, &quot;you gotta move.&quot;) ➞ False"
   ]
  },
  {
   "cell_type": "code",
   "execution_count": 10,
   "id": "a8835c4e",
   "metadata": {},
   "outputs": [],
   "source": [
    "def does_rhyme(str1,str2):\n",
    "    x, y = \"\", \"\"\n",
    "    for i in str1[::-1]:\n",
    "        if i.isalpha():\n",
    "            x+=i\n",
    "            break\n",
    "    for j in str2[::-1]:\n",
    "        if j.isalpha():\n",
    "            y += j\n",
    "            break\n",
    "    if x.lower() == y.lower():\n",
    "        return True\n",
    "    else:\n",
    "        return False\n",
    "        "
   ]
  },
  {
   "cell_type": "code",
   "execution_count": 11,
   "id": "9b5c3f08",
   "metadata": {},
   "outputs": [
    {
     "data": {
      "text/plain": [
       "True"
      ]
     },
     "execution_count": 11,
     "metadata": {},
     "output_type": "execute_result"
    }
   ],
   "source": [
    "does_rhyme(\"Sam I am!\", \"Green eggs and ham.\") "
   ]
  },
  {
   "cell_type": "code",
   "execution_count": 12,
   "id": "2c529620",
   "metadata": {},
   "outputs": [
    {
     "data": {
      "text/plain": [
       "True"
      ]
     },
     "execution_count": 12,
     "metadata": {},
     "output_type": "execute_result"
    }
   ],
   "source": [
    "does_rhyme(\"Sam I am!\", \"Green eggs and HAM.\")"
   ]
  },
  {
   "cell_type": "code",
   "execution_count": 13,
   "id": "673cbb5a",
   "metadata": {},
   "outputs": [
    {
     "data": {
      "text/plain": [
       "False"
      ]
     },
     "execution_count": 13,
     "metadata": {},
     "output_type": "execute_result"
    }
   ],
   "source": [
    "does_rhyme(\"You are off to the races\", \"a splendid day.\")"
   ]
  },
  {
   "cell_type": "code",
   "execution_count": 14,
   "id": "7d612166",
   "metadata": {},
   "outputs": [
    {
     "data": {
      "text/plain": [
       "False"
      ]
     },
     "execution_count": 14,
     "metadata": {},
     "output_type": "execute_result"
    }
   ],
   "source": [
    "does_rhyme(\"and frequently do?\", \"you gotta move.\")"
   ]
  },
  {
   "cell_type": "code",
   "execution_count": null,
   "id": "ffe356dc",
   "metadata": {},
   "outputs": [],
   "source": []
  }
 ],
 "metadata": {
  "kernelspec": {
   "display_name": "Python 3 (ipykernel)",
   "language": "python",
   "name": "python3"
  },
  "language_info": {
   "codemirror_mode": {
    "name": "ipython",
    "version": 3
   },
   "file_extension": ".py",
   "mimetype": "text/x-python",
   "name": "python",
   "nbconvert_exporter": "python",
   "pygments_lexer": "ipython3",
   "version": "3.9.7"
  }
 },
 "nbformat": 4,
 "nbformat_minor": 5
}
