{
 "cells": [
  {
   "cell_type": "markdown",
   "id": "d5490aa5",
   "metadata": {},
   "source": [
    "1. Create a class Smoothie and do the following:\n",
    "- Create an instance attribute called ingredients.\n",
    "- Create a get_cost method which calculates the total cost of the ingredients used to make the smoothie.\n",
    "- Create a get_price method which returns the number from get_cost plus the number from get_cost multiplied by 1.5. Round to two decimal places.\n",
    "- Create a get_name method which gets the ingredients and puts them in\n",
    "alphabetical order into a nice descriptive sentence. If there are multiple\n",
    "ingredients, add the word &quot;Fusion&quot; to the end but otherwise, add &quot;Smoothie&quot;.\n",
    "Remember to change &quot;-berries&quot; to &quot;-berry&quot;. See the examples below.\n",
    "\n",
    "Ingredient Price\n",
    "\n",
    "Strawberries $1.50\n",
    "\n",
    "Banana $0.50\n",
    "\n",
    "Mango $2.50\n",
    "\n",
    "Blueberries $1.00\n",
    "\n",
    "Raspberries $1.00\n",
    "\n",
    "Apple $1.75\n",
    "\n",
    "Pineapple $3.50\n",
    "\n",
    "Examples\n",
    "s1 = Smoothie([&quot;Banana&quot;])\n",
    "\n",
    "- s1.ingredients ➞ [&quot;Banana&quot;]\n",
    "\n",
    "- s1.get_cost() ➞ &quot;$0.50&quot;\n",
    "\n",
    "- s1.get_price() ➞ &quot;$1.25&quot;\n",
    "- s1.get_name() ➞ &quot;Banana Smoothie&quot;\n",
    "\n",
    "s2 = Smoothie([&quot;Raspberries&quot;, &quot;Strawberries&quot;, &quot;Blueberries&quot;])\n",
    "\n",
    "- s2.ingredients ➞ [&quot;Raspberries&quot;, &quot;Strawberries&quot;, &quot;Blueberries&quot;]\n",
    "\n",
    "- s2.get_cost() ➞ &quot;$3.50&quot;\n",
    "\n",
    "- s2.get_price() ➞ &quot;$8.75&quot;\n",
    "- s2.get_name() ➞ &quot;Blueberry Raspberry Strawberry Fusion&quot;"
   ]
  },
  {
   "cell_type": "code",
   "execution_count": 1,
   "id": "375fcb4e",
   "metadata": {},
   "outputs": [],
   "source": [
    "class Smoothie:\n",
    "    Ingre_Price = {\n",
    "        \"Strawberries\":1.50,\n",
    "        \"Banana\" :0.50,\n",
    "        \"Mango\" :2.50,\n",
    "        \"Blueberries\" :1.00,\n",
    "        \"Raspberries\" :1.00,\n",
    "        \"Apple\" :1.75,\n",
    "        \"Pineapple\" :3.50\n",
    "    }\n",
    "    \n",
    "    def __init__(self,ingredients):\n",
    "        self.ingredients = ingredients\n",
    "        self.cost = 0\n",
    "        \n",
    "    def get_cost(self):\n",
    "        for item in self.ingredients:\n",
    "            self.cost += self.Ingre_Price[item]\n",
    "        return \"$\" +str(self.cost) + \"0\"\n",
    "    \n",
    "    def get_price(self):\n",
    "        return \"$\" + str(self.cost*1.5 + self.cost) \n",
    "    \n",
    "    def get_name(self):\n",
    "        if len(self.ingredients) <= 1:\n",
    "            return self.ingredients[0] + \" Smoothie\"\n",
    "        else:\n",
    "            result = \"\"\n",
    "            for item in sorted(self.ingredients):\n",
    "                if item[-1] == \"s\":\n",
    "                    item = item.replace(\"ies\",\"y\")\n",
    "                    result += item + \" \"\n",
    "            return result + \"Fusion\""
   ]
  },
  {
   "cell_type": "code",
   "execution_count": 2,
   "id": "fd76860a",
   "metadata": {},
   "outputs": [
    {
     "name": "stdout",
     "output_type": "stream",
     "text": [
      "s1.ingredients ➞  ['Banana']\n",
      "s1.get_cost() ➞  $0.50\n",
      "s1.get_price() ➞  $1.25\n",
      "s1.get_name() ➞  Banana Smoothie\n"
     ]
    }
   ],
   "source": [
    "s1 = Smoothie([\"Banana\"])\n",
    "\n",
    "print(\"s1.ingredients ➞ \", s1.ingredients)\n",
    "print(\"s1.get_cost() ➞ \",s1.get_cost())\n",
    "print(\"s1.get_price() ➞ \", s1.get_price())\n",
    "print(\"s1.get_name() ➞ \", s1.get_name())"
   ]
  },
  {
   "cell_type": "code",
   "execution_count": 3,
   "id": "bc52bed2",
   "metadata": {},
   "outputs": [
    {
     "name": "stdout",
     "output_type": "stream",
     "text": [
      "['Raspberries', 'Strawberries', 'Blueberries']\n",
      "$3.50\n",
      "$8.75\n",
      "Blueberry Raspberry Strawberry Fusion\n"
     ]
    }
   ],
   "source": [
    "s2 = Smoothie([\"Raspberries\", \"Strawberries\", \"Blueberries\"])\n",
    "\n",
    "print(s2.ingredients) \n",
    "print(s2.get_cost())\n",
    "print(s2.get_price())\n",
    "print(s2.get_name())"
   ]
  },
  {
   "cell_type": "markdown",
   "id": "4fecc12f",
   "metadata": {},
   "source": [
    "2. Your task is to write a program which allows teachers to create a multiple\n",
    "choice test in a class called Testpaper and to be also able to assign a\n",
    "minimum pass mark. The testpaper&#39;s subject should also be included. The\n",
    "attributes are in the following order:\n",
    "\n",
    "- subject\n",
    "-  markscheme\n",
    "-  pass_mark\n",
    "\n",
    "As well as that, we need to create student objects to take the test itself!\n",
    "Create another class called Student and do the following:\n",
    "\n",
    "- Create an attribute called tests_taken and set the default as &#39;No tests\n",
    "taken&#39;.\n",
    "\n",
    "- Make a method called take_test(), which takes in the testpaper object they\n",
    "are completing and the student&#39;s answers. Compare what they wrote to the\n",
    "mark scheme, and append to the/create a dictionary assigned to tests_taken\n",
    "in the way as shown in the point below.\n",
    "\n",
    "- Each key in the dictionary should be the testpaper subject and each value\n",
    "should be a string in the format seen in the examples below (whether or not\n",
    "the student has failed, and their percentage in brackets).\n",
    "\n",
    "Examples\n",
    "paper1 = Testpaper(&quot;Maths&quot;, [&quot;1A&quot;, &quot;2C&quot;, &quot;3D&quot;, &quot;4A&quot;, &quot;5A&quot;], &quot;60%&quot;)\n",
    "\n",
    "paper2 = Testpaper(&quot;Chemistry&quot;, [&quot;1C&quot;, &quot;2C&quot;, &quot;3D&quot;, &quot;4A&quot;], &quot;75%&quot;)\n",
    "\n",
    "paper3 = Testpaper(&quot;Computing&quot;, [&quot;1D&quot;, &quot;2C&quot;, &quot;3C&quot;, &quot;4B&quot;, &quot;5D&quot;, &quot;6C&quot;, &quot;7A&quot;],\n",
    "&quot;75%&quot;)\n",
    "\n",
    "student1 = Student()\n",
    "\n",
    "student2 = Student()\n",
    "\n",
    "student1.tests_taken ➞ &quot;No tests taken&quot;\n",
    "\n",
    "student1.take_test(paper1, [&quot;1A&quot;, &quot;2D&quot;, &quot;3D&quot;, &quot;4A&quot;, &quot;5A&quot;])\n",
    "\n",
    "student1.tests_taken ➞ {&quot;Maths&quot; : &quot;Passed! (80%)&quot;}\n",
    "\n",
    "student2.take_test(paper2, [&quot;1C&quot;, &quot;2D&quot;, &quot;3A&quot;, &quot;4C&quot;])\n",
    "\n",
    "student2.take_test(paper3, [&quot;1A&quot;, &quot;2C&quot;, &quot;3A&quot;, &quot;4C&quot;, &quot;5D&quot;, &quot;6C&quot;, &quot;7B&quot;])\n",
    "\n",
    "student2.tests_taken ➞ {&quot;Chemistry&quot; : &quot;Failed! (25%)&quot;, &quot;Computing&quot; : &quot;Failed!\n",
    "(43%)&quot;}"
   ]
  },
  {
   "cell_type": "code",
   "execution_count": 4,
   "id": "f6c61efb",
   "metadata": {},
   "outputs": [],
   "source": [
    "class Testpaper:\n",
    "    def __init__(self,subject,markscheme,pass_mark):\n",
    "        self.subject = subject\n",
    "        self.markscheme  = markscheme\n",
    "        self.pass_mark = pass_mark\n",
    "        \n",
    "class Student(Testpaper):\n",
    "    def __init__(self):\n",
    "        self.tests_taken = \"No test taken\"\n",
    "        \n",
    "    def take_test(self,paper,marks):\n",
    "        numbers = 0\n",
    "        for i in range(len(paper.markscheme)):\n",
    "            if paper.markscheme[i] == marks[i]:\n",
    "                numbers+=1\n",
    "        current_marks = int(numbers/len(paper.markscheme)*100)\n",
    "        need_marks = int(paper.pass_mark.split(\"%\")[0])\n",
    "        if self.tests_taken == \"No test taken\":\n",
    "            self.tests_taken = {}\n",
    "        if need_marks >= current_marks:\n",
    "            self.tests_taken[paper.subject] = f\"failed! ({str(current_marks)})%\"\n",
    "        else:\n",
    "            self.tests_taken[paper.subject] = f\"passed! ({str(current_marks)})%\"\n",
    "            \n",
    "paper1 = Testpaper(\"Maths\", [\"1A\", \"2C\", \"3D\", \"4A\", \"5A\"], \"60%\")\n",
    "paper2 = Testpaper(\"Chemistry\", [\"1C\", \"2C\", \"3D\", \"4A\"], \"75%\")\n",
    "paper3 = Testpaper(\"Computing\", [\"1D\", \"2C\", \"3C\", \"4B\", \"5D\", \"6C\", \"7A\"], \"75%\")\n",
    "\n",
    "student1 = Student()\n",
    "student2 = Student()"
   ]
  },
  {
   "cell_type": "code",
   "execution_count": 5,
   "id": "b9fe01e9",
   "metadata": {},
   "outputs": [
    {
     "data": {
      "text/plain": [
       "'No test taken'"
      ]
     },
     "execution_count": 5,
     "metadata": {},
     "output_type": "execute_result"
    }
   ],
   "source": [
    "student1.tests_taken"
   ]
  },
  {
   "cell_type": "code",
   "execution_count": 6,
   "id": "e61e34b4",
   "metadata": {},
   "outputs": [
    {
     "data": {
      "text/plain": [
       "{'Maths': 'passed! (80)%'}"
      ]
     },
     "execution_count": 6,
     "metadata": {},
     "output_type": "execute_result"
    }
   ],
   "source": [
    "student1.take_test(paper1, [\"1A\", \"2D\", \"3D\", \"4A\", \"5A\"])\n",
    "student1.tests_taken"
   ]
  },
  {
   "cell_type": "code",
   "execution_count": 7,
   "id": "885f8057",
   "metadata": {},
   "outputs": [
    {
     "data": {
      "text/plain": [
       "{'Chemistry': 'failed! (25)%', 'Computing': 'failed! (42)%'}"
      ]
     },
     "execution_count": 7,
     "metadata": {},
     "output_type": "execute_result"
    }
   ],
   "source": [
    "student2.take_test(paper2, [\"1C\", \"2D\", \"3A\", \"4C\"])\n",
    "\n",
    "student2.take_test(paper3, [\"1A\", \"2C\", \"3A\", \"4C\", \"5D\", \"6C\", \"7B\"])\n",
    "\n",
    "student2.tests_taken"
   ]
  },
  {
   "cell_type": "markdown",
   "id": "3eeb01eb",
   "metadata": {},
   "source": [
    "3. Due to unforseen circumstances in Suburbia, the trains will be delayed by\n",
    "a further 10 minutes.\n",
    "\n",
    "Create a function that will help to plan out and manage these delays! Create\n",
    "a function called manage_delays that does the following:\n",
    "\n",
    "- Parameters will be the train object, a destination and number of minutes\n",
    "the delay is.\n",
    "\n",
    "- Increment to the train object&#39;s expected_time by the delay, if the\n",
    "destination given is in the train object&#39;s destinations.\n",
    "\n",
    "Examples\n",
    "trains = [\n",
    "Train([&quot;Townsville&quot;, &quot;Suburbia&quot;, &quot;Urbantska&quot;], &quot;13:04&quot;),\n",
    "Train([&quot;Farmsdale&quot;, &quot;Suburbia&quot;, &quot;Lakeside Valley&quot;], &quot;13:20&quot;),\n",
    "Train([&quot;Suburbia&quot;, &quot;Townsville&quot;, &quot;Lakeside Valley&quot;], &quot;13:22&quot;)\n",
    "]\n",
    "\n",
    "for t in trains:\n",
    "manage_delays(t, &quot;Lakeside Valley&quot;, 60)\n",
    "\n",
    "trains[0].expected_time ➞ &quot;13:04&quot;\n",
    "\n",
    "trains[1].expected_time ➞ &quot;14:20&quot;\n",
    "\n",
    "trains[2].expected_time ➞ &quot;14:22&quot;"
   ]
  },
  {
   "cell_type": "code",
   "execution_count": 8,
   "id": "5f9ffba0",
   "metadata": {},
   "outputs": [
    {
     "name": "stdout",
     "output_type": "stream",
     "text": [
      "trains[0].expected_time  ➞ 13:04\n",
      "trains[1].expected_time  ➞ 14:20\n",
      "trains[2].expected_time  ➞ 14:22\n"
     ]
    }
   ],
   "source": [
    "class Train:\n",
    "    def __init__(self,Destinations,expected_time):\n",
    "        self.Destinations = Destinations\n",
    "        self.expected_time = expected_time\n",
    "        \n",
    "def manage_delays(train_obj, Destination, time ):\n",
    "    if Destination in train_obj.Destinations:\n",
    "        splitted_time = train_obj.expected_time.split(\":\")\n",
    "        minutes = str(int(int(splitted_time[0])*60 + int(splitted_time[1]) + int(time))//60)\n",
    "        seconds = str(int(int(splitted_time[0])*60 + int(splitted_time[1]) + int(time))%60)\n",
    "        result = minutes+\":\"+seconds\n",
    "        train_obj.expected_time = result\n",
    "        \n",
    "        \n",
    "trains = [Train([\"Townsville\", \"Suburbia\", \"Urbantska\"], \"13:04\"), \n",
    "          Train([\"Farmsdale\", \"Suburbia\", \"Lakeside Valley\"], \"13:20\"), \n",
    "          Train([\"Suburbia\", \"Townsville\", \"Lakeside Valley\"], \"13:22\")]\n",
    "\n",
    "for t in trains: \n",
    "    manage_delays(t, \"Lakeside Valley\", 60)\n",
    "    \n",
    "    \n",
    "print(\"trains[0].expected_time  ➞\", trains[0].expected_time)\n",
    "print(\"trains[1].expected_time  ➞\",trains[1].expected_time) \n",
    "print(\"trains[2].expected_time  ➞\", trains[2].expected_time)"
   ]
  },
  {
   "cell_type": "markdown",
   "id": "5cb3da30",
   "metadata": {},
   "source": [
    "4.Ted works as a computer programmer at Minecraft Inc. His boss has just\n",
    "given him an important assignment to update the code for the minecart tracks\n",
    "by the end of April. However, he has recently had to self-isolate due to\n",
    "Corvid-19 and has left the code for the tracks BACK AT WORK!! He has the\n",
    "shorthand for the tracks he&#39;s supposed to look at, and where the carts are\n",
    "suppost to end up, but not the actual code.\n",
    "He knows that:\n",
    "\n",
    "1. &quot;--&gt;&quot; = &quot;Speed-Up Track&quot; ⁠— If a minecart interacts with this track, it&#39;s\n",
    "velocity increases by 2.67 BPS unless it&#39;s at its maximum speed of 8 BPS.\n",
    "\n",
    "2. &quot;&lt;--&gt;&quot; = &quot;Powered Track&quot; ⁠— If a minecart interacts with this track, it&#39;s\n",
    "velocity remains the same.\n",
    "\n",
    "3. &quot;&lt;--&quot; = &quot;Slow-Down Track&quot; ⁠— If a minecart interacts with this track, it&#39;s\n",
    "velocity decreases by 2.67 BPS unless it&#39;s velocity equals 0, at which point it\n",
    "stops.\n",
    "\n",
    "4. &quot;---&quot; = &quot;Unpowered Track&quot; ⁠— If a minecart interacts with this track, it&#39;s\n",
    "velocity decreases by 1 BPS unless it&#39;s velocity equals 0, at which point it\n",
    "stops.\n",
    "\n",
    "Help Ted by writing a class for the tracks that interact with the provided\n",
    "Minecart class as shown above. And then write a function that will take a list\n",
    "of the shorthand tracks and:\n",
    "\n",
    "- If the Minecart reaches the last peice of Track, return True.\n",
    "- Else return the index of the Track where the Minecart stops.\n",
    "\n",
    "Examples\n",
    "mine_run([&quot;--&gt;&quot;, &quot;--&gt;&quot;, &quot;--&gt;&quot;, &quot;&lt;--&quot;, &quot;&lt;--&quot;, &quot;&lt;--&quot;]) ➞ True\n",
    "\n",
    "mine_run([&quot;--&gt;&quot;, &quot;&lt;--&quot;, &quot;--&gt;&quot;, &quot;--&gt;&quot;, &quot;&lt;--&gt;&quot;, &quot;---&quot;]) ➞ 1"
   ]
  },
  {
   "cell_type": "code",
   "execution_count": 9,
   "id": "195521dc",
   "metadata": {},
   "outputs": [],
   "source": [
    "def mine_run(Tracks):\n",
    "    velocity = 0\n",
    "    for track in range(len(Tracks)):\n",
    "        if Tracks[track] ==  \"-->\":\n",
    "            if velocity+2.67 >= 8:\n",
    "                velocity = 8\n",
    "            else:\n",
    "                velocity += 2.67\n",
    "\n",
    "        elif Tracks[track] == \"<-->\":\n",
    "            continue\n",
    "        \n",
    "        elif Tracks[track] == \"<--\":\n",
    "            if velocity - 2.67 <= 0:\n",
    "                if track == len(Tracks)-1:\n",
    "                    return True\n",
    "                else:\n",
    "                    return track\n",
    "            else:\n",
    "                velocity -= 2.67\n",
    "                \n",
    "        else:\n",
    "            if velocity - 1 == 0:\n",
    "                if track == len(Tracks)-1:\n",
    "                    return True\n",
    "                else:\n",
    "                    return track\n",
    "            else:\n",
    "                velocity -= 1\n",
    "                \n",
    "                "
   ]
  },
  {
   "cell_type": "code",
   "execution_count": 10,
   "id": "4dac9135",
   "metadata": {},
   "outputs": [
    {
     "data": {
      "text/plain": [
       "True"
      ]
     },
     "execution_count": 10,
     "metadata": {},
     "output_type": "execute_result"
    }
   ],
   "source": [
    "mine_run([\"-->\", \"-->\", \"-->\", \"<--\", \"<--\", \"<--\"])"
   ]
  },
  {
   "cell_type": "code",
   "execution_count": 11,
   "id": "2167e538",
   "metadata": {},
   "outputs": [
    {
     "data": {
      "text/plain": [
       "1"
      ]
     },
     "execution_count": 11,
     "metadata": {},
     "output_type": "execute_result"
    }
   ],
   "source": [
    "mine_run([\"-->\", \"<--\", \"-->\", \"-->\", \"<-->\", \"---\"])"
   ]
  },
  {
   "cell_type": "markdown",
   "id": "d3da75bc",
   "metadata": {},
   "source": [
    "5. Make a Rectangle class with four parameters, an x, a y (representing the\n",
    "top-left corner of the rectangle), a width and a height exclusively in that order.\n",
    "Lastly, make a function intersecting that takes two Rectangle objects and\n",
    "returns True if those objects are intersecting (colliding), else return False.\n",
    "\n",
    "Examples\n",
    "1. a = Rectangle(10, 20, 100, 20)\n",
    "2. b = Rectangle(10, 40, 15, 20)\n",
    "3. c = Rectangle(50, 50, 20, 30)\n",
    "\n",
    "- intersecting(a, b) ➞ True\n",
    "- intersecting(a, c) ➞ False\n",
    "- intersecting(b, c) ➞ True"
   ]
  },
  {
   "cell_type": "code",
   "execution_count": 12,
   "id": "58b89c4d",
   "metadata": {},
   "outputs": [],
   "source": [
    "def intersecting(rect1, rect2):\n",
    "    result = False\n",
    "    if (rect2.y-rect1.y == rect1.height) or (rect2.y-rect1.y + rect1.height == rect2.height):\n",
    "        result = True\n",
    "    return result\n",
    "\n",
    "class Rectangle:\n",
    "    def __init__(self, x, y, width, height):\n",
    "        self.x = x\n",
    "        self.y = y\n",
    "        self.width = width\n",
    "        self.height = height\n",
    "\n",
    "        \n",
    "a = Rectangle(10, 20, 100, 20)\n",
    "b = Rectangle(10, 40, 15, 20)\n",
    "c = Rectangle(50, 50, 20, 30)"
   ]
  },
  {
   "cell_type": "code",
   "execution_count": 13,
   "id": "82b5cb61",
   "metadata": {},
   "outputs": [
    {
     "name": "stdout",
     "output_type": "stream",
     "text": [
      "intersecting(a, b) ➞ True\n",
      "intersecting(a, c) ➞ False\n",
      "intersecting(b, c) ➞ False\n"
     ]
    }
   ],
   "source": [
    "print(\"intersecting(a, b) ➞\",intersecting(a, b))\n",
    "print(\"intersecting(a, c) ➞\", intersecting(a, c))\n",
    "print(\"intersecting(b, c) ➞\", intersecting(a, c))"
   ]
  }
 ],
 "metadata": {
  "kernelspec": {
   "display_name": "Python 3 (ipykernel)",
   "language": "python",
   "name": "python3"
  },
  "language_info": {
   "codemirror_mode": {
    "name": "ipython",
    "version": 3
   },
   "file_extension": ".py",
   "mimetype": "text/x-python",
   "name": "python",
   "nbconvert_exporter": "python",
   "pygments_lexer": "ipython3",
   "version": "3.9.7"
  }
 },
 "nbformat": 4,
 "nbformat_minor": 5
}
