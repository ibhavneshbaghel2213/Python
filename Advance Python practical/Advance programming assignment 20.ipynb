{
 "cells": [
  {
   "cell_type": "markdown",
   "id": "0c46cf50",
   "metadata": {},
   "source": [
    "1. Create a function based on the input and output. Look at the examples,\n",
    "there is a pattern.\n",
    "\n",
    "Examples\n",
    "- secret(&quot;p.one.two.three&quot;) ➞ &quot;&lt;p class=&#39;one two three&#39;&gt;&lt;/p&gt;&quot;\n",
    "- secret(&quot;p.one&quot;) ➞ &quot;&lt;p class=&#39;one&#39;&gt;&lt;/p&gt;&quot;\n",
    "- secret(&quot;p.four.five&quot;) ➞ &quot;&lt;p class=&#39;four five&#39;&gt;&lt;/p&gt;&quot;"
   ]
  },
  {
   "cell_type": "code",
   "execution_count": 9,
   "id": "4f2086a7",
   "metadata": {},
   "outputs": [],
   "source": [
    "def secret(string=str):\n",
    "    res = string[2:].replace(\".\",\" \")\n",
    "    return f\"<p class='{res}'></p>\" "
   ]
  },
  {
   "cell_type": "code",
   "execution_count": 10,
   "id": "4fad130d",
   "metadata": {},
   "outputs": [
    {
     "data": {
      "text/plain": [
       "\"<p class='one two three'></p>\""
      ]
     },
     "execution_count": 10,
     "metadata": {},
     "output_type": "execute_result"
    }
   ],
   "source": [
    "secret(\"p.one.two.three\")"
   ]
  },
  {
   "cell_type": "code",
   "execution_count": 11,
   "id": "3eaf26f3",
   "metadata": {},
   "outputs": [
    {
     "data": {
      "text/plain": [
       "\"<p class='one'></p>\""
      ]
     },
     "execution_count": 11,
     "metadata": {},
     "output_type": "execute_result"
    }
   ],
   "source": [
    "secret(\"p.one\")"
   ]
  },
  {
   "cell_type": "code",
   "execution_count": 13,
   "id": "646851ca",
   "metadata": {},
   "outputs": [
    {
     "data": {
      "text/plain": [
       "\"<p class='four five'></p>\""
      ]
     },
     "execution_count": 13,
     "metadata": {},
     "output_type": "execute_result"
    }
   ],
   "source": [
    "secret(\"p.four.five\")"
   ]
  },
  {
   "cell_type": "markdown",
   "id": "535b8cfd",
   "metadata": {},
   "source": [
    "2. Create a function which counts how many lone 1s appear in a given\n",
    "number. Lone means the number doesn&#39;t appear twice or more in a row.\n",
    "Examples\n",
    "\n",
    "- count_lone_ones(101) ➞ 2\n",
    "- count_lone_ones(1191) ➞ 1\n",
    "- count_lone_ones(1111) ➞ 0\n",
    "- count_lone_ones(462) ➞ 0"
   ]
  },
  {
   "cell_type": "code",
   "execution_count": 64,
   "id": "fbf1e651",
   "metadata": {},
   "outputs": [],
   "source": [
    "import re\n",
    "def count_lone_ones(num):\n",
    "    pat = r\"(?<!1)1(?!1)\" \n",
    "    return len(re.findall(pat,str(num)))"
   ]
  },
  {
   "cell_type": "code",
   "execution_count": 65,
   "id": "a5a813a2",
   "metadata": {},
   "outputs": [
    {
     "data": {
      "text/plain": [
       "2"
      ]
     },
     "execution_count": 65,
     "metadata": {},
     "output_type": "execute_result"
    }
   ],
   "source": [
    "count_lone_ones(101)"
   ]
  },
  {
   "cell_type": "code",
   "execution_count": 67,
   "id": "83c78d71",
   "metadata": {},
   "outputs": [
    {
     "data": {
      "text/plain": [
       "1"
      ]
     },
     "execution_count": 67,
     "metadata": {},
     "output_type": "execute_result"
    }
   ],
   "source": [
    "count_lone_ones(1191)"
   ]
  },
  {
   "cell_type": "code",
   "execution_count": 68,
   "id": "daa9f74b",
   "metadata": {},
   "outputs": [
    {
     "data": {
      "text/plain": [
       "0"
      ]
     },
     "execution_count": 68,
     "metadata": {},
     "output_type": "execute_result"
    }
   ],
   "source": [
    "count_lone_ones(1111)"
   ]
  },
  {
   "cell_type": "markdown",
   "id": "3ec45a78",
   "metadata": {},
   "source": [
    "3. Write a method that accepts two integer parameters rows and cols. The\n",
    "output is a 2d array of numbers displayed in column-major order, meaning the\n",
    "numbers shown increase sequentially down each column and wrap to the top\n",
    "of the next column to the right once the bottom of the current column is\n",
    "reached.\n",
    "\n",
    "Examples\n",
    "- printGrid(3, 6) ➞ [\n",
    "[1, 4, 7, 10, 13, 16],\n",
    "[2, 5, 8, 11, 14, 17],\n",
    "[3, 6, 9, 12, 15, 18]\n",
    "]\n",
    "- printGrid(5, 3) ➞ [\n",
    "[1, 6, 11],\n",
    "[2, 7, 12],\n",
    "[3, 8, 13],\n",
    "[4, 9, 14],\n",
    "[5, 10, 15]\n",
    "]\n",
    "\n",
    "- printGrid(4, 1) ➞ [\n",
    "[1],\n",
    "[2],\n",
    "[3],\n",
    "[4]\n",
    "]"
   ]
  },
  {
   "cell_type": "code",
   "execution_count": 26,
   "id": "2d270907",
   "metadata": {},
   "outputs": [],
   "source": [
    "def printGrid(rows,col):\n",
    "    res = []\n",
    "    for i in range(1,rows+1):\n",
    "        x = [i]\n",
    "        for j in range(i,((col)*rows)-rows+1,rows):\n",
    "            x.append(j + rows)\n",
    "        res.append(x)\n",
    "    return res"
   ]
  },
  {
   "cell_type": "code",
   "execution_count": 27,
   "id": "70de54e7",
   "metadata": {
    "scrolled": true
   },
   "outputs": [
    {
     "data": {
      "text/plain": [
       "[[1, 4, 7, 10, 13, 16], [2, 5, 8, 11, 14, 17], [3, 6, 9, 12, 15, 18]]"
      ]
     },
     "execution_count": 27,
     "metadata": {},
     "output_type": "execute_result"
    }
   ],
   "source": [
    "printGrid(3, 6)"
   ]
  },
  {
   "cell_type": "code",
   "execution_count": 28,
   "id": "f8844ff1",
   "metadata": {},
   "outputs": [
    {
     "data": {
      "text/plain": [
       "[[1, 6, 11], [2, 7, 12], [3, 8, 13], [4, 9, 14], [5, 10, 15]]"
      ]
     },
     "execution_count": 28,
     "metadata": {},
     "output_type": "execute_result"
    }
   ],
   "source": [
    "printGrid(5, 3)"
   ]
  },
  {
   "cell_type": "code",
   "execution_count": 29,
   "id": "34f1f3a0",
   "metadata": {},
   "outputs": [
    {
     "data": {
      "text/plain": [
       "[[1], [2], [3], [4]]"
      ]
     },
     "execution_count": 29,
     "metadata": {},
     "output_type": "execute_result"
    }
   ],
   "source": [
    "printGrid(4, 1) "
   ]
  },
  {
   "cell_type": "markdown",
   "id": "1288474c",
   "metadata": {},
   "source": [
    "4. Given a list of integers, return the smallest positive integer not present in\n",
    "the list.\n",
    "\n",
    "Here is a representative example. Consider the list:\n",
    "[-2, 6, 4, 5, 7, -1, 7, 1, 3, 6, 6, -2, 9, 10, 2, 2]\n",
    "\n",
    "After reordering, the list becomes:\n",
    "[-2, -2, -1, 1, 2, 2, 3, 4, 5, 6, 6, 6, 7, 7, 9, 10]\n",
    "from which we see that the smallest missing positive integer is 8.\n",
    "\n",
    "Examples\n",
    "1. min_miss_pos([-2, 6, 4, 5, 7, -1, 1, 3, 6, -2, 9, 10, 2, 2]) ➞ 8\n",
    "- After sorting, list becomes [-2, -2, -1, 1, 2, 2, 3, 4, 5, 6, 6, 7, 9, 10]\n",
    "- the smallest missing positive integer is 8\n",
    "2. min_miss_pos([5, 9, -2, 0, 1, 3, 9, 3, 8, 9]) ➞ 2\n",
    "- After sorting, list becomes [-2, 0, 1, 3, 3, 5, 8, 9, 9, 9]\n",
    "- So the smallest missing positive integer is 2\n",
    "3. min_miss_pos([0, 4, 4, -1, 9, 4, 5, 2, 10, 7, 6, 3, 10, 9]) ➞ 1\n",
    "- After sorting, list becomes [-1, 0, 2, 3, 4, 4, 4, 5, 6, 7, 9, 9, 10, 10]\n",
    "- So the smallest missing positive integer is 1"
   ]
  },
  {
   "cell_type": "code",
   "execution_count": 56,
   "id": "d96b2c5a",
   "metadata": {},
   "outputs": [],
   "source": [
    "def min_miss_pos(lis=list):\n",
    "    sorted_lis = sorted(lis)\n",
    "    for i in range(len(sorted_lis)):\n",
    "        if sorted_lis[i] >= 0:\n",
    "            if i not in set(sorted_lis):\n",
    "                return i"
   ]
  },
  {
   "cell_type": "code",
   "execution_count": 57,
   "id": "71e06457",
   "metadata": {},
   "outputs": [
    {
     "data": {
      "text/plain": [
       "8"
      ]
     },
     "execution_count": 57,
     "metadata": {},
     "output_type": "execute_result"
    }
   ],
   "source": [
    "min_miss_pos([-2, 6, 4, 5, 7, -1, 1, 3, 6, -2, 9, 10, 2, 2]) "
   ]
  },
  {
   "cell_type": "code",
   "execution_count": 58,
   "id": "18024084",
   "metadata": {
    "scrolled": true
   },
   "outputs": [
    {
     "data": {
      "text/plain": [
       "2"
      ]
     },
     "execution_count": 58,
     "metadata": {},
     "output_type": "execute_result"
    }
   ],
   "source": [
    "min_miss_pos([5, 9, -2, 0, 1, 3, 9, 3, 8, 9])"
   ]
  },
  {
   "cell_type": "code",
   "execution_count": 59,
   "id": "a65931c3",
   "metadata": {},
   "outputs": [
    {
     "data": {
      "text/plain": [
       "1"
      ]
     },
     "execution_count": 59,
     "metadata": {},
     "output_type": "execute_result"
    }
   ],
   "source": [
    "min_miss_pos([0, 4, 4, -1, 9, 4, 5, 2, 10, 7, 6, 3, 10, 9])"
   ]
  },
  {
   "cell_type": "markdown",
   "id": "6376966e",
   "metadata": {},
   "source": [
    "5. Google is launching a network of autonomous pizza delivery drones and\n",
    "wants you to create a flexible rewards system (Pizza Points™) that can be\n",
    "tweaked in the future. The rules are simple: if a customer has made at least N\n",
    "orders of at least Y price, they get a FREE pizza!\n",
    "Create a function that takes a dictionary of customers, a minimum number of\n",
    "orders and a minimum order price. Return a list of customers that are eligible\n",
    "for a free pizza.\n",
    "Examples\n",
    "\n",
    "customers = {\n",
    "&quot;Batman&quot;: [22, 30, 11, 17, 15, 52, 27, 12],\n",
    "&quot;Spider-Man&quot;: [5, 17, 30, 33, 40, 22, 26, 10, 11, 45]\n",
    "}\n",
    "\n",
    "- pizza_points(customers, 5, 20) ➞ [&quot;Spider-Man&quot;]\n",
    "- pizza_points(customers, 3, 10) ➞ [&quot;Batman&quot;, &quot;Spider-Man&quot;]\n",
    "- pizza_points(customers, 5, 100) ➞ []"
   ]
  },
  {
   "cell_type": "code",
   "execution_count": 75,
   "id": "6cb3dbfb",
   "metadata": {},
   "outputs": [],
   "source": [
    "def pizza_points(dictionary,order,price):\n",
    "    dictionary = { \"Batman\": [22, 30, 11, 17, 15, 52, 27, 12], \"Spider-Man\": [5, 17, 30, 33, 40, 22, 26, 10, 11, 45] }\n",
    "    result = []\n",
    "    for customer in dictionary.keys():\n",
    "        if len([i for i in dictionary[customer] if i > price]) > order:\n",
    "            result.append(customer)\n",
    "    return result\n",
    "\n",
    "\n"
   ]
  },
  {
   "cell_type": "code",
   "execution_count": 76,
   "id": "bf8a40a3",
   "metadata": {},
   "outputs": [
    {
     "data": {
      "text/plain": [
       "['Spider-Man']"
      ]
     },
     "execution_count": 76,
     "metadata": {},
     "output_type": "execute_result"
    }
   ],
   "source": [
    "pizza_points(customers, 5, 20)"
   ]
  },
  {
   "cell_type": "code",
   "execution_count": 77,
   "id": "5e124795",
   "metadata": {},
   "outputs": [
    {
     "data": {
      "text/plain": [
       "['Batman', 'Spider-Man']"
      ]
     },
     "execution_count": 77,
     "metadata": {},
     "output_type": "execute_result"
    }
   ],
   "source": [
    "pizza_points(customers, 3, 10)"
   ]
  },
  {
   "cell_type": "code",
   "execution_count": 78,
   "id": "3c0cd349",
   "metadata": {},
   "outputs": [
    {
     "data": {
      "text/plain": [
       "[]"
      ]
     },
     "execution_count": 78,
     "metadata": {},
     "output_type": "execute_result"
    }
   ],
   "source": [
    "pizza_points(customers, 5, 100)"
   ]
  }
 ],
 "metadata": {
  "kernelspec": {
   "display_name": "Python 3 (ipykernel)",
   "language": "python",
   "name": "python3"
  },
  "language_info": {
   "codemirror_mode": {
    "name": "ipython",
    "version": 3
   },
   "file_extension": ".py",
   "mimetype": "text/x-python",
   "name": "python",
   "nbconvert_exporter": "python",
   "pygments_lexer": "ipython3",
   "version": "3.9.7"
  }
 },
 "nbformat": 4,
 "nbformat_minor": 5
}
