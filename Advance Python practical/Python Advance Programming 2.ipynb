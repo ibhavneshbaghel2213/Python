{
 "cells": [
  {
   "cell_type": "markdown",
   "id": "c1d4bff2",
   "metadata": {},
   "source": [
    "<b>1. Write a function that takes a positive integer num and calculates how many\n",
    "dots exist in a pentagonal shape around the center dot on the Nth iteration.<b>\n",
    "    \n",
    "In the image below you can see the first iteration is only a single dot. On the\n",
    "second, there are 6 dots. On the third, there are 16 dots, and on the fourth\n",
    "there are 31 dots.\n",
    "\n",
    "Return the number of dots that exist in the whole pentagon on the Nth\n",
    "iteration.\n",
    "    Examples\n",
    "\n",
    "    pentagonal(1) ➞ 1\n",
    "    pentagonal(2) ➞ 6\n",
    "    pentagonal(3) ➞ 16\n",
    "    pentagonal(8) ➞ 141"
   ]
  },
  {
   "cell_type": "code",
   "execution_count": 4,
   "id": "0253faec",
   "metadata": {},
   "outputs": [],
   "source": [
    "def pentagonal(number):\n",
    "    count=1\n",
    "    for i in range(number):\n",
    "        count+=5*i\n",
    "    return count"
   ]
  },
  {
   "cell_type": "code",
   "execution_count": 8,
   "id": "fbad188f",
   "metadata": {},
   "outputs": [
    {
     "data": {
      "text/plain": [
       "141"
      ]
     },
     "execution_count": 8,
     "metadata": {},
     "output_type": "execute_result"
    }
   ],
   "source": [
    "pentagonal(8)"
   ]
  },
  {
   "cell_type": "markdown",
   "id": "f7264f55",
   "metadata": {},
   "source": [
    "<b>2. Make a function that encrypts a given input with these steps:<B>\n",
    "    \n",
    "Input: &quot;apple&quot;\n",
    "    \n",
    "Step 1: Reverse the input: &quot;elppa&quot;\n",
    "    \n",
    "Step 2: Replace all vowels using the following chart:\n",
    "a =&gt; 0\n",
    "e =&gt; 1\n",
    "i =&gt; 2\n",
    "o =&gt; 2\n",
    "u =&gt; 3\n",
    " &quot;1lpp0&quot;\n",
    "\n",
    "Step 3: Add &quot;aca&quot; to the end of the word: &quot;1lpp0aca&quot;\n",
    "\n",
    "    Output: &quot;1lpp0aca&quot;\n",
    "    \n",
    "    Examples\n",
    "    encrypt(&quot;banana&quot;) ➞ &quot;0n0n0baca&quot;\n",
    "    encrypt(&quot;karaca&quot;) ➞ &quot;0c0r0kaca&quot;\n",
    "    encrypt(&quot;burak&quot;) ➞ &quot;k0r3baca&quot;\n",
    "    encrypt(&quot;alpaca&quot;) ➞ &quot;0c0pl0aca&quot;"
   ]
  },
  {
   "cell_type": "code",
   "execution_count": 15,
   "id": "405921eb",
   "metadata": {},
   "outputs": [],
   "source": [
    "def encrypt(string=str):\n",
    "    reversed_str = reversed(string)\n",
    "    result = \"\"\n",
    "    myDict = {\"a\": 0, \"e\": 1, \"i\": 2, \"o\": 2, \"u\": 3}\n",
    "    for i in reversed_str:\n",
    "        if i in myDict.keys():\n",
    "            result+=str(myDict[i])\n",
    "        else:\n",
    "            result+=i\n",
    "    return result + \"aca\"\n",
    "            "
   ]
  },
  {
   "cell_type": "code",
   "execution_count": 17,
   "id": "293923d8",
   "metadata": {},
   "outputs": [
    {
     "data": {
      "text/plain": [
       "'0n0n0baca'"
      ]
     },
     "execution_count": 17,
     "metadata": {},
     "output_type": "execute_result"
    }
   ],
   "source": [
    "encrypt(\"banana\")"
   ]
  },
  {
   "cell_type": "markdown",
   "id": "52e5097f",
   "metadata": {},
   "source": [
    "<b>3. Given the month and year as numbers, return whether that month contains\n",
    "a Friday 13th.(i.e You can check Python&#39;s datetime module)<b>\n",
    "\n",
    "        Examples\n",
    "    has_friday_13(3, 2020) ➞ True\n",
    "    has_friday_13(10, 2017) ➞ True\n",
    "    has_friday_13(1, 1985) ➞ False"
   ]
  },
  {
   "cell_type": "code",
   "execution_count": 51,
   "id": "26ca975c",
   "metadata": {},
   "outputs": [],
   "source": [
    "from datetime import date\n",
    "\n",
    "def has_friday_13(month, year):\n",
    "    date1 = date(year, month, 13)\n",
    "    if date1.strftime(\"%A\") == \"Friday\":\n",
    "        return True\n",
    "    return False\n",
    "    \n",
    "    "
   ]
  },
  {
   "cell_type": "code",
   "execution_count": 55,
   "id": "e9951bfa",
   "metadata": {},
   "outputs": [
    {
     "data": {
      "text/plain": [
       "True"
      ]
     },
     "execution_count": 55,
     "metadata": {},
     "output_type": "execute_result"
    }
   ],
   "source": [
    "has_friday_13(10, 2017)"
   ]
  },
  {
   "cell_type": "markdown",
   "id": "be1fdb20",
   "metadata": {},
   "source": [
    "<b>4. Write a regular expression that will help us count how many bad cookies\n",
    "are produced every day. You must use RegEx negative lookbehind.<b>\n",
    "    \n",
    "Example\n",
    "lst = [&quot;bad cookie&quot;, &quot;good cookie&quot;, &quot;bad cookie&quot;, &quot;good cookie&quot;, &quot;good cookie&quot;]\n",
    "    \n",
    "pattern = &quot;yourregularexpressionhere&quot;\n",
    "len(re.findall(pattern, &quot;, &quot;.join(lst))) ➞ 2"
   ]
  },
  {
   "cell_type": "code",
   "execution_count": 12,
   "id": "ca803444",
   "metadata": {},
   "outputs": [
    {
     "data": {
      "text/plain": [
       "2"
      ]
     },
     "execution_count": 12,
     "metadata": {},
     "output_type": "execute_result"
    }
   ],
   "source": [
    "import re\n",
    "lst = [\"bad cookie\", \"good cookie\", \"bad cookie\", \"good cookie\", \"good cookie\"]\n",
    "pattern = r'(?<!good)\\scookie'\n",
    "len(re.findall(pattern,' '.join(lst)))"
   ]
  },
  {
   "cell_type": "markdown",
   "id": "fbecb45d",
   "metadata": {},
   "source": [
    "<b>5.. Given a list of words in the singular form, return a set of those words in the plural form if they appear more than once in the list.<b>\n",
    "\n",
    "    Examples:\n",
    "    pluralize([\"cow\", \"pig\", \"cow\", \"cow\"]) ➞ { \"cows\", \"pig\" }\n",
    "    pluralize([\"table\", \"table\", \"table\"]) ➞ { \"tables\" }\n",
    "    pluralize([\"chair\", \"pencil\", \"arm\"]) ➞ { \"chair\", \"pencil\", \"arm\" }"
   ]
  },
  {
   "cell_type": "code",
   "execution_count": 18,
   "id": "f10ff450",
   "metadata": {},
   "outputs": [],
   "source": [
    "def pluralize(lis=list):\n",
    "    filtered = set(lis)\n",
    "    result = set()\n",
    "    for i in filtered:\n",
    "        if lis.count(i) > 1:\n",
    "            result.add(i+'s')\n",
    "        else:\n",
    "            result.add(i)\n",
    "    return result"
   ]
  },
  {
   "cell_type": "code",
   "execution_count": 19,
   "id": "0a014bd7",
   "metadata": {},
   "outputs": [
    {
     "data": {
      "text/plain": [
       "{'cows', 'pig'}"
      ]
     },
     "execution_count": 19,
     "metadata": {},
     "output_type": "execute_result"
    }
   ],
   "source": [
    "pluralize([\"cow\", \"pig\", \"cow\", \"cow\"])"
   ]
  }
 ],
 "metadata": {
  "kernelspec": {
   "display_name": "Python 3 (ipykernel)",
   "language": "python",
   "name": "python3"
  },
  "language_info": {
   "codemirror_mode": {
    "name": "ipython",
    "version": 3
   },
   "file_extension": ".py",
   "mimetype": "text/x-python",
   "name": "python",
   "nbconvert_exporter": "python",
   "pygments_lexer": "ipython3",
   "version": "3.9.7"
  }
 },
 "nbformat": 4,
 "nbformat_minor": 5
}
