{
 "cells": [
  {
   "cell_type": "markdown",
   "id": "03e48b5f",
   "metadata": {},
   "source": [
    "1. Write a function that returns True if a given name can generate an array of\n",
    "words.\n",
    "\n",
    "Examples\n",
    "anagram(&quot;Justin Bieber&quot;, [&quot;injures&quot;, &quot;ebb&quot;, &quot;it&quot;]) ➞ True\n",
    "\n",
    "anagram(&quot;Natalie Portman&quot;, [&quot;ornamental&quot;, &quot;pita&quot;]) ➞ True\n",
    "\n",
    "anagram(&quot;Chris Pratt&quot;, [&quot;chirps&quot;, &quot;rat&quot;]) ➞ False\n",
    "-------> Not all letters are used\n",
    "\n",
    "anagram(&quot;Jeff Goldblum&quot;, [&quot;jog&quot;, &quot;meld&quot;, &quot;bluffs&quot;]) ➞ False\n",
    "-------> &quot;s&quot; does not exist in the original name"
   ]
  },
  {
   "cell_type": "code",
   "execution_count": 25,
   "id": "c03db388",
   "metadata": {},
   "outputs": [],
   "source": [
    "def anagram(string,arr):\n",
    "    str_arr = [i.lower() for i in string.replace(\" \", \"\")]\n",
    "    array = [j.lower() for i in arr for j in i]\n",
    "    other_arr = []\n",
    "    for i in array:\n",
    "        if i in str_arr:\n",
    "            str_arr.remove(i)\n",
    "        else:\n",
    "            other_arr.append(i)\n",
    "            \n",
    "    if len(str_arr) == 0 and len(other_arr) == 0:\n",
    "        return True\n",
    "    else:\n",
    "        return False\n",
    "            "
   ]
  },
  {
   "cell_type": "code",
   "execution_count": 26,
   "id": "9371714a",
   "metadata": {
    "scrolled": true
   },
   "outputs": [
    {
     "data": {
      "text/plain": [
       "True"
      ]
     },
     "execution_count": 26,
     "metadata": {},
     "output_type": "execute_result"
    }
   ],
   "source": [
    "anagram(\"Justin Bieber\", [\"injures\", \"ebb\", \"it\"])"
   ]
  },
  {
   "cell_type": "code",
   "execution_count": 27,
   "id": "3b2e3c82",
   "metadata": {},
   "outputs": [
    {
     "data": {
      "text/plain": [
       "True"
      ]
     },
     "execution_count": 27,
     "metadata": {},
     "output_type": "execute_result"
    }
   ],
   "source": [
    "anagram(\"Natalie Portman\", [\"ornamental\", \"pita\"])"
   ]
  },
  {
   "cell_type": "code",
   "execution_count": 28,
   "id": "89a1909a",
   "metadata": {},
   "outputs": [
    {
     "data": {
      "text/plain": [
       "False"
      ]
     },
     "execution_count": 28,
     "metadata": {},
     "output_type": "execute_result"
    }
   ],
   "source": [
    "anagram(\"Chris Pratt\", [\"chirps\", \"rat\"])"
   ]
  },
  {
   "cell_type": "code",
   "execution_count": 29,
   "id": "f1abd530",
   "metadata": {},
   "outputs": [
    {
     "data": {
      "text/plain": [
       "False"
      ]
     },
     "execution_count": 29,
     "metadata": {},
     "output_type": "execute_result"
    }
   ],
   "source": [
    "anagram(\"Jeff Goldblum\", [\"jog\", \"meld\", \"bluffs\"])"
   ]
  },
  {
   "cell_type": "markdown",
   "id": "4b87597c",
   "metadata": {},
   "source": [
    "2. Given an array of users, each defined by an object with the following\n",
    "properties: name, score, reputation create a function that sorts the array to\n",
    "form the correct leaderboard.\n",
    "\n",
    "The leaderboard takes into consideration the score of each user of course,\n",
    "but an emphasis is put on their reputation in the community, so to get the\n",
    "trueScore, you should add the reputation multiplied by 2 to the score.\n",
    "\n",
    "Once you know the trueScore of each user, sort the array according to it in\n",
    "descending order.\n",
    "Examples\n",
    "\n",
    "leaderboards([\n",
    "{ &quot;name&quot;: &quot;a&quot;, &quot;score&quot;: 100, &quot;reputation&quot;: 20 },\n",
    "{ &quot;name&quot;: &quot;b&quot;, &quot;score&quot;: 90, &quot;reputation&quot;: 40 },\n",
    "{ &quot;name&quot;: &quot;c&quot;, &quot;score&quot;: 115, &quot;reputation&quot;: 30 },\n",
    "]) ➞ [\n",
    "{ &quot;name&quot;: &quot;c&quot;, &quot;score&quot;: 115, &quot;reputation&quot;: 30 }, # trueScore = 175\n",
    "{ &quot;name&quot;: &quot;b&quot;, &quot;score&quot;: 90, &quot;reputation&quot;: 40 }, # trueScore = 170\n",
    "{ &quot;name&quot;: &quot;a&quot;, &quot;score&quot;: 100, &quot;reputation&quot;: 20 } # trueScore = 140\n",
    "]"
   ]
  },
  {
   "cell_type": "code",
   "execution_count": 85,
   "id": "4f481b7f",
   "metadata": {},
   "outputs": [],
   "source": [
    "def leaderboards(list_of_dict):\n",
    "    keys = {}\n",
    "    result = []\n",
    "    \n",
    "    for i in list_of_dict:\n",
    "        keys[(i['reputation']*2) + i['score']] = i\n",
    "        \n",
    "    for j in sorted(keys.keys(),reverse=True):\n",
    "        result.append(keys[j])\n",
    "        \n",
    "    return result\n",
    "    "
   ]
  },
  {
   "cell_type": "code",
   "execution_count": 86,
   "id": "e46c036d",
   "metadata": {},
   "outputs": [
    {
     "data": {
      "text/plain": [
       "[{'name': 'c', 'score': 115, 'reputation': 30},\n",
       " {'name': 'b', 'score': 90, 'reputation': 40},\n",
       " {'name': 'a', 'score': 100, 'reputation': 20}]"
      ]
     },
     "execution_count": 86,
     "metadata": {},
     "output_type": "execute_result"
    }
   ],
   "source": [
    "leaderboards([ { \"name\": \"a\", \"score\": 100, \"reputation\": 20 }, { \"name\": \"b\", \"score\": 90, \"reputation\": 40 }, { \"name\": \"c\", \"score\": 115, \"reputation\": 30 }, ]) "
   ]
  },
  {
   "cell_type": "markdown",
   "id": "cea0d232",
   "metadata": {},
   "source": [
    "3. Create a function that, given a phrase and a number of letters guessed,\n",
    "returns a string with hyphens - for every letter of the phrase not guessed, and\n",
    "each letter guessed in place.\n",
    "Examples\n",
    "\n",
    "hangman(&quot;helicopter&quot;, [&quot;o&quot;, &quot;e&quot;, &quot;s&quot;]) ➞ &quot;-e---o--e-&quot;\n",
    "\n",
    "hangman(&quot;tree&quot;, [&quot;r&quot;, &quot;t&quot;, &quot;e&quot;]) ➞ &quot;tree&quot;\n",
    "\n",
    "hangman(&quot;Python rules&quot;, [&quot;a&quot;, &quot;n&quot;, &quot;p&quot;, &quot;r&quot;, &quot;z&quot;]) ➞ &quot;P----n r----&quot;\n",
    "\n",
    "hangman(&quot;He&quot;s a very naughty boy!&quot;, [&quot;e&quot;, &quot;a&quot;, &quot;y&quot;]) ➞ &quot;-e&quot;- a -e-y -a----y –y!&quot;"
   ]
  },
  {
   "cell_type": "code",
   "execution_count": 92,
   "id": "2c127179",
   "metadata": {},
   "outputs": [],
   "source": [
    "def hangman(string=str, arr=list):\n",
    "    result = \"\"\n",
    "    for i in range(len(string)):\n",
    "        if string[i].lower() in arr:\n",
    "            result += string[i]\n",
    "        else:\n",
    "            result += \"-\"\n",
    "    return result"
   ]
  },
  {
   "cell_type": "code",
   "execution_count": 93,
   "id": "238d97a7",
   "metadata": {},
   "outputs": [
    {
     "data": {
      "text/plain": [
       "'-e---o--e-'"
      ]
     },
     "execution_count": 93,
     "metadata": {},
     "output_type": "execute_result"
    }
   ],
   "source": [
    "hangman(\"helicopter\", [\"o\", \"e\", \"s\"]) "
   ]
  },
  {
   "cell_type": "code",
   "execution_count": 94,
   "id": "3715ba20",
   "metadata": {},
   "outputs": [
    {
     "data": {
      "text/plain": [
       "'tree'"
      ]
     },
     "execution_count": 94,
     "metadata": {},
     "output_type": "execute_result"
    }
   ],
   "source": [
    "hangman(\"tree\", [\"r\", \"t\", \"e\"])"
   ]
  },
  {
   "cell_type": "code",
   "execution_count": 95,
   "id": "5dce9ddb",
   "metadata": {},
   "outputs": [
    {
     "data": {
      "text/plain": [
       "'P----n-r----'"
      ]
     },
     "execution_count": 95,
     "metadata": {},
     "output_type": "execute_result"
    }
   ],
   "source": [
    "hangman(\"Python rules\", [\"a\", \"n\", \"p\", \"r\", \"z\"])"
   ]
  },
  {
   "cell_type": "markdown",
   "id": "e75f55d3",
   "metadata": {},
   "source": [
    "4. The Collatz sequence is as follows:\n",
    "- Start with some given integer n.\n",
    "- If it is even, the next number will be n divided by 2.\n",
    "- If it is odd, multiply it by 3 and add 1 to make the next number.\n",
    "- The sequence stops when it reaches 1.\n",
    "\n",
    "According to the Collatz conjecture, it will always reach 1. If that&#39;s true, you\n",
    "can construct a finite sequence following the aforementioned method for any\n",
    "given integer.\n",
    "\n",
    "Write a function that takes in an integer n and returns the highest integer in\n",
    "the corresponding Collatz sequence.\n",
    "Examples\n",
    "\n",
    "max_collatz(10) ➞ 16\n",
    "---->\n",
    "Collatz sequence: 10, 5, 16, 8, 4, 2, 1\n",
    "\n",
    "max_collatz(32) ➞ 32\n",
    "----> Collatz sequence: 32, 16, 8, 4, 2, 1\n",
    "\n",
    "max_collatz(85) ➞ 256\n",
    "----> Collatz sequence: 85, 256, 128, 64, 32, 16, 8, 4, 2, 1"
   ]
  },
  {
   "cell_type": "code",
   "execution_count": 98,
   "id": "847851f6",
   "metadata": {},
   "outputs": [],
   "source": [
    "def max_collatz(number):\n",
    "    result = []\n",
    "    while number != 1:\n",
    "        result.append(number)\n",
    "        if number % 2 == 0:\n",
    "            number = number//2\n",
    "        else:\n",
    "            number = 3*number + 1\n",
    "    return max(result)"
   ]
  },
  {
   "cell_type": "code",
   "execution_count": 99,
   "id": "a7cd1704",
   "metadata": {},
   "outputs": [
    {
     "data": {
      "text/plain": [
       "16"
      ]
     },
     "execution_count": 99,
     "metadata": {},
     "output_type": "execute_result"
    }
   ],
   "source": [
    "max_collatz(10)"
   ]
  },
  {
   "cell_type": "code",
   "execution_count": 100,
   "id": "856ca882",
   "metadata": {},
   "outputs": [
    {
     "data": {
      "text/plain": [
       "32"
      ]
     },
     "execution_count": 100,
     "metadata": {},
     "output_type": "execute_result"
    }
   ],
   "source": [
    "max_collatz(32)"
   ]
  },
  {
   "cell_type": "code",
   "execution_count": 101,
   "id": "1a186aba",
   "metadata": {},
   "outputs": [
    {
     "data": {
      "text/plain": [
       "256"
      ]
     },
     "execution_count": 101,
     "metadata": {},
     "output_type": "execute_result"
    }
   ],
   "source": [
    "max_collatz(85)"
   ]
  },
  {
   "cell_type": "markdown",
   "id": "06425e00",
   "metadata": {},
   "source": [
    "5. Write a function that sorts a list of integers by their digit length in\n",
    "descending order, then settles ties by sorting numbers with the same digit\n",
    "length in ascending order.\n",
    "Examples\n",
    "\n",
    "digit_sort([77, 23, 5, 7, 101])\n",
    "➞ [101, 23, 77, 5, 7]\n",
    "\n",
    "digit_sort([1, 5, 9, 2, 789, 563, 444])\n",
    "➞ [444, 563, 789, 1, 2, 5, 9]\n",
    "\n",
    "digit_sort([53219, 3772, 564, 32, 1])➞ [53219, 3772, 564, 32, 1]"
   ]
  },
  {
   "cell_type": "code",
   "execution_count": 113,
   "id": "3b65af66",
   "metadata": {},
   "outputs": [],
   "source": [
    "def digit_sort(arr):\n",
    "    max_len_ele = len(str(max(arr)))\n",
    "    result = []\n",
    "    for i in range(max_len_ele,0,-1):\n",
    "        res = []\n",
    "        for j in arr:\n",
    "            if len(str(j)) == i:\n",
    "                res.append(j)\n",
    "        result.extend(sorted(res))\n",
    "    return result"
   ]
  },
  {
   "cell_type": "code",
   "execution_count": 114,
   "id": "cbc6324a",
   "metadata": {},
   "outputs": [
    {
     "data": {
      "text/plain": [
       "[101, 23, 77, 5, 7]"
      ]
     },
     "execution_count": 114,
     "metadata": {},
     "output_type": "execute_result"
    }
   ],
   "source": [
    "digit_sort([77, 23, 5, 7, 101])"
   ]
  },
  {
   "cell_type": "code",
   "execution_count": 115,
   "id": "be04c530",
   "metadata": {},
   "outputs": [
    {
     "data": {
      "text/plain": [
       "[444, 563, 789, 1, 2, 5, 9]"
      ]
     },
     "execution_count": 115,
     "metadata": {},
     "output_type": "execute_result"
    }
   ],
   "source": [
    "digit_sort([1, 5, 9, 2, 789, 563, 444])"
   ]
  },
  {
   "cell_type": "code",
   "execution_count": 116,
   "id": "a2a35f00",
   "metadata": {},
   "outputs": [
    {
     "data": {
      "text/plain": [
       "[53219, 3772, 564, 32, 1]"
      ]
     },
     "execution_count": 116,
     "metadata": {},
     "output_type": "execute_result"
    }
   ],
   "source": [
    "digit_sort([53219, 3772, 564, 32, 1])"
   ]
  }
 ],
 "metadata": {
  "kernelspec": {
   "display_name": "Python 3 (ipykernel)",
   "language": "python",
   "name": "python3"
  },
  "language_info": {
   "codemirror_mode": {
    "name": "ipython",
    "version": 3
   },
   "file_extension": ".py",
   "mimetype": "text/x-python",
   "name": "python",
   "nbconvert_exporter": "python",
   "pygments_lexer": "ipython3",
   "version": "3.9.7"
  }
 },
 "nbformat": 4,
 "nbformat_minor": 5
}
