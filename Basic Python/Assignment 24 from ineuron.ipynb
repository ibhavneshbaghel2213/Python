{
 "cells": [
  {
   "cell_type": "markdown",
   "id": "85d0935f",
   "metadata": {},
   "source": [
    "<b>1. What is the relationship between def statements and lambda expressions ?"
   ]
  },
  {
   "cell_type": "markdown",
   "id": "ac01fc2b",
   "metadata": {},
   "source": [
    "Ans:  the def function help break our program into smaller and modular chunks. As our program grows larger and larger, functions make it more organised and manageable and They can be called and used anywhere we want while The lambda functions can be used without any declaration in the namespace. The lambda functions defined above are like single-line functions. These functions do not have parenthesis like the def defined functions but instead, take parameters after the lambda keyword as shown above. There is no return keyword defined explicitly because the lambda function does return an object by default."
   ]
  },
  {
   "cell_type": "markdown",
   "id": "21478f82",
   "metadata": {},
   "source": [
    "<b>2. What is the benefit of lambda?"
   ]
  },
  {
   "cell_type": "markdown",
   "id": "9bd22b8d",
   "metadata": {},
   "source": [
    "Ans: The benifits Lambda is lambda function allow you to create small, single-use functions that can save time and space in your code."
   ]
  },
  {
   "cell_type": "markdown",
   "id": "798e4fac",
   "metadata": {},
   "source": [
    "<b>3. Compare and contrast map, filter, and reduce."
   ]
  },
  {
   "cell_type": "markdown",
   "id": "b4340144",
   "metadata": {},
   "source": [
    "Ans: The map(), filter() and reduce() functions bring a bit of functional programming to Python. All three of these are convenience functions that can be replaced with List Comprehensions or loops, but provide a more elegant and short-hand approach to some problems.\n"
   ]
  },
  {
   "cell_type": "code",
   "execution_count": 1,
   "id": "ead8b080",
   "metadata": {},
   "outputs": [],
   "source": [
    "def starts_with_A(s):\n",
    "    return s[0] == \"A\""
   ]
  },
  {
   "cell_type": "code",
   "execution_count": 2,
   "id": "07ac4d2d",
   "metadata": {},
   "outputs": [],
   "source": [
    "fruit = [\"Apple\", \"Banana\", \"Pear\", \"Apricot\", \"Orange\"]"
   ]
  },
  {
   "cell_type": "markdown",
   "id": "eaf11083",
   "metadata": {},
   "source": [
    "The map() function iterates through all items in the given iterable and executes the function we passed as an argument on each of them.e.g.,"
   ]
  },
  {
   "cell_type": "code",
   "execution_count": 3,
   "id": "ae7f0e24",
   "metadata": {},
   "outputs": [
    {
     "name": "stdout",
     "output_type": "stream",
     "text": [
      "[True, False, False, True, False]\n"
     ]
    }
   ],
   "source": [
    "map_object = map(starts_with_A, fruit)\n",
    "print(list(map_object))"
   ]
  },
  {
   "cell_type": "markdown",
   "id": "faa0ff6a",
   "metadata": {},
   "source": [
    "As the name suggests, filter() forms a new list that contains only elements that satisfy a certain condition, i.e. the function we passed returns True.e.g.,"
   ]
  },
  {
   "cell_type": "code",
   "execution_count": 4,
   "id": "680041dd",
   "metadata": {},
   "outputs": [
    {
     "name": "stdout",
     "output_type": "stream",
     "text": [
      "['Apple', 'Apricot']\n"
     ]
    }
   ],
   "source": [
    "filter_object = filter(starts_with_A, fruit)\n",
    "print(list(filter_object))"
   ]
  },
  {
   "cell_type": "markdown",
   "id": "bd030935",
   "metadata": {},
   "source": [
    "reduce() works differently than map() and filter(). It does not return a new list based on the function and iterable we've passed. Instead, it returns a single value."
   ]
  },
  {
   "cell_type": "code",
   "execution_count": 5,
   "id": "f43394bd",
   "metadata": {},
   "outputs": [
    {
     "name": "stdout",
     "output_type": "stream",
     "text": [
      "16\n",
      "With an initial value: 26\n"
     ]
    }
   ],
   "source": [
    "from functools import reduce\n",
    "list = [2, 4, 7, 3]\n",
    "print(reduce(lambda x, y: x + y, list))\n",
    "print(\"With an initial value: \" + str(reduce(lambda x, y: x + y, list, 10)))"
   ]
  },
  {
   "cell_type": "markdown",
   "id": "79120374",
   "metadata": {},
   "source": [
    "<b>4. What are function annotations, and how are they used?"
   ]
  },
  {
   "cell_type": "markdown",
   "id": "b6094b65",
   "metadata": {},
   "source": [
    "Ans: Function annotation is the standard way to access the metadata with the arguments and the return value of the function.These are nothing but some random and optional Python expressions that get allied to different parts of the function.They get evaluated only during the compile-time and have no significance during the run-time of the code."
   ]
  },
  {
   "cell_type": "markdown",
   "id": "92267013",
   "metadata": {},
   "source": [
    "They are used to type check the functions by declaring the type of the parameters and the return value for the functions.The string-based annotations help us to improve the help messages.\n"
   ]
  },
  {
   "cell_type": "markdown",
   "id": "1b5774c9",
   "metadata": {},
   "source": [
    "<b>5. What are recursive functions, and how are they used?<b>"
   ]
  },
  {
   "cell_type": "markdown",
   "id": "4409b729",
   "metadata": {},
   "source": [
    "Ans: Recursion is a technique used to solve problems by creating a function that calls itself until your program achieves the desired result.\n",
    "We used recursive function beacause a complicated function can be split down into smaller sub-problems utilizing recursion."
   ]
  },
  {
   "cell_type": "markdown",
   "id": "236fc450",
   "metadata": {},
   "source": [
    "<b>6. What are some general design guidelines for coding functions?<b>"
   ]
  },
  {
   "cell_type": "markdown",
   "id": "cab7e990",
   "metadata": {},
   "source": [
    "Ans: <ul>\n",
    "<li>Safe: It can be used without causing harm.</li>\n",
    "<li>Secure: It can’t be hacked.</li>\n",
    "<li>Reliable: It functions as it should, every time.</li>\n",
    "<li>Testable: It can be tested at the code level.</li>\n",
    "<li>Maintainable: It can be maintained, even as your codebase grows.</li>\n",
    "<li>Portable: It works the same in every environment.</li>\n",
    "    </ul>"
   ]
  },
  {
   "cell_type": "markdown",
   "id": "36853fe9",
   "metadata": {},
   "source": [
    "<b>7. Name three or more ways that functions can communicate results to a caller.<b>"
   ]
  },
  {
   "cell_type": "markdown",
   "id": "38619d45",
   "metadata": {},
   "source": [
    "Ans: Three ways in which a function can communicate result to a caller is:\n",
    "<ul>\n",
    "<li>print</li>\n",
    "<li>return</li>\n",
    "<li>yield</li>\n",
    "    </ul>"
   ]
  }
 ],
 "metadata": {
  "kernelspec": {
   "display_name": "Python 3 (ipykernel)",
   "language": "python",
   "name": "python3"
  },
  "language_info": {
   "codemirror_mode": {
    "name": "ipython",
    "version": 3
   },
   "file_extension": ".py",
   "mimetype": "text/x-python",
   "name": "python",
   "nbconvert_exporter": "python",
   "pygments_lexer": "ipython3",
   "version": "3.9.7"
  }
 },
 "nbformat": 4,
 "nbformat_minor": 5
}
