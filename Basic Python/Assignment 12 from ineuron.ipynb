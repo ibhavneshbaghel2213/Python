{
 "cells": [
  {
   "cell_type": "markdown",
   "id": "dc541843",
   "metadata": {},
   "source": [
    "<b>1. In what modes should the PdfFileReader() and PdfFileWriter() File objects will be opened?</b>"
   ]
  },
  {
   "cell_type": "markdown",
   "id": "73306041",
   "metadata": {},
   "source": [
    "Ans: In pdfFileReader() needs to open in 'rb' and on the other hand pdfFileWriter() object needs to open in 'wb' mode."
   ]
  },
  {
   "cell_type": "markdown",
   "id": "1cfa439a",
   "metadata": {},
   "source": [
    "<b>2.From a PdfFileReader object, how do you get a Page object for page 5?</b>"
   ]
  },
  {
   "cell_type": "markdown",
   "id": "321f0b1e",
   "metadata": {},
   "source": [
    "Ans: You can retrieve any page object by using getPage() method, this method Retrieves a page by number from this PDF file."
   ]
  },
  {
   "cell_type": "markdown",
   "id": "cff6e613",
   "metadata": {},
   "source": [
    "<b>3. What PdfFileReader variable stores the number of pages in the PDF document?</b>"
   ]
  },
  {
   "cell_type": "markdown",
   "id": "abc56caf",
   "metadata": {},
   "source": [
    "Ans: Yes, In pdfFileREader the getNumPages() method caculate the number of pages in pdf file."
   ]
  },
  {
   "cell_type": "markdown",
   "id": "0aa67daf",
   "metadata": {},
   "source": [
    "<b>4. If a PdfFileReader object’s PDF is encrypted with the password swordfish, what must you do\n",
    "before you can obtain Page objects from it?</b>"
   ]
  },
  {
   "cell_type": "markdown",
   "id": "e3c24ae5",
   "metadata": {},
   "source": [
    " Ans: we can obtain page objects by decrypting a pdf file only if they are encrypted. we can perform decrypt() method to decrypt a file.\n",
    " \n",
    " e.g.,"
   ]
  },
  {
   "cell_type": "code",
   "execution_count": 11,
   "id": "ea7980c7",
   "metadata": {},
   "outputs": [],
   "source": [
    "import PyPDF2"
   ]
  },
  {
   "cell_type": "code",
   "execution_count": null,
   "id": "c263adf2",
   "metadata": {},
   "outputs": [],
   "source": [
    "f =  PyPDF2.PdfFileReader('myencryptedfile.pdf')\n",
    "new_f = PyPDF2.PdfFileWriter()\n",
    "password = 'swordfish'\n",
    "try:\n",
    "    if f.isEncrypted :\n",
    "        f.decrypt(password)\n",
    "        for i in range(f.numPages):\n",
    "            page = f.getPage(i)\n",
    "            new_f.addPage(page)\n",
    "        with open('mydecryptedfile.pdf','wb') as x:\n",
    "            new_f.write(x)\n",
    "        print('file decrypted done')\n",
    "    else:\n",
    "        print('file is already decrypted')\n",
    "except Exception as e:\n",
    "    print(e)"
   ]
  },
  {
   "cell_type": "markdown",
   "id": "af3305c3",
   "metadata": {},
   "source": [
    "<b>5. What methods do you use to rotate a page?</b>"
   ]
  },
  {
   "cell_type": "markdown",
   "id": "ffd0b841",
   "metadata": {},
   "source": [
    "Ans: We can rotate page by using rotateClockwise() method."
   ]
  },
  {
   "cell_type": "markdown",
   "id": "279807de",
   "metadata": {},
   "source": [
    "<b>6. What is the difference between a Run object and a Paragraph object?</b>"
   ]
  },
  {
   "cell_type": "markdown",
   "id": "2a8b1417",
   "metadata": {},
   "source": [
    "Ans: The differentiate between a run object and Paragraph object is a run is the object most closely associated with inline content: text, pictures, and other items and on the otherhand the text attributes in the second Paragraph object, A plain paragraph with some bold and some italic ."
   ]
  },
  {
   "cell_type": "markdown",
   "id": "7c05f255",
   "metadata": {},
   "source": [
    "<b>7. How do you obtain a list of Paragraph objects for a Document object that’s stored in a variable\n",
    "named doc?</b>"
   ]
  },
  {
   "cell_type": "markdown",
   "id": "ffd07716",
   "metadata": {},
   "source": [
    " Ans: To extract the paragraph from your document object variable named doc you need to call the extract_content method pass the appropriate parameters.A parameter of this method is StartNode, EndNode, IsInclusive."
   ]
  },
  {
   "cell_type": "markdown",
   "id": "96430e1e",
   "metadata": {},
   "source": [
    "<b>8. What type of object has bold, underline, italic, strike, and outline variables?</b>"
   ]
  },
  {
   "cell_type": "markdown",
   "id": "a3345003",
   "metadata": {},
   "source": [
    "bold: The text appears in bold.\n",
    "\n",
    "underline: The text appears in underline.\t\n",
    "\n",
    "italic: The text appears in italic.\n",
    "\n",
    "strike: The text appears in strikethrough.\n",
    "\n",
    "outline: The text appears in under outline."
   ]
  },
  {
   "cell_type": "markdown",
   "id": "0119afcb",
   "metadata": {},
   "source": [
    "<b>9. What is the difference between False, True, and None for the bold variable?</b>"
   ]
  },
  {
   "cell_type": "markdown",
   "id": "ec595c87",
   "metadata": {},
   "source": [
    "Ans: In a bold variable, if you want to apply bold so want to declare True otherwise its default will be false. "
   ]
  },
  {
   "cell_type": "markdown",
   "id": "fc039f89",
   "metadata": {},
   "source": [
    "<b>10. How do you create a Document object for a new Word document?</b>"
   ]
  },
  {
   "cell_type": "markdown",
   "id": "df1cdd55",
   "metadata": {},
   "source": [
    "Ans: 1.Create an object of Document class.\n",
    "\n",
    "2.Create an object of DocumentBuilder class.\n",
    "\n",
    "3.Insert text into document using DocumentBuilder.write() method.\n",
    "\n",
    "4.Save the Word document using Document.save() method."
   ]
  },
  {
   "cell_type": "code",
   "execution_count": null,
   "id": "19287312",
   "metadata": {},
   "outputs": [],
   "source": [
    "import aspose.words as aw\n",
    "\n",
    "# create document object\n",
    "doc = aw.Document()\n",
    "\n",
    "# create a document builder object\n",
    "builder = aw.DocumentBuilder(doc)\n",
    "\n",
    "# add text to the document\n",
    "builder.write(\"My Name is Bhavnesh\")\n",
    "\n",
    "# save document\n",
    "doc.save(\"out.docx\")"
   ]
  },
  {
   "cell_type": "markdown",
   "id": "1ba632b9",
   "metadata": {},
   "source": [
    "<b>11. How do you add a paragraph with the text &#39;Hello, there!&#39; to a Document object stored in a\n",
    "variable named doc?</b>"
   ]
  },
  {
   "cell_type": "markdown",
   "id": "ac487dd0",
   "metadata": {},
   "source": [
    "We can add a paragraph with the text 'Hello, there' to document object by using doc.add_paragraph('Hello, there!')"
   ]
  },
  {
   "cell_type": "markdown",
   "id": "78416261",
   "metadata": {},
   "source": [
    "<b>12. What integers represent the levels of headings available in Word documents?</b>"
   ]
  },
  {
   "cell_type": "markdown",
   "id": "f343d4e3",
   "metadata": {},
   "source": [
    "The integer 0 makes the heading the Title style, which is used for the top of the document. Integers 1 to 4 are for various heading levels, with 1 being the main heading and 4 the lowest subheading."
   ]
  }
 ],
 "metadata": {
  "kernelspec": {
   "display_name": "Python 3 (ipykernel)",
   "language": "python",
   "name": "python3"
  },
  "language_info": {
   "codemirror_mode": {
    "name": "ipython",
    "version": 3
   },
   "file_extension": ".py",
   "mimetype": "text/x-python",
   "name": "python",
   "nbconvert_exporter": "python",
   "pygments_lexer": "ipython3",
   "version": "3.9.7"
  }
 },
 "nbformat": 4,
 "nbformat_minor": 5
}
