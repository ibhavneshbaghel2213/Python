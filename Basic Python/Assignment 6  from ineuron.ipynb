{
 "cells": [
  {
   "cell_type": "markdown",
   "id": "3eddcb7e",
   "metadata": {},
   "source": [
    "1. What are escape characters, and how do you use them?"
   ]
  },
  {
   "cell_type": "markdown",
   "id": "f49d58c5",
   "metadata": {},
   "source": [
    "Ans:- The escape character is a backslash \\ followed by the character you want to insert.it is used in representing certain whitespace characters.\n"
   ]
  },
  {
   "cell_type": "markdown",
   "id": "30d2369a",
   "metadata": {},
   "source": [
    "2. What do the escape characters n and t stand for?"
   ]
  },
  {
   "cell_type": "markdown",
   "id": "046e9ab6",
   "metadata": {},
   "source": [
    "Ans:- \"\\n\" is a newline, \"\\t\" is a tab."
   ]
  },
  {
   "cell_type": "markdown",
   "id": "eb6b1122",
   "metadata": {},
   "source": [
    "\n",
    "3. What is the way to include backslash characters in a string?"
   ]
  },
  {
   "cell_type": "markdown",
   "id": "2b428a39",
   "metadata": {},
   "source": [
    "Ans:- The way to include backslash character in a string is to write two slashes \\\\ .eg..,\n",
    "\"\\\\'"
   ]
  },
  {
   "cell_type": "markdown",
   "id": "639cc42d",
   "metadata": {},
   "source": [
    "4. The string \"Howl's Moving Castle\" is a correct value. Why isn't the single quote character in the\n",
    "word Howl's not escaped a problem?"
   ]
  },
  {
   "cell_type": "markdown",
   "id": "173b9f39",
   "metadata": {},
   "source": [
    "Ans:- The string \"Howl's Moving Castle\" is a correct value and the single qoutee character in the word howl's not escaped because double qouted are using both sides in string\n"
   ]
  },
  {
   "cell_type": "markdown",
   "id": "c8301732",
   "metadata": {},
   "source": [
    "5. How do you write a string of newlines if you don't want to use the n character?"
   ]
  },
  {
   "cell_type": "markdown",
   "id": "40785512",
   "metadata": {},
   "source": [
    "Ans:- We can easily use '\\n' before every string which we want to display on a new line in a multiline string. "
   ]
  },
  {
   "cell_type": "markdown",
   "id": "05676f41",
   "metadata": {},
   "source": [
    "6. What are the values of the given expressions?\n",
    "'Hello, world!'[1]\n",
    "'Hello,world!'0:5]\n",
    "'Hello, World![:5]\n",
    "' Hello,World'[3:]"
   ]
  },
  {
   "cell_type": "code",
   "execution_count": 1,
   "id": "cfb373c8",
   "metadata": {},
   "outputs": [
    {
     "data": {
      "text/plain": [
       "'e'"
      ]
     },
     "execution_count": 1,
     "metadata": {},
     "output_type": "execute_result"
    }
   ],
   "source": [
    " 'Hello, world!'[1]"
   ]
  },
  {
   "cell_type": "code",
   "execution_count": 2,
   "id": "9f5b63f3",
   "metadata": {},
   "outputs": [
    {
     "data": {
      "text/plain": [
       "'Hello'"
      ]
     },
     "execution_count": 2,
     "metadata": {},
     "output_type": "execute_result"
    }
   ],
   "source": [
    "'Hello, World!'[0:5]"
   ]
  },
  {
   "cell_type": "code",
   "execution_count": 3,
   "id": "91b549f9",
   "metadata": {},
   "outputs": [
    {
     "data": {
      "text/plain": [
       "'Hello'"
      ]
     },
     "execution_count": 3,
     "metadata": {},
     "output_type": "execute_result"
    }
   ],
   "source": [
    "'Hello, World!'[:5]"
   ]
  },
  {
   "cell_type": "code",
   "execution_count": 4,
   "id": "b2715cf5",
   "metadata": {},
   "outputs": [
    {
     "data": {
      "text/plain": [
       "'lo, World!'"
      ]
     },
     "execution_count": 4,
     "metadata": {},
     "output_type": "execute_result"
    }
   ],
   "source": [
    "'Hello, World!'[3:]"
   ]
  },
  {
   "cell_type": "markdown",
   "id": "691453e0",
   "metadata": {},
   "source": [
    "7. What are the values of the following expressions?\n",
    "'Hello'.upper()\n",
    "'Hello'.upper().isupper()\n",
    "'Hello'.upper().lower() "
   ]
  },
  {
   "cell_type": "code",
   "execution_count": 5,
   "id": "0696d81a",
   "metadata": {},
   "outputs": [
    {
     "data": {
      "text/plain": [
       "'HELLO'"
      ]
     },
     "execution_count": 5,
     "metadata": {},
     "output_type": "execute_result"
    }
   ],
   "source": [
    "'Hello'.upper()"
   ]
  },
  {
   "cell_type": "code",
   "execution_count": 6,
   "id": "21afd6e3",
   "metadata": {},
   "outputs": [
    {
     "data": {
      "text/plain": [
       "True"
      ]
     },
     "execution_count": 6,
     "metadata": {},
     "output_type": "execute_result"
    }
   ],
   "source": [
    "'hello'.upper().isupper()"
   ]
  },
  {
   "cell_type": "code",
   "execution_count": 7,
   "id": "71eff256",
   "metadata": {},
   "outputs": [
    {
     "data": {
      "text/plain": [
       "'hello'"
      ]
     },
     "execution_count": 7,
     "metadata": {},
     "output_type": "execute_result"
    }
   ],
   "source": [
    "'Hello'.upper().lower()"
   ]
  },
  {
   "cell_type": "raw",
   "id": "7e2674d7",
   "metadata": {},
   "source": [
    "8. What are the values of the following expressions?\n",
    "'Remember, remember, the fifth of July'.split()\n",
    "'-'.join('There can only one.'.split())"
   ]
  },
  {
   "cell_type": "code",
   "execution_count": 8,
   "id": "1aa445f5",
   "metadata": {},
   "outputs": [
    {
     "data": {
      "text/plain": [
       "['Remember,', 'remember,', 'the', 'fifth', 'of', 'july']"
      ]
     },
     "execution_count": 8,
     "metadata": {},
     "output_type": "execute_result"
    }
   ],
   "source": [
    "'Remember, remember, the fifth of july'.split()"
   ]
  },
  {
   "cell_type": "code",
   "execution_count": 9,
   "id": "83bec16a",
   "metadata": {},
   "outputs": [
    {
     "data": {
      "text/plain": [
       "'There-can-only-one.'"
      ]
     },
     "execution_count": 9,
     "metadata": {},
     "output_type": "execute_result"
    }
   ],
   "source": [
    "'-'.join('There can only one.'.split())"
   ]
  },
  {
   "cell_type": "markdown",
   "id": "08f72564",
   "metadata": {},
   "source": [
    "9. What are the methods for right-justifying, left-justifying, and centering a string?"
   ]
  },
  {
   "cell_type": "code",
   "execution_count": null,
   "id": "2d9afcf5",
   "metadata": {},
   "outputs": [],
   "source": [
    "str.ljust(s, width[, fillchar]) #method for left-justifying\n",
    "str.rjust(s, width[, fillchar]) #method for right-justifying\n",
    "str.center(s, width[, fillchar]) #method for center"
   ]
  },
  {
   "cell_type": "markdown",
   "id": "1b091083",
   "metadata": {},
   "source": [
    "10. What is the best way to remove whitespace characters from the start or end? "
   ]
  },
  {
   "cell_type": "markdown",
   "id": "f35d7c01",
   "metadata": {},
   "source": [
    "Ans:- String.Trim() removes all whitespace from the beginning and end of a string."
   ]
  }
 ],
 "metadata": {
  "kernelspec": {
   "display_name": "Python 3 (ipykernel)",
   "language": "python",
   "name": "python3"
  },
  "language_info": {
   "codemirror_mode": {
    "name": "ipython",
    "version": 3
   },
   "file_extension": ".py",
   "mimetype": "text/x-python",
   "name": "python",
   "nbconvert_exporter": "python",
   "pygments_lexer": "ipython3",
   "version": "3.9.7"
  }
 },
 "nbformat": 4,
 "nbformat_minor": 5
}
