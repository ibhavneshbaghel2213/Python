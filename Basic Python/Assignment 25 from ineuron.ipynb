{
 "cells": [
  {
   "cell_type": "markdown",
   "id": "c2577056",
   "metadata": {},
   "source": [
    "<b>1) .What is the difference between enclosing a list comprehension in square brackets and\n",
    "parentheses?"
   ]
  },
  {
   "cell_type": "markdown",
   "id": "c5e42966",
   "metadata": {},
   "source": [
    "Ans: The statement defined under the sqaure brackets is known as list compression and gives list data type while the statement defined under the paranthesis () is known as generator expression and gives type a generator. e.g.,"
   ]
  },
  {
   "cell_type": "code",
   "execution_count": 1,
   "id": "bd75d194",
   "metadata": {},
   "outputs": [
    {
     "name": "stdout",
     "output_type": "stream",
     "text": [
      "<class 'list'>\n",
      "<class 'generator'>\n"
     ]
    }
   ],
   "source": [
    "print(type([i for i in range(10)]))\n",
    "print(type((i for i in range(10))))"
   ]
  },
  {
   "cell_type": "markdown",
   "id": "a054a3f4",
   "metadata": {},
   "source": [
    "<b>2) What is the relationship between generators and iterators?<b>"
   ]
  },
  {
   "cell_type": "markdown",
   "id": "beda8665",
   "metadata": {},
   "source": [
    "Ans: Iterators are primarily used to iterate through other objects or convert them to iterators using the iter() method. Generators are commonly used in loops to create an iterator by returning all the data without impacting the loop’s iteration. Iterator makes use of the iter() and next() methods. The generator uses the yield keyword."
   ]
  },
  {
   "cell_type": "markdown",
   "id": "727d1ac0",
   "metadata": {},
   "source": [
    "<b>3) What are the signs that a function is a generator function?<b>"
   ]
  },
  {
   "cell_type": "markdown",
   "id": "9f3e5bb2",
   "metadata": {},
   "source": [
    "Ans: If a function contains at least one yield statement, it becomes a generator function."
   ]
  },
  {
   "cell_type": "markdown",
   "id": "6b4fadcd",
   "metadata": {},
   "source": [
    "<b>4) What is the purpose of a yield statement?"
   ]
  },
  {
   "cell_type": "markdown",
   "id": "5258424f",
   "metadata": {},
   "source": [
    "Ans:The purpose of yeild statement is to provides a value to the code looping over the generator and pauses execution of the generator function."
   ]
  },
  {
   "cell_type": "markdown",
   "id": "ad50b109",
   "metadata": {},
   "source": [
    "<b>5) What is the relationship between map calls and list comprehensions? Make a comparison and\n",
    "contrast between the two."
   ]
  },
  {
   "cell_type": "markdown",
   "id": "6b777558",
   "metadata": {},
   "source": [
    "Ans: List comprehension is more concise and easier to read as compared to map. List comprehension are used when a list of results is required as map only returns a map object and does not return any list. Map is faster in case of calling an already defined function "
   ]
  },
  {
   "cell_type": "code",
   "execution_count": 2,
   "id": "7ab3b7fd",
   "metadata": {},
   "outputs": [],
   "source": [
    "import timeit\n",
    "\n",
    "numbers = [1, 2, 3, 4, 5, 6, 7, 8, 9, 10]\n",
    "powers = [11, 12, 13, 14, 15, 16, 17, 18, 19, 20]\n",
    "\n",
    "def power_of(number, power):\n",
    "    return number ** power\n",
    "\n",
    "not_bad = str(list(map(power_of, numbers, powers)))\n",
    "icky = str([power_of(num, power) for num, power in zip(numbers, powers)])\n",
    "\n",
    "time_of_map = timeit.timeit(icky)\n",
    "time_of_lis =  timeit.timeit(not_bad)\n",
    "\n"
   ]
  },
  {
   "cell_type": "code",
   "execution_count": 3,
   "id": "92f7611a",
   "metadata": {},
   "outputs": [
    {
     "name": "stdout",
     "output_type": "stream",
     "text": [
      "0.15723200000000004\n",
      "0.15370749999999989\n"
     ]
    }
   ],
   "source": [
    "print(time_of_map)\n",
    "print(time_of_lis)"
   ]
  },
  {
   "cell_type": "code",
   "execution_count": null,
   "id": "d6d8d581",
   "metadata": {},
   "outputs": [],
   "source": []
  },
  {
   "cell_type": "code",
   "execution_count": null,
   "id": "7c1b4941",
   "metadata": {},
   "outputs": [],
   "source": []
  }
 ],
 "metadata": {
  "kernelspec": {
   "display_name": "Python 3 (ipykernel)",
   "language": "python",
   "name": "python3"
  },
  "language_info": {
   "codemirror_mode": {
    "name": "ipython",
    "version": 3
   },
   "file_extension": ".py",
   "mimetype": "text/x-python",
   "name": "python",
   "nbconvert_exporter": "python",
   "pygments_lexer": "ipython3",
   "version": "3.9.7"
  }
 },
 "nbformat": 4,
 "nbformat_minor": 5
}
