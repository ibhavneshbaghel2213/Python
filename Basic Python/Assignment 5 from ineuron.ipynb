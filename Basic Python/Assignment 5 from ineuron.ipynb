{
  "nbformat": 4,
  "nbformat_minor": 0,
  "metadata": {
    "colab": {
      "name": "Assignment 5 from ineuron.ipynb",
      "provenance": []
    },
    "kernelspec": {
      "name": "python3",
      "display_name": "Python 3"
    },
    "language_info": {
      "name": "python"
    }
  },
  "cells": [
    {
      "cell_type": "markdown",
      "source": [
        "**1. What does an empty dictionary&#39;s code look like?**"
      ],
      "metadata": {
        "id": "8TfwYYTuMUqw"
      }
    },
    {
      "cell_type": "code",
      "execution_count": 1,
      "metadata": {
        "colab": {
          "base_uri": "https://localhost:8080/"
        },
        "id": "Q73mDJF6MNba",
        "outputId": "7ea18c58-746c-40ff-e912-91b8cf2a32c4"
      },
      "outputs": [
        {
          "output_type": "execute_result",
          "data": {
            "text/plain": [
              "dict"
            ]
          },
          "metadata": {},
          "execution_count": 1
        }
      ],
      "source": [
        "a = {}\n",
        "type(a)"
      ]
    },
    {
      "cell_type": "markdown",
      "source": [
        "**2. What is the value of a dictionary value with the key &#39;foo&#39; and the value 42?**"
      ],
      "metadata": {
        "id": "_6ta5k3-MomH"
      }
    },
    {
      "cell_type": "code",
      "source": [
        "a = { \"foo\": 42 }\n",
        "type(a)\n",
        "\n"
      ],
      "metadata": {
        "colab": {
          "base_uri": "https://localhost:8080/"
        },
        "id": "-td9fLJMMxbU",
        "outputId": "724f21c4-5398-44c6-93b2-72cb0d9d16e9"
      },
      "execution_count": 2,
      "outputs": [
        {
          "output_type": "execute_result",
          "data": {
            "text/plain": [
              "dict"
            ]
          },
          "metadata": {},
          "execution_count": 2
        }
      ]
    },
    {
      "cell_type": "markdown",
      "source": [
        "**3. What is the most significant distinction between a dictionary and a list?**"
      ],
      "metadata": {
        "id": "p0BuvFGFMT5O"
      }
    },
    {
      "cell_type": "markdown",
      "source": [
        "Ans:- The most significant distinction between a dictionary and a list is a dictionary value is accessed by a key and a list value is accessed by a indexing operations."
      ],
      "metadata": {
        "id": "XqYFr6ENNsGF"
      }
    },
    {
      "cell_type": "markdown",
      "source": [
        "**4. What happens if you try to access spam[&#39;foo&#39;] if spam is {&#39;bar&#39;: 100}?**"
      ],
      "metadata": {
        "id": "g9S1nB3mOUy2"
      }
    },
    {
      "cell_type": "code",
      "source": [
        "spam = {'bar':100}\n",
        "spam['foo'] #this function try to access a value of foo key in dictonary if no foo key is available so it return keyError"
      ],
      "metadata": {
        "colab": {
          "base_uri": "https://localhost:8080/",
          "height": 185
        },
        "id": "c3A30XWHNYn4",
        "outputId": "9cbf985e-06c2-42cf-f2ae-f9e8363c8dca"
      },
      "execution_count": 4,
      "outputs": [
        {
          "output_type": "error",
          "ename": "KeyError",
          "evalue": "ignored",
          "traceback": [
            "\u001b[0;31m---------------------------------------------------------------------------\u001b[0m",
            "\u001b[0;31mKeyError\u001b[0m                                  Traceback (most recent call last)",
            "\u001b[0;32m<ipython-input-4-2acdd554a004>\u001b[0m in \u001b[0;36m<module>\u001b[0;34m()\u001b[0m\n\u001b[1;32m      1\u001b[0m \u001b[0mspam\u001b[0m \u001b[0;34m=\u001b[0m \u001b[0;34m{\u001b[0m\u001b[0;34m'bar'\u001b[0m\u001b[0;34m:\u001b[0m\u001b[0;36m100\u001b[0m\u001b[0;34m}\u001b[0m\u001b[0;34m\u001b[0m\u001b[0;34m\u001b[0m\u001b[0m\n\u001b[0;32m----> 2\u001b[0;31m \u001b[0mspam\u001b[0m\u001b[0;34m[\u001b[0m\u001b[0;34m'foo'\u001b[0m\u001b[0;34m]\u001b[0m \u001b[0;31m#this function try to access a value of foo key in dictonary if no foo key is available so it return keyError\u001b[0m\u001b[0;34m\u001b[0m\u001b[0;34m\u001b[0m\u001b[0m\n\u001b[0m",
            "\u001b[0;31mKeyError\u001b[0m: 'foo'"
          ]
        }
      ]
    },
    {
      "cell_type": "markdown",
      "source": [
        "**5. If a dictionary is stored in spam, what is the difference between the expressions &#39;cat&#39; in spam and\n",
        "&#39;cat&#39; in spam.keys()?**"
      ],
      "metadata": {
        "id": "0xhLXTgxO_Lv"
      }
    },
    {
      "cell_type": "markdown",
      "source": [
        "Ans:-  When you stored a spam in dictionary so, in the expression 'cat' it can be key or value but in spam.keys() the cat in spam is must be a key of dictionary"
      ],
      "metadata": {
        "id": "tdTehMZaQCXo"
      }
    },
    {
      "cell_type": "markdown",
      "source": [
        "**6. What is a shortcut for the following code?**\n",
        "\n",
        "if &#39;color&#39; not in spam:\n",
        "\n",
        "spam[&#39;color&#39;] = &#39;black&#39;"
      ],
      "metadata": {
        "id": "kN4vPtuLQlAR"
      }
    },
    {
      "cell_type": "code",
      "source": [
        "spam = {'color':'black'}\n",
        "spam.update({'color':'black'}) #Updates the dictionary with the specified key-value pairs\n",
        "print(spam)"
      ],
      "metadata": {
        "colab": {
          "base_uri": "https://localhost:8080/"
        },
        "id": "biLvE3SxQkRq",
        "outputId": "60b982ca-9f72-44b8-c4a8-d89c144048e7"
      },
      "execution_count": 17,
      "outputs": [
        {
          "output_type": "stream",
          "name": "stdout",
          "text": [
            "{'color': 'black'}\n"
          ]
        }
      ]
    },
    {
      "cell_type": "markdown",
      "source": [
        "**8. How do you &quot;pretty print&quot; dictionary values using which module and function?**"
      ],
      "metadata": {
        "id": "WJEZJtGfXpBN"
      }
    },
    {
      "cell_type": "code",
      "source": [
        "import pprint\n",
        "student = {'Name':'Bhavnesh', 'course':'Data_science', 'mentor': 'Sudhanshu_sir'}\n",
        "print(student) #Return simple structure of dictionary\n",
        "print(\"\\n\")\n",
        "pprint.pprint(student,indent=2,width=1) #Return formatter structure of dictionary\n",
        "\n"
      ],
      "metadata": {
        "colab": {
          "base_uri": "https://localhost:8080/"
        },
        "id": "vCj3oS3IWi8O",
        "outputId": "3a031bb2-7fc8-4411-ef83-fa88dacbed7f"
      },
      "execution_count": 33,
      "outputs": [
        {
          "output_type": "stream",
          "name": "stdout",
          "text": [
            "{'Name': 'Bhavnesh', 'course': 'Data_science', 'mentor': 'Sudhanshu_sir'}\n",
            "\n",
            "\n",
            "{ 'Name': 'Bhavnesh',\n",
            "  'course': 'Data_science',\n",
            "  'mentor': 'Sudhanshu_sir'}\n"
          ]
        }
      ]
    },
    {
      "cell_type": "code",
      "source": [
        ""
      ],
      "metadata": {
        "id": "WC8mWXiWdNVT"
      },
      "execution_count": null,
      "outputs": []
    }
  ]
}