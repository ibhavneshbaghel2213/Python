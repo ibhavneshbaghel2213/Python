{
 "cells": [
  {
   "cell_type": "markdown",
   "id": "30bc9ac5",
   "metadata": {},
   "source": [
    "<h3>1.What are the two values of the Boolean data type? How do you write them?</h3>"
   ]
  },
  {
   "cell_type": "markdown",
   "id": "0cb58efe",
   "metadata": {},
   "source": [
    "Ans:- <i>There are two type of value in Boolean data types are True and False.We can also represent this value in 0 as False and 1 as True.</i>\n",
    "<i>We can write Boolean data type by comparing Two variables.eg..,</i>"
   ]
  },
  {
   "cell_type": "code",
   "execution_count": 6,
   "id": "10300ced",
   "metadata": {},
   "outputs": [],
   "source": [
    "x = 5\n",
    "y = 10"
   ]
  },
  {
   "cell_type": "code",
   "execution_count": 7,
   "id": "803dadf1",
   "metadata": {},
   "outputs": [
    {
     "data": {
      "text/plain": [
       "True"
      ]
     },
     "execution_count": 7,
     "metadata": {},
     "output_type": "execute_result"
    }
   ],
   "source": [
    "x < y"
   ]
  },
  {
   "cell_type": "code",
   "execution_count": 8,
   "id": "d4d4a505",
   "metadata": {},
   "outputs": [
    {
     "data": {
      "text/plain": [
       "False"
      ]
     },
     "execution_count": 8,
     "metadata": {},
     "output_type": "execute_result"
    }
   ],
   "source": [
    "x > y"
   ]
  },
  {
   "cell_type": "markdown",
   "id": "71686507",
   "metadata": {},
   "source": [
    "<h3>2. What are the three different types of Boolean operators?</h3>"
   ]
  },
  {
   "cell_type": "markdown",
   "id": "1fb70377",
   "metadata": {},
   "source": [
    "<i>The Three boolean operators are <b>and,or,not</b> operation.</i>\n",
    "\n",
    "<i><b>and</b> operation − The syntax of and operation is: x and y. It indicates that when the x is false, then return x, otherwise returns y.</i>\n",
    "    \n",
    "<i><b>or</b> operation −The basic syntax of or operation is: x or y. It indicates that when the x is false, then return y, otherwise returns x.</i>\n",
    "    \n",
    "<i><b>not</b> operation − The basic syntax of and operation is: not x. It indicates that when the x is false, then it returns true, otherwise it returns false.</i>\n"
   ]
  },
  {
   "cell_type": "markdown",
   "id": "b60d709a",
   "metadata": {},
   "source": [
    "<h3>3. Make a list of each Boolean operator's truth tables (i.e. every possible combination of Boolean\n",
    "values for the operator and what it evaluate ).</h3>"
   ]
  },
  {
   "cell_type": "markdown",
   "id": "d9144218",
   "metadata": {},
   "source": [
    "Ans:- <i>The OR operation:</i>\n",
    "<table border =1>  \n",
    "<tr><th>A</th><th>B</th><th>AorB</th></tr>  \n",
    "<tr><td>0</td><td>1</td><td>1</td></tr>  \n",
    "<tr><td>1</td><td>0</td><td>1</td></tr>  \n",
    "<tr><td>1</td><td>1</td><td>1</td></tr>  \n",
    "<tr><td>0</td><td>0</td><td>0</td></tr>  \n",
    "</table>  "
   ]
  },
  {
   "cell_type": "markdown",
   "id": "6ae2b837",
   "metadata": {},
   "source": [
    "<i>The AND operations:</i>\n",
    "<table border =1>  \n",
    "<tr><th>A</th><th>B</th><th>AorB</th></tr>  \n",
    "<tr><td>0</td><td>1</td><td>0</td></tr>  \n",
    "<tr><td>1</td><td>0</td><td>0</td></tr>  \n",
    "<tr><td>1</td><td>1</td><td>1</td></tr>  \n",
    "<tr><td>0</td><td>0</td><td>0</td></tr>  \n",
    "</table>  "
   ]
  },
  {
   "cell_type": "markdown",
   "id": "3f058955",
   "metadata": {},
   "source": [
    "<i>The NOT operations:</i>\n",
    "<table border =1>  \n",
    "<tr><th>A</th><th>AnotA</th>  \n",
    "<tr><td>0</td><td>1</td>  \n",
    "<tr><td>1</td><td>0</td>   \n",
    "</table>  "
   ]
  },
  {
   "cell_type": "markdown",
   "id": "2a53281a",
   "metadata": {},
   "source": [
    "<h3>4. What are the values of the following expressions?</h3>\n",
    "(5 > 4) and (3 == 5)\n",
    "\n",
    "not (5 > 4)\n",
    "\n",
    "(5 > 4) or (3 == 5)\n",
    "\n",
    "not ((5 > 4) or (3 == 5))\n",
    "\n",
    "(True and True) and (True == False)\n",
    "\n",
    "(not False) or (not True)"
   ]
  },
  {
   "cell_type": "code",
   "execution_count": 9,
   "id": "4b0beaaa",
   "metadata": {},
   "outputs": [
    {
     "data": {
      "text/plain": [
       "False"
      ]
     },
     "execution_count": 9,
     "metadata": {},
     "output_type": "execute_result"
    }
   ],
   "source": [
    "(5>4)and(3==5)"
   ]
  },
  {
   "cell_type": "code",
   "execution_count": 10,
   "id": "5230d048",
   "metadata": {},
   "outputs": [
    {
     "data": {
      "text/plain": [
       "False"
      ]
     },
     "execution_count": 10,
     "metadata": {},
     "output_type": "execute_result"
    }
   ],
   "source": [
    "not(5>4)"
   ]
  },
  {
   "cell_type": "code",
   "execution_count": 12,
   "id": "1cbbd925",
   "metadata": {},
   "outputs": [
    {
     "data": {
      "text/plain": [
       "True"
      ]
     },
     "execution_count": 12,
     "metadata": {},
     "output_type": "execute_result"
    }
   ],
   "source": [
    "(5>4)or(3==5)"
   ]
  },
  {
   "cell_type": "code",
   "execution_count": 13,
   "id": "f6ed7ca6",
   "metadata": {},
   "outputs": [
    {
     "data": {
      "text/plain": [
       "False"
      ]
     },
     "execution_count": 13,
     "metadata": {},
     "output_type": "execute_result"
    }
   ],
   "source": [
    "not((5>4)or(3==5))"
   ]
  },
  {
   "cell_type": "code",
   "execution_count": 14,
   "id": "63d91458",
   "metadata": {},
   "outputs": [
    {
     "data": {
      "text/plain": [
       "False"
      ]
     },
     "execution_count": 14,
     "metadata": {},
     "output_type": "execute_result"
    }
   ],
   "source": [
    "(True and True) and (True == False)"
   ]
  },
  {
   "cell_type": "code",
   "execution_count": 16,
   "id": "e9d652fd",
   "metadata": {},
   "outputs": [
    {
     "data": {
      "text/plain": [
       "True"
      ]
     },
     "execution_count": 16,
     "metadata": {},
     "output_type": "execute_result"
    }
   ],
   "source": [
    "(not False) or (not True)"
   ]
  },
  {
   "cell_type": "markdown",
   "id": "523845e1",
   "metadata": {},
   "source": [
    "<h3>5. What are the six comparison operators?</h3>"
   ]
  },
  {
   "cell_type": "markdown",
   "id": "715f3517",
   "metadata": {},
   "source": [
    "Ans:- <i><ol>The six comparison operators are:</ol></i>\n",
    "        <li><i>== : Equal</i></li>\n",
    "        <li><i>!= : Not Eqaul</i></li>\n",
    "        <li><i>> : Greater than</i></li>\n",
    "        <li><i>< : Less than </i></li>\n",
    "        <li><i> <= : Less than or equal to</i></li>\n",
    "        <li><i> >= : Greater than or equal to</i></li>"
   ]
  },
  {
   "cell_type": "markdown",
   "id": "cba989b5",
   "metadata": {},
   "source": [
    "<h3>6. How do you tell the difference between the equal to and assignment operators?Describe a\n",
    "condition and when you would use one.</h3>"
   ]
  },
  {
   "cell_type": "markdown",
   "id": "80d2de8f",
   "metadata": {},
   "source": [
    "Ans :- <i>The <b>Assignment operators</b> is represented as '='. It is used to assign a value to a variable.eg.,</i>"
   ]
  },
  {
   "cell_type": "code",
   "execution_count": 18,
   "id": "2d22c2f1",
   "metadata": {},
   "outputs": [],
   "source": [
    "x = 5"
   ]
  },
  {
   "cell_type": "markdown",
   "id": "55a76a35",
   "metadata": {},
   "source": [
    "<i>In the <b>Equal to operator,</b> it is represented by '=='. It is used to compare a Values and returns True if both the values are equal otherwise returns False.eg..,</i>"
   ]
  },
  {
   "cell_type": "code",
   "execution_count": 19,
   "id": "c73ec976",
   "metadata": {},
   "outputs": [
    {
     "data": {
      "text/plain": [
       "False"
      ]
     },
     "execution_count": 19,
     "metadata": {},
     "output_type": "execute_result"
    }
   ],
   "source": [
    " 5 == 6\n"
   ]
  },
  {
   "cell_type": "code",
   "execution_count": 22,
   "id": "ce457e0f",
   "metadata": {},
   "outputs": [
    {
     "data": {
      "text/plain": [
       "True"
      ]
     },
     "execution_count": 22,
     "metadata": {},
     "output_type": "execute_result"
    }
   ],
   "source": [
    "5 == 5"
   ]
  },
  {
   "cell_type": "markdown",
   "id": "72d72b7d",
   "metadata": {},
   "source": [
    "<h3>7. Identify the three blocks in this code:</h3>"
   ]
  },
  {
   "cell_type": "code",
   "execution_count": 5,
   "id": "cbda7ac0",
   "metadata": {},
   "outputs": [
    {
     "name": "stdout",
     "output_type": "stream",
     "text": [
      "ham\n",
      "spam\n",
      "spam\n"
     ]
    }
   ],
   "source": [
    "spam = 0\n",
    "if spam == 10:   #Frist Block of Program\n",
    "    print(\"eggs\")\n",
    "if spam > 5:     #Second Block of Program\n",
    "    print(\"bacon\")\n",
    "else:            #Third Block of Program\n",
    "    print(\"ham\")\n",
    "    print(\"spam\")\n",
    "    print(\"spam\")"
   ]
  },
  {
   "cell_type": "markdown",
   "id": "0e0a5852",
   "metadata": {},
   "source": [
    "<h3>8. Write code that prints Hello if 1 is stored in spam, prints Howdy if 2 is stored in spam, and prints\n",
    "Greetings! if anything else is stored in spam.</h3>"
   ]
  },
  {
   "cell_type": "code",
   "execution_count": 4,
   "id": "6e296fd4",
   "metadata": {},
   "outputs": [
    {
     "name": "stdout",
     "output_type": "stream",
     "text": [
      "Enter the value: 3\n",
      "Greetings!\n"
     ]
    }
   ],
   "source": [
    "spam = int(input(\"Enter the value: \"))\n",
    "if spam == 1:   \n",
    "    print(\"Hello\")\n",
    "elif spam == 2: \n",
    "    print(\"Howdy\")\n",
    "else:    \n",
    "    print(\"Greetings!\")"
   ]
  },
  {
   "cell_type": "markdown",
   "id": "3f248c74",
   "metadata": {},
   "source": [
    "<h3>9.If your programme is stuck in an endless loop, what keys you’ll press?</h3>"
   ]
  },
  {
   "cell_type": "markdown",
   "id": "655402b7",
   "metadata": {},
   "source": [
    "Ans:-  <i>Mostly Python Programs is stuck in endless loop because of while statement and conditional statement</i>\n",
    "       <i>We can stop endless loop in python by pressing  <b>CTRL+C</b>.</i>"
   ]
  },
  {
   "cell_type": "markdown",
   "id": "125fea13",
   "metadata": {},
   "source": [
    "<h3>10. How can you tell the difference between break and continue?</h3>"
   ]
  },
  {
   "cell_type": "markdown",
   "id": "4b8d7819",
   "metadata": {},
   "source": [
    "Ans:- <i>The main Difference between break and continue in python is to terminating a loop.</i>\n",
    "<i>The basic use of <b>break</b> statement is to exit out of the loop and stop the flow of execution.\n",
    "Also passes the statement to the next statement after the loop.eg..,</i>"
   ]
  },
  {
   "cell_type": "code",
   "execution_count": 11,
   "id": "d4970331",
   "metadata": {},
   "outputs": [
    {
     "name": "stdout",
     "output_type": "stream",
     "text": [
      "B\n",
      "h\n",
      "a\n",
      "v\n",
      "End\n"
     ]
    }
   ],
   "source": [
    "for val in \"Bhavnesh\":\n",
    "    if val==\"n\":\n",
    "        break\n",
    "    print(val)\n",
    "print(\"End\")"
   ]
  },
  {
   "cell_type": "markdown",
   "id": "0247340c",
   "metadata": {},
   "source": [
    "<i>The <b>continue</b> statement used to skip the code inside loop for the current iteration.The loops do not terminate but continuously goes on with the next iteration.eg..,</i>"
   ]
  },
  {
   "cell_type": "code",
   "execution_count": 15,
   "id": "7a0e3897",
   "metadata": {},
   "outputs": [
    {
     "name": "stdout",
     "output_type": "stream",
     "text": [
      "b\n",
      "h\n",
      "a\n",
      "v\n",
      "e\n",
      "s\n",
      "h\n",
      "end\n"
     ]
    }
   ],
   "source": [
    "for val in \"bhavnesh\":\n",
    "    if val==\"n\":\n",
    "        continue\n",
    "    print(val)\n",
    "print(\"end\")"
   ]
  },
  {
   "cell_type": "markdown",
   "id": "358b4932",
   "metadata": {},
   "source": [
    "<h3>11. In a for loop, what is the difference between range(10), range(0, 10), and range(0, 10, 1)?</h3>"
   ]
  },
  {
   "cell_type": "markdown",
   "id": "0b4560f0",
   "metadata": {},
   "source": [
    "<i><b>range(10)</b>: In a for loop, a range(stop) function gives us a sequences of integer numbers from 0 to argument which we passed but not including the arguments we defined in function.eg..,</i>"
   ]
  },
  {
   "cell_type": "code",
   "execution_count": 25,
   "id": "abff8d31",
   "metadata": {},
   "outputs": [
    {
     "name": "stdout",
     "output_type": "stream",
     "text": [
      "0 1 2 3 4 5 6 7 8 9 "
     ]
    }
   ],
   "source": [
    "for i in range(10):\n",
    "    print(i, end=\" \")"
   ]
  },
  {
   "cell_type": "markdown",
   "id": "e51490fd",
   "metadata": {},
   "source": [
    "<i><b>range(0,10)</b>: In a for loop, a range(start,stop) function gives us a sequence of integer numbers from start to stop - 1 .</i> "
   ]
  },
  {
   "cell_type": "code",
   "execution_count": 27,
   "id": "ecdd61a7",
   "metadata": {},
   "outputs": [
    {
     "name": "stdout",
     "output_type": "stream",
     "text": [
      "5 6 7 8 9 "
     ]
    }
   ],
   "source": [
    "for i in range(5, 10):\n",
    "    print(i, end=' ')"
   ]
  },
  {
   "cell_type": "markdown",
   "id": "e47d2006",
   "metadata": {},
   "source": [
    "<i><b>range(0, 10, 1)</b>: In a for loop, a range(start, stop, step) function gives us a sequence of integer numbers from start to stop -1 but increment every step after every iteration.eg..,</i> "
   ]
  },
  {
   "cell_type": "code",
   "execution_count": 28,
   "id": "ad331b6b",
   "metadata": {},
   "outputs": [
    {
     "name": "stdout",
     "output_type": "stream",
     "text": [
      "5 7 9 11 13 "
     ]
    }
   ],
   "source": [
    "for i in range(5,15,2):\n",
    "    print(i,end=\" \")"
   ]
  },
  {
   "cell_type": "markdown",
   "id": "5c4b2be6",
   "metadata": {},
   "source": [
    "<h3>12. Write a short program that prints the numbers 1 to 10 using a for loop. Then write an equivalent\n",
    "program that prints the numbers 1 to 10 using a while loop.</h3>"
   ]
  },
  {
   "cell_type": "markdown",
   "id": "4d947e81",
   "metadata": {},
   "source": [
    "Ans:- <i><b>In for loop,</b></i>"
   ]
  },
  {
   "cell_type": "code",
   "execution_count": 29,
   "id": "1b724a7a",
   "metadata": {},
   "outputs": [
    {
     "name": "stdout",
     "output_type": "stream",
     "text": [
      "1 2 3 4 5 6 7 8 9 10 "
     ]
    }
   ],
   "source": [
    "for i in range(1,11):\n",
    "    print(i, end=\" \")"
   ]
  },
  {
   "cell_type": "markdown",
   "id": "b0aca846",
   "metadata": {},
   "source": [
    "<i><b>In While loop,</b></i>"
   ]
  },
  {
   "cell_type": "code",
   "execution_count": 3,
   "id": "1b923c1f",
   "metadata": {},
   "outputs": [
    {
     "name": "stdout",
     "output_type": "stream",
     "text": [
      "1 2 3 4 5 6 7 8 9 10 "
     ]
    }
   ],
   "source": [
    "i =1\n",
    "while i <=10:\n",
    "    print(i, end=\" \")\n",
    "    i=i+1"
   ]
  },
  {
   "cell_type": "markdown",
   "id": "36049285",
   "metadata": {},
   "source": [
    "<h3>13. If you had a function named bacon() inside a module named spam, how would you call it after\n",
    "importing spam?</h3>"
   ]
  },
  {
   "cell_type": "markdown",
   "id": "85e50bee",
   "metadata": {},
   "source": [
    " Ans:- from spam import bacon\n"
   ]
  },
  {
   "cell_type": "code",
   "execution_count": null,
   "id": "48dd27ad",
   "metadata": {},
   "outputs": [],
   "source": []
  },
  {
   "cell_type": "code",
   "execution_count": null,
   "id": "ffe6b803",
   "metadata": {},
   "outputs": [],
   "source": []
  }
 ],
 "metadata": {
  "kernelspec": {
   "display_name": "Python 3 (ipykernel)",
   "language": "python",
   "name": "python3"
  },
  "language_info": {
   "codemirror_mode": {
    "name": "ipython",
    "version": 3
   },
   "file_extension": ".py",
   "mimetype": "text/x-python",
   "name": "python",
   "nbconvert_exporter": "python",
   "pygments_lexer": "ipython3",
   "version": "3.9.7"
  }
 },
 "nbformat": 4,
 "nbformat_minor": 5
}
