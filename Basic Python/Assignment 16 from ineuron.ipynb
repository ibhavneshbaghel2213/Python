{
 "cells": [
  {
   "cell_type": "markdown",
   "id": "237e7db8",
   "metadata": {},
   "source": [
    "<b>1. Create a list called years_list, starting with the year of your birth, and each year thereafter until\n",
    "the year of your fifth birthday. For example, if you were born in 1980. the list would be years_list =\n",
    "[1980, 1981, 1982, 1983, 1984, 1985].<b>"
   ]
  },
  {
   "cell_type": "code",
   "execution_count": 1,
   "id": "3771bd3d",
   "metadata": {},
   "outputs": [],
   "source": [
    "years_list = [2000,2001,2002,2003,2004,2005]"
   ]
  },
  {
   "cell_type": "markdown",
   "id": "d83e186a",
   "metadata": {},
   "source": [
    "<b>2. In which year in years_list was your third birthday? Remember, you were 0 years of age for your\n",
    "first year.<b>"
   ]
  },
  {
   "cell_type": "code",
   "execution_count": 2,
   "id": "df9d2507",
   "metadata": {},
   "outputs": [
    {
     "data": {
      "text/plain": [
       "2003"
      ]
     },
     "execution_count": 2,
     "metadata": {},
     "output_type": "execute_result"
    }
   ],
   "source": [
    "years_list[3]"
   ]
  },
  {
   "cell_type": "markdown",
   "id": "64c82d38",
   "metadata": {},
   "source": [
    "<b>3.In the years list, which year were you the oldest?<b>"
   ]
  },
  {
   "cell_type": "code",
   "execution_count": 3,
   "id": "dc55833d",
   "metadata": {},
   "outputs": [
    {
     "data": {
      "text/plain": [
       "2005"
      ]
     },
     "execution_count": 3,
     "metadata": {},
     "output_type": "execute_result"
    }
   ],
   "source": [
    "years_list[-1]"
   ]
  },
  {
   "cell_type": "markdown",
   "id": "4730a34c",
   "metadata": {},
   "source": [
    "<b>4. Make a list called things with these three strings as elements: &quot;mozzarella&quot;, &quot;cinderella&quot;,\n",
    "&quot;salmonella&quot;.<b>"
   ]
  },
  {
   "cell_type": "code",
   "execution_count": 4,
   "id": "a7a01936",
   "metadata": {},
   "outputs": [],
   "source": [
    "lst = [\"mozzarella\", \"cinderella\", \"salmonella\"]"
   ]
  },
  {
   "cell_type": "markdown",
   "id": "64bd657d",
   "metadata": {},
   "source": [
    "<b>5. Capitalize the element in things that refers to a person and then print the list. Did it change the\n",
    "element in the list?<b>"
   ]
  },
  {
   "cell_type": "code",
   "execution_count": 5,
   "id": "d0670e91",
   "metadata": {},
   "outputs": [],
   "source": [
    "lst = [\"mozzarella\".capitalize(), \"cinderella\", \"salmonella\".capitalize()]"
   ]
  },
  {
   "cell_type": "code",
   "execution_count": 6,
   "id": "f95944ad",
   "metadata": {},
   "outputs": [
    {
     "data": {
      "text/plain": [
       "['Mozzarella', 'cinderella', 'Salmonella']"
      ]
     },
     "execution_count": 6,
     "metadata": {},
     "output_type": "execute_result"
    }
   ],
   "source": [
    "lst"
   ]
  },
  {
   "cell_type": "markdown",
   "id": "92f593aa",
   "metadata": {},
   "source": [
    "<b>6. Make a surprise list with the elements &quot;Groucho,&quot; &quot;Chico,&quot; and &quot;Harpo.&quot;<b>"
   ]
  },
  {
   "cell_type": "code",
   "execution_count": 7,
   "id": "bfeb1276",
   "metadata": {},
   "outputs": [],
   "source": [
    "surprise_list = [\"Groucho,\" \"Chico,\" and \"Harpo.\"]"
   ]
  },
  {
   "cell_type": "markdown",
   "id": "ea074748",
   "metadata": {},
   "source": [
    "<b>7. Lowercase the last element of the surprise list, reverse it, and then capitalize it.<b>"
   ]
  },
  {
   "cell_type": "code",
   "execution_count": 15,
   "id": "a67d11fd",
   "metadata": {},
   "outputs": [
    {
     "data": {
      "text/plain": [
       "'.oprah'"
      ]
     },
     "execution_count": 15,
     "metadata": {},
     "output_type": "execute_result"
    }
   ],
   "source": [
    "surprise_list[-1].lower()[::-1].capitalize()"
   ]
  },
  {
   "cell_type": "markdown",
   "id": "051d3f1b",
   "metadata": {},
   "source": [
    "<b>8. Make an English-to-French dictionary called e2f and print it. Here are your starter words: dog is\n",
    "chien, cat is chat, and walrus is morse.<b>"
   ]
  },
  {
   "cell_type": "code",
   "execution_count": 16,
   "id": "4e9a32ff",
   "metadata": {},
   "outputs": [],
   "source": [
    "e2f = { \"dog\" : \"chien\", \"cat\" : \"chat\", \"walrus\" : \"morse\"}"
   ]
  },
  {
   "cell_type": "markdown",
   "id": "d0fd7d04",
   "metadata": {},
   "source": [
    "<b>9. Write the French word for walrus in your three-word dictionary e2f.<b>"
   ]
  },
  {
   "cell_type": "code",
   "execution_count": 17,
   "id": "09af493a",
   "metadata": {},
   "outputs": [
    {
     "data": {
      "text/plain": [
       "'morse'"
      ]
     },
     "execution_count": 17,
     "metadata": {},
     "output_type": "execute_result"
    }
   ],
   "source": [
    "e2f[\"walrus\"]"
   ]
  },
  {
   "cell_type": "markdown",
   "id": "f074f098",
   "metadata": {},
   "source": [
    "<b>10. Make a French-to-English dictionary called f2e from e2f. Use the items method.<b>"
   ]
  },
  {
   "cell_type": "code",
   "execution_count": 28,
   "id": "8536e58b",
   "metadata": {},
   "outputs": [],
   "source": [
    "f2e = {}\n",
    "for i,j in e2f.items():\n",
    "    f2e.setdefault(j,i)\n"
   ]
  },
  {
   "cell_type": "code",
   "execution_count": 29,
   "id": "af87e479",
   "metadata": {},
   "outputs": [
    {
     "data": {
      "text/plain": [
       "{'chien': 'dog', 'chat': 'cat', 'morse': 'walrus'}"
      ]
     },
     "execution_count": 29,
     "metadata": {},
     "output_type": "execute_result"
    }
   ],
   "source": [
    "f2e"
   ]
  },
  {
   "cell_type": "markdown",
   "id": "e2fc9801",
   "metadata": {},
   "source": [
    "<b>11. Print the English version of the French word chien using f2e.<b>"
   ]
  },
  {
   "cell_type": "code",
   "execution_count": 32,
   "id": "5f4f4547",
   "metadata": {},
   "outputs": [
    {
     "data": {
      "text/plain": [
       "'dog'"
      ]
     },
     "execution_count": 32,
     "metadata": {},
     "output_type": "execute_result"
    }
   ],
   "source": [
    "f2e[\"chien\"]"
   ]
  },
  {
   "cell_type": "markdown",
   "id": "e96e4f74",
   "metadata": {},
   "source": [
    "<b>12. Make and print a set of English words from the keys in e2f.<b>"
   ]
  },
  {
   "cell_type": "code",
   "execution_count": 34,
   "id": "2985e7e3",
   "metadata": {},
   "outputs": [
    {
     "name": "stdout",
     "output_type": "stream",
     "text": [
      "dog\n",
      "cat\n",
      "walrus\n"
     ]
    }
   ],
   "source": [
    "for i in e2f.keys():\n",
    "    print(i)"
   ]
  },
  {
   "cell_type": "markdown",
   "id": "7e431784",
   "metadata": {},
   "source": [
    "<b>13. Make a multilevel dictionary called life. Use these strings for the topmost keys: &#39;animals&#39;, &#39;plants&#39;,\n",
    "and &#39;other&#39;. Make the &#39;animals&#39; key refer to another dictionary with the keys &#39;cats&#39;, &#39;octopi&#39;, and\n",
    "&#39;emus&#39;. Make the &#39;cats&#39; key refer to a list of strings with the values &#39;Henri&#39;, &#39;Grumpy&#39;, and &#39;Lucy&#39;.\n",
    "Make all the other keys refer to empty dictionaries.<b>"
   ]
  },
  {
   "cell_type": "code",
   "execution_count": 42,
   "id": "b2b9b1c3",
   "metadata": {},
   "outputs": [],
   "source": [
    "life = {\"animals\" : {\"cats\" : ['Henri', 'Grumpy', 'Lucy'], \"octopi\":{}, \"emus\":{}},\n",
    "       \"plants\": {}, \"others\": {}}"
   ]
  },
  {
   "cell_type": "markdown",
   "id": "2da3c1b2",
   "metadata": {},
   "source": [
    "<b>14. Print the top-level keys of life.<b>"
   ]
  },
  {
   "cell_type": "code",
   "execution_count": 50,
   "id": "f9b1023d",
   "metadata": {},
   "outputs": [
    {
     "name": "stdout",
     "output_type": "stream",
     "text": [
      "animals\n",
      "plants\n",
      "others\n"
     ]
    }
   ],
   "source": [
    "for i in life.keys():\n",
    "    print(i)"
   ]
  },
  {
   "cell_type": "markdown",
   "id": "1450be1c",
   "metadata": {},
   "source": [
    "<b>15. Print the keys for life[&#39;animals&#39;].<b>"
   ]
  },
  {
   "cell_type": "code",
   "execution_count": 49,
   "id": "fea223a0",
   "metadata": {},
   "outputs": [
    {
     "name": "stdout",
     "output_type": "stream",
     "text": [
      "cats\n",
      "octopi\n",
      "emus\n"
     ]
    }
   ],
   "source": [
    "for i in life[\"animals\"].keys():\n",
    "    print(i)"
   ]
  },
  {
   "cell_type": "markdown",
   "id": "eaa5319b",
   "metadata": {},
   "source": [
    "<b>16. Print the values for life[&#39;animals&#39;][&#39;cats&#39;]<b>"
   ]
  },
  {
   "cell_type": "code",
   "execution_count": 47,
   "id": "a628b265",
   "metadata": {},
   "outputs": [
    {
     "name": "stdout",
     "output_type": "stream",
     "text": [
      "Henri\n",
      "Grumpy\n",
      "Lucy\n"
     ]
    }
   ],
   "source": [
    " for i in life['animals']['cats']:\n",
    "        print(i)"
   ]
  },
  {
   "cell_type": "code",
   "execution_count": null,
   "id": "65969482",
   "metadata": {},
   "outputs": [],
   "source": []
  }
 ],
 "metadata": {
  "kernelspec": {
   "display_name": "Python 3 (ipykernel)",
   "language": "python",
   "name": "python3"
  },
  "language_info": {
   "codemirror_mode": {
    "name": "ipython",
    "version": 3
   },
   "file_extension": ".py",
   "mimetype": "text/x-python",
   "name": "python",
   "nbconvert_exporter": "python",
   "pygments_lexer": "ipython3",
   "version": "3.9.7"
  }
 },
 "nbformat": 4,
 "nbformat_minor": 5
}
