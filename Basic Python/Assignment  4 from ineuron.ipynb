{
  "nbformat": 4,
  "nbformat_minor": 0,
  "metadata": {
    "colab": {
      "name": "Assignment 4 from ineuron.ipynb",
      "provenance": []
    },
    "kernelspec": {
      "name": "python3",
      "display_name": "Python 3"
    },
    "language_info": {
      "name": "python"
    }
  },
  "cells": [
    {
      "cell_type": "markdown",
      "source": [
        "**1. What exactly is []?**\n"
      ],
      "metadata": {
        "id": "un3rhVje-A9T"
      }
    },
    {
      "cell_type": "markdown",
      "source": [
        "Ans:- Basically, This is a empty list,which having no items.we can store diffrent types of data types and performs some operations."
      ],
      "metadata": {
        "id": "tgV0-VYj-KbX"
      }
    },
    {
      "cell_type": "code",
      "source": [
        "a = []\n",
        "type(a)"
      ],
      "metadata": {
        "colab": {
          "base_uri": "https://localhost:8080/"
        },
        "id": "atIfEIQV_Ujj",
        "outputId": "7fd133c6-a6c4-4636-dfde-a53cbce4ade1"
      },
      "execution_count": 1,
      "outputs": [
        {
          "output_type": "execute_result",
          "data": {
            "text/plain": [
              "list"
            ]
          },
          "metadata": {},
          "execution_count": 1
        }
      ]
    },
    {
      "cell_type": "markdown",
      "source": [
        "**2. In a list of values stored in a variable called spam, how would you assign the value &#39;hello&#39; as the\n",
        "third value? (Assume [2, 4, 6, 8, 10] are in spam.)**"
      ],
      "metadata": {
        "id": "DqEPj5nr_pYB"
      }
    },
    {
      "cell_type": "code",
      "source": [
        "spam = [2,4,6,8,10]\n",
        "spam[2] = \"hello\" #assign a value\n",
        "print(spam)"
      ],
      "metadata": {
        "colab": {
          "base_uri": "https://localhost:8080/"
        },
        "id": "w0Q7W1yv_nAe",
        "outputId": "70a4edcf-9db8-4e2d-8b75-ff51b70d05be"
      },
      "execution_count": 4,
      "outputs": [
        {
          "output_type": "stream",
          "name": "stdout",
          "text": [
            "[2, 4, 'hello', 8, 10]\n"
          ]
        }
      ]
    },
    {
      "cell_type": "markdown",
      "source": [
        "**Let&#39;s pretend the spam includes the list [&#39;a&#39;, &#39;b&#39;, &#39;c&#39;, &#39;d&#39;] for the next three queries.**"
      ],
      "metadata": {
        "id": "kZ6CelBeDNFp"
      }
    },
    {
      "cell_type": "markdown",
      "source": [
        "3. What is the value of spam[int(int(&#39;3&#39; * 2) / 11)]?"
      ],
      "metadata": {
        "id": "jD99VflwDWof"
      }
    },
    {
      "cell_type": "code",
      "source": [
        "spam = ['a','b','c','d']\n",
        "spam[int(int('3'*2)/11)]"
      ],
      "metadata": {
        "colab": {
          "base_uri": "https://localhost:8080/",
          "height": 35
        },
        "id": "1DbgZMhWDoMe",
        "outputId": "d477f4f2-0e3c-4755-de1e-84d7c0305b21"
      },
      "execution_count": 8,
      "outputs": [
        {
          "output_type": "execute_result",
          "data": {
            "application/vnd.google.colaboratory.intrinsic+json": {
              "type": "string"
            },
            "text/plain": [
              "'d'"
            ]
          },
          "metadata": {},
          "execution_count": 8
        }
      ]
    },
    {
      "cell_type": "markdown",
      "source": [
        "**4. What is the value of spam[-1]?**"
      ],
      "metadata": {
        "id": "Z3-9O6hwESZG"
      }
    },
    {
      "cell_type": "code",
      "source": [
        "spam[-1] #return last element of the list"
      ],
      "metadata": {
        "colab": {
          "base_uri": "https://localhost:8080/",
          "height": 35
        },
        "id": "TSI62MDIDV8B",
        "outputId": "bdda5e58-b610-4576-850f-fb9996c5756e"
      },
      "execution_count": 9,
      "outputs": [
        {
          "output_type": "execute_result",
          "data": {
            "application/vnd.google.colaboratory.intrinsic+json": {
              "type": "string"
            },
            "text/plain": [
              "'d'"
            ]
          },
          "metadata": {},
          "execution_count": 9
        }
      ]
    },
    {
      "cell_type": "markdown",
      "source": [
        "**5. What is the value of spam[:2]?**"
      ],
      "metadata": {
        "id": "uQc9d-FXEZgs"
      }
    },
    {
      "cell_type": "code",
      "source": [
        "spam[:2] #return value from index 0 to 2 but exclude 2 index"
      ],
      "metadata": {
        "colab": {
          "base_uri": "https://localhost:8080/"
        },
        "id": "IjJbZt6-Efuw",
        "outputId": "f32974a0-71ac-43f3-f0ba-d33ac5dd89a9"
      },
      "execution_count": 11,
      "outputs": [
        {
          "output_type": "execute_result",
          "data": {
            "text/plain": [
              "['a', 'b']"
            ]
          },
          "metadata": {},
          "execution_count": 11
        }
      ]
    },
    {
      "cell_type": "markdown",
      "source": [
        "**Let&#39;s pretend bacon has the list [3.14, &#39;cat,&#39; 11, &#39;cat,&#39; True] for the next three questions.**"
      ],
      "metadata": {
        "id": "Z4eWCshyE_DH"
      }
    },
    {
      "cell_type": "markdown",
      "source": [
        "**6. What is the value of bacon.index(&#39;cat&#39;)?**"
      ],
      "metadata": {
        "id": "GMcxiIuQFGMV"
      }
    },
    {
      "cell_type": "code",
      "source": [
        "bacon = [3.14, 'cat,', 11, 'cat', True]\n",
        "bacon.index('cat') #return the index of cat element at frist occurence"
      ],
      "metadata": {
        "colab": {
          "base_uri": "https://localhost:8080/"
        },
        "id": "LCeLXkT6FLV5",
        "outputId": "cdbbab0d-c3aa-4bf9-ad50-fbda83b3196f"
      },
      "execution_count": 20,
      "outputs": [
        {
          "output_type": "execute_result",
          "data": {
            "text/plain": [
              "3"
            ]
          },
          "metadata": {},
          "execution_count": 20
        }
      ]
    },
    {
      "cell_type": "markdown",
      "source": [
        "**7. How does bacon.append(99) change the look of the list value in bacon?**"
      ],
      "metadata": {
        "id": "_uMVSvKHFpJD"
      }
    },
    {
      "cell_type": "code",
      "source": [
        "bacon = [3.14, 'cat', 11, 'cat', True]\n",
        "bacon.append(99) #add 99 element at the end of list\n",
        "print(bacon)"
      ],
      "metadata": {
        "colab": {
          "base_uri": "https://localhost:8080/"
        },
        "id": "-tVA2-NqDR_J",
        "outputId": "89ddf267-f5fc-4716-bd5c-9dfc44995c25"
      },
      "execution_count": 17,
      "outputs": [
        {
          "output_type": "stream",
          "name": "stdout",
          "text": [
            "[3.14, 'cat,', 11, 'cat', True, 99]\n"
          ]
        }
      ]
    },
    {
      "cell_type": "markdown",
      "source": [
        "**8. How does bacon.remove(&#39;cat&#39;) change the look of the list in bacon?**"
      ],
      "metadata": {
        "id": "FzTCSdWjGRE-"
      }
    },
    {
      "cell_type": "code",
      "source": [
        "bacon = [3.14, 'cat', 11, 'cat', True]\n",
        "bacon.remove('cat')  #it remove cat element at frist occurence\n",
        "print(bacon)"
      ],
      "metadata": {
        "colab": {
          "base_uri": "https://localhost:8080/"
        },
        "id": "JFa1Mn-_AtvK",
        "outputId": "091471d1-9708-4fa1-cf8f-2c6f787adc3f"
      },
      "execution_count": 22,
      "outputs": [
        {
          "output_type": "stream",
          "name": "stdout",
          "text": [
            "[3.14, 11, 'cat', True]\n"
          ]
        }
      ]
    },
    {
      "cell_type": "markdown",
      "source": [
        "**9. What are the list concatenation and list replication operators?**"
      ],
      "metadata": {
        "id": "3OeuQXODHL-0"
      }
    },
    {
      "cell_type": "markdown",
      "source": [
        "Ans:- The operator for list concatenation is +, while the operator for replication is *.eg..,"
      ],
      "metadata": {
        "id": "_Vk8LAo4HhSc"
      }
    },
    {
      "cell_type": "code",
      "source": [
        "a = [1,2,3,4,5]\n",
        "n = [6,7,8,9]\n",
        "concat = a + n  #concatenation the list\n",
        "print(concat)"
      ],
      "metadata": {
        "colab": {
          "base_uri": "https://localhost:8080/"
        },
        "id": "v6wUuSBIHpwa",
        "outputId": "fd0ecd4a-b420-435f-cb75-6617af32bf37"
      },
      "execution_count": 25,
      "outputs": [
        {
          "output_type": "stream",
          "name": "stdout",
          "text": [
            "[1, 2, 3, 4, 5, 6, 7, 8, 9]\n"
          ]
        }
      ]
    },
    {
      "cell_type": "markdown",
      "source": [
        "****"
      ],
      "metadata": {
        "id": "gTuqlgCiAJd5"
      }
    },
    {
      "cell_type": "code",
      "source": [
        "a = [2,4,5,6]\n",
        "b = 2\n",
        "replica = a*b  #replication list\n",
        "print(replica)"
      ],
      "metadata": {
        "colab": {
          "base_uri": "https://localhost:8080/"
        },
        "id": "N-uODjRrADIK",
        "outputId": "3140f370-c658-4af5-e646-bf1fec2be9f3"
      },
      "execution_count": 27,
      "outputs": [
        {
          "output_type": "stream",
          "name": "stdout",
          "text": [
            "[2, 4, 5, 6, 2, 4, 5, 6]\n"
          ]
        }
      ]
    },
    {
      "cell_type": "markdown",
      "source": [
        "**10. What is difference between the list methods append() and insert()?**"
      ],
      "metadata": {
        "id": "5owlQxByI1h-"
      }
    },
    {
      "cell_type": "markdown",
      "source": [
        "Ans:- The diffrence between of append() and insert() is to append() will append element at last index of list and insert() will add element at specified index."
      ],
      "metadata": {
        "id": "jbBcpzFkJLYI"
      }
    },
    {
      "cell_type": "code",
      "source": [
        "a = [2,4,5,6]\n",
        "a.append(2) #add  2 element at last index\n",
        "print(a)\n",
        "a.insert(2,4) #add 4 element at 2 index\n",
        "print(a)"
      ],
      "metadata": {
        "colab": {
          "base_uri": "https://localhost:8080/"
        },
        "id": "gXiedQ1-Jky1",
        "outputId": "688b17c8-a35c-4ada-cfb8-fe69c8e371f9"
      },
      "execution_count": 31,
      "outputs": [
        {
          "output_type": "stream",
          "name": "stdout",
          "text": [
            "[2, 4, 5, 6, 2]\n",
            "[2, 4, 4, 5, 6, 2]\n"
          ]
        }
      ]
    },
    {
      "cell_type": "markdown",
      "source": [
        "**11. What are the two methods for removing items from a list?**"
      ],
      "metadata": {
        "id": "XMp-oaEqKfsk"
      }
    },
    {
      "cell_type": "code",
      "source": [
        "a = [2,5,7,8,9,44,88]\n",
        "a.remove(7) # remove 7 element from a list\n",
        "a.pop()  #remove element at last index\n",
        "print(a)"
      ],
      "metadata": {
        "colab": {
          "base_uri": "https://localhost:8080/"
        },
        "id": "7GmscFTxI1Kt",
        "outputId": "6a67c4e1-dd1f-4af7-8cb4-a3fb891bc47b"
      },
      "execution_count": 33,
      "outputs": [
        {
          "output_type": "stream",
          "name": "stdout",
          "text": [
            "[2, 5, 8, 9, 44]\n"
          ]
        }
      ]
    },
    {
      "cell_type": "markdown",
      "source": [
        "**12. Describe how list values and string values are identical.**"
      ],
      "metadata": {
        "id": "W0g2rmRhLCXc"
      }
    },
    {
      "cell_type": "markdown",
      "source": [
        "Ans:- The list and string are identical because of sequences of characters."
      ],
      "metadata": {
        "id": "ldicQF75LJ0H"
      }
    },
    {
      "cell_type": "markdown",
      "source": [
        "**13. What&#39;s the difference between tuples and lists?**"
      ],
      "metadata": {
        "id": "mdzHyo8ELote"
      }
    },
    {
      "cell_type": "markdown",
      "source": [
        "Ans:-  The diffrence between list and tuples are list is mutable and tuple is immutable."
      ],
      "metadata": {
        "id": "f4JkbGo0L2o3"
      }
    },
    {
      "cell_type": "markdown",
      "source": [
        "**14. How do you type a tuple value that only contains the integer 42?**"
      ],
      "metadata": {
        "id": "gsPBesDtMOjU"
      }
    },
    {
      "cell_type": "code",
      "source": [
        " t = (42,)\n",
        " type(t)"
      ],
      "metadata": {
        "colab": {
          "base_uri": "https://localhost:8080/"
        },
        "id": "_LLzZ3RcIZm-",
        "outputId": "2fe77c30-c961-45ef-cbb5-8af48d3d5b76"
      },
      "execution_count": 34,
      "outputs": [
        {
          "output_type": "execute_result",
          "data": {
            "text/plain": [
              "tuple"
            ]
          },
          "metadata": {},
          "execution_count": 34
        }
      ]
    },
    {
      "cell_type": "markdown",
      "source": [
        "**15. How do you get a list value&#39;s tuple form? How do you get a tuple value&#39;s list form?**"
      ],
      "metadata": {
        "id": "aBTLkPu6Mgrn"
      }
    },
    {
      "cell_type": "code",
      "source": [
        "a = (2,4,6,7,88)\n",
        "print(list(a))  #by using list constructor\n",
        "b= [2,55,77,46,765,44]\n",
        "print(tuple(b))  #by using tuple constructor"
      ],
      "metadata": {
        "colab": {
          "base_uri": "https://localhost:8080/"
        },
        "id": "AsrRraDoMfKO",
        "outputId": "36b0cc91-7aaa-4ed2-f491-33d70ec07f10"
      },
      "execution_count": 36,
      "outputs": [
        {
          "output_type": "stream",
          "name": "stdout",
          "text": [
            "[2, 4, 6, 7, 88]\n",
            "(2, 55, 77, 46, 765, 44)\n"
          ]
        }
      ]
    },
    {
      "cell_type": "markdown",
      "source": [
        "**16. Variables that &quot;contain&quot; list values are not necessarily lists themselves. Instead, what do they\n",
        "contain?**"
      ],
      "metadata": {
        "id": "HS_RdBy2NIQt"
      }
    },
    {
      "cell_type": "markdown",
      "source": [
        "Ans:- In the list, not only the values is stored even their refrences is also stored in it."
      ],
      "metadata": {
        "id": "OEZom395NiVb"
      }
    },
    {
      "cell_type": "markdown",
      "source": [
        "**17. How do you distinguish between copy.copy() and copy.deepcopy()?**"
      ],
      "metadata": {
        "id": "cTmYqUg0N29S"
      }
    },
    {
      "cell_type": "markdown",
      "source": [
        "Ans:- The copy,copy() do the shallow copy of list, When you shallow copy a list, you are creating a new list that preserves the references of the original list. What this means is that we have two lists which point to the same space in memory.\n",
        "\n",
        "And on the other hand, copy.deepcopy() do the deep copy of the list,A deep copy is required to create a list that is truly independent of its originator. Unlike the techniques for shallow copying, a deep copy requires the use of an imported library."
      ],
      "metadata": {
        "id": "FpDl1i5COfde"
      }
    },
    {
      "cell_type": "code",
      "source": [
        ""
      ],
      "metadata": {
        "id": "bkz8YIYjM9u5"
      },
      "execution_count": null,
      "outputs": []
    }
  ]
}