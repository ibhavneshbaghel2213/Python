{
 "cells": [
  {
   "cell_type": "markdown",
   "id": "9cd16dfc",
   "metadata": {},
   "source": [
    "<b>1. How do you distinguish between shutil.copy() and shutil.copytree()?</b>"
   ]
  },
  {
   "cell_type": "markdown",
   "id": "143f9886",
   "metadata": {},
   "source": [
    "Ans:-  shutil.copy() method in Python is used to copy the content of source file to destination file or directory.It used to copy a single file.\n",
    "\n",
    "    shutil.copytree() method recursively copies an entire directory tree rooted at source to the destination directory.It is used to copy a entire folder with its content."
   ]
  },
  {
   "cell_type": "markdown",
   "id": "903175be",
   "metadata": {},
   "source": [
    "<b>2. What function is used to rename files??</b>"
   ]
  },
  {
   "cell_type": "markdown",
   "id": "7f99c7ee",
   "metadata": {},
   "source": [
    "os.rename() is the method used to rename a file or directory."
   ]
  },
  {
   "cell_type": "markdown",
   "id": "15bb8299",
   "metadata": {},
   "source": [
    "<b>3. What is the difference between the delete functions in the send2trash and shutil modules?</b>"
   ]
  },
  {
   "cell_type": "markdown",
   "id": "8fa4e747",
   "metadata": {},
   "source": [
    "Ans:-  The major difference is send2trash function will move files to recycle bin which can be restore from recyclebin while shutil modules used to permanently deleting a files which cannot be restore."
   ]
  },
  {
   "cell_type": "markdown",
   "id": "a51af507",
   "metadata": {},
   "source": [
    "<b>4.ZipFile objects have a close() method just like File objects’ close() method. What ZipFile method is\n",
    "equivalent to File objects’ open() method?</b>"
   ]
  },
  {
   "cell_type": "markdown",
   "id": "af9c7bb3",
   "metadata": {},
   "source": [
    "ZipFile.open(name[,mode[, pwd]]) "
   ]
  },
  {
   "cell_type": "markdown",
   "id": "1b467131",
   "metadata": {},
   "source": [
    "<b>5. Create a programme that searches a folder tree for files with a certain file extension (such as .pdf\n",
    "or .jpg). Copy these files from whatever location they are in to a new folder.</b>"
   ]
  },
  {
   "cell_type": "code",
   "execution_count": 2,
   "id": "5593efb6",
   "metadata": {},
   "outputs": [],
   "source": [
    "import os, shutil"
   ]
  },
  {
   "cell_type": "code",
   "execution_count": 3,
   "id": "0c1f6960",
   "metadata": {},
   "outputs": [],
   "source": [
    "def search_and_copy(folder, destination):\n",
    "    for i,j,k in os.walk(folder):\n",
    "        for files in k:\n",
    "            if files.endswith('.jpg'):\n",
    "                try:\n",
    "                    jpg_path = os.path.join(i,files)\n",
    "                    print(jpg_path)\n",
    "                    shutil.copy(jpg_path,destination)\n",
    "                except SameFileError as e:\n",
    "                    print(\"The file already exist\", e)\n",
    "            \n",
    "                \n",
    "    "
   ]
  },
  {
   "cell_type": "code",
   "execution_count": null,
   "id": "4537987d",
   "metadata": {},
   "outputs": [],
   "source": [
    "search_and_copy('D:\\MOVIES','D:\\MOVIES\\PICTURES')"
   ]
  },
  {
   "cell_type": "code",
   "execution_count": null,
   "id": "dbc87b92",
   "metadata": {},
   "outputs": [],
   "source": []
  }
 ],
 "metadata": {
  "kernelspec": {
   "display_name": "Python 3 (ipykernel)",
   "language": "python",
   "name": "python3"
  },
  "language_info": {
   "codemirror_mode": {
    "name": "ipython",
    "version": 3
   },
   "file_extension": ".py",
   "mimetype": "text/x-python",
   "name": "python",
   "nbconvert_exporter": "python",
   "pygments_lexer": "ipython3",
   "version": "3.9.7"
  }
 },
 "nbformat": 4,
 "nbformat_minor": 5
}
