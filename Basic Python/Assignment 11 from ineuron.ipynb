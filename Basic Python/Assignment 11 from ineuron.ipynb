{
 "cells": [
  {
   "cell_type": "markdown",
   "id": "fdd110ab",
   "metadata": {},
   "source": [
    "<b>1. Create an assert statement that throws an AssertionError if the variable spam is a negative\n",
    "integer.</b>"
   ]
  },
  {
   "cell_type": "code",
   "execution_count": 17,
   "id": "90e30d00",
   "metadata": {},
   "outputs": [
    {
     "name": "stdout",
     "output_type": "stream",
     "text": [
      "-4\n"
     ]
    },
    {
     "ename": "AssertionError",
     "evalue": "",
     "output_type": "error",
     "traceback": [
      "\u001b[1;31m---------------------------------------------------------------------------\u001b[0m",
      "\u001b[1;31mAssertionError\u001b[0m                            Traceback (most recent call last)",
      "\u001b[1;32m~\\AppData\\Local\\Temp/ipykernel_1900/1540040773.py\u001b[0m in \u001b[0;36m<module>\u001b[1;34m\u001b[0m\n\u001b[0;32m      1\u001b[0m \u001b[0mspam\u001b[0m \u001b[1;33m=\u001b[0m \u001b[0mint\u001b[0m\u001b[1;33m(\u001b[0m\u001b[0minput\u001b[0m\u001b[1;33m(\u001b[0m\u001b[1;33m)\u001b[0m\u001b[1;33m)\u001b[0m\u001b[1;33m\u001b[0m\u001b[1;33m\u001b[0m\u001b[0m\n\u001b[1;32m----> 2\u001b[1;33m \u001b[1;32massert\u001b[0m \u001b[0mspam\u001b[0m \u001b[1;33m>\u001b[0m \u001b[1;36m0\u001b[0m\u001b[1;33m\u001b[0m\u001b[1;33m\u001b[0m\u001b[0m\n\u001b[0m",
      "\u001b[1;31mAssertionError\u001b[0m: "
     ]
    }
   ],
   "source": [
    "spam = int(input())\n",
    "assert spam > 0 \n"
   ]
  },
  {
   "cell_type": "markdown",
   "id": "3e4e83ca",
   "metadata": {},
   "source": [
    "<b>2. Write an assert statement that triggers an AssertionError if the variables eggs and bacon contain\n",
    "strings that are the same as each other, even if their cases are different (that is, &#39;hello&#39; and &#39;hello&#39; are\n",
    "considered the same, and &#39;goodbye&#39; and &#39;GOODbye&#39; are also considered the same).<b>"
   ]
  },
  {
   "cell_type": "code",
   "execution_count": 21,
   "id": "e8382467",
   "metadata": {},
   "outputs": [
    {
     "name": "stdout",
     "output_type": "stream",
     "text": [
      "Enter the string: goodbye\n",
      "Enter the string: GOODbye\n"
     ]
    },
    {
     "ename": "AssertionError",
     "evalue": "",
     "output_type": "error",
     "traceback": [
      "\u001b[1;31m---------------------------------------------------------------------------\u001b[0m",
      "\u001b[1;31mAssertionError\u001b[0m                            Traceback (most recent call last)",
      "\u001b[1;32m~\\AppData\\Local\\Temp/ipykernel_1900/3094041486.py\u001b[0m in \u001b[0;36m<module>\u001b[1;34m\u001b[0m\n\u001b[0;32m      1\u001b[0m \u001b[0meggs\u001b[0m \u001b[1;33m=\u001b[0m \u001b[0minput\u001b[0m\u001b[1;33m(\u001b[0m\u001b[1;34m\"Enter the string: \"\u001b[0m\u001b[1;33m)\u001b[0m\u001b[1;33m\u001b[0m\u001b[1;33m\u001b[0m\u001b[0m\n\u001b[0;32m      2\u001b[0m \u001b[0mbacon\u001b[0m \u001b[1;33m=\u001b[0m \u001b[0minput\u001b[0m\u001b[1;33m(\u001b[0m\u001b[1;34m\"Enter the string: \"\u001b[0m\u001b[1;33m)\u001b[0m\u001b[1;33m\u001b[0m\u001b[1;33m\u001b[0m\u001b[0m\n\u001b[1;32m----> 3\u001b[1;33m \u001b[1;32massert\u001b[0m \u001b[0meggs\u001b[0m\u001b[1;33m.\u001b[0m\u001b[0mlower\u001b[0m\u001b[1;33m(\u001b[0m\u001b[1;33m)\u001b[0m \u001b[1;33m!=\u001b[0m \u001b[0mbacon\u001b[0m\u001b[1;33m.\u001b[0m\u001b[0mlower\u001b[0m\u001b[1;33m(\u001b[0m\u001b[1;33m)\u001b[0m\u001b[1;33m\u001b[0m\u001b[1;33m\u001b[0m\u001b[0m\n\u001b[0m",
      "\u001b[1;31mAssertionError\u001b[0m: "
     ]
    }
   ],
   "source": [
    "eggs = input(\"Enter the string: \")\n",
    "bacon = input(\"Enter the string: \")\n",
    "assert eggs.lower() != bacon.lower()        "
   ]
  },
  {
   "cell_type": "markdown",
   "id": "77fe69e4",
   "metadata": {},
   "source": [
    "<b>3. Create an assert statement that throws an AssertionError every time.</b>"
   ]
  },
  {
   "cell_type": "code",
   "execution_count": 25,
   "id": "72c35a05",
   "metadata": {},
   "outputs": [
    {
     "ename": "AssertionError",
     "evalue": "",
     "output_type": "error",
     "traceback": [
      "\u001b[1;31m---------------------------------------------------------------------------\u001b[0m",
      "\u001b[1;31mAssertionError\u001b[0m                            Traceback (most recent call last)",
      "\u001b[1;32m~\\AppData\\Local\\Temp/ipykernel_1900/2103537015.py\u001b[0m in \u001b[0;36m<module>\u001b[1;34m\u001b[0m\n\u001b[1;32m----> 1\u001b[1;33m \u001b[1;32massert\u001b[0m \u001b[1;32mFalse\u001b[0m\u001b[1;33m\u001b[0m\u001b[1;33m\u001b[0m\u001b[0m\n\u001b[0m",
      "\u001b[1;31mAssertionError\u001b[0m: "
     ]
    }
   ],
   "source": [
    "assert False"
   ]
  },
  {
   "cell_type": "markdown",
   "id": "2ea5b663",
   "metadata": {},
   "source": [
    "<b>4. What are the two lines that must be present in your software in order to call logging.debug()?</b>"
   ]
  },
  {
   "cell_type": "code",
   "execution_count": 26,
   "id": "ff30514d",
   "metadata": {},
   "outputs": [],
   "source": [
    "import logging\n",
    "logging.basicConfig(filename = \"test.log\", level = logging.DEBUG, format = '%(asctime)s %(levelname)s %(message)s')"
   ]
  },
  {
   "cell_type": "markdown",
   "id": "1523282b",
   "metadata": {},
   "source": [
    "<b>5. What are the two lines that your program must have in order to have logging.debug() send a\n",
    "logging message to a file named programLog.txt?</b>"
   ]
  },
  {
   "cell_type": "code",
   "execution_count": 27,
   "id": "0eaa3115",
   "metadata": {},
   "outputs": [],
   "source": [
    "import logging\n",
    "logging.basicConfig(filename = \"programLog.txt\", level = logging.DEBUG, format = '%(asctime)s %(levelname)s %(message)s')"
   ]
  },
  {
   "cell_type": "markdown",
   "id": "811a499d",
   "metadata": {},
   "source": [
    "<b>6. What are the five levels of logging?</b>"
   ]
  },
  {
   "cell_type": "markdown",
   "id": "c82f1a54",
   "metadata": {},
   "source": [
    "logging.debug()\n",
    "\n",
    "logging.info()\n",
    "\n",
    "logging.warning()\n",
    "\n",
    "logging.error()\n",
    "\n",
    "logging.critical()"
   ]
  },
  {
   "cell_type": "markdown",
   "id": "b19328a6",
   "metadata": {},
   "source": [
    "<b>7. What line of code would you add to your software to disable all logging messages?</b>"
   ]
  },
  {
   "cell_type": "code",
   "execution_count": 29,
   "id": "52723f04",
   "metadata": {},
   "outputs": [],
   "source": [
    "logging.disable(logging.DEBUG)"
   ]
  },
  {
   "cell_type": "markdown",
   "id": "509762b3",
   "metadata": {},
   "source": [
    "<b>8.Why is using logging messages better than using print() to display the same message?</b>"
   ]
  },
  {
   "cell_type": "markdown",
   "id": "9582ee18",
   "metadata": {},
   "source": [
    "One of the biggest advantages of proper logging is that you can categorize messages and turn them on or off depending on what you need. in case of print statement, print statement cannot be managed easily."
   ]
  },
  {
   "cell_type": "markdown",
   "id": "6003e297",
   "metadata": {},
   "source": [
    "<b>9. What are the differences between the Step Over, Step In, and Step Out buttons in the debugger?</b>"
   ]
  },
  {
   "cell_type": "markdown",
   "id": "629dfd3f",
   "metadata": {},
   "source": [
    "<b>Step Over:</b> When the next statement to execute reaches a method call, execute the method as a whole and stop.\n",
    "\n",
    "<b>Step Into:</b> When the next statement to execute reaches a method call, dont execute the method as a whole, but rather, execute the first line of that method and stop.\n",
    "\n",
    "<b>Step Out:</b> Finish off executing the callee's code and stop when execution returns to the caller.\n",
    "\n"
   ]
  },
  {
   "cell_type": "markdown",
   "id": "d6823a20",
   "metadata": {},
   "source": [
    "<b>10.After you click Continue, when will the debugger stop ?</b>"
   ]
  },
  {
   "cell_type": "markdown",
   "id": "124cc0ae",
   "metadata": {},
   "source": [
    "Ans:- No, debugger won't stop because continue allows you to make changes to your code during a debugging session, instead of having to stop."
   ]
  },
  {
   "cell_type": "markdown",
   "id": "238410cb",
   "metadata": {},
   "source": [
    "<b>11. What is the concept of a breakpoint?</b>"
   ]
  },
  {
   "cell_type": "markdown",
   "id": "0ab95cee",
   "metadata": {},
   "source": [
    "Ans:- A breakpoint is a point in the program where the code will stop executing.\n",
    "python has built in function name as breakpoint()."
   ]
  },
  {
   "cell_type": "code",
   "execution_count": null,
   "id": "155e8692",
   "metadata": {},
   "outputs": [],
   "source": []
  }
 ],
 "metadata": {
  "kernelspec": {
   "display_name": "Python 3 (ipykernel)",
   "language": "python",
   "name": "python3"
  },
  "language_info": {
   "codemirror_mode": {
    "name": "ipython",
    "version": 3
   },
   "file_extension": ".py",
   "mimetype": "text/x-python",
   "name": "python",
   "nbconvert_exporter": "python",
   "pygments_lexer": "ipython3",
   "version": "3.9.7"
  }
 },
 "nbformat": 4,
 "nbformat_minor": 5
}
