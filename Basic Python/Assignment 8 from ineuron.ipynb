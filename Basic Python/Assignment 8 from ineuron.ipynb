{
 "cells": [
  {
   "cell_type": "markdown",
   "id": "ba280a37",
   "metadata": {},
   "source": [
    "<b>1. Is the Python Standard Library included with PyInputPlus?<b>"
   ]
  },
  {
   "cell_type": "markdown",
   "id": "fe00851b",
   "metadata": {},
   "source": [
    "Ans: No, PyInputPlus is not an python standard library. it can be install via pip command and after that we need to import PyInputPlus by using import keyword."
   ]
  },
  {
   "cell_type": "markdown",
   "id": "25a061d8",
   "metadata": {},
   "source": [
    "<b>2. Why is PyInputPlus commonly imported with import pyinputplus as pypi?<b>"
   ]
  },
  {
   "cell_type": "markdown",
   "id": "c00440d1",
   "metadata": {},
   "source": [
    "Ans: You can import the module with import pyinputplus as pyip so that you can enter a shorter name when calling the module's functions."
   ]
  },
  {
   "cell_type": "markdown",
   "id": "59dcd452",
   "metadata": {},
   "source": [
    "<b>3. How do you distinguish between inputInt() and inputFloat()?<b>"
   ]
  },
  {
   "cell_type": "markdown",
   "id": "8b0f648f",
   "metadata": {},
   "source": [
    "Ans: The inputInt() function returns an integer, while the inputFloat() function returns a float value."
   ]
  },
  {
   "cell_type": "markdown",
   "id": "6f6a7987",
   "metadata": {},
   "source": [
    "<b>4. Using PyInputPlus, how do you ensure that the user enters a whole number between 0 and 99?<b>"
   ]
  },
  {
   "cell_type": "markdown",
   "id": "027e75a7",
   "metadata": {},
   "source": [
    "Ans: You can ensure the user enters only whole number between 0 and 99 By using pyip.inputint(min=0, max=99)."
   ]
  },
  {
   "cell_type": "markdown",
   "id": "4074db12",
   "metadata": {},
   "source": [
    "<b>5. What is transferred to the keyword arguments allowRegexes and blockRegexes?<b>"
   ]
  },
  {
   "cell_type": "markdown",
   "id": "35b3e22c",
   "metadata": {},
   "source": [
    "Ans: A list of regex string to specify whether an input is allowed or not. "
   ]
  },
  {
   "cell_type": "markdown",
   "id": "1d63a575",
   "metadata": {},
   "source": [
    "<b>6. If a blank input is entered three times, what does inputStr(limit=3) do?<b>"
   ]
  },
  {
   "cell_type": "markdown",
   "id": "74de9451",
   "metadata": {},
   "source": [
    "Ans: It will throw RetryLimitException exception."
   ]
  },
  {
   "cell_type": "markdown",
   "id": "481b9efc",
   "metadata": {},
   "source": [
    "<b>7. If blank input is entered three times, what does inputStr(limit=3, default=&#39;hello&#39;) do?<b>"
   ]
  },
  {
   "cell_type": "markdown",
   "id": "6eff1eb5",
   "metadata": {},
   "source": [
    "Ans: The function returns the value 'hello'."
   ]
  }
 ],
 "metadata": {
  "kernelspec": {
   "display_name": "Python 3 (ipykernel)",
   "language": "python",
   "name": "python3"
  },
  "language_info": {
   "codemirror_mode": {
    "name": "ipython",
    "version": 3
   },
   "file_extension": ".py",
   "mimetype": "text/x-python",
   "name": "python",
   "nbconvert_exporter": "python",
   "pygments_lexer": "ipython3",
   "version": "3.9.7"
  }
 },
 "nbformat": 4,
 "nbformat_minor": 5
}
