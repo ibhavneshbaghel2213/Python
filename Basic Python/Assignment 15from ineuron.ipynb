{
 "cells": [
  {
   "cell_type": "markdown",
   "id": "45ec0108",
   "metadata": {},
   "source": [
    "<b>1.How many seconds are in an hour? Use the interactive interpreter as a calculator and multiply the\n",
    "number of seconds in a minute (60) by the number of minutes in an hour (also 60).<b>"
   ]
  },
  {
   "cell_type": "code",
   "execution_count": 1,
   "id": "d43a7bff",
   "metadata": {},
   "outputs": [
    {
     "data": {
      "text/plain": [
       "3600"
      ]
     },
     "execution_count": 1,
     "metadata": {},
     "output_type": "execute_result"
    }
   ],
   "source": [
    "60*60"
   ]
  },
  {
   "cell_type": "markdown",
   "id": "097d6438",
   "metadata": {},
   "source": [
    "<b>2. Assign the result from the previous task (seconds in an hour) to a variable called\n",
    "seconds_per_hour.<b>"
   ]
  },
  {
   "cell_type": "code",
   "execution_count": 2,
   "id": "74cc74aa",
   "metadata": {},
   "outputs": [],
   "source": [
    "seconds_per_hour = 60*60"
   ]
  },
  {
   "cell_type": "markdown",
   "id": "dbd72639",
   "metadata": {},
   "source": [
    "<b>3. How many seconds do you think there are in a day? Make use of the variables seconds per hour\n",
    "and minutes per hour.<b>"
   ]
  },
  {
   "cell_type": "code",
   "execution_count": 3,
   "id": "9ffc7a5d",
   "metadata": {},
   "outputs": [
    {
     "data": {
      "text/plain": [
       "86400"
      ]
     },
     "execution_count": 3,
     "metadata": {},
     "output_type": "execute_result"
    }
   ],
   "source": [
    "seconds_per_hour*24"
   ]
  },
  {
   "cell_type": "markdown",
   "id": "b6237e9b",
   "metadata": {},
   "source": [
    "<b>4. Calculate seconds per day again, but this time save the result in a variable called seconds_per_day<b>"
   ]
  },
  {
   "cell_type": "code",
   "execution_count": 4,
   "id": "f4d9fe37",
   "metadata": {},
   "outputs": [],
   "source": [
    "seconds_per_day =  seconds_per_hour*24"
   ]
  },
  {
   "cell_type": "markdown",
   "id": "23d9e230",
   "metadata": {},
   "source": [
    "<b>5. Divide seconds_per_day by seconds_per_hour. Use floating-point (/) division.<b>"
   ]
  },
  {
   "cell_type": "code",
   "execution_count": 5,
   "id": "1bdb92f6",
   "metadata": {},
   "outputs": [
    {
     "data": {
      "text/plain": [
       "24.0"
      ]
     },
     "execution_count": 5,
     "metadata": {},
     "output_type": "execute_result"
    }
   ],
   "source": [
    "seconds_per_day/seconds_per_hour"
   ]
  },
  {
   "cell_type": "markdown",
   "id": "6821bc62",
   "metadata": {},
   "source": [
    "<b>6. Divide seconds_per_day by seconds_per_hour, using integer (//) division. Did this number agree\n",
    "with the floating-point value from the previous question, aside from the final .0?<b>"
   ]
  },
  {
   "cell_type": "code",
   "execution_count": 6,
   "id": "f2364c53",
   "metadata": {},
   "outputs": [
    {
     "data": {
      "text/plain": [
       "24"
      ]
     },
     "execution_count": 6,
     "metadata": {},
     "output_type": "execute_result"
    }
   ],
   "source": [
    "seconds_per_day//seconds_per_hour"
   ]
  },
  {
   "cell_type": "markdown",
   "id": "c8242ab3",
   "metadata": {},
   "source": [
    "<b>7. Write a generator, genPrimes, that returns the sequence of prime numbers on successive calls to\n",
    "its next() method: 2, 3, 5, 7, 11, ...<b>"
   ]
  },
  {
   "cell_type": "code",
   "execution_count": 14,
   "id": "9e23e14c",
   "metadata": {},
   "outputs": [],
   "source": [
    "def genPrimes():\n",
    "    x = 2\n",
    "    primes = set()\n",
    "    while True:\n",
    "        for i in primes:\n",
    "            if x % i == 0 :\n",
    "                break\n",
    "        else:\n",
    "            primes.add(x)\n",
    "            yield x\n",
    "        x+=1"
   ]
  },
  {
   "cell_type": "code",
   "execution_count": 17,
   "id": "42343eb9",
   "metadata": {},
   "outputs": [
    {
     "name": "stdout",
     "output_type": "stream",
     "text": [
      "2\n",
      "3\n",
      "5\n",
      "7\n",
      "11\n"
     ]
    }
   ],
   "source": [
    "prime = genPrimes()\n",
    "print(next(prime))\n",
    "print(next(prime))\n",
    "print(next(prime))\n",
    "print(next(prime))\n",
    "print(next(prime))"
   ]
  },
  {
   "cell_type": "code",
   "execution_count": null,
   "id": "72c022a7",
   "metadata": {},
   "outputs": [],
   "source": []
  }
 ],
 "metadata": {
  "kernelspec": {
   "display_name": "Python 3 (ipykernel)",
   "language": "python",
   "name": "python3"
  },
  "language_info": {
   "codemirror_mode": {
    "name": "ipython",
    "version": 3
   },
   "file_extension": ".py",
   "mimetype": "text/x-python",
   "name": "python",
   "nbconvert_exporter": "python",
   "pygments_lexer": "ipython3",
   "version": "3.9.7"
  }
 },
 "nbformat": 4,
 "nbformat_minor": 5
}
