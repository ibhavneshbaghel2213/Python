{
 "cells": [
  {
   "cell_type": "markdown",
   "id": "28e5bd1d",
   "metadata": {},
   "source": [
    "<b>1. To what does a relative path refer?</b>"
   ]
  },
  {
   "cell_type": "markdown",
   "id": "56a53478",
   "metadata": {},
   "source": [
    "Ans:- A relative path, which is relative to the program’s current working directory"
   ]
  },
  {
   "cell_type": "code",
   "execution_count": 13,
   "id": "706017eb",
   "metadata": {},
   "outputs": [],
   "source": [
    "f = open(\"demofile.txt\", \"w\")\n",
    "f.write(\"Now the file has some content!\")\n",
    "f.close()"
   ]
  },
  {
   "cell_type": "code",
   "execution_count": 15,
   "id": "7a3985f5",
   "metadata": {},
   "outputs": [
    {
     "data": {
      "text/plain": [
       "'C:\\\\Users\\\\lenovo'"
      ]
     },
     "execution_count": 15,
     "metadata": {},
     "output_type": "execute_result"
    }
   ],
   "source": [
    "import os\n",
    "os.getcwd()"
   ]
  },
  {
   "cell_type": "markdown",
   "id": "ca049aba",
   "metadata": {},
   "source": [
    "so, the relative path of demofile.txt is lenovo"
   ]
  },
  {
   "cell_type": "markdown",
   "id": "a9c38b5b",
   "metadata": {},
   "source": [
    "<b>2. What does an absolute path start with your operating system?</b>"
   ]
  },
  {
   "cell_type": "markdown",
   "id": "4a4c5491",
   "metadata": {},
   "source": [
    "Ans:-  An absolute path, which always begins with the root folder."
   ]
  },
  {
   "cell_type": "code",
   "execution_count": 16,
   "id": "cb6bf290",
   "metadata": {},
   "outputs": [
    {
     "data": {
      "text/plain": [
       "'C:\\\\Users\\\\lenovo'"
      ]
     },
     "execution_count": 16,
     "metadata": {},
     "output_type": "execute_result"
    }
   ],
   "source": [
    "pwd()"
   ]
  },
  {
   "cell_type": "markdown",
   "id": "0272e546",
   "metadata": {},
   "source": [
    "The absolute path of demofile.txt is 'C:\\\\Users\\\\lenovo'.\n"
   ]
  },
  {
   "cell_type": "markdown",
   "id": "12246383",
   "metadata": {},
   "source": [
    "<b>3. What do the functions os.getcwd() and os.chdir() do?</b>"
   ]
  },
  {
   "cell_type": "code",
   "execution_count": 17,
   "id": "cff6846c",
   "metadata": {},
   "outputs": [
    {
     "data": {
      "text/plain": [
       "'C:\\\\Users\\\\lenovo'"
      ]
     },
     "execution_count": 17,
     "metadata": {},
     "output_type": "execute_result"
    }
   ],
   "source": [
    "os.getcwd() #It returns the current working directory"
   ]
  },
  {
   "cell_type": "code",
   "execution_count": 22,
   "id": "a6a9c5db",
   "metadata": {},
   "outputs": [],
   "source": [
    "os.chdir('C:\\\\Users')#it change the current working directory to path we specified in paranthesis."
   ]
  },
  {
   "cell_type": "code",
   "execution_count": 26,
   "id": "148ed418",
   "metadata": {},
   "outputs": [],
   "source": [
    "os.chdir('C:\\\\Users\\\\lenovo')"
   ]
  },
  {
   "cell_type": "markdown",
   "id": "92fc83fe",
   "metadata": {},
   "source": [
    "<b>4. What are the . and .. folders?</b>"
   ]
  },
  {
   "cell_type": "markdown",
   "id": "d1dd9c93",
   "metadata": {},
   "source": [
    "Ans:- \".\" is used to work in current working directory and \"..\" is used to go parent directory"
   ]
  },
  {
   "cell_type": "markdown",
   "id": "0f759e97",
   "metadata": {},
   "source": [
    "<b>5. In C:\\bacon\\eggs\\spam.txt, which part is the dir name, and which part is the base name?</b>"
   ]
  },
  {
   "cell_type": "markdown",
   "id": "565b7618",
   "metadata": {},
   "source": [
    "Ans:- 'C:\\bacon\\eggs' is the dir name and spam is base name."
   ]
  },
  {
   "cell_type": "markdown",
   "id": "9cfb85ce",
   "metadata": {},
   "source": [
    "<b>6. What are the three “mode” arguments that can be passed to the open() function?</b>"
   ]
  },
  {
   "cell_type": "markdown",
   "id": "8e09d997",
   "metadata": {},
   "source": [
    "Ans:- The three mode arguments of open() function is:\n",
    "1. f.read(): working of read mode/\n",
    "2. f.write(): working of write mode.\n",
    "3. f.append(): working of append mode."
   ]
  },
  {
   "cell_type": "markdown",
   "id": "d487613c",
   "metadata": {},
   "source": [
    "<b>7. What happens if an existing file is opened in write mode?</b>"
   ]
  },
  {
   "cell_type": "markdown",
   "id": "ed168e75",
   "metadata": {},
   "source": [
    "Ans:- The write mode will overwrite any existing content in a file. If the given file does not exist, a new one will be created."
   ]
  },
  {
   "cell_type": "markdown",
   "id": "80a9836d",
   "metadata": {},
   "source": [
    "<b>8. How do you tell the difference between read() and readlines()?</b>"
   ]
  },
  {
   "cell_type": "code",
   "execution_count": 43,
   "id": "b912aa7c",
   "metadata": {},
   "outputs": [
    {
     "data": {
      "text/plain": [
       "0"
      ]
     },
     "execution_count": 43,
     "metadata": {},
     "output_type": "execute_result"
    }
   ],
   "source": [
    "f = open(\"test.txt\",\"r+\")\n",
    "f.write(\" Beautiful Crime is a 2020 crime fiction novel by the American writer and editor Christopher Bollen (pictured). It was first published in the United States by Harper on January 28, 2020. The story, which is set in Venice, centers on boyfriends Nick and Clay, who sell an inherited collection of forged silver antiques to a wealthy acquaintance from Clay's past. Their deception quickly leads to more serious crimes, as Clay attempts to sell an expensive property that he does not fully own and Nick murders a silver appraiser who threatened to expose their sale of forgeries. The novel explores the overtourism and depopulation of Venice, and the intersection of greed, moral ambiguity, and social inequality. Critics praised Bollen's depictions of Venice and the relationships between the characters but disagreed on the effectiveness of the narrative's pace. A Beautiful Crime has drawn\")\n",
    "f.seek(0)\n"
   ]
  },
  {
   "cell_type": "code",
   "execution_count": 44,
   "id": "ec73c80d",
   "metadata": {},
   "outputs": [
    {
     "data": {
      "text/plain": [
       "\" Beautiful Crime is a 2020 crime fiction novel by the American writer and editor Christopher Bollen (pictured). It was first published in the United States by Harper on January 28, 2020. The story, which is set in Venice, centers on boyfriends Nick and Clay, who sell an inherited collection of forged silver antiques to a wealthy acquaintance from Clay's past. Their deception quickly leads to more serious crimes, as Clay attempts to sell an expensive property that he does not fully own and Nick murders a silver appraiser who threatened to expose their sale of forgeries. The novel explores the overtourism and depopulation of Venice, and the intersection of greed, moral ambiguity, and social inequality. Critics praised Bollen's depictions of Venice and the relationships between the characters but disagreed on the effectiveness of the narrative's pace. A Beautiful Crime has drawn\""
      ]
     },
     "execution_count": 44,
     "metadata": {},
     "output_type": "execute_result"
    }
   ],
   "source": [
    "f.read() #it Returns the content in string format"
   ]
  },
  {
   "cell_type": "code",
   "execution_count": 46,
   "id": "035b2382",
   "metadata": {},
   "outputs": [
    {
     "data": {
      "text/plain": [
       "[\" Beautiful Crime is a 2020 crime fiction novel by the American writer and editor Christopher Bollen (pictured). It was first published in the United States by Harper on January 28, 2020. The story, which is set in Venice, centers on boyfriends Nick and Clay, who sell an inherited collection of forged silver antiques to a wealthy acquaintance from Clay's past. Their deception quickly leads to more serious crimes, as Clay attempts to sell an expensive property that he does not fully own and Nick murders a silver appraiser who threatened to expose their sale of forgeries. The novel explores the overtourism and depopulation of Venice, and the intersection of greed, moral ambiguity, and social inequality. Critics praised Bollen's depictions of Venice and the relationships between the characters but disagreed on the effectiveness of the narrative's pace. A Beautiful Crime has drawn\"]"
      ]
     },
     "execution_count": 46,
     "metadata": {},
     "output_type": "execute_result"
    }
   ],
   "source": [
    "f.seek(0)\n",
    "f.readlines() #it returns the content in list "
   ]
  },
  {
   "cell_type": "markdown",
   "id": "6fa8fd59",
   "metadata": {},
   "source": [
    "<b>9. What data structure does a shelf value resemble?</b>"
   ]
  },
  {
   "cell_type": "markdown",
   "id": "d207a1b6",
   "metadata": {},
   "source": [
    "Ans:-  A shelf value resembles a dictionary. it has keys and values, along with keys() and values() methods."
   ]
  }
 ],
 "metadata": {
  "kernelspec": {
   "display_name": "Python 3 (ipykernel)",
   "language": "python",
   "name": "python3"
  },
  "language_info": {
   "codemirror_mode": {
    "name": "ipython",
    "version": 3
   },
   "file_extension": ".py",
   "mimetype": "text/x-python",
   "name": "python",
   "nbconvert_exporter": "python",
   "pygments_lexer": "ipython3",
   "version": "3.9.7"
  }
 },
 "nbformat": 4,
 "nbformat_minor": 5
}
