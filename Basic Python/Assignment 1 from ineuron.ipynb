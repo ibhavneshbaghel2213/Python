{
 "cells": [
  {
   "cell_type": "markdown",
   "id": "0aba8c5a",
   "metadata": {},
   "source": [
    "<h3>1. In the below elements which of them are values or an expression? eg:- values can be integer or string and expressions will be mathematical operators.\n",
    "*, 'hello', -87.8, - , / ,+ ,6</h3> \n"
   ]
  },
  {
   "cell_type": "markdown",
   "id": "89b5e2a4",
   "metadata": {},
   "source": [
    " Ans:- <i><b>Values</b> : \"hello\"(string), -87.8(float) , 6(int)</i> \n",
    "\n",
    "<i><b>Expressions</b> : * (multiplication) , + (addition) , - (subtraction) , / (division).</i>"
   ]
  },
  {
   "cell_type": "markdown",
   "id": "75ec582d",
   "metadata": {},
   "source": [
    "<h3>2. What is the difference between string and variable?</h3>"
   ]
  },
  {
   "cell_type": "markdown",
   "id": "fcf8ecd9",
   "metadata": {},
   "source": [
    " Ans:- <i><b>String</b> :  It is a data type which is used to write a text.It is basically sequence of character and represent under the double qoute and single qoute. these qoute is situated at starting point and end point of sequence. \n",
    "    for eg..,</i> \n",
    "    \n",
    "    a = \"Bhavnesh\"\n",
    "    \n",
    "   where Bhavnesh is a string.\n",
    "\n",
    "<i><b>Variable</b> - It is like a container which store values of any data type.  \n",
    "It is used to perform commands like mathematicals or any.\n",
    "for eg..,\n",
    "     \n",
    "     a = 1234567.\n",
    "    \n",
    "    where a is a variable."
   ]
  },
  {
   "cell_type": "markdown",
   "id": "db0c96e3",
   "metadata": {},
   "source": [
    "<h3>3. Describe three different data types.</h3>"
   ]
  },
  {
   "cell_type": "markdown",
   "id": "75370cf6",
   "metadata": {},
   "source": [
    "Ans:- <ul><i>Three types of data types :</i></ul>  \n",
    "<li><i><b>Integer</b> : Any numeric value is referred as integer which is used int() constructor to convert other data type into int data type.</i></li>\n",
    "<li><i><b>Boolean</b> - It is a data type which gives us a output in term of True or False.</i></li> \n",
    "<li><i><b>Set</b> : It is data type which is used to remove the redudancy in data type.It is used set() constructor to convert other data type into set data type.</i></li>\n",
    "                         "
   ]
  },
  {
   "cell_type": "markdown",
   "id": "2de60399",
   "metadata": {},
   "source": [
    "<h3>4. What is an expression made up of? What do all expressions do?</h3>\n",
    "\n",
    "\n",
    "Ans:- <i><b>Expressions</b> is an operators which is used to assign and evaluate values.\n",
    "They are used to perform different types of mathematical actions like addition or subtraction.</i> "
   ]
  },
  {
   "cell_type": "markdown",
   "id": "65670e89",
   "metadata": {},
   "source": [
    "<h3>5. This assignment statements, like spam = 10. What is the difference between an expression and a statement?</h3>"
   ]
  },
  {
   "cell_type": "markdown",
   "id": "c95d3b78",
   "metadata": {},
   "source": [
    "Ans:- <i>The difference between a statement and expression is when we are executing a expression it always returns a value and has potential to print result value while in a, statement it never return a value and cannot print result value</i> \n",
    "\n",
    "<i>As spam = 10 is a simple statement which won't return an any new output while executing.</i>"
   ]
  },
  {
   "cell_type": "markdown",
   "id": "f0add71e",
   "metadata": {},
   "source": [
    "<h3>6. After running the following code, what does the variable bacon contain?</h3>\n"
   ]
  },
  {
   "cell_type": "code",
   "execution_count": 7,
   "id": "f5aaab53",
   "metadata": {},
   "outputs": [
    {
     "data": {
      "text/plain": [
       "23"
      ]
     },
     "execution_count": 7,
     "metadata": {},
     "output_type": "execute_result"
    }
   ],
   "source": [
    "bacon = 22\n",
    "bacon + 1"
   ]
  },
  {
   "cell_type": "markdown",
   "id": "05785935",
   "metadata": {},
   "source": [
    "<i>where variable bacon now contain 23 as output.</i>"
   ]
  },
  {
   "cell_type": "markdown",
   "id": "c4feeb4f",
   "metadata": {},
   "source": [
    "<h3>7. What should the values of the following two terms be?</h3>"
   ]
  },
  {
   "cell_type": "code",
   "execution_count": 8,
   "id": "bce2d85b",
   "metadata": {},
   "outputs": [
    {
     "data": {
      "text/plain": [
       "'spamspamspam'"
      ]
     },
     "execution_count": 8,
     "metadata": {},
     "output_type": "execute_result"
    }
   ],
   "source": [
    "'spam' + 'spamspam'"
   ]
  },
  {
   "cell_type": "code",
   "execution_count": 9,
   "id": "2e19c214",
   "metadata": {},
   "outputs": [
    {
     "data": {
      "text/plain": [
       "'spamspamspam'"
      ]
     },
     "execution_count": 9,
     "metadata": {},
     "output_type": "execute_result"
    }
   ],
   "source": [
    "'spam' * 3"
   ]
  },
  {
   "cell_type": "markdown",
   "id": "62a385c7",
   "metadata": {},
   "source": [
    "<h3>8. Why is eggs a valid variable name while 100 is invalid?</h3>\n"
   ]
  },
  {
   "cell_type": "markdown",
   "id": "857edf8f",
   "metadata": {},
   "source": [
    "Ans:- <i>The reason why eggs is a variable and 100 is not is because eggs is in a alphabetical order which is property of a variable and 100 is an integer which is a data type.</i>"
   ]
  },
  {
   "cell_type": "markdown",
   "id": "b41b0fc3",
   "metadata": {},
   "source": [
    "<h3>9. What three functions can be used to get the integer, floating-point number, or string version of a value?</h3>"
   ]
  },
  {
   "cell_type": "markdown",
   "id": "65914ff4",
   "metadata": {},
   "source": [
    "Ans:- <ol><i>The functions used are :</i></ol> \n",
    "<li><i>Integer : int()</i></li>\n",
    "\n",
    "<li><i>Floating point number : float()</i></li>\n",
    "<i><li>String : str()</i></li>"
   ]
  },
  {
   "cell_type": "markdown",
   "id": "cca17493",
   "metadata": {},
   "source": [
    "<h3>10. Why does this expression cause an error? How can you fix it?</h3>"
   ]
  },
  {
   "cell_type": "markdown",
   "id": "1ef81863",
   "metadata": {},
   "source": [
    "<h4>'I have eaten ' + 99 + ' burritos'</h4>"
   ]
  },
  {
   "cell_type": "markdown",
   "id": "35b2fcdf",
   "metadata": {},
   "source": [
    "Ans:-  <i>The reason why this code gives error is because 'I have eaten' and 'burritos' are strings and '99' is an integer.\n",
    "And it can only concatenate string to string and not string to integer.</i>\n"
   ]
  },
  {
   "cell_type": "markdown",
   "id": "1fdfdbd7",
   "metadata": {},
   "source": [
    "<i>We can remove this error by converting 99 into string format by using str(99).</i>"
   ]
  },
  {
   "cell_type": "code",
   "execution_count": 1,
   "id": "5fbd9c51",
   "metadata": {},
   "outputs": [
    {
     "data": {
      "text/plain": [
       "'I have eaten 99 burritos'"
      ]
     },
     "execution_count": 1,
     "metadata": {},
     "output_type": "execute_result"
    }
   ],
   "source": [
    "'I have eaten ' + str(99) + ' burritos'"
   ]
  },
  {
   "cell_type": "code",
   "execution_count": null,
   "id": "5b4049ba",
   "metadata": {},
   "outputs": [],
   "source": []
  }
 ],
 "metadata": {
  "kernelspec": {
   "display_name": "Python 3 (ipykernel)",
   "language": "python",
   "name": "python3"
  },
  "language_info": {
   "codemirror_mode": {
    "name": "ipython",
    "version": 3
   },
   "file_extension": ".py",
   "mimetype": "text/x-python",
   "name": "python",
   "nbconvert_exporter": "python",
   "pygments_lexer": "ipython3",
   "version": "3.9.7"
  }
 },
 "nbformat": 4,
 "nbformat_minor": 5
}
