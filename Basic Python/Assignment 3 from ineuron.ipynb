{
  "nbformat": 4,
  "nbformat_minor": 0,
  "metadata": {
    "colab": {
      "name": "Assignment 3 from ineuron.ipynb",
      "provenance": []
    },
    "kernelspec": {
      "name": "python3",
      "display_name": "Python 3"
    },
    "language_info": {
      "name": "python"
    }
  },
  "cells": [
    {
      "cell_type": "markdown",
      "source": [
        "**1. Why are functions advantageous to have in your programs?**"
      ],
      "metadata": {
        "id": "csFFsIiNpNrG"
      }
    },
    {
      "cell_type": "markdown",
      "source": [
        "Ans:-  A function is reusable. It saves your time by having a single procedure for a repeating problems so you don’t have to write same code again and again and our program grows larger and larger, so functions help us to make it more organized and manageable.\n",
        "\n",
        "\n"
      ],
      "metadata": {
        "id": "TQQ8bqr6p7yu"
      }
    },
    {
      "cell_type": "markdown",
      "source": [
        "**2. When does the code in a function run: when it&#39;s specified or when it&#39;s called?**"
      ],
      "metadata": {
        "id": "hUfG02zqrt9P"
      }
    },
    {
      "cell_type": "markdown",
      "source": [
        "Ans:- It means that a function is a piece of code written to carry out a specified task. To carry out that specific task, We need to called a function"
      ],
      "metadata": {
        "id": "-x4uj6Exsi1b"
      }
    },
    {
      "cell_type": "code",
      "source": [
        "def function_name():\n",
        "  \"\"\" Write some Docstring for purpose of function\"\"\"\n",
        "  print(\"This is my function\")\n",
        "\n",
        "function_name() \n"
      ],
      "metadata": {
        "colab": {
          "base_uri": "https://localhost:8080/"
        },
        "id": "o5Uvp8cduImH",
        "outputId": "b6c643d3-56be-4c6c-b440-424ca41f6e8e"
      },
      "execution_count": null,
      "outputs": [
        {
          "output_type": "stream",
          "name": "stdout",
          "text": [
            "This is my function\n"
          ]
        }
      ]
    },
    {
      "cell_type": "markdown",
      "source": [
        "**3. What statement creates a function?**"
      ],
      "metadata": {
        "id": "kRiovbBwu3gv"
      }
    },
    {
      "cell_type": "markdown",
      "source": [
        "Ans:- A **def** keyword define a function, specify a name and paranthesis followed  by a colon(:) sign.Then, we can write some statement under the function.eg..,\n",
        "The syntax of function is \n",
        "\n",
        "    def Functioname(arguments):\n",
        "        some statement"
      ],
      "metadata": {
        "id": "ou-UttiIu_Z0"
      }
    },
    {
      "cell_type": "markdown",
      "source": [
        "**4. What is the difference between a function and a function call?**"
      ],
      "metadata": {
        "id": "M3BLiDJTw02P"
      }
    },
    {
      "cell_type": "markdown",
      "source": [
        "Ans:- A defining a function is creation of a function"
      ],
      "metadata": {
        "id": "XGZ68vMWx6da"
      }
    },
    {
      "cell_type": "code",
      "source": [
        "\n",
        "def multiple(x,y):\n",
        "    return x*y"
      ],
      "metadata": {
        "id": "1uKAo_t4u-cQ"
      },
      "execution_count": null,
      "outputs": []
    },
    {
      "cell_type": "markdown",
      "source": [
        "And calling a function is like..,"
      ],
      "metadata": {
        "id": "OCWkxw16zKfy"
      }
    },
    {
      "cell_type": "code",
      "source": [
        "multiple(5,10)"
      ],
      "metadata": {
        "id": "AmsC50cUyW39",
        "colab": {
          "base_uri": "https://localhost:8080/"
        },
        "outputId": "4cb659dd-4039-4c3f-e542-753b19f70476"
      },
      "execution_count": 5,
      "outputs": [
        {
          "output_type": "execute_result",
          "data": {
            "text/plain": [
              "50"
            ]
          },
          "metadata": {},
          "execution_count": 5
        }
      ]
    },
    {
      "cell_type": "markdown",
      "source": [
        "**5. How many global scopes are there in a Python program? How many local scopes?**"
      ],
      "metadata": {
        "id": "OjQ7auo90EoA"
      }
    },
    {
      "cell_type": "markdown",
      "source": [
        "Ans:-  There is only one global and local scope in python."
      ],
      "metadata": {
        "id": "ISwqEzto1rxb"
      }
    },
    {
      "cell_type": "markdown",
      "source": [
        "**7. What is the concept of a return value? Is it possible to have a return value in an expression?**"
      ],
      "metadata": {
        "id": "qqNp5dfj2H3l"
      }
    },
    {
      "cell_type": "markdown",
      "source": [
        "Ans:- A return statement is used to end the execution of the function call and returns the result. yes otherwise it returns none."
      ],
      "metadata": {
        "id": "jJjMugZj2zKJ"
      }
    },
    {
      "cell_type": "markdown",
      "source": [
        "**8. If a function does not have a return statement, what is the return value of a call to that function?**"
      ],
      "metadata": {
        "id": "Dlrq3E1y-qsD"
      }
    },
    {
      "cell_type": "markdown",
      "source": [
        "Ans:- if a function doesn't have a return value, so it returns special value **None**."
      ],
      "metadata": {
        "id": "YdQ6HEzq--CB"
      }
    },
    {
      "cell_type": "markdown",
      "source": [
        "**9. How do you make a function variable refer to the global variable?**"
      ],
      "metadata": {
        "id": "LtzgJxiI_g93"
      }
    },
    {
      "cell_type": "code",
      "source": [
        "a = 15 #global variable\n",
        "def change():\n",
        "    global a   # using a global keyword\n",
        "    a = a + 10 \n",
        "    print(\"Value of a inside a function :\", a)\n",
        "change()\n",
        "print(\"Value of a outside a function :\", a)"
      ],
      "metadata": {
        "colab": {
          "base_uri": "https://localhost:8080/"
        },
        "id": "MyGzIm8Z_8D8",
        "outputId": "2eec10e8-970b-4e81-8f74-311306f85284"
      },
      "execution_count": 8,
      "outputs": [
        {
          "output_type": "stream",
          "name": "stdout",
          "text": [
            "Value of a inside a function : 25\n",
            "Value of a outside a function : 25\n"
          ]
        }
      ]
    },
    {
      "cell_type": "markdown",
      "source": [
        "****"
      ],
      "metadata": {
        "id": "LAq39ao2_7xE"
      }
    },
    {
      "cell_type": "markdown",
      "source": [
        "**10. What is the data type of None?**"
      ],
      "metadata": {
        "id": "CTTQDZ42_53t"
      }
    },
    {
      "cell_type": "markdown",
      "source": [
        "Ans:-The None keyword is used to define a null value, or no value at all. None is a data type of its own (NoneType)."
      ],
      "metadata": {
        "id": "6G0BKZ9TAzsU"
      }
    },
    {
      "cell_type": "code",
      "source": [
        "print(type(None))"
      ],
      "metadata": {
        "colab": {
          "base_uri": "https://localhost:8080/"
        },
        "id": "r4a_meKiBByN",
        "outputId": "7ec54d66-a6fb-4416-8caf-b3b21ced9974"
      },
      "execution_count": 11,
      "outputs": [
        {
          "output_type": "stream",
          "name": "stdout",
          "text": [
            "<class 'NoneType'>\n"
          ]
        }
      ]
    },
    {
      "cell_type": "markdown",
      "source": [
        "**11. What does the sentence import areallyourpetsnamederic do?**"
      ],
      "metadata": {
        "id": "BQq6uqISCGtp"
      }
    },
    {
      "cell_type": "markdown",
      "source": [
        "Ans:- Basically, it import the module named as areallyourpetsnamederic. bytheway there is no areallyourpetsnamederic module is available in python so it gives Error."
      ],
      "metadata": {
        "id": "uxo19PyXC3lM"
      }
    },
    {
      "cell_type": "code",
      "source": [
        "import areallyourpetsnamederic"
      ],
      "metadata": {
        "colab": {
          "base_uri": "https://localhost:8080/",
          "height": 306
        },
        "id": "mqP5PuxDCCe7",
        "outputId": "d86a124c-ce10-47a1-ffe4-1102c22e3c7f"
      },
      "execution_count": 14,
      "outputs": [
        {
          "output_type": "error",
          "ename": "ModuleNotFoundError",
          "evalue": "ignored",
          "traceback": [
            "\u001b[0;31m---------------------------------------------------------------------------\u001b[0m",
            "\u001b[0;31mModuleNotFoundError\u001b[0m                       Traceback (most recent call last)",
            "\u001b[0;32m<ipython-input-14-b1ea9cb2228f>\u001b[0m in \u001b[0;36m<module>\u001b[0;34m()\u001b[0m\n\u001b[0;32m----> 1\u001b[0;31m \u001b[0;32mimport\u001b[0m \u001b[0mareallyourpetsnamederic\u001b[0m\u001b[0;34m\u001b[0m\u001b[0;34m\u001b[0m\u001b[0m\n\u001b[0m",
            "\u001b[0;31mModuleNotFoundError\u001b[0m: No module named 'areallyourpetsnamederic'",
            "",
            "\u001b[0;31m---------------------------------------------------------------------------\u001b[0;32m\nNOTE: If your import is failing due to a missing package, you can\nmanually install dependencies using either !pip or !apt.\n\nTo view examples of installing some common dependencies, click the\n\"Open Examples\" button below.\n\u001b[0;31m---------------------------------------------------------------------------\u001b[0m\n"
          ],
          "errorDetails": {
            "actions": [
              {
                "action": "open_url",
                "actionText": "Open Examples",
                "url": "/notebooks/snippets/importing_libraries.ipynb"
              }
            ]
          }
        }
      ]
    },
    {
      "cell_type": "markdown",
      "source": [
        "**12. If you had a bacon() feature in a spam module, what would you call it after importing spam?**"
      ],
      "metadata": {
        "id": "I0LqQUflDxFg"
      }
    },
    {
      "cell_type": "code",
      "source": [
        "\n",
        "spam.bacon()\n"
      ],
      "metadata": {
        "id": "iftyS2wID5Zy"
      },
      "execution_count": null,
      "outputs": []
    },
    {
      "cell_type": "markdown",
      "source": [
        "**13. What can you do to save a programme from crashing if it encounters an error?**"
      ],
      "metadata": {
        "id": "PAu3NyY4ElYz"
      }
    },
    {
      "cell_type": "markdown",
      "source": [
        "Ans:- If an error occurs in a program, so error handling can be used to notify the user of why the error occurred and exit the process that caused the error."
      ],
      "metadata": {
        "id": "25O7lebeFAuR"
      }
    },
    {
      "cell_type": "code",
      "source": [
        "try:\n",
        "    num1 = input(\"Enter 1st number:\")\n",
        "    num2 = input(\"Enter 2nd number:\")\n",
        "    result = (int(num1) * int(num2))/(num0 * int(num2))\n",
        "except ValueError as ve:\n",
        "    print(ve)\n",
        "    exit()\n",
        "except ZeroDivisionError as zde:\n",
        "    print(zde)\n",
        "    exit()\n",
        "except TypeError as te:\n",
        "    print(te)\n",
        "    exit()\n",
        "except:\n",
        "    print('Unexpected Error!')\n",
        "    exit()\n"
      ],
      "metadata": {
        "colab": {
          "base_uri": "https://localhost:8080/"
        },
        "id": "_yISC-dWErnL",
        "outputId": "f218ee82-ce68-429d-8655-cbad174df071"
      },
      "execution_count": 1,
      "outputs": [
        {
          "output_type": "stream",
          "name": "stdout",
          "text": [
            "Enter 1st number:20\n",
            "Enter 2nd number:30\n",
            "Unexpected Error!\n"
          ]
        }
      ]
    },
    {
      "cell_type": "markdown",
      "source": [
        "**14. What is the purpose of the try clause? What is the purpose of the except clause?**"
      ],
      "metadata": {
        "id": "mtk92DNTGlb0"
      }
    },
    {
      "cell_type": "markdown",
      "source": [
        "Ans:- The try block lets you test a block of code for errors and The except block lets you handle the error."
      ],
      "metadata": {
        "id": "N3rYTi6OGqcQ"
      }
    }
  ]
}