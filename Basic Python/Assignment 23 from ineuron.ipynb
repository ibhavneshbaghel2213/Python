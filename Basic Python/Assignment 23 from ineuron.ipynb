{
 "cells": [
  {
   "cell_type": "markdown",
   "id": "20aad540",
   "metadata": {},
   "source": [
    "<b>1. What is the result of the code, and why?<b>"
   ]
  },
  {
   "cell_type": "code",
   "execution_count": 1,
   "id": "f1397be3",
   "metadata": {},
   "outputs": [
    {
     "name": "stdout",
     "output_type": "stream",
     "text": [
      "1 2 8\n"
     ]
    }
   ],
   "source": [
    "def func(a, b=6, c=8):\n",
    "    print(a, b, c)\n",
    "func(1, 2)"
   ]
  },
  {
   "cell_type": "markdown",
   "id": "9626ec82",
   "metadata": {},
   "source": [
    "because the value of b and c ' s arguments has a default value, that's why they print 8 in place of c and the default value of b has replaced by the passed argument in function call"
   ]
  },
  {
   "cell_type": "markdown",
   "id": "cd24a7b2",
   "metadata": {},
   "source": [
    "<b>2. What is the result of this code, and why?<b>"
   ]
  },
  {
   "cell_type": "code",
   "execution_count": 2,
   "id": "90ab97fd",
   "metadata": {},
   "outputs": [
    {
     "name": "stdout",
     "output_type": "stream",
     "text": [
      "1 2 3\n"
     ]
    }
   ],
   "source": [
    "def func(a, b, c=5):\n",
    "    print(a, b, c)\n",
    "func(1, c=3, b=2)"
   ]
  },
  {
   "cell_type": "markdown",
   "id": "3bb5da49",
   "metadata": {},
   "source": [
    "because the sequence of printing values in a, b, c defined under the function. And, thevalue of c and value b is matched by name at the time of calling function. that's why they give the value of c is 3 and b is 2. "
   ]
  },
  {
   "cell_type": "markdown",
   "id": "693158f7",
   "metadata": {},
   "source": [
    "<b>3. How about this code: what is its result, and why?\n"
   ]
  },
  {
   "cell_type": "code",
   "execution_count": 4,
   "id": "faae872c",
   "metadata": {},
   "outputs": [
    {
     "name": "stdout",
     "output_type": "stream",
     "text": [
      "1 (2, 3)\n"
     ]
    }
   ],
   "source": [
    "def func(a, *pargs):\n",
    "    print(a, pargs)\n",
    "func(1, 2, 3)"
   ]
  },
  {
   "cell_type": "markdown",
   "id": "a128155d",
   "metadata": {},
   "source": [
    "Because at the time of creation of function the argument pagrs has attached with * , The use of the symbol * to take in a variable number of arguments; by convention, it is often used with the word args. and they if you passed the number of arguments in same line so args as being a tuple that maps each keyword to the value that we pass alongside it."
   ]
  },
  {
   "cell_type": "markdown",
   "id": "056e2d0e",
   "metadata": {},
   "source": [
    "<b>4. What does this code print, and why?\n"
   ]
  },
  {
   "cell_type": "code",
   "execution_count": 5,
   "id": "0c60e8d7",
   "metadata": {},
   "outputs": [
    {
     "name": "stdout",
     "output_type": "stream",
     "text": [
      "1 {'c': 3, 'b': 2}\n"
     ]
    }
   ],
   "source": [
    "def func(a, **kargs):\n",
    "    print(a, kargs)\n",
    "func(a=1, c=3, b=2)"
   ]
  },
  {
   "cell_type": "markdown",
   "id": "980358b5",
   "metadata": {},
   "source": [
    "Because at the time of creation of function the argument kwargs has attached with **,  The reason is because the double star allows us to pass through keyword arguments (and any number of them). if you passed the number of argument in same line so the kwargs as being a dictionary that maps each keyword to the value that we pass alongside it. That is why when we iterate over the kwargs there doesn’t seem to be any order in which they were printed out."
   ]
  },
  {
   "cell_type": "markdown",
   "id": "2f02a2dc",
   "metadata": {},
   "source": [
    "<b>5. What gets printed by this, and explain?\n"
   ]
  },
  {
   "cell_type": "code",
   "execution_count": 6,
   "id": "9dd1a3d2",
   "metadata": {},
   "outputs": [
    {
     "name": "stdout",
     "output_type": "stream",
     "text": [
      "1 5 6 5\n"
     ]
    }
   ],
   "source": [
    "def func(a, b, c=8, d=5): \n",
    "    print(a, b, c, d)\n",
    "func(1, *(5, 6))"
   ]
  },
  {
   "cell_type": "markdown",
   "id": "d8d1fbb5",
   "metadata": {},
   "source": [
    "Because The function will expand the *(5,6) and consider the value of b as 5 and value of c as 6, And the default value of d is given in function declaration d value will be 5"
   ]
  },
  {
   "cell_type": "markdown",
   "id": "df8b57bc",
   "metadata": {},
   "source": [
    "<b>6. what is the result of this, and explain?,b>"
   ]
  },
  {
   "cell_type": "code",
   "execution_count": 16,
   "id": "16a6afe3",
   "metadata": {},
   "outputs": [
    {
     "data": {
      "text/plain": [
       "(1, ['x'], {'a': 'y'})"
      ]
     },
     "execution_count": 16,
     "metadata": {},
     "output_type": "execute_result"
    }
   ],
   "source": [
    "def func(a, b, c): a = 2; b[0] = 'x'; c['a'] = 'y'\n",
    "l=1; m=[1]; n={'a':0}\n",
    "func(l, m, n)\n",
    "l,m,n"
   ]
  },
  {
   "cell_type": "markdown",
   "id": "dee39afc",
   "metadata": {},
   "source": [
    "The python provides a feature to declare an entire function in one single line. where statements in a function body are sepereated by ; .  And, the value of l,m,n are are defined inside the function."
   ]
  },
  {
   "cell_type": "code",
   "execution_count": null,
   "id": "4517671a",
   "metadata": {},
   "outputs": [],
   "source": []
  }
 ],
 "metadata": {
  "kernelspec": {
   "display_name": "Python 3 (ipykernel)",
   "language": "python",
   "name": "python3"
  },
  "language_info": {
   "codemirror_mode": {
    "name": "ipython",
    "version": 3
   },
   "file_extension": ".py",
   "mimetype": "text/x-python",
   "name": "python",
   "nbconvert_exporter": "python",
   "pygments_lexer": "ipython3",
   "version": "3.9.7"
  }
 },
 "nbformat": 4,
 "nbformat_minor": 5
}
