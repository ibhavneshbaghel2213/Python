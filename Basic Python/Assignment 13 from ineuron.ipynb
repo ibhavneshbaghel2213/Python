{
 "cells": [
  {
   "cell_type": "markdown",
   "id": "967395b9",
   "metadata": {},
   "source": [
    "<b>1. What advantages do Excel spreadsheets have over CSV spreadsheets?</b>"
   ]
  },
  {
   "cell_type": "markdown",
   "id": "3bf47bd8",
   "metadata": {},
   "source": [
    "Ans: Microsoft excel provide user option for external linking of data from other sources and also user can do custom add- ins but in csv no such feature is available. and Excel is easier for the end user to read large files but csv is not easier for the end user."
   ]
  },
  {
   "cell_type": "markdown",
   "id": "07c4a2e6",
   "metadata": {},
   "source": [
    "<b>2.What do you pass to csv.reader() and csv.writer() to create reader and writer objects?</b>"
   ]
  },
  {
   "cell_type": "markdown",
   "id": "fd73277f",
   "metadata": {},
   "source": [
    "Ans: First of all, if we want to read a csv file so we need to use built-in function open() to open a file in read mode 'r' and define that using alias than we call csv.reader() from csv module and pass the csv file which we are open in read mode.\n",
    "In a csv.writer(), you need to open a file in write mode and that pass the csv file in csv.writer(). \n",
    "for example:"
   ]
  },
  {
   "cell_type": "code",
   "execution_count": 2,
   "id": "3ab9d79f",
   "metadata": {},
   "outputs": [],
   "source": [
    "\"\"\"Csv.writer()\"\"\"\n",
    "import csv\n",
    "with open('ineuron.csv','w') as file:\n",
    "    writer = csv.writer(file)\n",
    "    writer.writerow([\"full stack data science course\"])\n",
    "    "
   ]
  },
  {
   "cell_type": "code",
   "execution_count": 4,
   "id": "ec958f17",
   "metadata": {},
   "outputs": [
    {
     "name": "stdout",
     "output_type": "stream",
     "text": [
      "['full stack data science course']\n",
      "[]\n"
     ]
    }
   ],
   "source": [
    "\"\"\"csv.reader()\"\"\"\n",
    "with open('ineuron.csv','r') as file:\n",
    "    reader = csv.reader(file)\n",
    "    for i in reader:\n",
    "        print(i)"
   ]
  },
  {
   "cell_type": "markdown",
   "id": "e4c1bd7a",
   "metadata": {},
   "source": [
    "<b>3. What modes do File objects for reader and writer objects need to be opened in?</b>"
   ]
  },
  {
   "cell_type": "markdown",
   "id": "85b27b4d",
   "metadata": {},
   "source": [
    "Ans:      'r' or read() mode is used for reader object.\n",
    "\n",
    "    'w' or write() mode is used for writer object."
   ]
  },
  {
   "cell_type": "markdown",
   "id": "06443c8a",
   "metadata": {},
   "source": [
    "<b>4. What method takes a list argument and writes it to a CSV file?</b>"
   ]
  },
  {
   "cell_type": "markdown",
   "id": "c8b862f1",
   "metadata": {},
   "source": [
    "Ans- writerow() method takes a list  argument and writes it to a csv file."
   ]
  },
  {
   "cell_type": "markdown",
   "id": "129a51fb",
   "metadata": {},
   "source": [
    "<b>5. What do the keyword arguments delimiter and line terminator do?</b>"
   ]
  },
  {
   "cell_type": "markdown",
   "id": "117d7b55",
   "metadata": {},
   "source": [
    "delimiter argument used to seperate values or feild in file. a defualt delimiter in csv file is ',' comma. and line terminator refers to the character sequence used for termination of line, default will be \\r\\n. "
   ]
  },
  {
   "cell_type": "markdown",
   "id": "d9f7945d",
   "metadata": {},
   "source": [
    "<b>6. What function takes a string of JSON data and returns a Python data structure?</b>"
   ]
  },
  {
   "cell_type": "markdown",
   "id": "c4eac38b",
   "metadata": {},
   "source": [
    "Ans: loads() function take a string of data and return python data structure.\n",
    "for example..,"
   ]
  },
  {
   "cell_type": "code",
   "execution_count": 5,
   "id": "f421703f",
   "metadata": {},
   "outputs": [],
   "source": [
    "import json"
   ]
  },
  {
   "cell_type": "code",
   "execution_count": 8,
   "id": "cc1cef9c",
   "metadata": {},
   "outputs": [
    {
     "name": "stdout",
     "output_type": "stream",
     "text": [
      "{'people': [{'emp_name': 'John smith', 'emp_no.': '924367-567-23', 'emp_email': ['johnsmith@dummyemail.com'], 'has_license': 'false'}, {'emp_name': 'harshit kant', 'emp_number': '560-555-5153', 'emp_email': 'null', 'has_license': 'true'}]}\n",
      "<class 'dict'>\n"
     ]
    }
   ],
   "source": [
    "data = \"\"\"{\n",
    "\"people\":[\n",
    "{\n",
    "\"emp_name\": \"John smith\",\n",
    "\"emp_no.\": \"924367-567-23\",\n",
    "\"emp_email\": [\"johnsmith@dummyemail.com\"],\n",
    "\"has_license\": \"false\"\n",
    "},\n",
    "{\n",
    "\"emp_name\": \"harshit kant\",\n",
    "\"emp_number\": \"560-555-5153\",\n",
    "\"emp_email\": \"null\",\n",
    "\"has_license\": \"true\"\n",
    "}\n",
    "]\n",
    "}\n",
    "\"\"\"\n",
    "people_data = json.loads(data)\n",
    "print(people_data)\n",
    "print(type(people_data))"
   ]
  },
  {
   "cell_type": "markdown",
   "id": "4be1d682",
   "metadata": {},
   "source": [
    "<b>7. What function takes a Python data structure and returns a string of JSON data?</b>"
   ]
  },
  {
   "cell_type": "markdown",
   "id": "384b015b",
   "metadata": {},
   "source": [
    "Ans- A Python object can be converted to JSON string by using json.dumps().\n",
    "\n",
    "for example:"
   ]
  },
  {
   "cell_type": "code",
   "execution_count": 10,
   "id": "024045a1",
   "metadata": {},
   "outputs": [
    {
     "name": "stdout",
     "output_type": "stream",
     "text": [
      "{\"people\": [{\"emp_name\": \"John smith\", \"emp_no.\": \"924367-567-23\", \"emp_email\": [\"johnsmith@dummyemail.com\"], \"has_license\": \"false\"}, {\"emp_name\": \"harshit kant\", \"emp_number\": \"560-555-5153\", \"emp_email\": \"null\", \"has_license\": \"true\"}]}\n",
      "<class 'str'>\n"
     ]
    }
   ],
   "source": [
    "data2 = {\n",
    "\"people\":[\n",
    "{\n",
    "\"emp_name\": \"John smith\",\n",
    "\"emp_no.\": \"924367-567-23\",\n",
    "\"emp_email\": [\"johnsmith@dummyemail.com\"],\n",
    "\"has_license\": \"false\"\n",
    "},\n",
    "{\n",
    "\"emp_name\": \"harshit kant\",\n",
    "\"emp_number\": \"560-555-5153\",\n",
    "\"emp_email\": \"null\",\n",
    "\"has_license\": \"true\"\n",
    "}\n",
    "]\n",
    "}\n",
    "people_data2 = json.dumps(data2)\n",
    "print(people_data2)\n",
    "print(type(people_data2))"
   ]
  }
 ],
 "metadata": {
  "kernelspec": {
   "display_name": "Python 3 (ipykernel)",
   "language": "python",
   "name": "python3"
  },
  "language_info": {
   "codemirror_mode": {
    "name": "ipython",
    "version": 3
   },
   "file_extension": ".py",
   "mimetype": "text/x-python",
   "name": "python",
   "nbconvert_exporter": "python",
   "pygments_lexer": "ipython3",
   "version": "3.9.7"
  }
 },
 "nbformat": 4,
 "nbformat_minor": 5
}
