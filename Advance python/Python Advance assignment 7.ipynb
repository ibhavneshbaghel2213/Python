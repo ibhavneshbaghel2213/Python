{
 "cells": [
  {
   "cell_type": "markdown",
   "id": "2d0a6a53",
   "metadata": {},
   "source": [
    "<b>Q1. What is the purpose of the try statement?</b>"
   ]
  },
  {
   "cell_type": "markdown",
   "id": "15c24646",
   "metadata": {},
   "source": [
    "Ans: The purpose of try statement is to handle the error in the code.We can check the error by using try statement.if they contains error in code so try statement is not executed."
   ]
  },
  {
   "cell_type": "markdown",
   "id": "4c5f71ce",
   "metadata": {},
   "source": [
    "<b>Q2. What are the two most popular try statement variations?</b>"
   ]
  },
  {
   "cell_type": "markdown",
   "id": "055db261",
   "metadata": {},
   "source": [
    "Ans:Errors are the problems in a program due to which the program will stop the execution.Error in Python can be of two types. e.g., Syntax errors and Exceptions"
   ]
  },
  {
   "cell_type": "markdown",
   "id": "170edd1b",
   "metadata": {},
   "source": [
    "<b>Q3. What is the purpose of the raise statement?</b>"
   ]
  },
  {
   "cell_type": "markdown",
   "id": "ce443fdc",
   "metadata": {},
   "source": [
    "Ans: The purpose of the raise statement is to throw the error. error can be anytype you can define your error in raise statement. "
   ]
  },
  {
   "cell_type": "markdown",
   "id": "66fe610f",
   "metadata": {},
   "source": [
    "<b>Q4. What does the assert statement do, and what other statement is it like?</b>"
   ]
  },
  {
   "cell_type": "markdown",
   "id": "bf1ed97f",
   "metadata": {},
   "source": [
    "Ans: The assert statement checks the condition if condition True so they can execute.if condition is false so they show a assertionError and code is stop running."
   ]
  },
  {
   "cell_type": "markdown",
   "id": "66567625",
   "metadata": {},
   "source": [
    "<b>Q5. What is the purpose of the with/as argument, and what other statement is it like?</b>"
   ]
  },
  {
   "cell_type": "markdown",
   "id": "70f55c5d",
   "metadata": {},
   "source": [
    "Ans: The purpose of with argument is to open the resources.You'd most likely find it when working with file streams. and the purpose of as argument is used as alias."
   ]
  },
  {
   "cell_type": "code",
   "execution_count": null,
   "id": "9a02bbeb",
   "metadata": {},
   "outputs": [],
   "source": []
  }
 ],
 "metadata": {
  "kernelspec": {
   "display_name": "Python 3 (ipykernel)",
   "language": "python",
   "name": "python3"
  },
  "language_info": {
   "codemirror_mode": {
    "name": "ipython",
    "version": 3
   },
   "file_extension": ".py",
   "mimetype": "text/x-python",
   "name": "python",
   "nbconvert_exporter": "python",
   "pygments_lexer": "ipython3",
   "version": "3.9.7"
  }
 },
 "nbformat": 4,
 "nbformat_minor": 5
}
