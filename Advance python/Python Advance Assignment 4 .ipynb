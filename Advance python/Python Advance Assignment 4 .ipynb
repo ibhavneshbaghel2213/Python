{
 "cells": [
  {
   "cell_type": "markdown",
   "id": "5c04704f",
   "metadata": {},
   "source": [
    "<b>Q1. Which two operator overloading methods can you use in your classes to support iteration?</b>"
   ]
  },
  {
   "cell_type": "markdown",
   "id": "fa36a37e",
   "metadata": {},
   "source": [
    "Ans:- Two operator overloading methods to support iteration are __ iter __ and __ next __ . \n",
    " eg..,"
   ]
  },
  {
   "cell_type": "code",
   "execution_count": 5,
   "id": "1912e999",
   "metadata": {},
   "outputs": [],
   "source": [
    "class myClass:\n",
    "    def __init__(self, a):\n",
    "        self.a = a\n",
    "    \n",
    "    def __iter__(self):\n",
    "        self.n = 0\n",
    "        return self\n",
    "    \n",
    "    def __next__(self):\n",
    "        if self.n <= self.a:\n",
    "            result = 2*self.n\n",
    "            self.n+=1\n",
    "            return result\n",
    "        else:\n",
    "            raise StopIteration\n",
    "    "
   ]
  },
  {
   "cell_type": "code",
   "execution_count": 9,
   "id": "9f67411a",
   "metadata": {},
   "outputs": [
    {
     "data": {
      "text/plain": [
       "0"
      ]
     },
     "execution_count": 9,
     "metadata": {},
     "output_type": "execute_result"
    }
   ],
   "source": [
    "ob_1 = myClass(2)\n",
    "i = iter(ob_1)\n",
    "next(i)\n"
   ]
  },
  {
   "cell_type": "code",
   "execution_count": 10,
   "id": "78c1cc3e",
   "metadata": {},
   "outputs": [
    {
     "data": {
      "text/plain": [
       "2"
      ]
     },
     "execution_count": 10,
     "metadata": {},
     "output_type": "execute_result"
    }
   ],
   "source": [
    "next(i)"
   ]
  },
  {
   "cell_type": "code",
   "execution_count": 11,
   "id": "afeafdce",
   "metadata": {},
   "outputs": [
    {
     "data": {
      "text/plain": [
       "4"
      ]
     },
     "execution_count": 11,
     "metadata": {},
     "output_type": "execute_result"
    }
   ],
   "source": [
    "next(i)"
   ]
  },
  {
   "cell_type": "code",
   "execution_count": 12,
   "id": "90fbdd8c",
   "metadata": {},
   "outputs": [
    {
     "ename": "StopIteration",
     "evalue": "",
     "output_type": "error",
     "traceback": [
      "\u001b[1;31m---------------------------------------------------------------------------\u001b[0m",
      "\u001b[1;31mStopIteration\u001b[0m                             Traceback (most recent call last)",
      "\u001b[1;32m~\\AppData\\Local\\Temp/ipykernel_7864/1939748483.py\u001b[0m in \u001b[0;36m<module>\u001b[1;34m\u001b[0m\n\u001b[1;32m----> 1\u001b[1;33m \u001b[0mnext\u001b[0m\u001b[1;33m(\u001b[0m\u001b[0mi\u001b[0m\u001b[1;33m)\u001b[0m\u001b[1;33m\u001b[0m\u001b[1;33m\u001b[0m\u001b[0m\n\u001b[0m",
      "\u001b[1;32m~\\AppData\\Local\\Temp/ipykernel_7864/2640567238.py\u001b[0m in \u001b[0;36m__next__\u001b[1;34m(self)\u001b[0m\n\u001b[0;32m     13\u001b[0m             \u001b[1;32mreturn\u001b[0m \u001b[0mresult\u001b[0m\u001b[1;33m\u001b[0m\u001b[1;33m\u001b[0m\u001b[0m\n\u001b[0;32m     14\u001b[0m         \u001b[1;32melse\u001b[0m\u001b[1;33m:\u001b[0m\u001b[1;33m\u001b[0m\u001b[1;33m\u001b[0m\u001b[0m\n\u001b[1;32m---> 15\u001b[1;33m             \u001b[1;32mraise\u001b[0m \u001b[0mStopIteration\u001b[0m\u001b[1;33m\u001b[0m\u001b[1;33m\u001b[0m\u001b[0m\n\u001b[0m\u001b[0;32m     16\u001b[0m \u001b[1;33m\u001b[0m\u001b[0m\n",
      "\u001b[1;31mStopIteration\u001b[0m: "
     ]
    }
   ],
   "source": [
    "next(i)"
   ]
  },
  {
   "cell_type": "markdown",
   "id": "cb90f649",
   "metadata": {},
   "source": [
    "<b>Q2. In what contexts do the two operator overloading methods manage printing?</b>"
   ]
  },
  {
   "cell_type": "markdown",
   "id": "dbed02cd",
   "metadata": {},
   "source": [
    "Ans:- The + operator will perform arithmetic addition on two numbers, merge two lists and concatenate two strings. but in operator overloading manage printing a result of two objects or more objects."
   ]
  },
  {
   "cell_type": "markdown",
   "id": "51bce294",
   "metadata": {},
   "source": [
    "<b>Q3. In a class, how do you intercept slice operations?</b>"
   ]
  },
  {
   "cell_type": "code",
   "execution_count": 13,
   "id": "024c8487",
   "metadata": {},
   "outputs": [],
   "source": [
    "class intercept:\n",
    "    def __init__(self, l):\n",
    "        self.l = l\n",
    "        \n",
    "    def slicer(self, start, stop, step):\n",
    "        index = start\n",
    "        if stop == None:\n",
    "            end = start + 1\n",
    "        else:\n",
    "            end = stop\n",
    "        if step == None:\n",
    "            stride = 1\n",
    "        else:\n",
    "            stride = step\n",
    "        return self.l[index:end:stride]"
   ]
  },
  {
   "cell_type": "code",
   "execution_count": 19,
   "id": "b2cbf9eb",
   "metadata": {},
   "outputs": [],
   "source": [
    "x1 = intercept(\"helloineuron\")"
   ]
  },
  {
   "cell_type": "markdown",
   "id": "774fee39",
   "metadata": {},
   "source": [
    "<b>Q4. In a class, how do you capture in-place addition?</b>"
   ]
  },
  {
   "cell_type": "code",
   "execution_count": 25,
   "id": "8c1e7ab1",
   "metadata": {},
   "outputs": [],
   "source": [
    "import operator"
   ]
  },
  {
   "cell_type": "code",
   "execution_count": 26,
   "id": "254895d2",
   "metadata": {},
   "outputs": [],
   "source": [
    "class inplace:\n",
    "    def __init__(self, a, b):\n",
    "        self.a = a\n",
    "        self.b = b\n",
    "        \n",
    "    def add(self):\n",
    "        x = operator.iadd(self.a,self.b)\n",
    "        return x"
   ]
  },
  {
   "cell_type": "code",
   "execution_count": 27,
   "id": "289199ee",
   "metadata": {},
   "outputs": [],
   "source": [
    "ob3 = inplace(34,16)"
   ]
  },
  {
   "cell_type": "code",
   "execution_count": 28,
   "id": "418745bf",
   "metadata": {},
   "outputs": [
    {
     "data": {
      "text/plain": [
       "50"
      ]
     },
     "execution_count": 28,
     "metadata": {},
     "output_type": "execute_result"
    }
   ],
   "source": [
    "ob3.add()"
   ]
  },
  {
   "cell_type": "markdown",
   "id": "916b8706",
   "metadata": {},
   "source": [
    "<b>Q5. When is it appropriate to use operator overloading?</b>"
   ]
  },
  {
   "cell_type": "markdown",
   "id": "01c42c77",
   "metadata": {},
   "source": [
    "Ans:- Python operators work for built-in classes. For example, the + operator will perform arithmetic addition on two numbers, merge two lists, or concatenate two strings. This feature in Python that allows the same operator to have different meaning according to the context."
   ]
  },
  {
   "cell_type": "code",
   "execution_count": null,
   "id": "1d45465a",
   "metadata": {},
   "outputs": [],
   "source": []
  }
 ],
 "metadata": {
  "kernelspec": {
   "display_name": "Python 3 (ipykernel)",
   "language": "python",
   "name": "python3"
  },
  "language_info": {
   "codemirror_mode": {
    "name": "ipython",
    "version": 3
   },
   "file_extension": ".py",
   "mimetype": "text/x-python",
   "name": "python",
   "nbconvert_exporter": "python",
   "pygments_lexer": "ipython3",
   "version": "3.9.7"
  }
 },
 "nbformat": 4,
 "nbformat_minor": 5
}
