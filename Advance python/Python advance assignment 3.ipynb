{
 "cells": [
  {
   "cell_type": "markdown",
   "id": "93a2491e",
   "metadata": {},
   "source": [
    "<b>1. What is the concept of an abstract superclass?</b>"
   ]
  },
  {
   "cell_type": "markdown",
   "id": "6589f34f",
   "metadata": {},
   "source": [
    "Ans: The abstract superclass is a blueprint of all subclasses which can inherit the properties of superclass, abstract class have not contain implementation. "
   ]
  },
  {
   "cell_type": "markdown",
   "id": "6beb54cd",
   "metadata": {},
   "source": [
    "<b>2. What happens when a class statement&#39;s top level contains a basic assignment statement?</b>"
   ]
  },
  {
   "cell_type": "markdown",
   "id": "cd3999cc",
   "metadata": {},
   "source": [
    "Ans: That assignment statement consider as a class variable and it can be same by all subclass"
   ]
  },
  {
   "cell_type": "markdown",
   "id": "a0a59038",
   "metadata": {},
   "source": [
    "<b>3. Why does a class need to manually call a superclass&#39;s __init__ method?</b>"
   ]
  },
  {
   "cell_type": "markdown",
   "id": "3ff34e25",
   "metadata": {},
   "source": [
    "Ans:If you need something from super class so u define superclass's name.__init__ method or super().__init__ method so you can access  variable of superclass in subclass's init method. "
   ]
  },
  {
   "cell_type": "markdown",
   "id": "26550e89",
   "metadata": {},
   "source": [
    "<b>4. How can you augment, instead of completely replacing, an inherited method?</b>"
   ]
  },
  {
   "cell_type": "markdown",
   "id": "04310245",
   "metadata": {},
   "source": [
    "Ans: we can augment our class by using decorator e.g.,"
   ]
  },
  {
   "cell_type": "code",
   "execution_count": 2,
   "id": "0feb7d7a",
   "metadata": {},
   "outputs": [
    {
     "name": "stdout",
     "output_type": "stream",
     "text": [
      "updating function..\n",
      "this function has been updating..\n",
      "updated function..\n"
     ]
    }
   ],
   "source": [
    "def my_decorator(a):\n",
    "    def func(self, *args, **kwargs):\n",
    "        print('this function has been updating..')\n",
    "        return a(self)\n",
    "    return func\n",
    "\n",
    "class myClass:\n",
    "    def update(self):\n",
    "        print('updating function..')\n",
    "\n",
    "    @my_decorator\n",
    "    def update2(self):\n",
    "        print('updated function..')\n",
    "\n",
    "myClass().update()\n",
    "myClass().update2()"
   ]
  },
  {
   "cell_type": "markdown",
   "id": "299d9d1b",
   "metadata": {},
   "source": [
    "<b>5. How is the local scope of a class different from that of a function?</b>"
   ]
  },
  {
   "cell_type": "code",
   "execution_count": 11,
   "id": "2048b53f",
   "metadata": {},
   "outputs": [
    {
     "name": "stdout",
     "output_type": "stream",
     "text": [
      "10\n",
      "34\n"
     ]
    }
   ],
   "source": [
    "class myClass:\n",
    "    x = 10 #class variable\n",
    "    y = 12\n",
    "    def funct(self,a):\n",
    "        print(self.x)\n",
    "        print(a)\n",
    "        \n",
    "ob1 = myClass()\n",
    "ob1.funct(34)"
   ]
  },
  {
   "cell_type": "markdown",
   "id": "24df9ce6",
   "metadata": {},
   "source": [
    "As you can see we can access class variable by using pointer but a function variable does not need pointer,"
   ]
  }
 ],
 "metadata": {
  "kernelspec": {
   "display_name": "Python 3 (ipykernel)",
   "language": "python",
   "name": "python3"
  },
  "language_info": {
   "codemirror_mode": {
    "name": "ipython",
    "version": 3
   },
   "file_extension": ".py",
   "mimetype": "text/x-python",
   "name": "python",
   "nbconvert_exporter": "python",
   "pygments_lexer": "ipython3",
   "version": "3.9.7"
  }
 },
 "nbformat": 4,
 "nbformat_minor": 5
}
