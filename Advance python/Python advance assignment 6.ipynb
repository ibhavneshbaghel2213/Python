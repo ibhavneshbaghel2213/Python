{
 "cells": [
  {
   "cell_type": "markdown",
   "id": "d1574a8e",
   "metadata": {},
   "source": [
    "<b>Q1. Describe three applications for exception processing.</b>"
   ]
  },
  {
   "cell_type": "markdown",
   "id": "94bc897e",
   "metadata": {},
   "source": [
    "The Three application for exception processing is -"
   ]
  },
  {
   "cell_type": "markdown",
   "id": "e333bb9e",
   "metadata": {},
   "source": [
    "a) ZeroDivisionError: division by zero\n",
    "\n",
    "b) ModuleNotFoundError: The ModuleNotFoundError is thrown when a module could not be found.\n",
    "\n",
    "c) KeyError Raised when a key is not found in a dictionary"
   ]
  },
  {
   "cell_type": "markdown",
   "id": "c7751297",
   "metadata": {},
   "source": [
    "<b>Q2. What happens if you don&#39;t do something extra to treat an exception?</b>"
   ]
  },
  {
   "cell_type": "markdown",
   "id": "7248e94a",
   "metadata": {},
   "source": [
    "if you don't handle exception so your program gets terminated and the other lines are not executed."
   ]
  },
  {
   "cell_type": "markdown",
   "id": "94bca8db",
   "metadata": {},
   "source": [
    "<b>Q3. What are your options for recovering from an exception in your script?</b>"
   ]
  },
  {
   "cell_type": "markdown",
   "id": "97b48202",
   "metadata": {},
   "source": [
    "Try and except statements are used to handle exceptions. Statements that can raise exceptions are kept inside the try clause and the statements that handle the exception are written inside except clause."
   ]
  },
  {
   "cell_type": "markdown",
   "id": "ea93df84",
   "metadata": {},
   "source": [
    "<b>Q4. Describe two methods for triggering exceptions in your script.</b>"
   ]
  },
  {
   "cell_type": "markdown",
   "id": "d4de8add",
   "metadata": {},
   "source": [
    "Try keyword: This method catches the exceptions raised by the program.\n",
    "\n",
    "raise:  Triggers an exception manually using custom exceptions."
   ]
  },
  {
   "cell_type": "markdown",
   "id": "b4acb7fa",
   "metadata": {},
   "source": [
    "<b>Q5. Identify two methods for specifying actions to be executed at termination time, regardless of\n",
    "whether or not an exception exists.</b>"
   ]
  },
  {
   "cell_type": "markdown",
   "id": "158ab26e",
   "metadata": {},
   "source": [
    "finally keyword :  statements in the finally block will always be executed, whether an exception is thrown or not.\n",
    "\n",
    "else keyword lets you code sections that should run only when no exceptions are encountered in the try clause."
   ]
  },
  {
   "cell_type": "code",
   "execution_count": null,
   "id": "9f00ccfa",
   "metadata": {},
   "outputs": [],
   "source": []
  }
 ],
 "metadata": {
  "kernelspec": {
   "display_name": "Python 3 (ipykernel)",
   "language": "python",
   "name": "python3"
  },
  "language_info": {
   "codemirror_mode": {
    "name": "ipython",
    "version": 3
   },
   "file_extension": ".py",
   "mimetype": "text/x-python",
   "name": "python",
   "nbconvert_exporter": "python",
   "pygments_lexer": "ipython3",
   "version": "3.9.7"
  }
 },
 "nbformat": 4,
 "nbformat_minor": 5
}
