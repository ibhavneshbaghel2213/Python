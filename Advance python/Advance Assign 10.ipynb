{
 "cells": [
  {
   "cell_type": "markdown",
   "id": "f9f490c7",
   "metadata": {},
   "source": [
    "Q1. What is the difference between __ getattr __ and __ getattribute __?"
   ]
  },
  {
   "cell_type": "markdown",
   "id": "054381b6",
   "metadata": {},
   "source": [
    "Ans: __ getattr__ gets called “last”(the lowest priority), if Python cannot find the attribute and on the other hand __ getattribute __ gets called “first”(the highest priority), whether or not there’s the attribute. like example..,"
   ]
  },
  {
   "cell_type": "code",
   "execution_count": 4,
   "id": "a2423dcd",
   "metadata": {},
   "outputs": [
    {
     "name": "stdout",
     "output_type": "stream",
     "text": [
      "hey,bro\n",
      "hey,bro2\n"
     ]
    }
   ],
   "source": [
    "class test:\n",
    "    \n",
    "    def __getattr__(self, name):\n",
    "        return ('hello, '+name)\n",
    "    \n",
    "    def __getattribute__(self,name):\n",
    "        return ('hey,'+name)\n",
    "\n",
    "a = test()\n",
    "a.bro = 'brother'\n",
    "\n",
    "print(a.bro)\n",
    "print(a.bro2)"
   ]
  },
  {
   "cell_type": "markdown",
   "id": "48f452d1",
   "metadata": {},
   "source": [
    "Q2. What is the difference between properties and descriptors?"
   ]
  },
  {
   "cell_type": "markdown",
   "id": "f10f84a2",
   "metadata": {},
   "source": [
    "Ans: Python descriptors are a way to create managed attributes. Among their many advantages, managed attributes are used to protect an attribute from changes or to automatically update the values of a dependent attribute.n descriptors we used three different methods that are __ getters__(), __ setters()__ , and __ delete()__ ."
   ]
  },
  {
   "cell_type": "markdown",
   "id": "f36a4b39",
   "metadata": {},
   "source": [
    "python internally uses property. It logs a message to the console when it’s accessed. Calling property() is a succinct way of building a data descriptor that triggers function calls upon access to an attribute. property() returns a property object that implements the descriptor protocol. It uses the parameters — fget , fset and fdel for the actual implementation of the three methods of the protocol.\n",
    "\n",
    "property(fget=None, fset=None, fdel=None, doc=None) -> object"
   ]
  },
  {
   "cell_type": "code",
   "execution_count": 7,
   "id": "cbbe57ac",
   "metadata": {},
   "outputs": [
    {
     "name": "stdout",
     "output_type": "stream",
     "text": [
      "myselflikemyself\n"
     ]
    }
   ],
   "source": [
    "class Descriptor(object):\n",
    "   \n",
    "    def __init__(self, name =''):\n",
    "        self.name = name\n",
    "   \n",
    "    def __get__(self, obj, objtype):\n",
    "        return \"{}like{}\".format(self.name, self.name)\n",
    "   \n",
    "    def __set__(self, obj, name):\n",
    "        if isinstance(name, str):\n",
    "            self.name = name\n",
    "        else:\n",
    "            raise TypeError(\"Name should be string\")\n",
    "            \n",
    "\n",
    " \n",
    "class test(object):\n",
    "    name = Descriptor()\n",
    "     \n",
    "g = test()\n",
    "g.name = \"myself\"\n",
    "\n",
    "print(g.name)"
   ]
  },
  {
   "cell_type": "markdown",
   "id": "38ff186f",
   "metadata": {},
   "source": [
    "Q3. What are the key differences in functionality between __ getattr__ and __ getattribute__, as well as\n",
    "properties and descriptors?"
   ]
  },
  {
   "cell_type": "markdown",
   "id": "d794ec81",
   "metadata": {},
   "source": [
    "Ans: The key difference between __ getattr__ and __ getattribute__ is that if the attribute was not found by the usual way then __ getattr__ is used.\n",
    "\n",
    "Whereas the __ getattribute__ is used before looking at the actual attributes on the object. You will have to use it more consciously otherwise very easily you can end up in infinite recursions.\n",
    "\n",
    "Properties. We can bind getter, setter (and deleter) functions with an attribute name, using the built-in property function. When we do this, each reference to an attribute looks like simple, direct access, but invokes the appropriate function of the object. For example, anObject.price= someValue; anObject.value.\n",
    "\n",
    "Descriptors. We can bind getter, setter (and deleter) functions into a separate class. We then assign an object of this class to the attribute name. When we do this, each reference to an attribute looks like simple, direct access, but invokes an appropriate function of the Descriptor object. For example, anObject.price= someValue; anObject.value."
   ]
  },
  {
   "cell_type": "code",
   "execution_count": null,
   "id": "295aa049",
   "metadata": {},
   "outputs": [],
   "source": []
  }
 ],
 "metadata": {
  "kernelspec": {
   "display_name": "Python 3 (ipykernel)",
   "language": "python",
   "name": "python3"
  },
  "language_info": {
   "codemirror_mode": {
    "name": "ipython",
    "version": 3
   },
   "file_extension": ".py",
   "mimetype": "text/x-python",
   "name": "python",
   "nbconvert_exporter": "python",
   "pygments_lexer": "ipython3",
   "version": "3.9.7"
  }
 },
 "nbformat": 4,
 "nbformat_minor": 5
}
