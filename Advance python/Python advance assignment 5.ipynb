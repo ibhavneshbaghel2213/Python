{
 "cells": [
  {
   "cell_type": "markdown",
   "id": "6b012c3f",
   "metadata": {},
   "source": [
    "<b>Q1. What is the meaning of multiple inheritance?</b>"
   ]
  },
  {
   "cell_type": "markdown",
   "id": "188691b0",
   "metadata": {},
   "source": [
    "Ans:- In multiple inheritance, a class inherits from two or more super classes. It also inherits all the methods and variables from all super classes."
   ]
  },
  {
   "cell_type": "code",
   "execution_count": 2,
   "id": "8b9a3c02",
   "metadata": {},
   "outputs": [],
   "source": [
    "\"\"\"Example of multiple inheritance\"\"\"\n",
    "class main:\n",
    "    pass\n",
    "\n",
    "class main2:\n",
    "    pass\n",
    "\n",
    "class main3(main,main2):\n",
    "    pass"
   ]
  },
  {
   "cell_type": "markdown",
   "id": "e0aa345e",
   "metadata": {},
   "source": [
    "<b>Q2. What is the concept of delegation?</b>"
   ]
  },
  {
   "cell_type": "markdown",
   "id": "71d5cc06",
   "metadata": {},
   "source": [
    "Delegation is an object oriented technique (also called a design pattern). Let's say you have an object x and want to change the behaviour of just one of its methods. You can create a new class that provides a new implementation of the\n",
    "Method x uses and make it a member of the new class. The new class then has full control over how x behaves."
   ]
  },
  {
   "cell_type": "markdown",
   "id": "a434fe6a",
   "metadata": {},
   "source": [
    "<b>Q3. What is the concept of composition?</b>"
   ]
  },
  {
   "cell_type": "markdown",
   "id": "972b2e67",
   "metadata": {},
   "source": [
    "Composition is a concept that models a has a relationship. It enables creating complex types by combining objects of other types. This means that a class Composite can contain an object of another class Component . This relationship means that a Composite has a Component ."
   ]
  },
  {
   "cell_type": "markdown",
   "id": "fd3876f6",
   "metadata": {},
   "source": [
    "<b>Q4. What are bound methods and how do we use them?</b>"
   ]
  },
  {
   "cell_type": "markdown",
   "id": "a2bb3a70",
   "metadata": {},
   "source": [
    "If a function is an attribute of class and it is accessed via the instances, they are called bound methods. A bound method is one that has ‘self‘ as its first argument. Since these are dependent on the instance of classes, these are also known as instance methods."
   ]
  },
  {
   "cell_type": "code",
   "execution_count": 4,
   "id": "84ccbdab",
   "metadata": {},
   "outputs": [
    {
     "name": "stdout",
     "output_type": "stream",
     "text": [
      "My name is  A from object  1\n",
      "My name is  B from object  2\n",
      "My name is  C from object  2\n",
      "My name is  A from object  1\n"
     ]
    }
   ],
   "source": [
    "class sample(object):\n",
    "\tobjectNo = 0\n",
    "\tdef __init__(self, name1):\n",
    "\t\tself.name = name1\n",
    "\t\tsample.objectNo = sample.objectNo + 1\n",
    "\t\tself.objNumber = sample.objectNo\n",
    "\n",
    "\tdef myFunc(self):\n",
    "\t\tprint(\"My name is \", self.name,\n",
    "\t\t\t\"from object \", self.objNumber)\n",
    "\n",
    "\tdef alterIt(self, newName):\n",
    "\t\tself.name = newName\n",
    "\n",
    "\tdef myFunc2():\n",
    "\t\tprint(\"I am not a bound method !!!\")\n",
    "\n",
    "\n",
    "\n",
    "samp1 = sample(\"A\")\n",
    "samp1.myFunc()\n",
    "\n",
    "\n",
    "samp2 = sample(\"B\")\n",
    "samp2.myFunc()\n",
    "samp2.alterIt(\"C\")\n",
    "samp2.myFunc()\n",
    "samp1.myFunc()\n"
   ]
  },
  {
   "cell_type": "markdown",
   "id": "70c2d9de",
   "metadata": {},
   "source": [
    "<b>Q5. What is the purpose of pseudoprivate attributes?</b>"
   ]
  },
  {
   "cell_type": "markdown",
   "id": "386eaf62",
   "metadata": {},
   "source": [
    "whenever a method assigns to a self attribute (e.g., self.attr=value), it changes or creates an attribute in the instance (inheritance search only happens on reference, not assignment). Because this is true even if multiple classes in a hierarchy assign to the same attribute, collisions are possible."
   ]
  }
 ],
 "metadata": {
  "kernelspec": {
   "display_name": "Python 3 (ipykernel)",
   "language": "python",
   "name": "python3"
  },
  "language_info": {
   "codemirror_mode": {
    "name": "ipython",
    "version": 3
   },
   "file_extension": ".py",
   "mimetype": "text/x-python",
   "name": "python",
   "nbconvert_exporter": "python",
   "pygments_lexer": "ipython3",
   "version": "3.9.7"
  }
 },
 "nbformat": 4,
 "nbformat_minor": 5
}
