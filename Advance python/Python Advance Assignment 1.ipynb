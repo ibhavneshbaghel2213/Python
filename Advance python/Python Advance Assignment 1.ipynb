{
 "cells": [
  {
   "cell_type": "markdown",
   "id": "1a98b23e",
   "metadata": {},
   "source": [
    "<b>Q1. What is the purpose of Python&#39;s OOP?</b>"
   ]
  },
  {
   "cell_type": "markdown",
   "id": "7cf84a96",
   "metadata": {},
   "source": [
    "Ans:-  Python is an object oriented language, because it allow us to create objects and classes. purpose of oops is to develop applications in oops aproach. The oops concepts will helps to increase the ability of reusability in code. objects represent real life entity as cars, books, etc and classes is a collection of objects. Using oops concepts is geting easy approach to solve real world problems."
   ]
  },
  {
   "cell_type": "markdown",
   "id": "1c5717c3",
   "metadata": {},
   "source": [
    "<b>Q2. Where does an inheritance search look for an attribute?</b>"
   ]
  },
  {
   "cell_type": "markdown",
   "id": "29aef474",
   "metadata": {},
   "source": [
    "Ans:- Python searches the namespace tree at and above object, for the first attribute it can find."
   ]
  },
  {
   "cell_type": "markdown",
   "id": "c9b70a22",
   "metadata": {},
   "source": [
    "<b>Q3. How do you distinguish between a class object and an instance object?</b>"
   ]
  },
  {
   "cell_type": "markdown",
   "id": "f0f6deae",
   "metadata": {},
   "source": [
    "Ans:-\n",
    "Class : A class is a blue print of an object.\n",
    "\n",
    "Instance : It is a variable which is used to hold memory address of the object."
   ]
  },
  {
   "cell_type": "markdown",
   "id": "8597ae73",
   "metadata": {},
   "source": [
    "<b>Q4. What makes the first argument in a class’s method function special?</b>"
   ]
  },
  {
   "cell_type": "markdown",
   "id": "e22c469e",
   "metadata": {},
   "source": [
    "Ans:- in a class, Self is the first argument  to be passed in Constructor and Instance Method in class."
   ]
  },
  {
   "cell_type": "markdown",
   "id": "4377a840",
   "metadata": {},
   "source": [
    "<b>Q5. What is the purpose of the __init__ method?</b>"
   ]
  },
  {
   "cell_type": "markdown",
   "id": "cf4048d1",
   "metadata": {},
   "source": [
    "The init method used to intialize a class and The init method is constructor in class it is nothing but just a way a passes the data in class."
   ]
  },
  {
   "cell_type": "markdown",
   "id": "bd6ae5d9",
   "metadata": {},
   "source": [
    "<b>Q6. What is the process for creating a class instance?</b>"
   ]
  },
  {
   "cell_type": "code",
   "execution_count": 4,
   "id": "188af55c",
   "metadata": {},
   "outputs": [
    {
     "name": "stdout",
     "output_type": "stream",
     "text": [
      "This is my frist function\n"
     ]
    }
   ],
   "source": [
    "class Me:  # defining class\n",
    "    def __init__(self, a, b): #constructor of class\n",
    "        self.a = a  \n",
    "        self.b = b\n",
    "    \n",
    "    def test(self):  #method of class\n",
    "        print(\"This is my frist function\")\n",
    "        \n",
    "x = Me(\"a\",\"b\") #object of class\n",
    "x.test()"
   ]
  },
  {
   "cell_type": "markdown",
   "id": "2e49e437",
   "metadata": {},
   "source": [
    "<b>Q7. What is the process for creating a class?</b>"
   ]
  },
  {
   "cell_type": "markdown",
   "id": "9c179c55",
   "metadata": {},
   "source": [
    "The process of creating a class in python is to frist define a class using 'class' keyword then named it anything after defining class creating constructor using init method it is optional step only taking when we want to pass any data in class."
   ]
  },
  {
   "cell_type": "markdown",
   "id": "2f48d02d",
   "metadata": {},
   "source": [
    "<b>Q8. How would you define the superclasses of a class?</b>"
   ]
  },
  {
   "cell_type": "markdown",
   "id": "68e85d33",
   "metadata": {},
   "source": [
    "Ans:- A superclass is the class from which many subclasses can be created.e.g.,"
   ]
  },
  {
   "cell_type": "code",
   "execution_count": 6,
   "id": "755d98ee",
   "metadata": {},
   "outputs": [
    {
     "name": "stdout",
     "output_type": "stream",
     "text": [
      "My name is rahul\n"
     ]
    }
   ],
   "source": [
    "class names:\n",
    "    def __init__(self,name):\n",
    "        self.name = name\n",
    "    \n",
    "    def sayname(self):\n",
    "        print(\"My name is\", self.name)\n",
    "        \n",
    "class test(names):\n",
    "    pass\n",
    "\n",
    "x = test(\"rahul\")\n",
    "x.sayname()"
   ]
  },
  {
   "cell_type": "markdown",
   "id": "473bbb13",
   "metadata": {},
   "source": [
    " As you can see, test class will inherit properties from names class so names class is a super class of test and test is subclass of names class."
   ]
  },
  {
   "cell_type": "code",
   "execution_count": null,
   "id": "953d177a",
   "metadata": {},
   "outputs": [],
   "source": []
  }
 ],
 "metadata": {
  "kernelspec": {
   "display_name": "Python 3 (ipykernel)",
   "language": "python",
   "name": "python3"
  },
  "language_info": {
   "codemirror_mode": {
    "name": "ipython",
    "version": 3
   },
   "file_extension": ".py",
   "mimetype": "text/x-python",
   "name": "python",
   "nbconvert_exporter": "python",
   "pygments_lexer": "ipython3",
   "version": "3.9.7"
  }
 },
 "nbformat": 4,
 "nbformat_minor": 5
}
