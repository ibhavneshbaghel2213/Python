{
 "cells": [
  {
   "cell_type": "markdown",
   "id": "558ccb06",
   "metadata": {},
   "source": [
    "Q1. What is the concept of a metaclass?"
   ]
  },
  {
   "cell_type": "markdown",
   "id": "3d265c25",
   "metadata": {},
   "source": [
    "Ans: A metaclass is a class whose instances are classes. Just as an ordinary class defines the behavior of certain objects, a metaclass defines the behavior of certain classes and their instances. A special class type creates these Class objects. The type class is default metaclass which is responsible for making classes."
   ]
  },
  {
   "cell_type": "markdown",
   "id": "444f3677",
   "metadata": {},
   "source": [
    "Q2. What is the best way to declare a class&#39;s metaclass?"
   ]
  },
  {
   "cell_type": "markdown",
   "id": "df1d4f1d",
   "metadata": {},
   "source": [
    "Ans:The best way to declare class's metaclass is using metaclass keyword in class argument."
   ]
  },
  {
   "cell_type": "code",
   "execution_count": 3,
   "id": "69b2c099",
   "metadata": {},
   "outputs": [
    {
     "name": "stdout",
     "output_type": "stream",
     "text": [
      "<class 'type'>\n",
      "<class '__main__.Base_meta'>\n"
     ]
    }
   ],
   "source": [
    "class Base_meta(type):\n",
    "    pass\n",
    "\n",
    "class meta_class(metaclass=Base_meta):\n",
    "    pass\n",
    "\n",
    "print(type(Base_meta))\n",
    "print(type(meta_class))"
   ]
  },
  {
   "cell_type": "markdown",
   "id": "c0ed8745",
   "metadata": {},
   "source": [
    "Q3. How do class decorators overlap with metaclasses for handling classes?"
   ]
  },
  {
   "cell_type": "markdown",
   "id": "d4672759",
   "metadata": {},
   "source": [
    "Ans: Anything you can do with a class decorator, you can of course do with a custom metaclass (just apply the functionality of the \"decorator function\", i.e., the one that takes a class object and modifies it, in the course of the metaclass's _ new _ or _ init _ that make the class object!"
   ]
  },
  {
   "cell_type": "markdown",
   "id": "1089937d",
   "metadata": {},
   "source": [
    "Q4. How do class decorators overlap with metaclasses for handling instances?"
   ]
  },
  {
   "cell_type": "markdown",
   "id": "5a96ba25",
   "metadata": {},
   "source": [
    "Ans: Anything you can do with a class decorator, you can of course do with a custom metaclass (just apply the functionality of the \"decorator function\", i.e., the one that takes a class object and modifies it, in the course of the metaclass's _ new _ or _ init _ that make the class object!"
   ]
  }
 ],
 "metadata": {
  "kernelspec": {
   "display_name": "Python 3 (ipykernel)",
   "language": "python",
   "name": "python3"
  },
  "language_info": {
   "codemirror_mode": {
    "name": "ipython",
    "version": 3
   },
   "file_extension": ".py",
   "mimetype": "text/x-python",
   "name": "python",
   "nbconvert_exporter": "python",
   "pygments_lexer": "ipython3",
   "version": "3.9.7"
  }
 },
 "nbformat": 4,
 "nbformat_minor": 5
}
