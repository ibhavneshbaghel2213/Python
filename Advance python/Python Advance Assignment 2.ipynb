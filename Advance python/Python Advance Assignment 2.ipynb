{
 "cells": [
  {
   "cell_type": "markdown",
   "id": "8641693e",
   "metadata": {},
   "source": [
    "<b>Q1. What is the relationship between classes and modules?</b>"
   ]
  },
  {
   "cell_type": "markdown",
   "id": "556194d7",
   "metadata": {},
   "source": [
    "Ans:- A relational between classes and module is to module is also describe the members within it, like a class. A module is a collection of methods and constant and class is an blueprint of a object.\n"
   ]
  },
  {
   "cell_type": "markdown",
   "id": "e5869574",
   "metadata": {},
   "source": [
    "<b>Q2. How do you make instances and classes?</b>"
   ]
  },
  {
   "cell_type": "markdown",
   "id": "deace04b",
   "metadata": {},
   "source": [
    "Ans: We can make class using class keyword and instance will make using class."
   ]
  },
  {
   "cell_type": "code",
   "execution_count": 2,
   "id": "470a1b22",
   "metadata": {},
   "outputs": [],
   "source": [
    "class myClass: #defining class\n",
    "    def test(self):\n",
    "        print(\"test function\")\n",
    "        \n",
    "x = myClass()  #instance"
   ]
  },
  {
   "cell_type": "markdown",
   "id": "670c9ac7",
   "metadata": {},
   "source": [
    "<b>Q3. Where and how should be class attributes created?</b>"
   ]
  },
  {
   "cell_type": "markdown",
   "id": "ff1d6487",
   "metadata": {},
   "source": [
    "Ans:- Class attributes are created before constructor, they are same for all objects of class.eg.,,"
   ]
  },
  {
   "cell_type": "code",
   "execution_count": 3,
   "id": "fa531f3e",
   "metadata": {},
   "outputs": [],
   "source": [
    "class myclass:   #Defining class\n",
    "    cls_attr = \"I am class attribute\" #defining class attribute\n",
    "    \n",
    "class myclass2(myclass):\n",
    "    pass\n",
    "\n",
    "x = myclass()\n",
    "y = myclass2()"
   ]
  },
  {
   "cell_type": "code",
   "execution_count": 4,
   "id": "035ae7f0",
   "metadata": {},
   "outputs": [
    {
     "data": {
      "text/plain": [
       "'I am class attribute'"
      ]
     },
     "execution_count": 4,
     "metadata": {},
     "output_type": "execute_result"
    }
   ],
   "source": [
    "x.cls_attr"
   ]
  },
  {
   "cell_type": "code",
   "execution_count": 5,
   "id": "f4c679f7",
   "metadata": {},
   "outputs": [
    {
     "data": {
      "text/plain": [
       "'I am class attribute'"
      ]
     },
     "execution_count": 5,
     "metadata": {},
     "output_type": "execute_result"
    }
   ],
   "source": [
    "y.cls_attr"
   ]
  },
  {
   "cell_type": "markdown",
   "id": "26193758",
   "metadata": {},
   "source": [
    "<b>Q4. Where and how are instance attributes created?</b>"
   ]
  },
  {
   "cell_type": "markdown",
   "id": "7af6e50d",
   "metadata": {},
   "source": [
    "Ans:- Instance attributes are those which we can define under constructor method.\n",
    "eg..,\n"
   ]
  },
  {
   "cell_type": "code",
   "execution_count": 8,
   "id": "e9f5bc29",
   "metadata": {},
   "outputs": [],
   "source": [
    "class myclass3:     #Defining class\n",
    "    def __init__(self,a,b):    #constructor method\n",
    "        self.a = a    #instance attributes\n",
    "        self.b = b\n",
    "class myclass4(myclass3):\n",
    "    pass\n",
    "\n",
    "u = myclass3(3,5)\n",
    "v = myclass4(4,7)"
   ]
  },
  {
   "cell_type": "markdown",
   "id": "f018e916",
   "metadata": {},
   "source": [
    "<b>Q5. What does the term &quot;self&quot; in a Python class mean?</b>"
   ]
  },
  {
   "cell_type": "markdown",
   "id": "03ba0496",
   "metadata": {},
   "source": [
    "Ans:- The self variable in Python can also be used to access a variable field within the class definition. self is not a keyword in python you can use anything."
   ]
  },
  {
   "cell_type": "markdown",
   "id": "acbd183a",
   "metadata": {},
   "source": [
    "<b>Q6. How does a Python class handle operator overloading?</b>"
   ]
  },
  {
   "cell_type": "markdown",
   "id": "8cac2a67",
   "metadata": {},
   "source": [
    "Ans:-  python can handle operator overloading by using built in special magic method.  \n",
    "eg.,"
   ]
  },
  {
   "cell_type": "code",
   "execution_count": 11,
   "id": "b386fa35",
   "metadata": {},
   "outputs": [
    {
     "name": "stdout",
     "output_type": "stream",
     "text": [
      "11\n"
     ]
    }
   ],
   "source": [
    "class Me:\n",
    "    def __init__(self,a):\n",
    "        self.a = a\n",
    "        \n",
    "    def __add__(self,b):   #overloading operator\n",
    "        return self.a + b.a\n",
    "    \n",
    "q = Me(4)\n",
    "w = Me(7)\n",
    "print(q + w)"
   ]
  },
  {
   "cell_type": "markdown",
   "id": "f181e687",
   "metadata": {},
   "source": [
    "<b>Q7. When do you consider allowing operator overloading of your classes?</b>"
   ]
  },
  {
   "cell_type": "markdown",
   "id": "573497f8",
   "metadata": {},
   "source": [
    "Ans:- conside we have to add two objects with binary ‘+’ operator it throws an error, because compiler don’t know how to add two objects. So we define a method for an operator and that process is called operator overloading."
   ]
  },
  {
   "cell_type": "markdown",
   "id": "a2490d58",
   "metadata": {},
   "source": [
    "<b>Q8. What is the most popular form of operator overloading?</b>"
   ]
  },
  {
   "cell_type": "markdown",
   "id": "11333f7d",
   "metadata": {},
   "source": [
    "Ans:- A very popular and convenient example is the Addition (+) operator. Just think how the '+' operator operates on two numbers and the same operator operates on two strings. It performs “Addition” on numbers whereas it performs “Concatenation” on strings and lists.\n"
   ]
  },
  {
   "cell_type": "markdown",
   "id": "6943a19f",
   "metadata": {},
   "source": [
    "<b>Q9. What are the two most important concepts to grasp in order to comprehend Python OOP code?</b>"
   ]
  },
  {
   "cell_type": "markdown",
   "id": "29cbc244",
   "metadata": {},
   "source": [
    "Ans:- The Two key concepts of Python oop is Inheritance and polymorphism."
   ]
  }
 ],
 "metadata": {
  "kernelspec": {
   "display_name": "Python 3 (ipykernel)",
   "language": "python",
   "name": "python3"
  },
  "language_info": {
   "codemirror_mode": {
    "name": "ipython",
    "version": 3
   },
   "file_extension": ".py",
   "mimetype": "text/x-python",
   "name": "python",
   "nbconvert_exporter": "python",
   "pygments_lexer": "ipython3",
   "version": "3.9.7"
  }
 },
 "nbformat": 4,
 "nbformat_minor": 5
}
